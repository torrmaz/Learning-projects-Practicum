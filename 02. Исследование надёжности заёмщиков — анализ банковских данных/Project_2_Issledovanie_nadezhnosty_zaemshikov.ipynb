{
 "cells": [
  {
   "cell_type": "markdown",
   "id": "386f2ae7",
   "metadata": {
    "deletable": false,
    "editable": false,
    "id": "386f2ae7"
   },
   "source": [
    "# Исследование надежности заемщиков\n"
   ]
  },
  {
   "cell_type": "markdown",
   "id": "c3d05646",
   "metadata": {},
   "source": [
    "Надежность заемщиков исследуется на основании предоставленного датасета /datasets/data.csv.\n",
    "Требуется проследить зависят ли проблемы с выплатами от социального статуса,дохода,цели кредита и количества детей "
   ]
  },
  {
   "cell_type": "markdown",
   "id": "ffe86f65",
   "metadata": {
    "deletable": false,
    "editable": false,
    "id": "ffe86f65"
   },
   "source": [
    "Во второй части проекта вы выполните шаги 3 и 4. Их вручную проверит ревьюер.\n",
    "Чтобы вам не пришлось писать код заново для шагов 1 и 2, мы добавили авторские решения в ячейки с кодом. \n",
    "\n"
   ]
  },
  {
   "cell_type": "markdown",
   "id": "26613308",
   "metadata": {
    "deletable": false,
    "editable": false,
    "id": "26613308"
   },
   "source": [
    "## Откройте таблицу и изучите общую информацию о данных"
   ]
  },
  {
   "cell_type": "markdown",
   "id": "3c9f838e",
   "metadata": {
    "deletable": false,
    "editable": false,
    "id": "3c9f838e"
   },
   "source": [
    "**Задание 1. Импортируйте библиотеку pandas. Считайте данные из csv-файла в датафрейм и сохраните в переменную `data`. Путь к файлу:**\n",
    "\n",
    "`/datasets/data.csv`"
   ]
  },
  {
   "cell_type": "code",
   "execution_count": 1,
   "id": "77a68a90",
   "metadata": {
    "deletable": false,
    "id": "77a68a90"
   },
   "outputs": [],
   "source": [
    "import pandas as pd\n",
    "\n",
    "try:\n",
    "    data = pd.read_csv('/datasets/data.csv')\n",
    "except:\n",
    "    data = pd.read_csv('https://code.s3.yandex.net/datasets/data.csv')"
   ]
  },
  {
   "cell_type": "markdown",
   "id": "45365635",
   "metadata": {
    "deletable": false,
    "editable": false,
    "id": "45365635"
   },
   "source": [
    "**Задание 2. Выведите первые 20 строчек датафрейма `data` на экран.**"
   ]
  },
  {
   "cell_type": "code",
   "execution_count": 2,
   "id": "b0451a9a",
   "metadata": {
    "deletable": false,
    "id": "b0451a9a",
    "outputId": "1a8f3ef2-d323-4ec2-ddf7-89670b5944c4"
   },
   "outputs": [
    {
     "data": {
      "text/html": [
       "<div>\n",
       "<style scoped>\n",
       "    .dataframe tbody tr th:only-of-type {\n",
       "        vertical-align: middle;\n",
       "    }\n",
       "\n",
       "    .dataframe tbody tr th {\n",
       "        vertical-align: top;\n",
       "    }\n",
       "\n",
       "    .dataframe thead th {\n",
       "        text-align: right;\n",
       "    }\n",
       "</style>\n",
       "<table border=\"1\" class=\"dataframe\">\n",
       "  <thead>\n",
       "    <tr style=\"text-align: right;\">\n",
       "      <th></th>\n",
       "      <th>children</th>\n",
       "      <th>days_employed</th>\n",
       "      <th>dob_years</th>\n",
       "      <th>education</th>\n",
       "      <th>education_id</th>\n",
       "      <th>family_status</th>\n",
       "      <th>family_status_id</th>\n",
       "      <th>gender</th>\n",
       "      <th>income_type</th>\n",
       "      <th>debt</th>\n",
       "      <th>total_income</th>\n",
       "      <th>purpose</th>\n",
       "    </tr>\n",
       "  </thead>\n",
       "  <tbody>\n",
       "    <tr>\n",
       "      <th>0</th>\n",
       "      <td>1</td>\n",
       "      <td>-8437.673028</td>\n",
       "      <td>42</td>\n",
       "      <td>высшее</td>\n",
       "      <td>0</td>\n",
       "      <td>женат / замужем</td>\n",
       "      <td>0</td>\n",
       "      <td>F</td>\n",
       "      <td>сотрудник</td>\n",
       "      <td>0</td>\n",
       "      <td>253875.639453</td>\n",
       "      <td>покупка жилья</td>\n",
       "    </tr>\n",
       "    <tr>\n",
       "      <th>1</th>\n",
       "      <td>1</td>\n",
       "      <td>-4024.803754</td>\n",
       "      <td>36</td>\n",
       "      <td>среднее</td>\n",
       "      <td>1</td>\n",
       "      <td>женат / замужем</td>\n",
       "      <td>0</td>\n",
       "      <td>F</td>\n",
       "      <td>сотрудник</td>\n",
       "      <td>0</td>\n",
       "      <td>112080.014102</td>\n",
       "      <td>приобретение автомобиля</td>\n",
       "    </tr>\n",
       "    <tr>\n",
       "      <th>2</th>\n",
       "      <td>0</td>\n",
       "      <td>-5623.422610</td>\n",
       "      <td>33</td>\n",
       "      <td>Среднее</td>\n",
       "      <td>1</td>\n",
       "      <td>женат / замужем</td>\n",
       "      <td>0</td>\n",
       "      <td>M</td>\n",
       "      <td>сотрудник</td>\n",
       "      <td>0</td>\n",
       "      <td>145885.952297</td>\n",
       "      <td>покупка жилья</td>\n",
       "    </tr>\n",
       "    <tr>\n",
       "      <th>3</th>\n",
       "      <td>3</td>\n",
       "      <td>-4124.747207</td>\n",
       "      <td>32</td>\n",
       "      <td>среднее</td>\n",
       "      <td>1</td>\n",
       "      <td>женат / замужем</td>\n",
       "      <td>0</td>\n",
       "      <td>M</td>\n",
       "      <td>сотрудник</td>\n",
       "      <td>0</td>\n",
       "      <td>267628.550329</td>\n",
       "      <td>дополнительное образование</td>\n",
       "    </tr>\n",
       "    <tr>\n",
       "      <th>4</th>\n",
       "      <td>0</td>\n",
       "      <td>340266.072047</td>\n",
       "      <td>53</td>\n",
       "      <td>среднее</td>\n",
       "      <td>1</td>\n",
       "      <td>гражданский брак</td>\n",
       "      <td>1</td>\n",
       "      <td>F</td>\n",
       "      <td>пенсионер</td>\n",
       "      <td>0</td>\n",
       "      <td>158616.077870</td>\n",
       "      <td>сыграть свадьбу</td>\n",
       "    </tr>\n",
       "    <tr>\n",
       "      <th>5</th>\n",
       "      <td>0</td>\n",
       "      <td>-926.185831</td>\n",
       "      <td>27</td>\n",
       "      <td>высшее</td>\n",
       "      <td>0</td>\n",
       "      <td>гражданский брак</td>\n",
       "      <td>1</td>\n",
       "      <td>M</td>\n",
       "      <td>компаньон</td>\n",
       "      <td>0</td>\n",
       "      <td>255763.565419</td>\n",
       "      <td>покупка жилья</td>\n",
       "    </tr>\n",
       "    <tr>\n",
       "      <th>6</th>\n",
       "      <td>0</td>\n",
       "      <td>-2879.202052</td>\n",
       "      <td>43</td>\n",
       "      <td>высшее</td>\n",
       "      <td>0</td>\n",
       "      <td>женат / замужем</td>\n",
       "      <td>0</td>\n",
       "      <td>F</td>\n",
       "      <td>компаньон</td>\n",
       "      <td>0</td>\n",
       "      <td>240525.971920</td>\n",
       "      <td>операции с жильем</td>\n",
       "    </tr>\n",
       "    <tr>\n",
       "      <th>7</th>\n",
       "      <td>0</td>\n",
       "      <td>-152.779569</td>\n",
       "      <td>50</td>\n",
       "      <td>СРЕДНЕЕ</td>\n",
       "      <td>1</td>\n",
       "      <td>женат / замужем</td>\n",
       "      <td>0</td>\n",
       "      <td>M</td>\n",
       "      <td>сотрудник</td>\n",
       "      <td>0</td>\n",
       "      <td>135823.934197</td>\n",
       "      <td>образование</td>\n",
       "    </tr>\n",
       "    <tr>\n",
       "      <th>8</th>\n",
       "      <td>2</td>\n",
       "      <td>-6929.865299</td>\n",
       "      <td>35</td>\n",
       "      <td>ВЫСШЕЕ</td>\n",
       "      <td>0</td>\n",
       "      <td>гражданский брак</td>\n",
       "      <td>1</td>\n",
       "      <td>F</td>\n",
       "      <td>сотрудник</td>\n",
       "      <td>0</td>\n",
       "      <td>95856.832424</td>\n",
       "      <td>на проведение свадьбы</td>\n",
       "    </tr>\n",
       "    <tr>\n",
       "      <th>9</th>\n",
       "      <td>0</td>\n",
       "      <td>-2188.756445</td>\n",
       "      <td>41</td>\n",
       "      <td>среднее</td>\n",
       "      <td>1</td>\n",
       "      <td>женат / замужем</td>\n",
       "      <td>0</td>\n",
       "      <td>M</td>\n",
       "      <td>сотрудник</td>\n",
       "      <td>0</td>\n",
       "      <td>144425.938277</td>\n",
       "      <td>покупка жилья для семьи</td>\n",
       "    </tr>\n",
       "    <tr>\n",
       "      <th>10</th>\n",
       "      <td>2</td>\n",
       "      <td>-4171.483647</td>\n",
       "      <td>36</td>\n",
       "      <td>высшее</td>\n",
       "      <td>0</td>\n",
       "      <td>женат / замужем</td>\n",
       "      <td>0</td>\n",
       "      <td>M</td>\n",
       "      <td>компаньон</td>\n",
       "      <td>0</td>\n",
       "      <td>113943.491460</td>\n",
       "      <td>покупка недвижимости</td>\n",
       "    </tr>\n",
       "    <tr>\n",
       "      <th>11</th>\n",
       "      <td>0</td>\n",
       "      <td>-792.701887</td>\n",
       "      <td>40</td>\n",
       "      <td>среднее</td>\n",
       "      <td>1</td>\n",
       "      <td>женат / замужем</td>\n",
       "      <td>0</td>\n",
       "      <td>F</td>\n",
       "      <td>сотрудник</td>\n",
       "      <td>0</td>\n",
       "      <td>77069.234271</td>\n",
       "      <td>покупка коммерческой недвижимости</td>\n",
       "    </tr>\n",
       "    <tr>\n",
       "      <th>12</th>\n",
       "      <td>0</td>\n",
       "      <td>NaN</td>\n",
       "      <td>65</td>\n",
       "      <td>среднее</td>\n",
       "      <td>1</td>\n",
       "      <td>гражданский брак</td>\n",
       "      <td>1</td>\n",
       "      <td>M</td>\n",
       "      <td>пенсионер</td>\n",
       "      <td>0</td>\n",
       "      <td>NaN</td>\n",
       "      <td>сыграть свадьбу</td>\n",
       "    </tr>\n",
       "    <tr>\n",
       "      <th>13</th>\n",
       "      <td>0</td>\n",
       "      <td>-1846.641941</td>\n",
       "      <td>54</td>\n",
       "      <td>неоконченное высшее</td>\n",
       "      <td>2</td>\n",
       "      <td>женат / замужем</td>\n",
       "      <td>0</td>\n",
       "      <td>F</td>\n",
       "      <td>сотрудник</td>\n",
       "      <td>0</td>\n",
       "      <td>130458.228857</td>\n",
       "      <td>приобретение автомобиля</td>\n",
       "    </tr>\n",
       "    <tr>\n",
       "      <th>14</th>\n",
       "      <td>0</td>\n",
       "      <td>-1844.956182</td>\n",
       "      <td>56</td>\n",
       "      <td>высшее</td>\n",
       "      <td>0</td>\n",
       "      <td>гражданский брак</td>\n",
       "      <td>1</td>\n",
       "      <td>F</td>\n",
       "      <td>компаньон</td>\n",
       "      <td>1</td>\n",
       "      <td>165127.911772</td>\n",
       "      <td>покупка жилой недвижимости</td>\n",
       "    </tr>\n",
       "    <tr>\n",
       "      <th>15</th>\n",
       "      <td>1</td>\n",
       "      <td>-972.364419</td>\n",
       "      <td>26</td>\n",
       "      <td>среднее</td>\n",
       "      <td>1</td>\n",
       "      <td>женат / замужем</td>\n",
       "      <td>0</td>\n",
       "      <td>F</td>\n",
       "      <td>сотрудник</td>\n",
       "      <td>0</td>\n",
       "      <td>116820.904450</td>\n",
       "      <td>строительство собственной недвижимости</td>\n",
       "    </tr>\n",
       "    <tr>\n",
       "      <th>16</th>\n",
       "      <td>0</td>\n",
       "      <td>-1719.934226</td>\n",
       "      <td>35</td>\n",
       "      <td>среднее</td>\n",
       "      <td>1</td>\n",
       "      <td>женат / замужем</td>\n",
       "      <td>0</td>\n",
       "      <td>F</td>\n",
       "      <td>сотрудник</td>\n",
       "      <td>0</td>\n",
       "      <td>289202.704229</td>\n",
       "      <td>недвижимость</td>\n",
       "    </tr>\n",
       "    <tr>\n",
       "      <th>17</th>\n",
       "      <td>0</td>\n",
       "      <td>-2369.999720</td>\n",
       "      <td>33</td>\n",
       "      <td>высшее</td>\n",
       "      <td>0</td>\n",
       "      <td>гражданский брак</td>\n",
       "      <td>1</td>\n",
       "      <td>M</td>\n",
       "      <td>сотрудник</td>\n",
       "      <td>0</td>\n",
       "      <td>90410.586745</td>\n",
       "      <td>строительство недвижимости</td>\n",
       "    </tr>\n",
       "    <tr>\n",
       "      <th>18</th>\n",
       "      <td>0</td>\n",
       "      <td>400281.136913</td>\n",
       "      <td>53</td>\n",
       "      <td>среднее</td>\n",
       "      <td>1</td>\n",
       "      <td>вдовец / вдова</td>\n",
       "      <td>2</td>\n",
       "      <td>F</td>\n",
       "      <td>пенсионер</td>\n",
       "      <td>0</td>\n",
       "      <td>56823.777243</td>\n",
       "      <td>на покупку подержанного автомобиля</td>\n",
       "    </tr>\n",
       "    <tr>\n",
       "      <th>19</th>\n",
       "      <td>0</td>\n",
       "      <td>-10038.818549</td>\n",
       "      <td>48</td>\n",
       "      <td>СРЕДНЕЕ</td>\n",
       "      <td>1</td>\n",
       "      <td>в разводе</td>\n",
       "      <td>3</td>\n",
       "      <td>F</td>\n",
       "      <td>сотрудник</td>\n",
       "      <td>0</td>\n",
       "      <td>242831.107982</td>\n",
       "      <td>на покупку своего автомобиля</td>\n",
       "    </tr>\n",
       "  </tbody>\n",
       "</table>\n",
       "</div>"
      ],
      "text/plain": [
       "    children  days_employed  dob_years            education  education_id  \\\n",
       "0          1   -8437.673028         42               высшее             0   \n",
       "1          1   -4024.803754         36              среднее             1   \n",
       "2          0   -5623.422610         33              Среднее             1   \n",
       "3          3   -4124.747207         32              среднее             1   \n",
       "4          0  340266.072047         53              среднее             1   \n",
       "5          0    -926.185831         27               высшее             0   \n",
       "6          0   -2879.202052         43               высшее             0   \n",
       "7          0    -152.779569         50              СРЕДНЕЕ             1   \n",
       "8          2   -6929.865299         35               ВЫСШЕЕ             0   \n",
       "9          0   -2188.756445         41              среднее             1   \n",
       "10         2   -4171.483647         36               высшее             0   \n",
       "11         0    -792.701887         40              среднее             1   \n",
       "12         0            NaN         65              среднее             1   \n",
       "13         0   -1846.641941         54  неоконченное высшее             2   \n",
       "14         0   -1844.956182         56               высшее             0   \n",
       "15         1    -972.364419         26              среднее             1   \n",
       "16         0   -1719.934226         35              среднее             1   \n",
       "17         0   -2369.999720         33               высшее             0   \n",
       "18         0  400281.136913         53              среднее             1   \n",
       "19         0  -10038.818549         48              СРЕДНЕЕ             1   \n",
       "\n",
       "       family_status  family_status_id gender income_type  debt  \\\n",
       "0    женат / замужем                 0      F   сотрудник     0   \n",
       "1    женат / замужем                 0      F   сотрудник     0   \n",
       "2    женат / замужем                 0      M   сотрудник     0   \n",
       "3    женат / замужем                 0      M   сотрудник     0   \n",
       "4   гражданский брак                 1      F   пенсионер     0   \n",
       "5   гражданский брак                 1      M   компаньон     0   \n",
       "6    женат / замужем                 0      F   компаньон     0   \n",
       "7    женат / замужем                 0      M   сотрудник     0   \n",
       "8   гражданский брак                 1      F   сотрудник     0   \n",
       "9    женат / замужем                 0      M   сотрудник     0   \n",
       "10   женат / замужем                 0      M   компаньон     0   \n",
       "11   женат / замужем                 0      F   сотрудник     0   \n",
       "12  гражданский брак                 1      M   пенсионер     0   \n",
       "13   женат / замужем                 0      F   сотрудник     0   \n",
       "14  гражданский брак                 1      F   компаньон     1   \n",
       "15   женат / замужем                 0      F   сотрудник     0   \n",
       "16   женат / замужем                 0      F   сотрудник     0   \n",
       "17  гражданский брак                 1      M   сотрудник     0   \n",
       "18    вдовец / вдова                 2      F   пенсионер     0   \n",
       "19         в разводе                 3      F   сотрудник     0   \n",
       "\n",
       "     total_income                                 purpose  \n",
       "0   253875.639453                           покупка жилья  \n",
       "1   112080.014102                 приобретение автомобиля  \n",
       "2   145885.952297                           покупка жилья  \n",
       "3   267628.550329              дополнительное образование  \n",
       "4   158616.077870                         сыграть свадьбу  \n",
       "5   255763.565419                           покупка жилья  \n",
       "6   240525.971920                       операции с жильем  \n",
       "7   135823.934197                             образование  \n",
       "8    95856.832424                   на проведение свадьбы  \n",
       "9   144425.938277                 покупка жилья для семьи  \n",
       "10  113943.491460                    покупка недвижимости  \n",
       "11   77069.234271       покупка коммерческой недвижимости  \n",
       "12            NaN                         сыграть свадьбу  \n",
       "13  130458.228857                 приобретение автомобиля  \n",
       "14  165127.911772              покупка жилой недвижимости  \n",
       "15  116820.904450  строительство собственной недвижимости  \n",
       "16  289202.704229                            недвижимость  \n",
       "17   90410.586745              строительство недвижимости  \n",
       "18   56823.777243      на покупку подержанного автомобиля  \n",
       "19  242831.107982            на покупку своего автомобиля  "
      ]
     },
     "execution_count": 2,
     "metadata": {},
     "output_type": "execute_result"
    }
   ],
   "source": [
    "data.head(20)"
   ]
  },
  {
   "cell_type": "markdown",
   "id": "0ed8f27f",
   "metadata": {
    "deletable": false,
    "editable": false,
    "id": "0ed8f27f"
   },
   "source": [
    "**Задание 3. Выведите основную информацию о датафрейме с помощью метода `info()`.**"
   ]
  },
  {
   "cell_type": "code",
   "execution_count": 3,
   "id": "ab3f863b",
   "metadata": {
    "deletable": false,
    "id": "ab3f863b",
    "outputId": "15376089-8dad-46c9-b520-c05248d43158"
   },
   "outputs": [
    {
     "name": "stdout",
     "output_type": "stream",
     "text": [
      "<class 'pandas.core.frame.DataFrame'>\n",
      "RangeIndex: 21525 entries, 0 to 21524\n",
      "Data columns (total 12 columns):\n",
      " #   Column            Non-Null Count  Dtype  \n",
      "---  ------            --------------  -----  \n",
      " 0   children          21525 non-null  int64  \n",
      " 1   days_employed     19351 non-null  float64\n",
      " 2   dob_years         21525 non-null  int64  \n",
      " 3   education         21525 non-null  object \n",
      " 4   education_id      21525 non-null  int64  \n",
      " 5   family_status     21525 non-null  object \n",
      " 6   family_status_id  21525 non-null  int64  \n",
      " 7   gender            21525 non-null  object \n",
      " 8   income_type       21525 non-null  object \n",
      " 9   debt              21525 non-null  int64  \n",
      " 10  total_income      19351 non-null  float64\n",
      " 11  purpose           21525 non-null  object \n",
      "dtypes: float64(2), int64(5), object(5)\n",
      "memory usage: 2.0+ MB\n"
     ]
    }
   ],
   "source": [
    "data.info()"
   ]
  },
  {
   "cell_type": "markdown",
   "id": "60e3e22d",
   "metadata": {
    "deletable": false,
    "editable": false,
    "id": "60e3e22d"
   },
   "source": [
    "## Предобработка данных"
   ]
  },
  {
   "cell_type": "markdown",
   "id": "03dc170c",
   "metadata": {
    "deletable": false,
    "editable": false,
    "id": "03dc170c"
   },
   "source": [
    "### Удаление пропусков"
   ]
  },
  {
   "cell_type": "markdown",
   "id": "a4f54eef",
   "metadata": {
    "deletable": false,
    "editable": false,
    "id": "a4f54eef"
   },
   "source": [
    "**Задание 4. Выведите количество пропущенных значений для каждого столбца. Используйте комбинацию двух методов.**"
   ]
  },
  {
   "cell_type": "code",
   "execution_count": 4,
   "id": "2dc372b2",
   "metadata": {
    "deletable": false,
    "id": "2dc372b2",
    "outputId": "81f4d817-781c-465c-ed15-91ce4446810d"
   },
   "outputs": [
    {
     "data": {
      "text/plain": [
       "children               0\n",
       "days_employed       2174\n",
       "dob_years              0\n",
       "education              0\n",
       "education_id           0\n",
       "family_status          0\n",
       "family_status_id       0\n",
       "gender                 0\n",
       "income_type            0\n",
       "debt                   0\n",
       "total_income        2174\n",
       "purpose                0\n",
       "dtype: int64"
      ]
     },
     "execution_count": 4,
     "metadata": {},
     "output_type": "execute_result"
    }
   ],
   "source": [
    "data.isna().sum()"
   ]
  },
  {
   "cell_type": "markdown",
   "id": "14f011b1",
   "metadata": {
    "deletable": false,
    "editable": false,
    "id": "14f011b1"
   },
   "source": [
    "**Задание 5. В двух столбцах есть пропущенные значения. Один из них — `days_employed`. Пропуски в этом столбце вы обработаете на следующем этапе. Другой столбец с пропущенными значениями — `total_income` — хранит данные о доходах. На сумму дохода сильнее всего влияет тип занятости, поэтому заполнить пропуски в этом столбце нужно медианным значением по каждому типу из столбца `income_type`. Например, у человека с типом занятости `сотрудник` пропуск в столбце `total_income` должен быть заполнен медианным доходом среди всех записей с тем же типом.**"
   ]
  },
  {
   "cell_type": "code",
   "execution_count": 5,
   "id": "bdabfb6e",
   "metadata": {
    "deletable": false,
    "id": "bdabfb6e"
   },
   "outputs": [],
   "source": [
    "for t in data['income_type'].unique():\n",
    "    data.loc[(data['income_type'] == t) & (data['total_income'].isna()), 'total_income'] = \\\n",
    "    data.loc[(data['income_type'] == t), 'total_income'].median()"
   ]
  },
  {
   "cell_type": "markdown",
   "id": "5be34059",
   "metadata": {
    "deletable": false,
    "editable": false,
    "id": "5be34059"
   },
   "source": [
    "### Обработка аномальных значений"
   ]
  },
  {
   "cell_type": "markdown",
   "id": "a87606cb",
   "metadata": {
    "deletable": false,
    "editable": false,
    "id": "a87606cb"
   },
   "source": [
    "**Задание 6. В данных могут встречаться артефакты (аномалии) — значения, которые не отражают действительность и появились по какой-то ошибке. таким артефактом будет отрицательное количество дней трудового стажа в столбце `days_employed`. Для реальных данных это нормально. Обработайте значения в этом столбце: замените все отрицательные значения положительными с помощью метода `abs()`.**"
   ]
  },
  {
   "cell_type": "code",
   "execution_count": 6,
   "id": "020c46cc",
   "metadata": {
    "deletable": false,
    "id": "020c46cc"
   },
   "outputs": [],
   "source": [
    "data['days_employed'] = data['days_employed'].abs()"
   ]
  },
  {
   "cell_type": "markdown",
   "id": "45538a3a",
   "metadata": {
    "deletable": false,
    "editable": false,
    "id": "45538a3a"
   },
   "source": [
    "**Задание 7. Для каждого типа занятости выведите медианное значение трудового стажа `days_employed` в днях.**"
   ]
  },
  {
   "cell_type": "code",
   "execution_count": 7,
   "id": "cd3e6328",
   "metadata": {
    "deletable": false,
    "id": "cd3e6328",
    "outputId": "801ef80e-522b-4668-f34e-565af7432bcf"
   },
   "outputs": [
    {
     "data": {
      "text/plain": [
       "income_type\n",
       "безработный        366413.652744\n",
       "в декрете            3296.759962\n",
       "госслужащий          2689.368353\n",
       "компаньон            1547.382223\n",
       "пенсионер          365213.306266\n",
       "предприниматель       520.848083\n",
       "сотрудник            1574.202821\n",
       "студент               578.751554\n",
       "Name: days_employed, dtype: float64"
      ]
     },
     "execution_count": 7,
     "metadata": {},
     "output_type": "execute_result"
    }
   ],
   "source": [
    "data.groupby('income_type')['days_employed'].agg('median')"
   ]
  },
  {
   "cell_type": "markdown",
   "id": "90c5f058",
   "metadata": {
    "deletable": false,
    "editable": false,
    "id": "90c5f058"
   },
   "source": [
    "У двух типов (безработные и пенсионеры) получатся аномально большие значения. Исправить такие значения сложно, поэтому оставьте их как есть."
   ]
  },
  {
   "cell_type": "markdown",
   "id": "9652e50d",
   "metadata": {
    "deletable": false,
    "editable": false,
    "id": "9652e50d"
   },
   "source": [
    "**Задание 8. Выведите перечень уникальных значений столбца `children`.**"
   ]
  },
  {
   "cell_type": "code",
   "execution_count": 8,
   "id": "dbb37b8e",
   "metadata": {
    "deletable": false,
    "id": "dbb37b8e",
    "outputId": "6975b15c-7f95-4697-d16d-a0c79b657b03"
   },
   "outputs": [
    {
     "data": {
      "text/plain": [
       "array([ 1,  0,  3,  2, -1,  4, 20,  5])"
      ]
     },
     "execution_count": 8,
     "metadata": {},
     "output_type": "execute_result"
    }
   ],
   "source": [
    "data['children'].unique()"
   ]
  },
  {
   "cell_type": "markdown",
   "id": "2b8b0715",
   "metadata": {
    "deletable": false,
    "editable": false,
    "id": "2b8b0715"
   },
   "source": [
    "**Задание 9. В столбце `children` есть два аномальных значения. Удалите строки, в которых встречаются такие аномальные значения из датафрейма `data`.**"
   ]
  },
  {
   "cell_type": "code",
   "execution_count": 9,
   "id": "20009df8",
   "metadata": {
    "deletable": false,
    "id": "20009df8"
   },
   "outputs": [],
   "source": [
    "data = data[(data['children'] != -1) & (data['children'] != 20)]"
   ]
  },
  {
   "cell_type": "markdown",
   "id": "8c6ac9f1",
   "metadata": {
    "deletable": false,
    "editable": false,
    "id": "8c6ac9f1"
   },
   "source": [
    "**Задание 10. Ещё раз выведите перечень уникальных значений столбца `children`, чтобы убедиться, что артефакты удалены.**"
   ]
  },
  {
   "cell_type": "code",
   "execution_count": 10,
   "id": "07337b81",
   "metadata": {
    "deletable": false,
    "id": "07337b81",
    "outputId": "b2097101-d49d-44d9-901b-32a65c9463d1"
   },
   "outputs": [
    {
     "data": {
      "text/plain": [
       "array([1, 0, 3, 2, 4, 5])"
      ]
     },
     "execution_count": 10,
     "metadata": {},
     "output_type": "execute_result"
    }
   ],
   "source": [
    "data['children'].unique()"
   ]
  },
  {
   "cell_type": "markdown",
   "id": "ee3f52d4",
   "metadata": {
    "deletable": false,
    "editable": false,
    "id": "ee3f52d4"
   },
   "source": [
    "### Удаление пропусков (продолжение)"
   ]
  },
  {
   "cell_type": "markdown",
   "id": "a700b0e4",
   "metadata": {
    "deletable": false,
    "editable": false,
    "id": "a700b0e4"
   },
   "source": [
    "**Задание 11. Заполните пропуски в столбце `days_employed` медианными значениями по каждого типа занятости `income_type`.**"
   ]
  },
  {
   "cell_type": "code",
   "execution_count": 11,
   "id": "61946b83",
   "metadata": {
    "deletable": false,
    "id": "61946b83"
   },
   "outputs": [],
   "source": [
    "for t in data['income_type'].unique():\n",
    "    data.loc[(data['income_type'] == t) & (data['days_employed'].isna()), 'days_employed'] = \\\n",
    "    data.loc[(data['income_type'] == t), 'days_employed'].median()"
   ]
  },
  {
   "cell_type": "markdown",
   "id": "550dcd9b",
   "metadata": {
    "deletable": false,
    "editable": false,
    "id": "550dcd9b"
   },
   "source": [
    "**Задание 12. Убедитесь, что все пропуски заполнены. Проверьте себя и ещё раз выведите количество пропущенных значений для каждого столбца с помощью двух методов.**"
   ]
  },
  {
   "cell_type": "code",
   "execution_count": 12,
   "id": "937c7014",
   "metadata": {
    "deletable": false,
    "id": "937c7014",
    "outputId": "8da1e4e1-358e-4e87-98c9-f261bce0a7b2"
   },
   "outputs": [
    {
     "data": {
      "text/plain": [
       "children            0\n",
       "days_employed       0\n",
       "dob_years           0\n",
       "education           0\n",
       "education_id        0\n",
       "family_status       0\n",
       "family_status_id    0\n",
       "gender              0\n",
       "income_type         0\n",
       "debt                0\n",
       "total_income        0\n",
       "purpose             0\n",
       "dtype: int64"
      ]
     },
     "execution_count": 12,
     "metadata": {},
     "output_type": "execute_result"
    }
   ],
   "source": [
    "data.isna().sum()"
   ]
  },
  {
   "cell_type": "markdown",
   "id": "d522e295",
   "metadata": {
    "deletable": false,
    "editable": false,
    "id": "d522e295"
   },
   "source": [
    "### Изменение типов данных"
   ]
  },
  {
   "cell_type": "markdown",
   "id": "c229c581",
   "metadata": {
    "deletable": false,
    "editable": false,
    "id": "c229c581"
   },
   "source": [
    "**Задание 13. Замените вещественный тип данных в столбце `total_income` на целочисленный с помощью метода `astype()`.**"
   ]
  },
  {
   "cell_type": "code",
   "execution_count": 13,
   "id": "31036462",
   "metadata": {
    "deletable": false,
    "id": "31036462"
   },
   "outputs": [],
   "source": [
    "data['total_income'] = data['total_income'].astype(int)"
   ]
  },
  {
   "cell_type": "markdown",
   "id": "b8e3d1d9",
   "metadata": {
    "deletable": false,
    "editable": false,
    "id": "b8e3d1d9"
   },
   "source": [
    "### Обработка дубликатов"
   ]
  },
  {
   "cell_type": "markdown",
   "id": "9be53c49",
   "metadata": {
    "deletable": false,
    "editable": false,
    "id": "9be53c49"
   },
   "source": [
    "**Задание 14. Обработайте неявные дубликаты в столбце `education`. В этом столбце есть одни и те же значения, но записанные по-разному: с использованием заглавных и строчных букв. Приведите их к нижнему регистру.**"
   ]
  },
  {
   "cell_type": "code",
   "execution_count": 14,
   "id": "d89e73e1",
   "metadata": {
    "deletable": false,
    "id": "d89e73e1"
   },
   "outputs": [],
   "source": [
    "data['education'] = data['education'].str.lower()"
   ]
  },
  {
   "cell_type": "markdown",
   "id": "01d4500e",
   "metadata": {
    "deletable": false,
    "editable": false,
    "id": "01d4500e"
   },
   "source": [
    "**Задание 15. Выведите на экран количество строк-дубликатов в данных. Если такие строки присутствуют, удалите их.**"
   ]
  },
  {
   "cell_type": "code",
   "execution_count": 15,
   "id": "e10efb23",
   "metadata": {
    "deletable": false,
    "id": "e10efb23",
    "outputId": "9684deba-1934-42d1-99e1-cda61740f822"
   },
   "outputs": [
    {
     "data": {
      "text/plain": [
       "71"
      ]
     },
     "execution_count": 15,
     "metadata": {},
     "output_type": "execute_result"
    }
   ],
   "source": [
    "data.duplicated().sum()"
   ]
  },
  {
   "cell_type": "code",
   "execution_count": 16,
   "id": "df853f20",
   "metadata": {
    "deletable": false,
    "id": "df853f20"
   },
   "outputs": [],
   "source": [
    "data = data.drop_duplicates()"
   ]
  },
  {
   "cell_type": "markdown",
   "id": "627be38f",
   "metadata": {
    "deletable": false,
    "editable": false,
    "id": "627be38f"
   },
   "source": [
    "### Категоризация данных"
   ]
  },
  {
   "cell_type": "markdown",
   "id": "4684c3e0",
   "metadata": {
    "deletable": false,
    "editable": false,
    "id": "4684c3e0"
   },
   "source": [
    "**Задание 16. На основании диапазонов, указанных ниже, создайте в датафрейме `data` столбец `total_income_category` с категориями:**\n",
    "\n",
    "- 0–30000 — `'E'`;\n",
    "- 30001–50000 — `'D'`;\n",
    "- 50001–200000 — `'C'`;\n",
    "- 200001–1000000 — `'B'`;\n",
    "- 1000001 и выше — `'A'`.\n",
    "\n",
    "\n",
    "**Например, кредитополучателю с доходом 25000 нужно назначить категорию `'E'`, а клиенту, получающему 235000, — `'B'`. Используйте собственную функцию с именем `categorize_income()` и метод `apply()`.**"
   ]
  },
  {
   "cell_type": "code",
   "execution_count": 17,
   "id": "78965238",
   "metadata": {
    "deletable": false,
    "id": "78965238"
   },
   "outputs": [],
   "source": [
    "def categorize_income(income):\n",
    "    try:\n",
    "        if 0 <= income <= 30000:\n",
    "            return 'E'\n",
    "        elif 30001 <= income <= 50000:\n",
    "            return 'D'\n",
    "        elif 50001 <= income <= 200000:\n",
    "            return 'C'\n",
    "        elif 200001 <= income <= 1000000:\n",
    "            return 'B'\n",
    "        elif income >= 1000001:\n",
    "            return 'A'\n",
    "    except:\n",
    "        pass"
   ]
  },
  {
   "cell_type": "code",
   "execution_count": 18,
   "id": "0980ada1",
   "metadata": {
    "deletable": false,
    "id": "0980ada1"
   },
   "outputs": [],
   "source": [
    "data['total_income_category'] = data['total_income'].apply(categorize_income)"
   ]
  },
  {
   "cell_type": "markdown",
   "id": "9917bba0",
   "metadata": {
    "deletable": false,
    "editable": false,
    "id": "9917bba0"
   },
   "source": [
    "**Задание 17. Выведите на экран перечень уникальных целей взятия кредита из столбца `purpose`.**"
   ]
  },
  {
   "cell_type": "code",
   "execution_count": 19,
   "id": "ee07b65e",
   "metadata": {
    "deletable": false,
    "id": "ee07b65e",
    "outputId": "673c12d9-7d7e-4ae0-9812-c622c89dd244"
   },
   "outputs": [
    {
     "data": {
      "text/plain": [
       "array(['покупка жилья', 'приобретение автомобиля',\n",
       "       'дополнительное образование', 'сыграть свадьбу',\n",
       "       'операции с жильем', 'образование', 'на проведение свадьбы',\n",
       "       'покупка жилья для семьи', 'покупка недвижимости',\n",
       "       'покупка коммерческой недвижимости', 'покупка жилой недвижимости',\n",
       "       'строительство собственной недвижимости', 'недвижимость',\n",
       "       'строительство недвижимости', 'на покупку подержанного автомобиля',\n",
       "       'на покупку своего автомобиля',\n",
       "       'операции с коммерческой недвижимостью',\n",
       "       'строительство жилой недвижимости', 'жилье',\n",
       "       'операции со своей недвижимостью', 'автомобили',\n",
       "       'заняться образованием', 'сделка с подержанным автомобилем',\n",
       "       'получение образования', 'автомобиль', 'свадьба',\n",
       "       'получение дополнительного образования', 'покупка своего жилья',\n",
       "       'операции с недвижимостью', 'получение высшего образования',\n",
       "       'свой автомобиль', 'сделка с автомобилем',\n",
       "       'профильное образование', 'высшее образование',\n",
       "       'покупка жилья для сдачи', 'на покупку автомобиля', 'ремонт жилью',\n",
       "       'заняться высшим образованием'], dtype=object)"
      ]
     },
     "execution_count": 19,
     "metadata": {},
     "output_type": "execute_result"
    }
   ],
   "source": [
    "data['purpose'].unique()"
   ]
  },
  {
   "cell_type": "markdown",
   "id": "52b79d56",
   "metadata": {
    "deletable": false,
    "editable": false,
    "id": "52b79d56"
   },
   "source": [
    "**Задание 18. Создайте функцию, которая на основании данных из столбца `purpose` сформирует новый столбец `purpose_category`, в который войдут следующие категории:**\n",
    "\n",
    "- `'операции с автомобилем'`,\n",
    "- `'операции с недвижимостью'`,\n",
    "- `'проведение свадьбы'`,\n",
    "- `'получение образования'`.\n",
    "\n",
    "**Например, если в столбце `purpose` находится подстрока `'на покупку автомобиля'`, то в столбце `purpose_category` должна появиться строка `'операции с автомобилем'`.**\n",
    "\n",
    "**Используйте собственную функцию с именем `categorize_purpose()` и метод `apply()`. Изучите данные в столбце `purpose` и определите, какие подстроки помогут вам правильно определить категорию.**"
   ]
  },
  {
   "cell_type": "code",
   "execution_count": 20,
   "id": "be41da5d",
   "metadata": {
    "deletable": false,
    "id": "be41da5d"
   },
   "outputs": [],
   "source": [
    "def categorize_purpose(row):\n",
    "    try:\n",
    "        if 'автом' in row:\n",
    "            return 'операции с автомобилем'\n",
    "        elif 'жил' in row or 'недвиж' in row:\n",
    "            return 'операции с недвижимостью'\n",
    "        elif 'свад' in row:\n",
    "            return 'проведение свадьбы'\n",
    "        elif 'образов' in row:\n",
    "            return 'получение образования'\n",
    "    except:\n",
    "        return 'нет категории'"
   ]
  },
  {
   "cell_type": "code",
   "execution_count": 21,
   "id": "94c4a19a",
   "metadata": {
    "deletable": false,
    "id": "94c4a19a"
   },
   "outputs": [],
   "source": [
    "data['purpose_category'] = data['purpose'].apply(categorize_purpose)"
   ]
  },
  {
   "cell_type": "markdown",
   "id": "3d596c34",
   "metadata": {
    "deletable": false,
    "editable": false,
    "id": "3d596c34"
   },
   "source": [
    "### Шаг 3. Исследуйте данные и ответьте на вопросы"
   ]
  },
  {
   "cell_type": "markdown",
   "id": "648db036",
   "metadata": {
    "deletable": false,
    "editable": false,
    "id": "648db036"
   },
   "source": [
    "#### 3.1 Есть ли зависимость между количеством детей и возвратом кредита в срок?"
   ]
  },
  {
   "cell_type": "code",
   "execution_count": 36,
   "id": "7fcff25e",
   "metadata": {
    "deletable": false,
    "id": "7fcff25e"
   },
   "outputs": [
    {
     "data": {
      "text/html": [
       "<div>\n",
       "<style scoped>\n",
       "    .dataframe tbody tr th:only-of-type {\n",
       "        vertical-align: middle;\n",
       "    }\n",
       "\n",
       "    .dataframe tbody tr th {\n",
       "        vertical-align: top;\n",
       "    }\n",
       "\n",
       "    .dataframe thead th {\n",
       "        text-align: right;\n",
       "    }\n",
       "</style>\n",
       "<table border=\"1\" class=\"dataframe\">\n",
       "  <thead>\n",
       "    <tr style=\"text-align: right;\">\n",
       "      <th></th>\n",
       "      <th>count</th>\n",
       "      <th>sum</th>\n",
       "      <th>correlation</th>\n",
       "    </tr>\n",
       "    <tr>\n",
       "      <th>children</th>\n",
       "      <th></th>\n",
       "      <th></th>\n",
       "      <th></th>\n",
       "    </tr>\n",
       "  </thead>\n",
       "  <tbody>\n",
       "    <tr>\n",
       "      <th>5</th>\n",
       "      <td>9</td>\n",
       "      <td>0</td>\n",
       "      <td>0.000000</td>\n",
       "    </tr>\n",
       "    <tr>\n",
       "      <th>0</th>\n",
       "      <td>14091</td>\n",
       "      <td>1063</td>\n",
       "      <td>0.075438</td>\n",
       "    </tr>\n",
       "    <tr>\n",
       "      <th>3</th>\n",
       "      <td>330</td>\n",
       "      <td>27</td>\n",
       "      <td>0.081818</td>\n",
       "    </tr>\n",
       "    <tr>\n",
       "      <th>1</th>\n",
       "      <td>4808</td>\n",
       "      <td>444</td>\n",
       "      <td>0.092346</td>\n",
       "    </tr>\n",
       "    <tr>\n",
       "      <th>2</th>\n",
       "      <td>2052</td>\n",
       "      <td>194</td>\n",
       "      <td>0.094542</td>\n",
       "    </tr>\n",
       "    <tr>\n",
       "      <th>4</th>\n",
       "      <td>41</td>\n",
       "      <td>4</td>\n",
       "      <td>0.097561</td>\n",
       "    </tr>\n",
       "  </tbody>\n",
       "</table>\n",
       "</div>"
      ],
      "text/plain": [
       "          count   sum  correlation\n",
       "children                          \n",
       "5             9     0     0.000000\n",
       "0         14091  1063     0.075438\n",
       "3           330    27     0.081818\n",
       "1          4808   444     0.092346\n",
       "2          2052   194     0.094542\n",
       "4            41     4     0.097561"
      ]
     },
     "execution_count": 36,
     "metadata": {},
     "output_type": "execute_result"
    },
    {
     "data": {
      "image/png": "[encoded data removed]",
      "text/plain": [
       "<Figure size 432x288 with 1 Axes>"
      ]
     },
     "metadata": {
      "needs_background": "light"
     },
     "output_type": "display_data"
    }
   ],
   "source": [
    "#display(data.groupby('children')['debt'].sum()/data.children.value_counts())#первое простое решение\n",
    "def pivot_macker(div):\n",
    "    pivot_div=data.pivot_table(index=div,values='debt',aggfunc=['count','sum','mean'])#Делаем сводную таблицу по трем агрегаторам\n",
    "    pivot_div=pivot_div.set_axis(['count', 'sum', 'correlation'], axis='columns')#переименуем columns\n",
    "    pivot_div['correlation'].plot(kind='barh')#построение графика\n",
    "    return pivot_div.sort_values('correlation')#На выходе отсортированная сводная таблица по зависимости\n",
    "#просроченных кредитов ко всем кредитам, по каждой группе\n",
    "pivot_macker('children')"
   ]
  },
  {
   "cell_type": "markdown",
   "id": "2eb9088e",
   "metadata": {
    "deletable": false,
    "id": "2eb9088e"
   },
   "source": [
    "**Вывод:** \n",
    "*Прямая зависимость прослеживается хоть и не для всех группп.*\n",
    "Лучшая статистика возвратов в срок у бездетных(группу с пятью детьми считаю не показательной из за ее малой численности). Имеющие трех детей отдают кредиты лучше чем имеющие одного, двух и четырех."
   ]
  },
  {
   "cell_type": "markdown",
   "id": "74c9b3a7",
   "metadata": {
    "deletable": false,
    "editable": false,
    "id": "74c9b3a7"
   },
   "source": [
    "#### 3.2 Есть ли зависимость между семейным положением и возвратом кредита в срок?"
   ]
  },
  {
   "cell_type": "code",
   "execution_count": 37,
   "id": "8098ab3b",
   "metadata": {
    "deletable": false,
    "id": "8098ab3b"
   },
   "outputs": [
    {
     "data": {
      "text/html": [
       "<div>\n",
       "<style scoped>\n",
       "    .dataframe tbody tr th:only-of-type {\n",
       "        vertical-align: middle;\n",
       "    }\n",
       "\n",
       "    .dataframe tbody tr th {\n",
       "        vertical-align: top;\n",
       "    }\n",
       "\n",
       "    .dataframe thead th {\n",
       "        text-align: right;\n",
       "    }\n",
       "</style>\n",
       "<table border=\"1\" class=\"dataframe\">\n",
       "  <thead>\n",
       "    <tr style=\"text-align: right;\">\n",
       "      <th></th>\n",
       "      <th>count</th>\n",
       "      <th>sum</th>\n",
       "      <th>correlation</th>\n",
       "    </tr>\n",
       "    <tr>\n",
       "      <th>family_status</th>\n",
       "      <th></th>\n",
       "      <th></th>\n",
       "      <th></th>\n",
       "    </tr>\n",
       "  </thead>\n",
       "  <tbody>\n",
       "    <tr>\n",
       "      <th>вдовец / вдова</th>\n",
       "      <td>951</td>\n",
       "      <td>63</td>\n",
       "      <td>0.066246</td>\n",
       "    </tr>\n",
       "    <tr>\n",
       "      <th>в разводе</th>\n",
       "      <td>1189</td>\n",
       "      <td>84</td>\n",
       "      <td>0.070648</td>\n",
       "    </tr>\n",
       "    <tr>\n",
       "      <th>женат / замужем</th>\n",
       "      <td>12261</td>\n",
       "      <td>927</td>\n",
       "      <td>0.075606</td>\n",
       "    </tr>\n",
       "    <tr>\n",
       "      <th>гражданский брак</th>\n",
       "      <td>4134</td>\n",
       "      <td>385</td>\n",
       "      <td>0.093130</td>\n",
       "    </tr>\n",
       "    <tr>\n",
       "      <th>Не женат / не замужем</th>\n",
       "      <td>2796</td>\n",
       "      <td>273</td>\n",
       "      <td>0.097639</td>\n",
       "    </tr>\n",
       "  </tbody>\n",
       "</table>\n",
       "</div>"
      ],
      "text/plain": [
       "                       count  sum  correlation\n",
       "family_status                                 \n",
       "вдовец / вдова           951   63     0.066246\n",
       "в разводе               1189   84     0.070648\n",
       "женат / замужем        12261  927     0.075606\n",
       "гражданский брак        4134  385     0.093130\n",
       "Не женат / не замужем   2796  273     0.097639"
      ]
     },
     "execution_count": 37,
     "metadata": {},
     "output_type": "execute_result"
    },
    {
     "data": {
      "image/png": "[encoded data removed]",
      "text/plain": [
       "<Figure size 432x288 with 1 Axes>"
      ]
     },
     "metadata": {
      "needs_background": "light"
     },
     "output_type": "display_data"
    }
   ],
   "source": [
    "pivot_macker('family_status')# Ваш код будет здесь. Вы можете создавать новые ячейки."
   ]
  },
  {
   "cell_type": "markdown",
   "id": "c389ca63",
   "metadata": {
    "deletable": false,
    "id": "c389ca63"
   },
   "source": [
    "**Вывод:** \n",
    "Овдовевшие и разведенные возвращают кредит в срок чаще чем состоящие в паре.Возможно связано с тем что данная категория заемщиков оставшись без партнера больше концентрируется на приведение своих дел в порядок.\n",
    "При этом,никогда не имевшие пары отдают кредит хуже остальных, что может быть связано с неустоявшимся укладом жизни и возможностью откладывать обязательства на потом."
   ]
  },
  {
   "cell_type": "markdown",
   "id": "9529de68",
   "metadata": {
    "deletable": false,
    "editable": false,
    "id": "9529de68"
   },
   "source": [
    "#### 3.3 Есть ли зависимость между уровнем дохода и возвратом кредита в срок?"
   ]
  },
  {
   "cell_type": "code",
   "execution_count": 38,
   "id": "8787f44a",
   "metadata": {
    "deletable": false,
    "id": "8787f44a"
   },
   "outputs": [
    {
     "data": {
      "text/html": [
       "<div>\n",
       "<style scoped>\n",
       "    .dataframe tbody tr th:only-of-type {\n",
       "        vertical-align: middle;\n",
       "    }\n",
       "\n",
       "    .dataframe tbody tr th {\n",
       "        vertical-align: top;\n",
       "    }\n",
       "\n",
       "    .dataframe thead th {\n",
       "        text-align: right;\n",
       "    }\n",
       "</style>\n",
       "<table border=\"1\" class=\"dataframe\">\n",
       "  <thead>\n",
       "    <tr style=\"text-align: right;\">\n",
       "      <th></th>\n",
       "      <th>count</th>\n",
       "      <th>sum</th>\n",
       "      <th>correlation</th>\n",
       "    </tr>\n",
       "    <tr>\n",
       "      <th>total_income_category</th>\n",
       "      <th></th>\n",
       "      <th></th>\n",
       "      <th></th>\n",
       "    </tr>\n",
       "  </thead>\n",
       "  <tbody>\n",
       "    <tr>\n",
       "      <th>D</th>\n",
       "      <td>349</td>\n",
       "      <td>21</td>\n",
       "      <td>0.060172</td>\n",
       "    </tr>\n",
       "    <tr>\n",
       "      <th>B</th>\n",
       "      <td>5014</td>\n",
       "      <td>354</td>\n",
       "      <td>0.070602</td>\n",
       "    </tr>\n",
       "    <tr>\n",
       "      <th>A</th>\n",
       "      <td>25</td>\n",
       "      <td>2</td>\n",
       "      <td>0.080000</td>\n",
       "    </tr>\n",
       "    <tr>\n",
       "      <th>C</th>\n",
       "      <td>15921</td>\n",
       "      <td>1353</td>\n",
       "      <td>0.084982</td>\n",
       "    </tr>\n",
       "    <tr>\n",
       "      <th>E</th>\n",
       "      <td>22</td>\n",
       "      <td>2</td>\n",
       "      <td>0.090909</td>\n",
       "    </tr>\n",
       "  </tbody>\n",
       "</table>\n",
       "</div>"
      ],
      "text/plain": [
       "                       count   sum  correlation\n",
       "total_income_category                          \n",
       "D                        349    21     0.060172\n",
       "B                       5014   354     0.070602\n",
       "A                         25     2     0.080000\n",
       "C                      15921  1353     0.084982\n",
       "E                         22     2     0.090909"
      ]
     },
     "execution_count": 38,
     "metadata": {},
     "output_type": "execute_result"
    },
    {
     "data": {
      "image/png": "[encoded data removed]",
      "text/plain": [
       "<Figure size 432x288 with 1 Axes>"
      ]
     },
     "metadata": {
      "needs_background": "light"
     },
     "output_type": "display_data"
    }
   ],
   "source": [
    "pivot_macker('total_income_category')# Ваш код будет здесь. Вы можете создавать новые ячейки."
   ]
  },
  {
   "cell_type": "markdown",
   "id": "6dd14b57",
   "metadata": {
    "deletable": false,
    "id": "6dd14b57"
   },
   "source": [
    "**Вывод:** \n",
    "Судя по данным нет прямой корелляции между уровнем дохода и возвратом кредита в срок.\n",
    "Категории А и Е плохо подходят для анализа так как людей с этой категорией очень мало.Категории D и В чаще других не допускают просрочек. Люди с уровнем дохода С допускают просрочки чаще последних."
   ]
  },
  {
   "cell_type": "markdown",
   "id": "1dcc9b12",
   "metadata": {
    "deletable": false,
    "editable": false,
    "id": "1dcc9b12"
   },
   "source": [
    "#### 3.4 Как разные цели кредита влияют на его возврат в срок?"
   ]
  },
  {
   "cell_type": "code",
   "execution_count": 39,
   "id": "c602bc8b",
   "metadata": {
    "deletable": false,
    "id": "c602bc8b"
   },
   "outputs": [
    {
     "data": {
      "text/html": [
       "<div>\n",
       "<style scoped>\n",
       "    .dataframe tbody tr th:only-of-type {\n",
       "        vertical-align: middle;\n",
       "    }\n",
       "\n",
       "    .dataframe tbody tr th {\n",
       "        vertical-align: top;\n",
       "    }\n",
       "\n",
       "    .dataframe thead th {\n",
       "        text-align: right;\n",
       "    }\n",
       "</style>\n",
       "<table border=\"1\" class=\"dataframe\">\n",
       "  <thead>\n",
       "    <tr style=\"text-align: right;\">\n",
       "      <th></th>\n",
       "      <th>count</th>\n",
       "      <th>sum</th>\n",
       "      <th>correlation</th>\n",
       "    </tr>\n",
       "    <tr>\n",
       "      <th>purpose_category</th>\n",
       "      <th></th>\n",
       "      <th></th>\n",
       "      <th></th>\n",
       "    </tr>\n",
       "  </thead>\n",
       "  <tbody>\n",
       "    <tr>\n",
       "      <th>операции с недвижимостью</th>\n",
       "      <td>10751</td>\n",
       "      <td>780</td>\n",
       "      <td>0.072551</td>\n",
       "    </tr>\n",
       "    <tr>\n",
       "      <th>проведение свадьбы</th>\n",
       "      <td>2313</td>\n",
       "      <td>183</td>\n",
       "      <td>0.079118</td>\n",
       "    </tr>\n",
       "    <tr>\n",
       "      <th>получение образования</th>\n",
       "      <td>3988</td>\n",
       "      <td>369</td>\n",
       "      <td>0.092528</td>\n",
       "    </tr>\n",
       "    <tr>\n",
       "      <th>операции с автомобилем</th>\n",
       "      <td>4279</td>\n",
       "      <td>400</td>\n",
       "      <td>0.093480</td>\n",
       "    </tr>\n",
       "  </tbody>\n",
       "</table>\n",
       "</div>"
      ],
      "text/plain": [
       "                          count  sum  correlation\n",
       "purpose_category                                 \n",
       "операции с недвижимостью  10751  780     0.072551\n",
       "проведение свадьбы         2313  183     0.079118\n",
       "получение образования      3988  369     0.092528\n",
       "операции с автомобилем     4279  400     0.093480"
      ]
     },
     "execution_count": 39,
     "metadata": {},
     "output_type": "execute_result"
    },
    {
     "data": {
      "image/png": "[encoded data removed]",
      "text/plain": [
       "<Figure size 432x288 with 1 Axes>"
      ]
     },
     "metadata": {
      "needs_background": "light"
     },
     "output_type": "display_data"
    }
   ],
   "source": [
    "pivot_macker('purpose_category')# Ваш код будет здесь. Вы можете создавать новые ячейки."
   ]
  },
  {
   "cell_type": "markdown",
   "id": "cf05ed63",
   "metadata": {
    "deletable": false,
    "id": "cf05ed63"
   },
   "source": [
    "**Вывод:** \n",
    "Охотнее всего отдают кредиты взятые на покупку недвижимости и проведение свадьбы.Эти цели кредитования больше подходят молодым семьям, которые являются более надежными если обратить внимание на зависимость между семейным положением и возвратом кредита в срок.\n",
    "Взявшие кредиты на образование и автокредиты чаще допускают просрочки.Возможно уровень дохода первых во время обучения падает из за новых нагрузок.Покупка же автомобиля тоже может влечь за собой непредвиденные расходы, что плохо сказывается на надежности заемщиков."
   ]
  },
  {
   "cell_type": "markdown",
   "id": "46c1f10b",
   "metadata": {
    "deletable": false,
    "editable": false,
    "id": "46c1f10b"
   },
   "source": [
    "#### 3.5 Приведите возможные причины появления пропусков в исходных данных."
   ]
  },
  {
   "cell_type": "markdown",
   "id": "3697d2a9",
   "metadata": {
    "deletable": false,
    "id": "3697d2a9"
   },
   "source": [
    "*Ответ:* \n",
    "Пропуски были в столбцах days_employed и total_income скорее всего имеют технический характер, полагаю что данные объединяли и часть была неполной. Так же возможно были проблемы при выгрузке данных,значения в days_employed у некоторых клиентов достигает 900 лет."
   ]
  },
  {
   "cell_type": "markdown",
   "id": "3137d257",
   "metadata": {
    "deletable": false,
    "editable": false,
    "id": "3137d257"
   },
   "source": [
    "#### 3.6 Объясните, почему заполнить пропуски медианным значением — лучшее решение для количественных переменных."
   ]
  },
  {
   "cell_type": "markdown",
   "id": "cf40012a",
   "metadata": {
    "deletable": false,
    "id": "cf40012a"
   },
   "source": [
    "*Ответ:*\n",
    "Медианное значение лучше всего отражает выборку в целом, а заполнение пропусков средним значением может существено повлиять на среднее значение по всем данным."
   ]
  },
  {
   "cell_type": "markdown",
   "id": "57bc304e",
   "metadata": {
    "deletable": false,
    "editable": false,
    "id": "57bc304e"
   },
   "source": [
    "### Шаг 4: общий вывод."
   ]
  },
  {
   "cell_type": "markdown",
   "id": "1ab75d1c",
   "metadata": {
    "deletable": false,
    "id": "1ab75d1c"
   },
   "source": [
    "#### Целью данного исследования было проследить зависимости надежности кредитуемых лиц от их уровня дохода,колличества детей, семейного положения и целей кредитования.\n",
    "На основании данных датасета '/datasets/data.csv'\n",
    "\n",
    " На этапе предобработки данных были выявлены\n",
    "- пропуски в столбцах total_income и days_employed ,были заменены медианными значениями для каждого типа занятости income_type. Причиной пропусков полагаю ошибки при заполенении датасета, либо часть данных собиралась без у этих показателей.\n",
    "- аномалии в столбце children\n",
    "- полностью дублирующие друг друга строки\n",
    "- отрицательные значения в столбце с отработанными днями days_employed\n",
    "- аномально большие значения столбца days_employed у двух типов заемщиков(безработные и пенсионеры). На решение поставленной задачи они не влияют, но требуют внимания и дальнейшей работы по анализу сбора данных.\n",
    "\n",
    "Заемщикам были присвоены категории в зависимости от их дохода.\n",
    "\n",
    "Самыми репризентативными оказались категории В(200 тыс.-1 млн.) и С(50тыс.–200тыс). При этом категория с доходом В оказалась самой надежной.\n",
    "\n",
    "Опираясь на данные были выявлены зависимости надежности заемщиков разных групп и категорий. На основании исследования можно заключить что статистика возвратов кредита в срок не имеет линейной зависимости ни у одной из категорий, тем не менее некоторые из групп можно назвать более надежными и предпочтительными для кредитования.\n",
    "\n",
    "Лучшая статистика возвратов в срок у бездетных заемщиков.\n",
    "Так же надежными можно назвать овдовевших и разведенных.\n",
    "Предпочтительными целями для выдачи кредита следует считать кредиты на недвижимость и кредиты взятые на свадьбу.\n",
    "\n",
    "\n",
    "Наименее надежные заемщики чаще встречаются среди имеющих 2х и более детей и со статусом не женат/не замужем.\n",
    "Проблемы с возвратом в срок наблюдается среди автокредитов и кредитов на образование."
   ]
  }
 ],
 "metadata": {
  "ExecuteTimeLog": [
   {
    "duration": 562,
    "start_time": "2023-08-22T14:28:13.915Z"
   },
   {
    "duration": 22,
    "start_time": "2023-08-22T14:28:15.427Z"
   },
   {
    "duration": 16,
    "start_time": "2023-08-22T14:28:17.378Z"
   },
   {
    "duration": 10,
    "start_time": "2023-08-22T14:28:20.517Z"
   },
   {
    "duration": 35,
    "start_time": "2023-08-22T14:28:22.279Z"
   },
   {
    "duration": 3,
    "start_time": "2023-08-22T14:28:27.103Z"
   },
   {
    "duration": 8,
    "start_time": "2023-08-22T14:28:28.843Z"
   },
   {
    "duration": 5,
    "start_time": "2023-08-22T14:28:43.416Z"
   },
   {
    "duration": 7,
    "start_time": "2023-08-22T14:28:46.116Z"
   },
   {
    "duration": 17,
    "start_time": "2023-08-22T14:28:46.125Z"
   },
   {
    "duration": 41,
    "start_time": "2023-08-22T14:28:57.235Z"
   },
   {
    "duration": 11,
    "start_time": "2023-08-22T14:28:58.623Z"
   },
   {
    "duration": 4,
    "start_time": "2023-08-22T14:29:03.967Z"
   },
   {
    "duration": 11,
    "start_time": "2023-08-22T14:29:06.516Z"
   },
   {
    "duration": 20,
    "start_time": "2023-08-22T14:29:08.636Z"
   },
   {
    "duration": 18,
    "start_time": "2023-08-22T14:29:09.586Z"
   },
   {
    "duration": 4,
    "start_time": "2023-08-22T14:29:15.057Z"
   },
   {
    "duration": 12,
    "start_time": "2023-08-22T14:29:18.916Z"
   },
   {
    "duration": 6,
    "start_time": "2023-08-22T14:29:21.118Z"
   },
   {
    "duration": 4,
    "start_time": "2023-08-22T14:29:27.467Z"
   },
   {
    "duration": 10,
    "start_time": "2023-08-22T14:29:28.628Z"
   },
   {
    "duration": 11,
    "start_time": "2023-08-22T14:30:56.179Z"
   },
   {
    "duration": 7,
    "start_time": "2023-08-22T14:38:39.674Z"
   },
   {
    "duration": 8,
    "start_time": "2023-08-22T14:39:02.797Z"
   },
   {
    "duration": 9,
    "start_time": "2023-08-22T14:44:05.982Z"
   },
   {
    "duration": 61,
    "start_time": "2023-08-22T14:54:02.310Z"
   },
   {
    "duration": 8,
    "start_time": "2023-08-22T14:54:14.377Z"
   },
   {
    "duration": 4,
    "start_time": "2023-08-22T14:54:34.724Z"
   },
   {
    "duration": 3,
    "start_time": "2023-08-22T14:54:38.586Z"
   },
   {
    "duration": 7,
    "start_time": "2023-08-22T14:54:39.306Z"
   },
   {
    "duration": 463,
    "start_time": "2023-08-22T14:54:48.265Z"
   },
   {
    "duration": 21,
    "start_time": "2023-08-22T14:54:48.731Z"
   },
   {
    "duration": 19,
    "start_time": "2023-08-22T14:54:48.877Z"
   },
   {
    "duration": 11,
    "start_time": "2023-08-22T14:54:49.607Z"
   },
   {
    "duration": 32,
    "start_time": "2023-08-22T14:54:49.966Z"
   },
   {
    "duration": 3,
    "start_time": "2023-08-22T14:54:50.498Z"
   },
   {
    "duration": 8,
    "start_time": "2023-08-22T14:54:50.857Z"
   },
   {
    "duration": 5,
    "start_time": "2023-08-22T14:54:51.406Z"
   },
   {
    "duration": 8,
    "start_time": "2023-08-22T14:54:51.755Z"
   },
   {
    "duration": 5,
    "start_time": "2023-08-22T14:54:52.065Z"
   },
   {
    "duration": 34,
    "start_time": "2023-08-22T14:54:52.605Z"
   },
   {
    "duration": 10,
    "start_time": "2023-08-22T14:54:52.966Z"
   },
   {
    "duration": 5,
    "start_time": "2023-08-22T14:54:54.886Z"
   },
   {
    "duration": 19,
    "start_time": "2023-08-22T14:54:56.286Z"
   },
   {
    "duration": 29,
    "start_time": "2023-08-22T14:54:57.356Z"
   },
   {
    "duration": 19,
    "start_time": "2023-08-22T14:54:57.857Z"
   },
   {
    "duration": 4,
    "start_time": "2023-08-22T14:54:59.385Z"
   },
   {
    "duration": 10,
    "start_time": "2023-08-22T14:55:00.185Z"
   },
   {
    "duration": 6,
    "start_time": "2023-08-22T14:55:01.276Z"
   },
   {
    "duration": 4,
    "start_time": "2023-08-22T14:55:06.826Z"
   },
   {
    "duration": 10,
    "start_time": "2023-08-22T14:55:07.748Z"
   },
   {
    "duration": 9,
    "start_time": "2023-08-22T14:55:10.076Z"
   },
   {
    "duration": 11,
    "start_time": "2023-08-22T14:55:57.421Z"
   },
   {
    "duration": 70,
    "start_time": "2023-08-22T15:02:10.301Z"
   },
   {
    "duration": 15,
    "start_time": "2023-08-22T15:02:10.531Z"
   },
   {
    "duration": 16,
    "start_time": "2023-08-22T15:02:10.951Z"
   },
   {
    "duration": 10,
    "start_time": "2023-08-22T15:02:11.509Z"
   },
   {
    "duration": 32,
    "start_time": "2023-08-22T15:02:11.841Z"
   },
   {
    "duration": 4,
    "start_time": "2023-08-22T15:02:12.310Z"
   },
   {
    "duration": 8,
    "start_time": "2023-08-22T15:02:12.685Z"
   },
   {
    "duration": 5,
    "start_time": "2023-08-22T15:02:13.250Z"
   },
   {
    "duration": 7,
    "start_time": "2023-08-22T15:02:14.506Z"
   },
   {
    "duration": 22,
    "start_time": "2023-08-22T15:02:14.515Z"
   },
   {
    "duration": 63,
    "start_time": "2023-08-22T15:02:14.539Z"
   },
   {
    "duration": 9,
    "start_time": "2023-08-22T15:02:14.830Z"
   },
   {
    "duration": 4,
    "start_time": "2023-08-22T15:02:15.649Z"
   },
   {
    "duration": 11,
    "start_time": "2023-08-22T15:02:16.048Z"
   },
   {
    "duration": 20,
    "start_time": "2023-08-22T15:02:16.290Z"
   },
   {
    "duration": 18,
    "start_time": "2023-08-22T15:02:16.919Z"
   },
   {
    "duration": 4,
    "start_time": "2023-08-22T15:02:17.758Z"
   },
   {
    "duration": 10,
    "start_time": "2023-08-22T15:02:17.870Z"
   },
   {
    "duration": 6,
    "start_time": "2023-08-22T15:02:18.546Z"
   },
   {
    "duration": 4,
    "start_time": "2023-08-22T15:02:19.097Z"
   },
   {
    "duration": 8,
    "start_time": "2023-08-22T15:02:19.510Z"
   },
   {
    "duration": 8,
    "start_time": "2023-08-22T15:02:20.641Z"
   },
   {
    "duration": 7,
    "start_time": "2023-08-22T15:07:07.108Z"
   },
   {
    "duration": 14,
    "start_time": "2023-08-22T15:17:54.543Z"
   },
   {
    "duration": 10,
    "start_time": "2023-08-22T15:17:58.923Z"
   },
   {
    "duration": 13,
    "start_time": "2023-08-22T15:18:08.424Z"
   },
   {
    "duration": 446,
    "start_time": "2023-08-22T15:25:02.390Z"
   },
   {
    "duration": 117,
    "start_time": "2023-08-22T15:27:13.287Z"
   },
   {
    "duration": 28,
    "start_time": "2023-08-22T15:27:26.146Z"
   },
   {
    "duration": 17,
    "start_time": "2023-08-22T15:27:42.468Z"
   },
   {
    "duration": 474,
    "start_time": "2023-08-22T15:28:38.889Z"
   },
   {
    "duration": 437,
    "start_time": "2023-08-22T15:29:04.283Z"
   },
   {
    "duration": 9,
    "start_time": "2023-08-22T15:29:40.254Z"
   },
   {
    "duration": 568,
    "start_time": "2023-08-22T15:30:06.571Z"
   },
   {
    "duration": 0,
    "start_time": "2023-08-22T15:30:40.443Z"
   },
   {
    "duration": 492,
    "start_time": "2023-08-22T15:31:19.040Z"
   },
   {
    "duration": 22,
    "start_time": "2023-08-22T15:31:19.534Z"
   },
   {
    "duration": 16,
    "start_time": "2023-08-22T15:31:20.040Z"
   },
   {
    "duration": 11,
    "start_time": "2023-08-22T15:31:20.541Z"
   },
   {
    "duration": 33,
    "start_time": "2023-08-22T15:31:20.780Z"
   },
   {
    "duration": 4,
    "start_time": "2023-08-22T15:31:21.152Z"
   },
   {
    "duration": 8,
    "start_time": "2023-08-22T15:31:21.435Z"
   },
   {
    "duration": 5,
    "start_time": "2023-08-22T15:31:21.819Z"
   },
   {
    "duration": 9,
    "start_time": "2023-08-22T15:31:22.155Z"
   },
   {
    "duration": 5,
    "start_time": "2023-08-22T15:31:22.520Z"
   },
   {
    "duration": 33,
    "start_time": "2023-08-22T15:31:24.439Z"
   },
   {
    "duration": 10,
    "start_time": "2023-08-22T15:31:24.776Z"
   },
   {
    "duration": 4,
    "start_time": "2023-08-22T15:31:26.001Z"
   },
   {
    "duration": 14,
    "start_time": "2023-08-22T15:31:26.451Z"
   },
   {
    "duration": 21,
    "start_time": "2023-08-22T15:31:27.232Z"
   },
   {
    "duration": 18,
    "start_time": "2023-08-22T15:31:27.901Z"
   },
   {
    "duration": 5,
    "start_time": "2023-08-22T15:31:28.739Z"
   },
   {
    "duration": 20,
    "start_time": "2023-08-22T15:31:28.851Z"
   },
   {
    "duration": 7,
    "start_time": "2023-08-22T15:31:29.119Z"
   },
   {
    "duration": 4,
    "start_time": "2023-08-22T15:31:30.419Z"
   },
   {
    "duration": 8,
    "start_time": "2023-08-22T15:31:32.161Z"
   },
   {
    "duration": 0,
    "start_time": "2023-08-22T15:34:27.922Z"
   },
   {
    "duration": 19,
    "start_time": "2023-08-22T15:34:45.081Z"
   },
   {
    "duration": 89,
    "start_time": "2023-08-22T15:35:10.156Z"
   },
   {
    "duration": 528,
    "start_time": "2023-08-22T15:35:30.216Z"
   },
   {
    "duration": 157,
    "start_time": "2023-08-22T15:35:48.674Z"
   },
   {
    "duration": 462,
    "start_time": "2023-08-22T15:43:13.390Z"
   },
   {
    "duration": 449,
    "start_time": "2023-08-22T15:43:33.060Z"
   },
   {
    "duration": 9,
    "start_time": "2023-08-22T15:48:53.354Z"
   },
   {
    "duration": 24,
    "start_time": "2023-08-22T15:49:04.612Z"
   },
   {
    "duration": 24,
    "start_time": "2023-08-22T15:49:25.962Z"
   },
   {
    "duration": 29,
    "start_time": "2023-08-22T15:50:17.830Z"
   },
   {
    "duration": 12,
    "start_time": "2023-08-22T15:50:59.723Z"
   },
   {
    "duration": 130,
    "start_time": "2023-08-22T15:51:21.823Z"
   },
   {
    "duration": 10,
    "start_time": "2023-08-22T15:52:40.474Z"
   },
   {
    "duration": 7,
    "start_time": "2023-08-22T15:54:05.611Z"
   },
   {
    "duration": 15,
    "start_time": "2023-08-22T15:54:17.114Z"
   },
   {
    "duration": 109,
    "start_time": "2023-08-22T15:54:26.721Z"
   },
   {
    "duration": 8,
    "start_time": "2023-08-22T15:54:38.722Z"
   },
   {
    "duration": 7,
    "start_time": "2023-08-22T15:54:45.918Z"
   },
   {
    "duration": 8,
    "start_time": "2023-08-22T15:54:53.945Z"
   },
   {
    "duration": 15,
    "start_time": "2023-08-22T15:55:21.722Z"
   },
   {
    "duration": 8,
    "start_time": "2023-08-22T15:55:34.930Z"
   },
   {
    "duration": 13,
    "start_time": "2023-08-22T15:56:51.163Z"
   },
   {
    "duration": 12,
    "start_time": "2023-08-22T15:57:00.140Z"
   },
   {
    "duration": 128,
    "start_time": "2023-08-22T15:57:16.754Z"
   },
   {
    "duration": 114,
    "start_time": "2023-08-22T15:57:22.592Z"
   },
   {
    "duration": 115,
    "start_time": "2023-08-22T15:57:28.510Z"
   },
   {
    "duration": 108,
    "start_time": "2023-08-22T15:57:37.517Z"
   },
   {
    "duration": 11,
    "start_time": "2023-08-22T15:57:44.517Z"
   },
   {
    "duration": 16,
    "start_time": "2023-08-22T16:01:50.671Z"
   },
   {
    "duration": 24,
    "start_time": "2023-08-22T16:02:04.004Z"
   },
   {
    "duration": 15,
    "start_time": "2023-08-22T16:03:15.912Z"
   },
   {
    "duration": 12,
    "start_time": "2023-08-22T16:03:53.174Z"
   },
   {
    "duration": 11,
    "start_time": "2023-08-22T16:04:12.354Z"
   },
   {
    "duration": 12,
    "start_time": "2023-08-22T16:04:19.314Z"
   },
   {
    "duration": 24,
    "start_time": "2023-08-22T16:07:08.262Z"
   },
   {
    "duration": 23,
    "start_time": "2023-08-22T16:07:38.319Z"
   },
   {
    "duration": 28,
    "start_time": "2023-08-22T16:08:07.005Z"
   },
   {
    "duration": 25,
    "start_time": "2023-08-22T16:14:26.862Z"
   },
   {
    "duration": 12,
    "start_time": "2023-08-22T16:14:39.587Z"
   },
   {
    "duration": 12,
    "start_time": "2023-08-22T16:14:45.480Z"
   },
   {
    "duration": 14,
    "start_time": "2023-08-22T16:14:51.238Z"
   },
   {
    "duration": 21,
    "start_time": "2023-08-22T16:15:00.797Z"
   },
   {
    "duration": 25,
    "start_time": "2023-08-22T16:15:28.476Z"
   },
   {
    "duration": 29,
    "start_time": "2023-08-22T16:16:06.672Z"
   },
   {
    "duration": 28,
    "start_time": "2023-08-22T16:16:50.376Z"
   },
   {
    "duration": 27,
    "start_time": "2023-08-22T16:17:32.317Z"
   },
   {
    "duration": 27,
    "start_time": "2023-08-22T16:17:53.648Z"
   },
   {
    "duration": 18,
    "start_time": "2023-08-22T16:19:01.212Z"
   },
   {
    "duration": 43,
    "start_time": "2023-08-22T16:19:35.344Z"
   },
   {
    "duration": 24,
    "start_time": "2023-08-22T16:20:28.522Z"
   },
   {
    "duration": 28,
    "start_time": "2023-08-22T16:27:33.994Z"
   },
   {
    "duration": 25,
    "start_time": "2023-08-22T16:27:46.074Z"
   },
   {
    "duration": 25,
    "start_time": "2023-08-22T16:29:08.794Z"
   },
   {
    "duration": 468,
    "start_time": "2023-08-22T16:36:24.901Z"
   },
   {
    "duration": 2242,
    "start_time": "2023-08-22T16:37:08.033Z"
   },
   {
    "duration": 26,
    "start_time": "2023-08-22T16:38:17.597Z"
   },
   {
    "duration": 28,
    "start_time": "2023-08-22T16:38:24.421Z"
   },
   {
    "duration": 17,
    "start_time": "2023-08-22T16:39:15.935Z"
   },
   {
    "duration": 32,
    "start_time": "2023-08-22T16:39:42.613Z"
   },
   {
    "duration": 28,
    "start_time": "2023-08-22T16:40:47.114Z"
   },
   {
    "duration": 31,
    "start_time": "2023-08-22T16:47:06.875Z"
   },
   {
    "duration": 24,
    "start_time": "2023-08-22T16:47:33.468Z"
   },
   {
    "duration": 20,
    "start_time": "2023-08-22T17:27:54.621Z"
   },
   {
    "duration": 29,
    "start_time": "2023-08-22T17:29:00.670Z"
   },
   {
    "duration": 19,
    "start_time": "2023-08-22T17:29:17.321Z"
   },
   {
    "duration": 2320,
    "start_time": "2023-08-22T17:30:00.561Z"
   },
   {
    "duration": 1778,
    "start_time": "2023-08-22T17:30:08.476Z"
   },
   {
    "duration": 1788,
    "start_time": "2023-08-22T17:30:27.745Z"
   },
   {
    "duration": 4,
    "start_time": "2023-08-22T17:30:39.281Z"
   },
   {
    "duration": 23,
    "start_time": "2023-08-22T17:30:42.810Z"
   },
   {
    "duration": 9,
    "start_time": "2023-08-22T17:31:02.204Z"
   },
   {
    "duration": 12,
    "start_time": "2023-08-22T17:31:12.811Z"
   },
   {
    "duration": 29,
    "start_time": "2023-08-22T17:31:43.061Z"
   },
   {
    "duration": 707,
    "start_time": "2023-08-23T10:32:19.161Z"
   },
   {
    "duration": 21,
    "start_time": "2023-08-23T10:32:19.870Z"
   },
   {
    "duration": 15,
    "start_time": "2023-08-23T10:32:19.893Z"
   },
   {
    "duration": 11,
    "start_time": "2023-08-23T10:32:20.480Z"
   },
   {
    "duration": 32,
    "start_time": "2023-08-23T10:32:21.001Z"
   },
   {
    "duration": 4,
    "start_time": "2023-08-23T10:32:21.472Z"
   },
   {
    "duration": 9,
    "start_time": "2023-08-23T10:32:21.840Z"
   },
   {
    "duration": 4,
    "start_time": "2023-08-23T10:32:22.342Z"
   },
   {
    "duration": 7,
    "start_time": "2023-08-23T10:32:22.740Z"
   },
   {
    "duration": 4,
    "start_time": "2023-08-23T10:32:23.095Z"
   },
   {
    "duration": 34,
    "start_time": "2023-08-23T10:32:23.661Z"
   },
   {
    "duration": 11,
    "start_time": "2023-08-23T10:32:24.015Z"
   },
   {
    "duration": 4,
    "start_time": "2023-08-23T10:32:24.600Z"
   },
   {
    "duration": 12,
    "start_time": "2023-08-23T10:32:25.160Z"
   },
   {
    "duration": 20,
    "start_time": "2023-08-23T10:32:25.567Z"
   },
   {
    "duration": 17,
    "start_time": "2023-08-23T10:32:25.693Z"
   },
   {
    "duration": 5,
    "start_time": "2023-08-23T10:32:26.353Z"
   },
   {
    "duration": 11,
    "start_time": "2023-08-23T10:32:26.548Z"
   },
   {
    "duration": 6,
    "start_time": "2023-08-23T10:32:26.922Z"
   },
   {
    "duration": 3,
    "start_time": "2023-08-23T10:32:27.281Z"
   },
   {
    "duration": 12,
    "start_time": "2023-08-23T10:32:27.522Z"
   },
   {
    "duration": 31,
    "start_time": "2023-08-23T10:32:28.158Z"
   },
   {
    "duration": 38,
    "start_time": "2023-08-23T10:32:31.142Z"
   },
   {
    "duration": 25,
    "start_time": "2023-08-23T10:32:35.401Z"
   },
   {
    "duration": 29,
    "start_time": "2023-08-23T10:32:36.780Z"
   },
   {
    "duration": 527,
    "start_time": "2023-08-23T10:38:53.501Z"
   },
   {
    "duration": 122,
    "start_time": "2023-08-23T10:39:09.501Z"
   },
   {
    "duration": 125,
    "start_time": "2023-08-23T10:39:11.961Z"
   },
   {
    "duration": 127,
    "start_time": "2023-08-23T10:39:13.921Z"
   },
   {
    "duration": 175,
    "start_time": "2023-08-23T10:39:15.923Z"
   },
   {
    "duration": 123,
    "start_time": "2023-08-23T10:39:20.122Z"
   },
   {
    "duration": 140,
    "start_time": "2023-08-23T10:39:22.541Z"
   },
   {
    "duration": 117,
    "start_time": "2023-08-23T10:39:29.061Z"
   },
   {
    "duration": 135,
    "start_time": "2023-08-23T10:39:33.290Z"
   },
   {
    "duration": 140,
    "start_time": "2023-08-23T11:07:39.762Z"
   },
   {
    "duration": 140,
    "start_time": "2023-08-23T11:07:42.312Z"
   },
   {
    "duration": 141,
    "start_time": "2023-08-23T11:07:43.422Z"
   },
   {
    "duration": 121,
    "start_time": "2023-08-23T11:07:46.241Z"
   },
   {
    "duration": 140,
    "start_time": "2023-08-23T11:07:53.380Z"
   },
   {
    "duration": 80,
    "start_time": "2023-08-24T15:24:34.016Z"
   }
  ],
  "colab": {
   "provenance": []
  },
  "kernelspec": {
   "display_name": "Python 3 (ipykernel)",
   "language": "python",
   "name": "python3"
  },
  "language_info": {
   "codemirror_mode": {
    "name": "ipython",
    "version": 3
   },
   "file_extension": ".py",
   "mimetype": "text/x-python",
   "name": "python",
   "nbconvert_exporter": "python",
   "pygments_lexer": "ipython3",
   "version": "3.9.5"
  },
  "toc": {
   "base_numbering": 1,
   "nav_menu": {},
   "number_sections": true,
   "sideBar": true,
   "skip_h1_title": true,
   "title_cell": "Table of Contents",
   "title_sidebar": "Contents",
   "toc_cell": false,
   "toc_position": {},
   "toc_section_display": true,
   "toc_window_display": false
  }
 },
 "nbformat": 4,
 "nbformat_minor": 5
}
