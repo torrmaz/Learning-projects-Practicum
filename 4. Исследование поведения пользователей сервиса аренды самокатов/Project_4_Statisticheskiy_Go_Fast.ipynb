{
 "cells": [
  {
   "cell_type": "markdown",
   "id": "6914bdc5",
   "metadata": {},
   "source": [
    "### Анализ сервиса аренды самокатов GoFast\n",
    "Цель исследования: Проанализировать данные и проверить некоторые гипотезы, которые могут помочь сервису аренды самокатов GoFast вырасти.\n",
    "Чтобы совершать поездки по городу, пользователи сервиса GoFast пользуются мобильным приложением. Сервисом можно пользоваться:\n",
    "без подписки и с подпиской Ultra\n",
    "\n",
    "Услуга|Без подписки  | с подпиской Ultra\n",
    "------------- | -------------| -------------\n",
    "абонентская плата  | отсутствует | 199 рублей в месяц\n",
    "стоимость одной минуты поездки  | 8 рублей|6 рублей\n",
    "стоимость старта   | 50 рублей|бесплатно\n",
    "\n",
    "Описание данных\n",
    "\n",
    "В основных данных есть информация о пользователях, их поездках и подписках.\n",
    "\n",
    "Пользователи — [users_go.csv](https://code.s3.yandex.net/datasets/users_go.csv)\n",
    "\n",
    "- `user_id` -  уникальный идентификатор пользователя\n",
    "- `name` - имя пользователя\n",
    "- `age` - возраст\n",
    "- `city` - город\n",
    "- `subscription_type` - тип подписки (free, ultra)\n",
    "\n",
    "\n",
    "Поездки — [rides_go.csv](https://code.s3.yandex.net/datasets/rides_go.csv)\n",
    "\n",
    "- `user_id` - уникальный идентификатор пользователя\n",
    "- `distance` - расстояние, которое пользователь проехал в текущей сессии (в метрах)\n",
    "- `duration` - продолжительность сессии (в минутах)\n",
    "- `date` - дата совершения поездки\n",
    "\n",
    "Подписки — [subscriptions_go.csv](https://code.s3.yandex.net/datasets/subscriptions_go.csv)\n",
    "\n",
    "- `subscription_type` - тип подписки\n",
    "- `minute_price` - стоимость одной минуты поездки по данной подписке\n",
    "- `start_ride_price` - стоимость начала поездки\n",
    "- `subscription_fee` - стоимость ежемесячного платежа\n"
   ]
  },
  {
   "cell_type": "markdown",
   "id": "ab09a143",
   "metadata": {},
   "source": [
    "План работы\n",
    "\n",
    "1. Шаг 1. Загрузка данных\n",
    "    1. Считаем CSV-файлы с данными с помощью библиотеки pandas и сохраним их в датафреймы. Пути к файлам:\n",
    "    2. Выведем первые строки каждого набора данных. Изучим общую информацию о каждом датафрейме.\n",
    "2. Шаг 2. Предобработка данных\n",
    "    1. Приведем столбец date к типу даты pandas.\n",
    "    2. Создадим новый столбец с номером месяца на основе столбца date.\n",
    "    3. Проверим наличие пропущенных значений и дубликатов в датафреймах. Обработаем их, если такие значения присутствуют.\n",
    "3. Шаг 3. Исследовательский анализ данных Опишем и визуализируем общую информацию о пользователях и поездках:\n",
    "    1. Частота встречаемости городов;\n",
    "    2. Соотношение пользователей с подпиской и без подписки;\n",
    "    3. Возраст пользователей;\n",
    "    4. Расстояние, которое пользователь преодолел за одну поездку;\n",
    "    5. Продолжительность поездок.\n",
    "4. Шаг 4. Объединение данных\n",
    "    1. Объединим данные о пользователях, поездках и подписках в один датафрейм. Для этого воспользуемся методом merge().\n",
    "    2. Создадим ещё два датафрейма из датафрейма, созданного на этапе 4.1:\n",
    "        - c данными о пользователях без подписки;\n",
    "        - с данными о пользователях с подпиской.\n",
    "    3. Визуализируем информацию о расстоянии и времени поездок для пользователей обеих категорий.\n",
    "5. Шаг 5. Подсчёт выручки\n",
    "    1. Создадим датафрейм с агрегированными данными о поездках на основе датафрейма с объединёнными данными из шага 4: найдем суммарное расстояние, количество поездок и суммарное время для каждого пользователя за каждый месяц.\n",
    "    2. В этот же датафрейм добавим столбец с помесячной выручкой, которую принёс каждый пользователь. Для этого обратитимся к информации об условиях оплаты для подписчиков и тех, у кого нет подписки. Продолжительность каждой поездки в каждой строке исходного датафрейма для подсчёта стоимости округляется до следующего целого числа.\n",
    "6. Шаг 6. Проверка гипотез. Продакт-менеджеры сервиса хотят увеличить количество пользователей с подпиской. Для этого они будут проводить различные акции, но сначала нужно выяснить несколько важных моментов.\n",
    "    1. Важно понять, тратят ли пользователи с подпиской больше времени на поездки? Если да, то пользователи с подпиской могут быть «выгоднее» для компании. Проверим гипотезу. Используем исходные данные о продолжительности каждой сессии — отдельно для подписчиков и тех, у кого нет подписки.\n",
    "    2. 6.2 Расстояние одной поездки в 3130 метров — оптимальное с точки зрения износа самоката. Можно ли сказать, что среднее расстояние, которое проезжают пользователи с подпиской за одну поездку, не превышает 3130 метров? Проверим гипотезу и сделаем выводы.\n",
    "    3. Проверим гипотезу о том, будет ли помесячная выручка от пользователей с подпиской по месяцам выше, чем выручка от пользователей без подписки. Сделаем вывод.\n",
    "    4. Представим такую ситуацию: техническая команда сервиса обновила сервера, с которыми взаимодействует мобильное приложение. Она надеется, что из-за этого количество обращений в техподдержку значимо снизилось. Некоторый файл содержит для каждого пользователя данные о количестве обращений до обновления и после него. Какой тест нам понадобился бы для проверки этой гипотезы?"
   ]
  },
  {
   "cell_type": "code",
   "execution_count": 1,
   "id": "3d56abc7",
   "metadata": {},
   "outputs": [],
   "source": [
    "#Импортируем необходимые библиотеки\n",
    "import pandas as pd\n",
    "from matplotlib import pyplot as plt\n",
    "import numpy as np\n",
    "from scipy import stats as st"
   ]
  },
  {
   "cell_type": "markdown",
   "id": "636c1e28",
   "metadata": {},
   "source": [
    "#### Шаг 1. Загрузка данных\n",
    "##### Считываем CSV-файлы с данными с помощью библиотеки pandas и сохраняем их в датафреймы"
   ]
  },
  {
   "cell_type": "code",
   "execution_count": 2,
   "id": "9cf80635",
   "metadata": {},
   "outputs": [
    {
     "data": {
      "text/html": [
       "<div>\n",
       "<style scoped>\n",
       "    .dataframe tbody tr th:only-of-type {\n",
       "        vertical-align: middle;\n",
       "    }\n",
       "\n",
       "    .dataframe tbody tr th {\n",
       "        vertical-align: top;\n",
       "    }\n",
       "\n",
       "    .dataframe thead th {\n",
       "        text-align: right;\n",
       "    }\n",
       "</style>\n",
       "<table border=\"1\" class=\"dataframe\">\n",
       "  <thead>\n",
       "    <tr style=\"text-align: right;\">\n",
       "      <th></th>\n",
       "      <th>user_id</th>\n",
       "      <th>name</th>\n",
       "      <th>age</th>\n",
       "      <th>city</th>\n",
       "      <th>subscription_type</th>\n",
       "    </tr>\n",
       "  </thead>\n",
       "  <tbody>\n",
       "    <tr>\n",
       "      <th>0</th>\n",
       "      <td>1</td>\n",
       "      <td>Кира</td>\n",
       "      <td>22</td>\n",
       "      <td>Тюмень</td>\n",
       "      <td>ultra</td>\n",
       "    </tr>\n",
       "    <tr>\n",
       "      <th>1</th>\n",
       "      <td>2</td>\n",
       "      <td>Станислав</td>\n",
       "      <td>31</td>\n",
       "      <td>Омск</td>\n",
       "      <td>ultra</td>\n",
       "    </tr>\n",
       "    <tr>\n",
       "      <th>2</th>\n",
       "      <td>3</td>\n",
       "      <td>Алексей</td>\n",
       "      <td>20</td>\n",
       "      <td>Москва</td>\n",
       "      <td>ultra</td>\n",
       "    </tr>\n",
       "    <tr>\n",
       "      <th>3</th>\n",
       "      <td>4</td>\n",
       "      <td>Константин</td>\n",
       "      <td>26</td>\n",
       "      <td>Ростов-на-Дону</td>\n",
       "      <td>ultra</td>\n",
       "    </tr>\n",
       "    <tr>\n",
       "      <th>4</th>\n",
       "      <td>5</td>\n",
       "      <td>Адель</td>\n",
       "      <td>28</td>\n",
       "      <td>Омск</td>\n",
       "      <td>ultra</td>\n",
       "    </tr>\n",
       "  </tbody>\n",
       "</table>\n",
       "</div>"
      ],
      "text/plain": [
       "   user_id        name  age            city subscription_type\n",
       "0        1        Кира   22          Тюмень             ultra\n",
       "1        2   Станислав   31            Омск             ultra\n",
       "2        3     Алексей   20          Москва             ultra\n",
       "3        4  Константин   26  Ростов-на-Дону             ultra\n",
       "4        5       Адель   28            Омск             ultra"
      ]
     },
     "metadata": {},
     "output_type": "display_data"
    },
    {
     "name": "stdout",
     "output_type": "stream",
     "text": [
      "<class 'pandas.core.frame.DataFrame'>\n",
      "RangeIndex: 1565 entries, 0 to 1564\n",
      "Data columns (total 5 columns):\n",
      " #   Column             Non-Null Count  Dtype \n",
      "---  ------             --------------  ----- \n",
      " 0   user_id            1565 non-null   int64 \n",
      " 1   name               1565 non-null   object\n",
      " 2   age                1565 non-null   int64 \n",
      " 3   city               1565 non-null   object\n",
      " 4   subscription_type  1565 non-null   object\n",
      "dtypes: int64(2), object(3)\n",
      "memory usage: 61.3+ KB\n"
     ]
    },
    {
     "data": {
      "text/plain": [
       "None"
      ]
     },
     "metadata": {},
     "output_type": "display_data"
    },
    {
     "data": {
      "text/html": [
       "<div>\n",
       "<style scoped>\n",
       "    .dataframe tbody tr th:only-of-type {\n",
       "        vertical-align: middle;\n",
       "    }\n",
       "\n",
       "    .dataframe tbody tr th {\n",
       "        vertical-align: top;\n",
       "    }\n",
       "\n",
       "    .dataframe thead th {\n",
       "        text-align: right;\n",
       "    }\n",
       "</style>\n",
       "<table border=\"1\" class=\"dataframe\">\n",
       "  <thead>\n",
       "    <tr style=\"text-align: right;\">\n",
       "      <th></th>\n",
       "      <th>user_id</th>\n",
       "      <th>distance</th>\n",
       "      <th>duration</th>\n",
       "      <th>date</th>\n",
       "    </tr>\n",
       "  </thead>\n",
       "  <tbody>\n",
       "    <tr>\n",
       "      <th>0</th>\n",
       "      <td>1</td>\n",
       "      <td>4409.919140</td>\n",
       "      <td>25.599769</td>\n",
       "      <td>2021-01-01</td>\n",
       "    </tr>\n",
       "    <tr>\n",
       "      <th>1</th>\n",
       "      <td>1</td>\n",
       "      <td>2617.592153</td>\n",
       "      <td>15.816871</td>\n",
       "      <td>2021-01-18</td>\n",
       "    </tr>\n",
       "    <tr>\n",
       "      <th>2</th>\n",
       "      <td>1</td>\n",
       "      <td>754.159807</td>\n",
       "      <td>6.232113</td>\n",
       "      <td>2021-04-20</td>\n",
       "    </tr>\n",
       "    <tr>\n",
       "      <th>3</th>\n",
       "      <td>1</td>\n",
       "      <td>2694.783254</td>\n",
       "      <td>18.511000</td>\n",
       "      <td>2021-08-11</td>\n",
       "    </tr>\n",
       "    <tr>\n",
       "      <th>4</th>\n",
       "      <td>1</td>\n",
       "      <td>4028.687306</td>\n",
       "      <td>26.265803</td>\n",
       "      <td>2021-08-28</td>\n",
       "    </tr>\n",
       "  </tbody>\n",
       "</table>\n",
       "</div>"
      ],
      "text/plain": [
       "   user_id     distance   duration        date\n",
       "0        1  4409.919140  25.599769  2021-01-01\n",
       "1        1  2617.592153  15.816871  2021-01-18\n",
       "2        1   754.159807   6.232113  2021-04-20\n",
       "3        1  2694.783254  18.511000  2021-08-11\n",
       "4        1  4028.687306  26.265803  2021-08-28"
      ]
     },
     "metadata": {},
     "output_type": "display_data"
    },
    {
     "name": "stdout",
     "output_type": "stream",
     "text": [
      "<class 'pandas.core.frame.DataFrame'>\n",
      "RangeIndex: 18068 entries, 0 to 18067\n",
      "Data columns (total 4 columns):\n",
      " #   Column    Non-Null Count  Dtype  \n",
      "---  ------    --------------  -----  \n",
      " 0   user_id   18068 non-null  int64  \n",
      " 1   distance  18068 non-null  float64\n",
      " 2   duration  18068 non-null  float64\n",
      " 3   date      18068 non-null  object \n",
      "dtypes: float64(2), int64(1), object(1)\n",
      "memory usage: 564.8+ KB\n"
     ]
    },
    {
     "data": {
      "text/plain": [
       "None"
      ]
     },
     "metadata": {},
     "output_type": "display_data"
    },
    {
     "data": {
      "text/html": [
       "<div>\n",
       "<style scoped>\n",
       "    .dataframe tbody tr th:only-of-type {\n",
       "        vertical-align: middle;\n",
       "    }\n",
       "\n",
       "    .dataframe tbody tr th {\n",
       "        vertical-align: top;\n",
       "    }\n",
       "\n",
       "    .dataframe thead th {\n",
       "        text-align: right;\n",
       "    }\n",
       "</style>\n",
       "<table border=\"1\" class=\"dataframe\">\n",
       "  <thead>\n",
       "    <tr style=\"text-align: right;\">\n",
       "      <th></th>\n",
       "      <th>subscription_type</th>\n",
       "      <th>minute_price</th>\n",
       "      <th>start_ride_price</th>\n",
       "      <th>subscription_fee</th>\n",
       "    </tr>\n",
       "  </thead>\n",
       "  <tbody>\n",
       "    <tr>\n",
       "      <th>0</th>\n",
       "      <td>free</td>\n",
       "      <td>8</td>\n",
       "      <td>50</td>\n",
       "      <td>0</td>\n",
       "    </tr>\n",
       "    <tr>\n",
       "      <th>1</th>\n",
       "      <td>ultra</td>\n",
       "      <td>6</td>\n",
       "      <td>0</td>\n",
       "      <td>199</td>\n",
       "    </tr>\n",
       "  </tbody>\n",
       "</table>\n",
       "</div>"
      ],
      "text/plain": [
       "  subscription_type  minute_price  start_ride_price  subscription_fee\n",
       "0              free             8                50                 0\n",
       "1             ultra             6                 0               199"
      ]
     },
     "metadata": {},
     "output_type": "display_data"
    },
    {
     "name": "stdout",
     "output_type": "stream",
     "text": [
      "<class 'pandas.core.frame.DataFrame'>\n",
      "RangeIndex: 2 entries, 0 to 1\n",
      "Data columns (total 4 columns):\n",
      " #   Column             Non-Null Count  Dtype \n",
      "---  ------             --------------  ----- \n",
      " 0   subscription_type  2 non-null      object\n",
      " 1   minute_price       2 non-null      int64 \n",
      " 2   start_ride_price   2 non-null      int64 \n",
      " 3   subscription_fee   2 non-null      int64 \n",
      "dtypes: int64(3), object(1)\n",
      "memory usage: 192.0+ bytes\n"
     ]
    },
    {
     "data": {
      "text/plain": [
       "None"
      ]
     },
     "metadata": {},
     "output_type": "display_data"
    }
   ],
   "source": [
    "try:\n",
    "    us_df=pd.read_csv('/datasets/users_go.csv')\n",
    "    ri_df=pd.read_csv('/datasets/rides_go.csv')\n",
    "    su_df=pd.read_csv('/datasets/subscriptions_go.csv')\n",
    "except:\n",
    "    us_df=pd.read_csv('https://code.s3.yandex.net/datasets/users_go.csv')\n",
    "    ri_df=pd.read_csv('https://code.s3.yandex.net/datasets/rides_go.csv')\n",
    "    su_df=pd.read_csv('https://code.s3.yandex.net/datasets/subscriptions_go.csv')\n",
    "\n",
    "display(us_df.head())\n",
    "display(us_df.info())\n",
    "display(ri_df.head())\n",
    "display(ri_df.info())\n",
    "display(su_df.head())\n",
    "display(su_df.info())"
   ]
  },
  {
   "cell_type": "markdown",
   "id": "b84a6d7d",
   "metadata": {},
   "source": [
    "Вывод: Из набора данных us_df видно, что всего есть 1565 пользователей, которые за время наблюдения совершили 18068 поездок (ri_df).В данных su_df указаны данные о параметрах подписки. \n",
    "\n",
    "Неверно указан тип данных ri_df в столбце date."
   ]
  },
  {
   "cell_type": "markdown",
   "id": "ddce4b90",
   "metadata": {},
   "source": [
    "#### Шаг 2. Предобработка данных\n",
    "##### Приведем столбец date к типу даты pandas."
   ]
  },
  {
   "cell_type": "code",
   "execution_count": 3,
   "id": "64b995ca",
   "metadata": {},
   "outputs": [
    {
     "data": {
      "text/html": [
       "<div>\n",
       "<style scoped>\n",
       "    .dataframe tbody tr th:only-of-type {\n",
       "        vertical-align: middle;\n",
       "    }\n",
       "\n",
       "    .dataframe tbody tr th {\n",
       "        vertical-align: top;\n",
       "    }\n",
       "\n",
       "    .dataframe thead th {\n",
       "        text-align: right;\n",
       "    }\n",
       "</style>\n",
       "<table border=\"1\" class=\"dataframe\">\n",
       "  <thead>\n",
       "    <tr style=\"text-align: right;\">\n",
       "      <th></th>\n",
       "      <th>user_id</th>\n",
       "      <th>distance</th>\n",
       "      <th>duration</th>\n",
       "      <th>date</th>\n",
       "    </tr>\n",
       "  </thead>\n",
       "  <tbody>\n",
       "    <tr>\n",
       "      <th>0</th>\n",
       "      <td>1</td>\n",
       "      <td>4409.919140</td>\n",
       "      <td>25.599769</td>\n",
       "      <td>2021-01-01</td>\n",
       "    </tr>\n",
       "    <tr>\n",
       "      <th>1</th>\n",
       "      <td>1</td>\n",
       "      <td>2617.592153</td>\n",
       "      <td>15.816871</td>\n",
       "      <td>2021-01-18</td>\n",
       "    </tr>\n",
       "    <tr>\n",
       "      <th>2</th>\n",
       "      <td>1</td>\n",
       "      <td>754.159807</td>\n",
       "      <td>6.232113</td>\n",
       "      <td>2021-04-20</td>\n",
       "    </tr>\n",
       "    <tr>\n",
       "      <th>3</th>\n",
       "      <td>1</td>\n",
       "      <td>2694.783254</td>\n",
       "      <td>18.511000</td>\n",
       "      <td>2021-08-11</td>\n",
       "    </tr>\n",
       "    <tr>\n",
       "      <th>4</th>\n",
       "      <td>1</td>\n",
       "      <td>4028.687306</td>\n",
       "      <td>26.265803</td>\n",
       "      <td>2021-08-28</td>\n",
       "    </tr>\n",
       "  </tbody>\n",
       "</table>\n",
       "</div>"
      ],
      "text/plain": [
       "   user_id     distance   duration       date\n",
       "0        1  4409.919140  25.599769 2021-01-01\n",
       "1        1  2617.592153  15.816871 2021-01-18\n",
       "2        1   754.159807   6.232113 2021-04-20\n",
       "3        1  2694.783254  18.511000 2021-08-11\n",
       "4        1  4028.687306  26.265803 2021-08-28"
      ]
     },
     "execution_count": 3,
     "metadata": {},
     "output_type": "execute_result"
    }
   ],
   "source": [
    "ri_df['date']=pd.to_datetime(ri_df['date'])\n",
    "ri_df.head()"
   ]
  },
  {
   "cell_type": "markdown",
   "id": "8c0acdab",
   "metadata": {},
   "source": [
    "##### Создаем новый столбец с номером месяца на основе столбца date."
   ]
  },
  {
   "cell_type": "code",
   "execution_count": 4,
   "id": "917f1e34",
   "metadata": {},
   "outputs": [
    {
     "data": {
      "text/html": [
       "<div>\n",
       "<style scoped>\n",
       "    .dataframe tbody tr th:only-of-type {\n",
       "        vertical-align: middle;\n",
       "    }\n",
       "\n",
       "    .dataframe tbody tr th {\n",
       "        vertical-align: top;\n",
       "    }\n",
       "\n",
       "    .dataframe thead th {\n",
       "        text-align: right;\n",
       "    }\n",
       "</style>\n",
       "<table border=\"1\" class=\"dataframe\">\n",
       "  <thead>\n",
       "    <tr style=\"text-align: right;\">\n",
       "      <th></th>\n",
       "      <th>user_id</th>\n",
       "      <th>distance</th>\n",
       "      <th>duration</th>\n",
       "      <th>date</th>\n",
       "      <th>date_month</th>\n",
       "    </tr>\n",
       "  </thead>\n",
       "  <tbody>\n",
       "    <tr>\n",
       "      <th>0</th>\n",
       "      <td>1</td>\n",
       "      <td>4409.919140</td>\n",
       "      <td>25.599769</td>\n",
       "      <td>2021-01-01</td>\n",
       "      <td>2021-01-01</td>\n",
       "    </tr>\n",
       "    <tr>\n",
       "      <th>1</th>\n",
       "      <td>1</td>\n",
       "      <td>2617.592153</td>\n",
       "      <td>15.816871</td>\n",
       "      <td>2021-01-18</td>\n",
       "      <td>2021-01-01</td>\n",
       "    </tr>\n",
       "    <tr>\n",
       "      <th>2</th>\n",
       "      <td>1</td>\n",
       "      <td>754.159807</td>\n",
       "      <td>6.232113</td>\n",
       "      <td>2021-04-20</td>\n",
       "      <td>2021-04-01</td>\n",
       "    </tr>\n",
       "    <tr>\n",
       "      <th>3</th>\n",
       "      <td>1</td>\n",
       "      <td>2694.783254</td>\n",
       "      <td>18.511000</td>\n",
       "      <td>2021-08-11</td>\n",
       "      <td>2021-08-01</td>\n",
       "    </tr>\n",
       "    <tr>\n",
       "      <th>4</th>\n",
       "      <td>1</td>\n",
       "      <td>4028.687306</td>\n",
       "      <td>26.265803</td>\n",
       "      <td>2021-08-28</td>\n",
       "      <td>2021-08-01</td>\n",
       "    </tr>\n",
       "  </tbody>\n",
       "</table>\n",
       "</div>"
      ],
      "text/plain": [
       "   user_id     distance   duration       date date_month\n",
       "0        1  4409.919140  25.599769 2021-01-01 2021-01-01\n",
       "1        1  2617.592153  15.816871 2021-01-18 2021-01-01\n",
       "2        1   754.159807   6.232113 2021-04-20 2021-04-01\n",
       "3        1  2694.783254  18.511000 2021-08-11 2021-08-01\n",
       "4        1  4028.687306  26.265803 2021-08-28 2021-08-01"
      ]
     },
     "execution_count": 4,
     "metadata": {},
     "output_type": "execute_result"
    }
   ],
   "source": [
    "ri_df['date_month']=ri_df.date.astype('datetime64[M]')\n",
    "ri_df.head()\n"
   ]
  },
  {
   "cell_type": "markdown",
   "id": "88226b47",
   "metadata": {},
   "source": [
    "##### Проверим наличие пропущенных значений и дубликатов в датафреймах."
   ]
  },
  {
   "cell_type": "code",
   "execution_count": 5,
   "id": "00ddd35e",
   "metadata": {},
   "outputs": [
    {
     "data": {
      "text/plain": [
       "31"
      ]
     },
     "metadata": {},
     "output_type": "display_data"
    },
    {
     "data": {
      "text/plain": [
       "0"
      ]
     },
     "metadata": {},
     "output_type": "display_data"
    },
    {
     "data": {
      "text/plain": [
       "0"
      ]
     },
     "metadata": {},
     "output_type": "display_data"
    },
    {
     "data": {
      "text/html": [
       "<div>\n",
       "<style scoped>\n",
       "    .dataframe tbody tr th:only-of-type {\n",
       "        vertical-align: middle;\n",
       "    }\n",
       "\n",
       "    .dataframe tbody tr th {\n",
       "        vertical-align: top;\n",
       "    }\n",
       "\n",
       "    .dataframe thead th {\n",
       "        text-align: right;\n",
       "    }\n",
       "</style>\n",
       "<table border=\"1\" class=\"dataframe\">\n",
       "  <thead>\n",
       "    <tr style=\"text-align: right;\">\n",
       "      <th></th>\n",
       "      <th>user_id</th>\n",
       "      <th>name</th>\n",
       "      <th>age</th>\n",
       "      <th>city</th>\n",
       "      <th>subscription_type</th>\n",
       "    </tr>\n",
       "  </thead>\n",
       "  <tbody>\n",
       "    <tr>\n",
       "      <th>1534</th>\n",
       "      <td>293</td>\n",
       "      <td>Агата</td>\n",
       "      <td>26</td>\n",
       "      <td>Краснодар</td>\n",
       "      <td>ultra</td>\n",
       "    </tr>\n",
       "    <tr>\n",
       "      <th>1535</th>\n",
       "      <td>16</td>\n",
       "      <td>Амалия</td>\n",
       "      <td>27</td>\n",
       "      <td>Краснодар</td>\n",
       "      <td>ultra</td>\n",
       "    </tr>\n",
       "    <tr>\n",
       "      <th>1536</th>\n",
       "      <td>909</td>\n",
       "      <td>Константин</td>\n",
       "      <td>20</td>\n",
       "      <td>Екатеринбург</td>\n",
       "      <td>free</td>\n",
       "    </tr>\n",
       "    <tr>\n",
       "      <th>1537</th>\n",
       "      <td>403</td>\n",
       "      <td>Полина</td>\n",
       "      <td>19</td>\n",
       "      <td>Сочи</td>\n",
       "      <td>ultra</td>\n",
       "    </tr>\n",
       "    <tr>\n",
       "      <th>1538</th>\n",
       "      <td>908</td>\n",
       "      <td>Рустам</td>\n",
       "      <td>30</td>\n",
       "      <td>Тюмень</td>\n",
       "      <td>free</td>\n",
       "    </tr>\n",
       "    <tr>\n",
       "      <th>1539</th>\n",
       "      <td>43</td>\n",
       "      <td>Стефания</td>\n",
       "      <td>22</td>\n",
       "      <td>Омск</td>\n",
       "      <td>ultra</td>\n",
       "    </tr>\n",
       "    <tr>\n",
       "      <th>1540</th>\n",
       "      <td>127</td>\n",
       "      <td>Павел</td>\n",
       "      <td>25</td>\n",
       "      <td>Пятигорск</td>\n",
       "      <td>ultra</td>\n",
       "    </tr>\n",
       "    <tr>\n",
       "      <th>1541</th>\n",
       "      <td>659</td>\n",
       "      <td>Злата</td>\n",
       "      <td>27</td>\n",
       "      <td>Ростов-на-Дону</td>\n",
       "      <td>ultra</td>\n",
       "    </tr>\n",
       "    <tr>\n",
       "      <th>1542</th>\n",
       "      <td>204</td>\n",
       "      <td>Руслан</td>\n",
       "      <td>30</td>\n",
       "      <td>Пятигорск</td>\n",
       "      <td>ultra</td>\n",
       "    </tr>\n",
       "    <tr>\n",
       "      <th>1543</th>\n",
       "      <td>153</td>\n",
       "      <td>Герман</td>\n",
       "      <td>23</td>\n",
       "      <td>Москва</td>\n",
       "      <td>ultra</td>\n",
       "    </tr>\n",
       "    <tr>\n",
       "      <th>1544</th>\n",
       "      <td>1245</td>\n",
       "      <td>Регина</td>\n",
       "      <td>27</td>\n",
       "      <td>Пятигорск</td>\n",
       "      <td>free</td>\n",
       "    </tr>\n",
       "    <tr>\n",
       "      <th>1545</th>\n",
       "      <td>807</td>\n",
       "      <td>Александр</td>\n",
       "      <td>28</td>\n",
       "      <td>Екатеринбург</td>\n",
       "      <td>free</td>\n",
       "    </tr>\n",
       "    <tr>\n",
       "      <th>1546</th>\n",
       "      <td>924</td>\n",
       "      <td>Мария</td>\n",
       "      <td>23</td>\n",
       "      <td>Пятигорск</td>\n",
       "      <td>free</td>\n",
       "    </tr>\n",
       "    <tr>\n",
       "      <th>1547</th>\n",
       "      <td>635</td>\n",
       "      <td>Герман</td>\n",
       "      <td>21</td>\n",
       "      <td>Москва</td>\n",
       "      <td>ultra</td>\n",
       "    </tr>\n",
       "    <tr>\n",
       "      <th>1548</th>\n",
       "      <td>136</td>\n",
       "      <td>Марсель</td>\n",
       "      <td>25</td>\n",
       "      <td>Тюмень</td>\n",
       "      <td>ultra</td>\n",
       "    </tr>\n",
       "    <tr>\n",
       "      <th>1549</th>\n",
       "      <td>108</td>\n",
       "      <td>Влада</td>\n",
       "      <td>29</td>\n",
       "      <td>Тюмень</td>\n",
       "      <td>ultra</td>\n",
       "    </tr>\n",
       "    <tr>\n",
       "      <th>1550</th>\n",
       "      <td>737</td>\n",
       "      <td>Мелания</td>\n",
       "      <td>27</td>\n",
       "      <td>Ростов-на-Дону</td>\n",
       "      <td>free</td>\n",
       "    </tr>\n",
       "    <tr>\n",
       "      <th>1551</th>\n",
       "      <td>666</td>\n",
       "      <td>Зарина</td>\n",
       "      <td>29</td>\n",
       "      <td>Москва</td>\n",
       "      <td>ultra</td>\n",
       "    </tr>\n",
       "    <tr>\n",
       "      <th>1552</th>\n",
       "      <td>297</td>\n",
       "      <td>Егор</td>\n",
       "      <td>33</td>\n",
       "      <td>Пятигорск</td>\n",
       "      <td>ultra</td>\n",
       "    </tr>\n",
       "    <tr>\n",
       "      <th>1553</th>\n",
       "      <td>121</td>\n",
       "      <td>Алина</td>\n",
       "      <td>25</td>\n",
       "      <td>Пятигорск</td>\n",
       "      <td>ultra</td>\n",
       "    </tr>\n",
       "    <tr>\n",
       "      <th>1554</th>\n",
       "      <td>1198</td>\n",
       "      <td>Демид</td>\n",
       "      <td>29</td>\n",
       "      <td>Ростов-на-Дону</td>\n",
       "      <td>free</td>\n",
       "    </tr>\n",
       "    <tr>\n",
       "      <th>1555</th>\n",
       "      <td>72</td>\n",
       "      <td>Никита</td>\n",
       "      <td>25</td>\n",
       "      <td>Москва</td>\n",
       "      <td>ultra</td>\n",
       "    </tr>\n",
       "    <tr>\n",
       "      <th>1556</th>\n",
       "      <td>422</td>\n",
       "      <td>Кирилл</td>\n",
       "      <td>27</td>\n",
       "      <td>Сочи</td>\n",
       "      <td>ultra</td>\n",
       "    </tr>\n",
       "    <tr>\n",
       "      <th>1557</th>\n",
       "      <td>611</td>\n",
       "      <td>Владимир</td>\n",
       "      <td>28</td>\n",
       "      <td>Омск</td>\n",
       "      <td>ultra</td>\n",
       "    </tr>\n",
       "    <tr>\n",
       "      <th>1558</th>\n",
       "      <td>1237</td>\n",
       "      <td>Евгения</td>\n",
       "      <td>23</td>\n",
       "      <td>Тюмень</td>\n",
       "      <td>free</td>\n",
       "    </tr>\n",
       "    <tr>\n",
       "      <th>1559</th>\n",
       "      <td>209</td>\n",
       "      <td>Андрей</td>\n",
       "      <td>23</td>\n",
       "      <td>Омск</td>\n",
       "      <td>ultra</td>\n",
       "    </tr>\n",
       "    <tr>\n",
       "      <th>1560</th>\n",
       "      <td>829</td>\n",
       "      <td>Федор</td>\n",
       "      <td>29</td>\n",
       "      <td>Пятигорск</td>\n",
       "      <td>free</td>\n",
       "    </tr>\n",
       "    <tr>\n",
       "      <th>1561</th>\n",
       "      <td>809</td>\n",
       "      <td>Юрий</td>\n",
       "      <td>26</td>\n",
       "      <td>Сочи</td>\n",
       "      <td>free</td>\n",
       "    </tr>\n",
       "    <tr>\n",
       "      <th>1562</th>\n",
       "      <td>307</td>\n",
       "      <td>Ясмина</td>\n",
       "      <td>19</td>\n",
       "      <td>Краснодар</td>\n",
       "      <td>ultra</td>\n",
       "    </tr>\n",
       "    <tr>\n",
       "      <th>1563</th>\n",
       "      <td>47</td>\n",
       "      <td>Юрий</td>\n",
       "      <td>28</td>\n",
       "      <td>Тюмень</td>\n",
       "      <td>ultra</td>\n",
       "    </tr>\n",
       "    <tr>\n",
       "      <th>1564</th>\n",
       "      <td>1045</td>\n",
       "      <td>Артемий</td>\n",
       "      <td>28</td>\n",
       "      <td>Ростов-на-Дону</td>\n",
       "      <td>free</td>\n",
       "    </tr>\n",
       "  </tbody>\n",
       "</table>\n",
       "</div>"
      ],
      "text/plain": [
       "      user_id        name  age            city subscription_type\n",
       "1534      293       Агата   26       Краснодар             ultra\n",
       "1535       16      Амалия   27       Краснодар             ultra\n",
       "1536      909  Константин   20    Екатеринбург              free\n",
       "1537      403      Полина   19            Сочи             ultra\n",
       "1538      908      Рустам   30          Тюмень              free\n",
       "1539       43    Стефания   22            Омск             ultra\n",
       "1540      127       Павел   25       Пятигорск             ultra\n",
       "1541      659       Злата   27  Ростов-на-Дону             ultra\n",
       "1542      204      Руслан   30       Пятигорск             ultra\n",
       "1543      153      Герман   23          Москва             ultra\n",
       "1544     1245      Регина   27       Пятигорск              free\n",
       "1545      807   Александр   28    Екатеринбург              free\n",
       "1546      924       Мария   23       Пятигорск              free\n",
       "1547      635      Герман   21          Москва             ultra\n",
       "1548      136     Марсель   25          Тюмень             ultra\n",
       "1549      108       Влада   29          Тюмень             ultra\n",
       "1550      737     Мелания   27  Ростов-на-Дону              free\n",
       "1551      666      Зарина   29          Москва             ultra\n",
       "1552      297        Егор   33       Пятигорск             ultra\n",
       "1553      121       Алина   25       Пятигорск             ultra\n",
       "1554     1198       Демид   29  Ростов-на-Дону              free\n",
       "1555       72      Никита   25          Москва             ultra\n",
       "1556      422      Кирилл   27            Сочи             ultra\n",
       "1557      611    Владимир   28            Омск             ultra\n",
       "1558     1237     Евгения   23          Тюмень              free\n",
       "1559      209      Андрей   23            Омск             ultra\n",
       "1560      829       Федор   29       Пятигорск              free\n",
       "1561      809        Юрий   26            Сочи              free\n",
       "1562      307      Ясмина   19       Краснодар             ultra\n",
       "1563       47        Юрий   28          Тюмень             ultra\n",
       "1564     1045     Артемий   28  Ростов-на-Дону              free"
      ]
     },
     "metadata": {},
     "output_type": "display_data"
    },
    {
     "data": {
      "text/plain": [
       "0"
      ]
     },
     "metadata": {},
     "output_type": "display_data"
    }
   ],
   "source": [
    "display(us_df.duplicated().sum())#31 явных дубликатов\n",
    "display(ri_df.duplicated().sum())\n",
    "display(su_df.duplicated().sum())\n",
    "\n",
    "display(us_df[us_df.duplicated(['user_id'])])\n",
    "us_df=us_df.drop_duplicates().reset_index(drop=True)\n",
    "display(us_df.duplicated().sum())\n"
   ]
  },
  {
   "cell_type": "markdown",
   "id": "baa97f74",
   "metadata": {},
   "source": [
    "Вывод: На этапе предобработки были удалены 31 явных дубликата из датафрейма ri_df которые составляли 2% от всех данных. Столбец date, был приведен к формату datetime, а информация о месяцах была вынесена в отдельный столбец."
   ]
  },
  {
   "cell_type": "markdown",
   "id": "de18063c",
   "metadata": {},
   "source": [
    "#### Шаг 3. Исследовательский анализ данных\n",
    "Опишите и визуализируйте общую информацию о пользователях и поездках\n",
    "##### Частота встречаемости городов"
   ]
  },
  {
   "cell_type": "code",
   "execution_count": 6,
   "id": "d8c79ab6",
   "metadata": {},
   "outputs": [
    {
     "data": {
      "image/png": "[encoded data removed]",
      "text/plain": [
       "<Figure size 864x360 with 1 Axes>"
      ]
     },
     "metadata": {
      "needs_background": "light"
     },
     "output_type": "display_data"
    }
   ],
   "source": [
    "# Строим столбчатую диаграмму распределения пользователей по городам\n",
    "us_df['city'].value_counts(ascending=False).plot(kind='bar',\n",
    "                                                 title='Доля пользователей по городам',\n",
    "                                                 figsize=(12, 5),rot=0);"
   ]
  },
  {
   "cell_type": "markdown",
   "id": "422aabc4",
   "metadata": {},
   "source": [
    "##### Соотношение пользователей с подпиской и без подписки"
   ]
  },
  {
   "cell_type": "code",
   "execution_count": 7,
   "id": "5e1b01f0",
   "metadata": {},
   "outputs": [
    {
     "data": {
      "image/png": "[encoded data removed]",
      "text/plain": [
       "<Figure size 432x432 with 1 Axes>"
      ]
     },
     "metadata": {},
     "output_type": "display_data"
    }
   ],
   "source": [
    "ax = us_df['subscription_type'].value_counts().plot(kind='pie',\n",
    "                                                    title='Пользователи по типам подписок',\n",
    "                                                    legend=True,#отобразить легенду\n",
    "                                                    textprops={'fontsize': 14},#размер подписей\n",
    "                                                    figsize=(6, 6),\n",
    "                                                    autopct='%1.2f%%')\n",
    "ax.yaxis.set_visible(False)\n"
   ]
  },
  {
   "cell_type": "markdown",
   "id": "918f61d2",
   "metadata": {},
   "source": [
    "Из полученных данным мы видим, что процент пользователей с подпиской 45.57%. Пользователей же без подписки составляют 54.43% от всех пользователей."
   ]
  },
  {
   "cell_type": "markdown",
   "id": "4afaf910",
   "metadata": {},
   "source": [
    "##### Возраст пользователей"
   ]
  },
  {
   "cell_type": "code",
   "execution_count": 8,
   "id": "3b144a05",
   "metadata": {},
   "outputs": [
    {
     "data": {
      "image/png": "[encoded data removed]",
      "text/plain": [
       "<Figure size 720x360 with 1 Axes>"
      ]
     },
     "metadata": {
      "needs_background": "light"
     },
     "output_type": "display_data"
    }
   ],
   "source": [
    "us_df.groupby(['age']).agg({'age':'count'}).plot.bar(y = 'age', grid=True, figsize = (10,5))\n",
    "plt.xlabel('Возраст пользователя')\n",
    "plt.ylabel('Колличество пользователей');"
   ]
  },
  {
   "cell_type": "markdown",
   "id": "bc117d80",
   "metadata": {},
   "source": [
    "Вывод:Распределение пользователей по городам равномерное.Самое наибольшее количество пользователей в Пятигорске.\n",
    "Бесплатным тарифом пользуется большая часть пользователей(54%)\n",
    "Основные клиенты сервиса люди от 20 до 30 лет"
   ]
  },
  {
   "cell_type": "markdown",
   "id": "02d1eb8a",
   "metadata": {},
   "source": [
    "##### Расстояние, которое пользователь преодолел за одну поездку"
   ]
  },
  {
   "cell_type": "code",
   "execution_count": 9,
   "id": "9840695c",
   "metadata": {},
   "outputs": [
    {
     "data": {
      "image/png": "[encoded data removed]",
      "text/plain": [
       "<Figure size 720x360 with 1 Axes>"
      ]
     },
     "metadata": {
      "needs_background": "light"
     },
     "output_type": "display_data"
    }
   ],
   "source": [
    "ri_df['distance'].hist(bins=100, grid=True, figsize = (10,5));\n",
    "plt.xlabel('Расстояние за одну поездку');\n",
    "plt.ylabel('Колличество поездок');"
   ]
  },
  {
   "cell_type": "code",
   "execution_count": 10,
   "id": "3c234c28",
   "metadata": {},
   "outputs": [
    {
     "data": {
      "image/png": "[encoded data removed]",
      "text/plain": [
       "<Figure size 1080x432 with 2 Axes>"
      ]
     },
     "metadata": {
      "needs_background": "light"
     },
     "output_type": "display_data"
    }
   ],
   "source": [
    "#возвращает фигуру с двумя подграфиком\n",
    "fig, axes = plt.subplots(1,2,squeeze=False, figsize=(15, 6))\n",
    "ri_df['distance'].hist(bins=30, grid=True,  ax=axes[0][0],range=(0,1400));\n",
    "axes[0][0].set_xlabel('Расстояние за одну поездку');\n",
    "axes[0][0].set_ylabel('Колличество поездок');\n",
    "ri_df['distance'].hist(bins=70, grid=True, ax=axes[0][1],range=(1400,6000));\n",
    "axes[0][1].set_xlabel('Расстояние за одну поездку');\n",
    "axes[0][1].set_ylabel('Колличество поездок');"
   ]
  },
  {
   "cell_type": "markdown",
   "id": "b799f392",
   "metadata": {},
   "source": [
    "На графике заметны два пика, один для сверхкоротких поездок 800 м, и второй для поездок в 3000 м."
   ]
  },
  {
   "cell_type": "markdown",
   "id": "1fb5752e",
   "metadata": {},
   "source": [
    "##### Продолжительность поездок"
   ]
  },
  {
   "cell_type": "code",
   "execution_count": 11,
   "id": "2e90d769",
   "metadata": {},
   "outputs": [
    {
     "data": {
      "text/plain": [
       "Text(0, 0.5, 'Колличество поездок')"
      ]
     },
     "execution_count": 11,
     "metadata": {},
     "output_type": "execute_result"
    },
    {
     "data": {
      "image/png": "[encoded data removed]",
      "text/plain": [
       "<Figure size 720x360 with 1 Axes>"
      ]
     },
     "metadata": {
      "needs_background": "light"
     },
     "output_type": "display_data"
    }
   ],
   "source": [
    "ri_df['duration'].hist(bins=100, grid=True, figsize = (10,5))\n",
    "plt.xlabel('Время одной поездки')\n",
    "plt.ylabel('Колличество поездок')"
   ]
  },
  {
   "cell_type": "markdown",
   "id": "0be9090a",
   "metadata": {},
   "source": [
    "Среднее время пользования самокатом лежит в пределах 15-20 минут.Так же на графике видны поездки длящиеся не более одной минуты, от них нельзя избавляться так как на тарифе без подписки такие поездки могут приносить прибыль из за установленной цены старта. "
   ]
  },
  {
   "cell_type": "markdown",
   "id": "f40b18fa",
   "metadata": {},
   "source": [
    "На этапе исследовательского анализа было выявлено, что доля поездок пользователей распределена равномерно по восьми городам, больше всего она в Пятигорске, а меньше всего в Москве. Доля пользователей пользующихся подпиской составляет 46%   Основные клиенты сервиса люди от 20 до 30 лет. Пользователи совершают два типа поездок, короткие ~ 800м. и длительные ~3000 м."
   ]
  },
  {
   "cell_type": "markdown",
   "id": "f694df41",
   "metadata": {},
   "source": [
    "#### Шаг 4. Объединение данных\n",
    "Объединим данные о пользователях, поездках и подписках в один датафрейм. df\n",
    "##### Создадим ещё два датафрейма\n",
    "\n",
    "c данными о пользователях без подписки - df_free\n",
    "\n",
    "с данными о пользователях с подпиской - df_ultra"
   ]
  },
  {
   "cell_type": "code",
   "execution_count": 12,
   "id": "00317bd3",
   "metadata": {},
   "outputs": [
    {
     "data": {
      "text/html": [
       "<div>\n",
       "<style scoped>\n",
       "    .dataframe tbody tr th:only-of-type {\n",
       "        vertical-align: middle;\n",
       "    }\n",
       "\n",
       "    .dataframe tbody tr th {\n",
       "        vertical-align: top;\n",
       "    }\n",
       "\n",
       "    .dataframe thead th {\n",
       "        text-align: right;\n",
       "    }\n",
       "</style>\n",
       "<table border=\"1\" class=\"dataframe\">\n",
       "  <thead>\n",
       "    <tr style=\"text-align: right;\">\n",
       "      <th></th>\n",
       "      <th>user_id</th>\n",
       "      <th>name</th>\n",
       "      <th>age</th>\n",
       "      <th>city</th>\n",
       "      <th>subscription_type</th>\n",
       "      <th>distance</th>\n",
       "      <th>duration</th>\n",
       "      <th>date</th>\n",
       "      <th>date_month</th>\n",
       "      <th>minute_price</th>\n",
       "      <th>start_ride_price</th>\n",
       "      <th>subscription_fee</th>\n",
       "    </tr>\n",
       "  </thead>\n",
       "  <tbody>\n",
       "    <tr>\n",
       "      <th>0</th>\n",
       "      <td>1</td>\n",
       "      <td>Кира</td>\n",
       "      <td>22</td>\n",
       "      <td>Тюмень</td>\n",
       "      <td>ultra</td>\n",
       "      <td>4409.919140</td>\n",
       "      <td>25.599769</td>\n",
       "      <td>2021-01-01</td>\n",
       "      <td>2021-01-01</td>\n",
       "      <td>6</td>\n",
       "      <td>0</td>\n",
       "      <td>199</td>\n",
       "    </tr>\n",
       "    <tr>\n",
       "      <th>1</th>\n",
       "      <td>1</td>\n",
       "      <td>Кира</td>\n",
       "      <td>22</td>\n",
       "      <td>Тюмень</td>\n",
       "      <td>ultra</td>\n",
       "      <td>2617.592153</td>\n",
       "      <td>15.816871</td>\n",
       "      <td>2021-01-18</td>\n",
       "      <td>2021-01-01</td>\n",
       "      <td>6</td>\n",
       "      <td>0</td>\n",
       "      <td>199</td>\n",
       "    </tr>\n",
       "    <tr>\n",
       "      <th>2</th>\n",
       "      <td>1</td>\n",
       "      <td>Кира</td>\n",
       "      <td>22</td>\n",
       "      <td>Тюмень</td>\n",
       "      <td>ultra</td>\n",
       "      <td>754.159807</td>\n",
       "      <td>6.232113</td>\n",
       "      <td>2021-04-20</td>\n",
       "      <td>2021-04-01</td>\n",
       "      <td>6</td>\n",
       "      <td>0</td>\n",
       "      <td>199</td>\n",
       "    </tr>\n",
       "    <tr>\n",
       "      <th>3</th>\n",
       "      <td>1</td>\n",
       "      <td>Кира</td>\n",
       "      <td>22</td>\n",
       "      <td>Тюмень</td>\n",
       "      <td>ultra</td>\n",
       "      <td>2694.783254</td>\n",
       "      <td>18.511000</td>\n",
       "      <td>2021-08-11</td>\n",
       "      <td>2021-08-01</td>\n",
       "      <td>6</td>\n",
       "      <td>0</td>\n",
       "      <td>199</td>\n",
       "    </tr>\n",
       "    <tr>\n",
       "      <th>4</th>\n",
       "      <td>1</td>\n",
       "      <td>Кира</td>\n",
       "      <td>22</td>\n",
       "      <td>Тюмень</td>\n",
       "      <td>ultra</td>\n",
       "      <td>4028.687306</td>\n",
       "      <td>26.265803</td>\n",
       "      <td>2021-08-28</td>\n",
       "      <td>2021-08-01</td>\n",
       "      <td>6</td>\n",
       "      <td>0</td>\n",
       "      <td>199</td>\n",
       "    </tr>\n",
       "  </tbody>\n",
       "</table>\n",
       "</div>"
      ],
      "text/plain": [
       "   user_id  name  age    city subscription_type     distance   duration  \\\n",
       "0        1  Кира   22  Тюмень             ultra  4409.919140  25.599769   \n",
       "1        1  Кира   22  Тюмень             ultra  2617.592153  15.816871   \n",
       "2        1  Кира   22  Тюмень             ultra   754.159807   6.232113   \n",
       "3        1  Кира   22  Тюмень             ultra  2694.783254  18.511000   \n",
       "4        1  Кира   22  Тюмень             ultra  4028.687306  26.265803   \n",
       "\n",
       "        date date_month  minute_price  start_ride_price  subscription_fee  \n",
       "0 2021-01-01 2021-01-01             6                 0               199  \n",
       "1 2021-01-18 2021-01-01             6                 0               199  \n",
       "2 2021-04-20 2021-04-01             6                 0               199  \n",
       "3 2021-08-11 2021-08-01             6                 0               199  \n",
       "4 2021-08-28 2021-08-01             6                 0               199  "
      ]
     },
     "metadata": {},
     "output_type": "display_data"
    },
    {
     "name": "stdout",
     "output_type": "stream",
     "text": [
      "<class 'pandas.core.frame.DataFrame'>\n",
      "Int64Index: 18068 entries, 0 to 18067\n",
      "Data columns (total 12 columns):\n",
      " #   Column             Non-Null Count  Dtype         \n",
      "---  ------             --------------  -----         \n",
      " 0   user_id            18068 non-null  int64         \n",
      " 1   name               18068 non-null  object        \n",
      " 2   age                18068 non-null  int64         \n",
      " 3   city               18068 non-null  object        \n",
      " 4   subscription_type  18068 non-null  object        \n",
      " 5   distance           18068 non-null  float64       \n",
      " 6   duration           18068 non-null  float64       \n",
      " 7   date               18068 non-null  datetime64[ns]\n",
      " 8   date_month         18068 non-null  datetime64[ns]\n",
      " 9   minute_price       18068 non-null  int64         \n",
      " 10  start_ride_price   18068 non-null  int64         \n",
      " 11  subscription_fee   18068 non-null  int64         \n",
      "dtypes: datetime64[ns](2), float64(2), int64(5), object(3)\n",
      "memory usage: 1.8+ MB\n"
     ]
    }
   ],
   "source": [
    "df=us_df.merge(ri_df, how='outer').merge(su_df,how='outer')\n",
    "df_free=df.query('subscription_type==\"free\"')\n",
    "df_ultra=df.query('subscription_type==\"ultra\"')\n",
    "display(df.head())\n",
    "df.info()"
   ]
  },
  {
   "cell_type": "markdown",
   "id": "4be89ceb",
   "metadata": {},
   "source": [
    "Проверяем датафрейм на типы данных и наличие пропусков "
   ]
  },
  {
   "cell_type": "markdown",
   "id": "da753b99",
   "metadata": {},
   "source": [
    "#####  Визуализируем информацию о расстоянии и времени поездок для пользователей обеих категорий."
   ]
  },
  {
   "cell_type": "code",
   "execution_count": 13,
   "id": "e9548406",
   "metadata": {},
   "outputs": [
    {
     "data": {
      "text/plain": [
       "Text(0, 0.5, 'Колличество поездок')"
      ]
     },
     "execution_count": 13,
     "metadata": {},
     "output_type": "execute_result"
    },
    {
     "data": {
      "image/png": "[encoded data removed]",
      "text/plain": [
       "<Figure size 432x288 with 1 Axes>"
      ]
     },
     "metadata": {
      "needs_background": "light"
     },
     "output_type": "display_data"
    }
   ],
   "source": [
    "df_free['distance'].hist(bins=100)\n",
    "df_ultra['distance'].hist(bins=100)\n",
    "plt.xlabel('Расстояние поездки м.')\n",
    "plt.ylabel('Колличество поездок')"
   ]
  },
  {
   "cell_type": "markdown",
   "id": "e5cf0d4f",
   "metadata": {},
   "source": [
    "По графику можно сделать вывод о том что дисперсия расстояния для пользователей с подпиской ниже чем у пользователей без нее "
   ]
  },
  {
   "cell_type": "code",
   "execution_count": 14,
   "id": "92aaee96",
   "metadata": {
    "scrolled": false
   },
   "outputs": [
    {
     "data": {
      "text/plain": [
       "Text(0, 0.5, 'Колличество поездок')"
      ]
     },
     "execution_count": 14,
     "metadata": {},
     "output_type": "execute_result"
    },
    {
     "data": {
      "image/png": "[encoded data removed]",
      "text/plain": [
       "<Figure size 432x288 with 1 Axes>"
      ]
     },
     "metadata": {
      "needs_background": "light"
     },
     "output_type": "display_data"
    }
   ],
   "source": [
    "df_free['duration'].hist(bins=100)\n",
    "df_ultra['duration'].hist(bins=100)\n",
    "plt.xlabel('Продолжительность поездки мин.')\n",
    "plt.ylabel('Колличество поездок')"
   ]
  },
  {
   "cell_type": "markdown",
   "id": "5338f40e",
   "metadata": {},
   "source": [
    "Из графика отмечаем что именно пользователи бесплатной подписки завершают поездку меньше чем за минуту. \n",
    "На данном этапе были созданы датафреймы с объединенными данными для всех пользователей, и для пользователей в зависимости от типа их подписки, их мы используем на этапе тестирования."
   ]
  },
  {
   "cell_type": "markdown",
   "id": "9a6b6667",
   "metadata": {},
   "source": [
    "#### Шаг 5  Подсчёт выручки\n",
    "Создадим датафрейм с агрегированными данными о поездках на основе датафрейма с объединёнными данными из шага 4: найдем суммарное расстояние, количество поездок и суммарное время для каждого пользователя за каждый месяц."
   ]
  },
  {
   "cell_type": "code",
   "execution_count": 15,
   "id": "4084bdc4",
   "metadata": {},
   "outputs": [
    {
     "data": {
      "text/html": [
       "<div>\n",
       "<style scoped>\n",
       "    .dataframe tbody tr th:only-of-type {\n",
       "        vertical-align: middle;\n",
       "    }\n",
       "\n",
       "    .dataframe tbody tr th {\n",
       "        vertical-align: top;\n",
       "    }\n",
       "\n",
       "    .dataframe thead th {\n",
       "        text-align: right;\n",
       "    }\n",
       "</style>\n",
       "<table border=\"1\" class=\"dataframe\">\n",
       "  <thead>\n",
       "    <tr style=\"text-align: right;\">\n",
       "      <th></th>\n",
       "      <th></th>\n",
       "      <th>distance</th>\n",
       "      <th>duration</th>\n",
       "      <th>minute_price</th>\n",
       "      <th>count</th>\n",
       "      <th>start_ride_price</th>\n",
       "      <th>subscription_fee</th>\n",
       "      <th>subscription_type</th>\n",
       "    </tr>\n",
       "    <tr>\n",
       "      <th>user_id</th>\n",
       "      <th>date_month</th>\n",
       "      <th></th>\n",
       "      <th></th>\n",
       "      <th></th>\n",
       "      <th></th>\n",
       "      <th></th>\n",
       "      <th></th>\n",
       "      <th></th>\n",
       "    </tr>\n",
       "  </thead>\n",
       "  <tbody>\n",
       "    <tr>\n",
       "      <th rowspan=\"5\" valign=\"top\">1</th>\n",
       "      <th>2021-01-01</th>\n",
       "      <td>7027.511294</td>\n",
       "      <td>42.0</td>\n",
       "      <td>6</td>\n",
       "      <td>2</td>\n",
       "      <td>0</td>\n",
       "      <td>199</td>\n",
       "      <td>ultra</td>\n",
       "    </tr>\n",
       "    <tr>\n",
       "      <th>2021-04-01</th>\n",
       "      <td>754.159807</td>\n",
       "      <td>7.0</td>\n",
       "      <td>6</td>\n",
       "      <td>1</td>\n",
       "      <td>0</td>\n",
       "      <td>199</td>\n",
       "      <td>ultra</td>\n",
       "    </tr>\n",
       "    <tr>\n",
       "      <th>2021-08-01</th>\n",
       "      <td>6723.470560</td>\n",
       "      <td>46.0</td>\n",
       "      <td>6</td>\n",
       "      <td>2</td>\n",
       "      <td>0</td>\n",
       "      <td>199</td>\n",
       "      <td>ultra</td>\n",
       "    </tr>\n",
       "    <tr>\n",
       "      <th>2021-10-01</th>\n",
       "      <td>5809.911100</td>\n",
       "      <td>32.0</td>\n",
       "      <td>6</td>\n",
       "      <td>2</td>\n",
       "      <td>0</td>\n",
       "      <td>199</td>\n",
       "      <td>ultra</td>\n",
       "    </tr>\n",
       "    <tr>\n",
       "      <th>2021-11-01</th>\n",
       "      <td>7003.499363</td>\n",
       "      <td>56.0</td>\n",
       "      <td>6</td>\n",
       "      <td>3</td>\n",
       "      <td>0</td>\n",
       "      <td>199</td>\n",
       "      <td>ultra</td>\n",
       "    </tr>\n",
       "    <tr>\n",
       "      <th>...</th>\n",
       "      <th>...</th>\n",
       "      <td>...</td>\n",
       "      <td>...</td>\n",
       "      <td>...</td>\n",
       "      <td>...</td>\n",
       "      <td>...</td>\n",
       "      <td>...</td>\n",
       "      <td>...</td>\n",
       "    </tr>\n",
       "    <tr>\n",
       "      <th rowspan=\"5\" valign=\"top\">1534</th>\n",
       "      <th>2021-06-01</th>\n",
       "      <td>3409.468534</td>\n",
       "      <td>26.0</td>\n",
       "      <td>8</td>\n",
       "      <td>2</td>\n",
       "      <td>50</td>\n",
       "      <td>0</td>\n",
       "      <td>free</td>\n",
       "    </tr>\n",
       "    <tr>\n",
       "      <th>2021-08-01</th>\n",
       "      <td>7622.453034</td>\n",
       "      <td>48.0</td>\n",
       "      <td>8</td>\n",
       "      <td>2</td>\n",
       "      <td>50</td>\n",
       "      <td>0</td>\n",
       "      <td>free</td>\n",
       "    </tr>\n",
       "    <tr>\n",
       "      <th>2021-09-01</th>\n",
       "      <td>4928.173852</td>\n",
       "      <td>23.0</td>\n",
       "      <td>8</td>\n",
       "      <td>1</td>\n",
       "      <td>50</td>\n",
       "      <td>0</td>\n",
       "      <td>free</td>\n",
       "    </tr>\n",
       "    <tr>\n",
       "      <th>2021-11-01</th>\n",
       "      <td>13350.015305</td>\n",
       "      <td>78.0</td>\n",
       "      <td>8</td>\n",
       "      <td>4</td>\n",
       "      <td>50</td>\n",
       "      <td>0</td>\n",
       "      <td>free</td>\n",
       "    </tr>\n",
       "    <tr>\n",
       "      <th>2021-12-01</th>\n",
       "      <td>2371.711192</td>\n",
       "      <td>16.0</td>\n",
       "      <td>8</td>\n",
       "      <td>1</td>\n",
       "      <td>50</td>\n",
       "      <td>0</td>\n",
       "      <td>free</td>\n",
       "    </tr>\n",
       "  </tbody>\n",
       "</table>\n",
       "<p>11331 rows × 7 columns</p>\n",
       "</div>"
      ],
      "text/plain": [
       "                        distance  duration  minute_price  count  \\\n",
       "user_id date_month                                                \n",
       "1       2021-01-01   7027.511294      42.0             6      2   \n",
       "        2021-04-01    754.159807       7.0             6      1   \n",
       "        2021-08-01   6723.470560      46.0             6      2   \n",
       "        2021-10-01   5809.911100      32.0             6      2   \n",
       "        2021-11-01   7003.499363      56.0             6      3   \n",
       "...                          ...       ...           ...    ...   \n",
       "1534    2021-06-01   3409.468534      26.0             8      2   \n",
       "        2021-08-01   7622.453034      48.0             8      2   \n",
       "        2021-09-01   4928.173852      23.0             8      1   \n",
       "        2021-11-01  13350.015305      78.0             8      4   \n",
       "        2021-12-01   2371.711192      16.0             8      1   \n",
       "\n",
       "                    start_ride_price  subscription_fee subscription_type  \n",
       "user_id date_month                                                        \n",
       "1       2021-01-01                 0               199             ultra  \n",
       "        2021-04-01                 0               199             ultra  \n",
       "        2021-08-01                 0               199             ultra  \n",
       "        2021-10-01                 0               199             ultra  \n",
       "        2021-11-01                 0               199             ultra  \n",
       "...                              ...               ...               ...  \n",
       "1534    2021-06-01                50                 0              free  \n",
       "        2021-08-01                50                 0              free  \n",
       "        2021-09-01                50                 0              free  \n",
       "        2021-11-01                50                 0              free  \n",
       "        2021-12-01                50                 0              free  \n",
       "\n",
       "[11331 rows x 7 columns]"
      ]
     },
     "execution_count": 15,
     "metadata": {},
     "output_type": "execute_result"
    }
   ],
   "source": [
    "df['duration'] = np.ceil(df['duration'])#округляем время поездки\n",
    "df_1 = pd.pivot_table(df,\n",
    "                           index=['user_id','date_month'],\n",
    "                           values = ['distance', 'duration', 'name', 'subscription_type','subscription_fee','start_ride_price','minute_price'],\n",
    "                           aggfunc = {'distance': 'sum', \n",
    "                                      'duration' : 'sum', \n",
    "                                      'name' : 'count', \n",
    "                                      'subscription_type' : 'first',\n",
    "                                     'subscription_fee' : 'first',\n",
    "                                     'start_ride_price' : 'first',\n",
    "                                     'minute_price' : 'first'})\n",
    "df_1.rename(columns = {'name' : 'count'}, inplace = True)\n",
    "df_1"
   ]
  },
  {
   "cell_type": "code",
   "execution_count": 16,
   "id": "c44a0388",
   "metadata": {},
   "outputs": [
    {
     "data": {
      "text/html": [
       "<div>\n",
       "<style scoped>\n",
       "    .dataframe tbody tr th:only-of-type {\n",
       "        vertical-align: middle;\n",
       "    }\n",
       "\n",
       "    .dataframe tbody tr th {\n",
       "        vertical-align: top;\n",
       "    }\n",
       "\n",
       "    .dataframe thead th {\n",
       "        text-align: right;\n",
       "    }\n",
       "</style>\n",
       "<table border=\"1\" class=\"dataframe\">\n",
       "  <thead>\n",
       "    <tr style=\"text-align: right;\">\n",
       "      <th></th>\n",
       "      <th></th>\n",
       "      <th>distance</th>\n",
       "      <th>duration</th>\n",
       "      <th>minute_price</th>\n",
       "      <th>count</th>\n",
       "      <th>start_ride_price</th>\n",
       "      <th>subscription_fee</th>\n",
       "      <th>subscription_type</th>\n",
       "      <th>monthly_payment</th>\n",
       "    </tr>\n",
       "    <tr>\n",
       "      <th>user_id</th>\n",
       "      <th>date_month</th>\n",
       "      <th></th>\n",
       "      <th></th>\n",
       "      <th></th>\n",
       "      <th></th>\n",
       "      <th></th>\n",
       "      <th></th>\n",
       "      <th></th>\n",
       "      <th></th>\n",
       "    </tr>\n",
       "  </thead>\n",
       "  <tbody>\n",
       "    <tr>\n",
       "      <th rowspan=\"5\" valign=\"top\">1</th>\n",
       "      <th>2021-01-01</th>\n",
       "      <td>7027.511294</td>\n",
       "      <td>42.0</td>\n",
       "      <td>6</td>\n",
       "      <td>2</td>\n",
       "      <td>0</td>\n",
       "      <td>199</td>\n",
       "      <td>ultra</td>\n",
       "      <td>451.0</td>\n",
       "    </tr>\n",
       "    <tr>\n",
       "      <th>2021-04-01</th>\n",
       "      <td>754.159807</td>\n",
       "      <td>7.0</td>\n",
       "      <td>6</td>\n",
       "      <td>1</td>\n",
       "      <td>0</td>\n",
       "      <td>199</td>\n",
       "      <td>ultra</td>\n",
       "      <td>241.0</td>\n",
       "    </tr>\n",
       "    <tr>\n",
       "      <th>2021-08-01</th>\n",
       "      <td>6723.470560</td>\n",
       "      <td>46.0</td>\n",
       "      <td>6</td>\n",
       "      <td>2</td>\n",
       "      <td>0</td>\n",
       "      <td>199</td>\n",
       "      <td>ultra</td>\n",
       "      <td>475.0</td>\n",
       "    </tr>\n",
       "    <tr>\n",
       "      <th>2021-10-01</th>\n",
       "      <td>5809.911100</td>\n",
       "      <td>32.0</td>\n",
       "      <td>6</td>\n",
       "      <td>2</td>\n",
       "      <td>0</td>\n",
       "      <td>199</td>\n",
       "      <td>ultra</td>\n",
       "      <td>391.0</td>\n",
       "    </tr>\n",
       "    <tr>\n",
       "      <th>2021-11-01</th>\n",
       "      <td>7003.499363</td>\n",
       "      <td>56.0</td>\n",
       "      <td>6</td>\n",
       "      <td>3</td>\n",
       "      <td>0</td>\n",
       "      <td>199</td>\n",
       "      <td>ultra</td>\n",
       "      <td>535.0</td>\n",
       "    </tr>\n",
       "    <tr>\n",
       "      <th>...</th>\n",
       "      <th>...</th>\n",
       "      <td>...</td>\n",
       "      <td>...</td>\n",
       "      <td>...</td>\n",
       "      <td>...</td>\n",
       "      <td>...</td>\n",
       "      <td>...</td>\n",
       "      <td>...</td>\n",
       "      <td>...</td>\n",
       "    </tr>\n",
       "    <tr>\n",
       "      <th rowspan=\"5\" valign=\"top\">1534</th>\n",
       "      <th>2021-06-01</th>\n",
       "      <td>3409.468534</td>\n",
       "      <td>26.0</td>\n",
       "      <td>8</td>\n",
       "      <td>2</td>\n",
       "      <td>50</td>\n",
       "      <td>0</td>\n",
       "      <td>free</td>\n",
       "      <td>308.0</td>\n",
       "    </tr>\n",
       "    <tr>\n",
       "      <th>2021-08-01</th>\n",
       "      <td>7622.453034</td>\n",
       "      <td>48.0</td>\n",
       "      <td>8</td>\n",
       "      <td>2</td>\n",
       "      <td>50</td>\n",
       "      <td>0</td>\n",
       "      <td>free</td>\n",
       "      <td>484.0</td>\n",
       "    </tr>\n",
       "    <tr>\n",
       "      <th>2021-09-01</th>\n",
       "      <td>4928.173852</td>\n",
       "      <td>23.0</td>\n",
       "      <td>8</td>\n",
       "      <td>1</td>\n",
       "      <td>50</td>\n",
       "      <td>0</td>\n",
       "      <td>free</td>\n",
       "      <td>234.0</td>\n",
       "    </tr>\n",
       "    <tr>\n",
       "      <th>2021-11-01</th>\n",
       "      <td>13350.015305</td>\n",
       "      <td>78.0</td>\n",
       "      <td>8</td>\n",
       "      <td>4</td>\n",
       "      <td>50</td>\n",
       "      <td>0</td>\n",
       "      <td>free</td>\n",
       "      <td>824.0</td>\n",
       "    </tr>\n",
       "    <tr>\n",
       "      <th>2021-12-01</th>\n",
       "      <td>2371.711192</td>\n",
       "      <td>16.0</td>\n",
       "      <td>8</td>\n",
       "      <td>1</td>\n",
       "      <td>50</td>\n",
       "      <td>0</td>\n",
       "      <td>free</td>\n",
       "      <td>178.0</td>\n",
       "    </tr>\n",
       "  </tbody>\n",
       "</table>\n",
       "<p>11331 rows × 8 columns</p>\n",
       "</div>"
      ],
      "text/plain": [
       "                        distance  duration  minute_price  count  \\\n",
       "user_id date_month                                                \n",
       "1       2021-01-01   7027.511294      42.0             6      2   \n",
       "        2021-04-01    754.159807       7.0             6      1   \n",
       "        2021-08-01   6723.470560      46.0             6      2   \n",
       "        2021-10-01   5809.911100      32.0             6      2   \n",
       "        2021-11-01   7003.499363      56.0             6      3   \n",
       "...                          ...       ...           ...    ...   \n",
       "1534    2021-06-01   3409.468534      26.0             8      2   \n",
       "        2021-08-01   7622.453034      48.0             8      2   \n",
       "        2021-09-01   4928.173852      23.0             8      1   \n",
       "        2021-11-01  13350.015305      78.0             8      4   \n",
       "        2021-12-01   2371.711192      16.0             8      1   \n",
       "\n",
       "                    start_ride_price  subscription_fee subscription_type  \\\n",
       "user_id date_month                                                         \n",
       "1       2021-01-01                 0               199             ultra   \n",
       "        2021-04-01                 0               199             ultra   \n",
       "        2021-08-01                 0               199             ultra   \n",
       "        2021-10-01                 0               199             ultra   \n",
       "        2021-11-01                 0               199             ultra   \n",
       "...                              ...               ...               ...   \n",
       "1534    2021-06-01                50                 0              free   \n",
       "        2021-08-01                50                 0              free   \n",
       "        2021-09-01                50                 0              free   \n",
       "        2021-11-01                50                 0              free   \n",
       "        2021-12-01                50                 0              free   \n",
       "\n",
       "                    monthly_payment  \n",
       "user_id date_month                   \n",
       "1       2021-01-01            451.0  \n",
       "        2021-04-01            241.0  \n",
       "        2021-08-01            475.0  \n",
       "        2021-10-01            391.0  \n",
       "        2021-11-01            535.0  \n",
       "...                             ...  \n",
       "1534    2021-06-01            308.0  \n",
       "        2021-08-01            484.0  \n",
       "        2021-09-01            234.0  \n",
       "        2021-11-01            824.0  \n",
       "        2021-12-01            178.0  \n",
       "\n",
       "[11331 rows x 8 columns]"
      ]
     },
     "execution_count": 16,
     "metadata": {},
     "output_type": "execute_result"
    }
   ],
   "source": [
    "def revenue(row):#функция считает полную стоимость поездки в каждом месяце для каждого пользователя \n",
    "    if row['subscription_type'] == 'ultra':\n",
    "        return row['minute_price'] * row['duration'] + row['subscription_fee']\n",
    "    elif row['subscription_type'] == 'free':\n",
    "        return row['minute_price'] * row['duration'] + row['start_ride_price'] * row['count']\n",
    "    else:\n",
    "        return 'Not such sub'\n",
    "df_1['monthly_payment'] = df_1.apply(revenue, axis=1)#добавляем значения выполнения функции в новый столбец\n",
    "df_1"
   ]
  },
  {
   "cell_type": "markdown",
   "id": "22e5674b",
   "metadata": {},
   "source": [
    "#### Шаг 6. Проверка гипотез\n",
    "##### Важно понять, тратят ли пользователи с подпиской больше времени на поездки? Если да, то пользователи с подпиской могут быть «выгоднее» для компании. Проверим гипотезу. Используем исходные данные о продолжительности каждой сессии — отдельно для подписчиков и тех, у кого нет подписки.\n",
    "\n",
    "Проверим правостороннюю гипотезу о равенстве средних двух генеральных совокупностей - пользователи с подпиской тратят больше времени на поездки, чем пользователи на бесплатном тарифе.\n",
    "\n",
    "H0: Время пользователей на подписке ultra = время пользователей на подписке free\n",
    "\n",
    "H1: Время пользователей на подписке ultra > время пользователей на подписке free\n",
    "\n",
    "alpha = 0.05\n"
   ]
  },
  {
   "cell_type": "code",
   "execution_count": 17,
   "id": "00dff045",
   "metadata": {},
   "outputs": [],
   "source": [
    "p1=df_ultra['duration'].squeeze() \n",
    "p2=df_free['duration'].squeeze() "
   ]
  },
  {
   "cell_type": "code",
   "execution_count": 18,
   "id": "e19db3ed",
   "metadata": {},
   "outputs": [
    {
     "name": "stdout",
     "output_type": "stream",
     "text": [
      "5.6757813771289775e-37\n",
      "Отвергаем нулевую гипотезу\n"
     ]
    },
    {
     "data": {
      "text/plain": [
       "'Среднее для ultra'"
      ]
     },
     "metadata": {},
     "output_type": "display_data"
    },
    {
     "data": {
      "text/plain": [
       "18.54198516280583"
      ]
     },
     "metadata": {},
     "output_type": "display_data"
    },
    {
     "data": {
      "text/plain": [
       "'Среднее для free'"
      ]
     },
     "metadata": {},
     "output_type": "display_data"
    },
    {
     "data": {
      "text/plain": [
       "17.39090929866399"
      ]
     },
     "metadata": {},
     "output_type": "display_data"
    }
   ],
   "source": [
    "results = st.ttest_ind(p1,# Проверка гипотезы\n",
    "                       p2,\n",
    "                       equal_var=False, alternative='greater')\n",
    "print(results.pvalue)# Вычисляем p-value\n",
    "alpha = 0.05\n",
    "if results.pvalue < alpha:# Делаем сравнение p-value с параметром допуска и выводим результат сравнения\n",
    "    print('Отвергаем нулевую гипотезу')\n",
    "else:\n",
    "    print('Не удалось отвергнуть нулевую гипотезу')\n",
    "    \n",
    "    \n",
    "display('Среднее для ultra',df_ultra['duration'].mean())\n",
    "display('Среднее для free',df_free['duration'].mean())\n"
   ]
  },
  {
   "cell_type": "markdown",
   "id": "dcd23b72",
   "metadata": {},
   "source": [
    "После проведеного t-тестирования можем отвергнуть нулевую гипотезу, в пользу альтернативной время пользователей на подписке ultra больше времени пользователей на подписке free"
   ]
  },
  {
   "cell_type": "markdown",
   "id": "18f39968",
   "metadata": {},
   "source": [
    "##### Расстояние одной поездки в 3130 метров — оптимальное с точки зрения износа самоката. Можно ли сказать, что среднее расстояние, которое проезжают пользователи с подпиской за одну поездку, не превышает 3130 метров?\n",
    "\n",
    "Проверим левостороннюю гипотезу о равенстве среднего генеральной совокупности к числу\n",
    "\n",
    "H0: Расстояние, которое пользователи с подпиской проезжают за одну поездку меньше или равно 3130 метров\n",
    "\n",
    "H1: Расстояние, которое пользователи с подпиской проезжают за одну поездку более 3130 метров"
   ]
  },
  {
   "cell_type": "code",
   "execution_count": 19,
   "id": "5b0e1d08",
   "metadata": {},
   "outputs": [
    {
     "name": "stdout",
     "output_type": "stream",
     "text": [
      "p-значение: 0.9195368847849785\n",
      "Не отвергаем нулевую гипотезу\n"
     ]
    },
    {
     "data": {
      "text/plain": [
       "'Истинное среднее'"
      ]
     },
     "metadata": {},
     "output_type": "display_data"
    },
    {
     "data": {
      "text/plain": [
       "3115.4453880370247"
      ]
     },
     "metadata": {},
     "output_type": "display_data"
    }
   ],
   "source": [
    "interested_value = 3130\n",
    "results = st.ttest_1samp(df_ultra['distance'],# Проверка гипотезы\n",
    "                         interested_value,\n",
    "                         alternative='greater')\n",
    "print('p-значение:', results.pvalue)# Вычисляем p-value\n",
    "alpha = 0.05\n",
    "if results.pvalue < alpha: # Делаем сравнение p-value с параметром допуска и выводим результат сравнения\n",
    "    print('Отвергаем нулевую гипотезу')\n",
    "else:\n",
    "    print('Не отвергаем нулевую гипотезу')\n",
    "display('Истинное среднее',df_ultra['distance'].mean())"
   ]
  },
  {
   "cell_type": "markdown",
   "id": "51ba036f",
   "metadata": {},
   "source": [
    "Не можем отвергнуть нулевую гипотезу о том что пользователи с подпиской проезжают за одну поездку не более 3130 метров"
   ]
  },
  {
   "cell_type": "markdown",
   "id": "853b8278",
   "metadata": {},
   "source": [
    "##### Проверим гипотезу о том, будет ли помесячная выручка от пользователей с подпиской по месяцам выше, чем выручка от пользователей без подписки.\n",
    "\n",
    "Проверим правостороннюю гипотезу о равенстве средних двух генеральных совокупностей - пользователи с подпиской платят каждый месяц больше на поездки, чем пользователи на бесплатном тарифе.\n",
    "\n",
    "H0: Ежемесячная прибыль от пользователей с подпиской = чем от пользователей без подписки.\n",
    "\n",
    "H1: Ежемесячная прибыль от пользователей с подпиской больше, чем от пользователей без подписки."
   ]
  },
  {
   "cell_type": "code",
   "execution_count": 20,
   "id": "35840fce",
   "metadata": {},
   "outputs": [
    {
     "name": "stdout",
     "output_type": "stream",
     "text": [
      "p-значение: 8.874140893976874e-40\n",
      "Отвергаем нулевую гипотезу\n"
     ]
    },
    {
     "data": {
      "text/plain": [
       "'Среднее для ultra'"
      ]
     },
     "metadata": {},
     "output_type": "display_data"
    },
    {
     "data": {
      "text/plain": [
       "362.7921906022502"
      ]
     },
     "metadata": {},
     "output_type": "display_data"
    },
    {
     "data": {
      "text/plain": [
       "'Среднее для free'"
      ]
     },
     "metadata": {},
     "output_type": "display_data"
    },
    {
     "data": {
      "text/plain": [
       "328.6413651073845"
      ]
     },
     "metadata": {},
     "output_type": "display_data"
    }
   ],
   "source": [
    "# Проверка гипотезы\n",
    "results = st.ttest_ind(df_1.query('subscription_type == \"ultra\"')['monthly_payment'], \n",
    "                       df_1.query('subscription_type == \"free\"')['monthly_payment'],\n",
    "                       equal_var=False,\n",
    "                       alternative='greater') \n",
    "\n",
    "# Вычисляем p-value\n",
    "print('p-значение:', results.pvalue)\n",
    "\n",
    "# Делаем сравнение p-value с параметром допуска и выводим результат сравнения\n",
    "alpha = 0.05\n",
    "if results.pvalue < alpha: \n",
    "    print('Отвергаем нулевую гипотезу')\n",
    "else:\n",
    "    print('Не отвергаем нулевую гипотезу')\n",
    "#print(np.var(df_1.query('subscription_type == \"ultra\"')['monthly_payment']), np.var(df_1.query('subscription_type == \"free\"')['monthly_payment']))\n",
    "display('Среднее для ultra',df_1.query('subscription_type == \"ultra\"')['monthly_payment'].mean())\n",
    "display('Среднее для free',df_1.query('subscription_type == \"free\"')['monthly_payment'].mean())"
   ]
  },
  {
   "cell_type": "markdown",
   "id": "d3d03149",
   "metadata": {},
   "source": [
    "Не можем отвергнуть нулевую гипотезу.Ежемесячная прибыль от пользователей с подпиской не меньше чем от пользователей без подписки."
   ]
  },
  {
   "cell_type": "markdown",
   "id": "81e990d0",
   "metadata": {},
   "source": [
    "#### Вывод\n",
    "Для работы были использованы три датафрейма сервиса проката самокатов, с пользователями, информацией о поездках, информацией о подписках. из которым выяснили, что колличество пользователей равно 1565, который совершили 18068 поездок.\n",
    "\n",
    "* Была проведена работа по предварительной обработке данных: \n",
    "\n",
    "    * Не было обнаружено пропусков в данных. Поменяли тип данных у столбца date из датафрейма ri_df к типу даты. Также добавили столбец date_month с номером месяца. И удалили 31 дубликат строк из датафрейма с пользователями, что составляет 2% от всех данных\n",
    "\n",
    "* Проведён анализ данных\n",
    "\n",
    "    * Частоты встречаимости городов. Из которого выявили, что больше всего пользуются сервисом в г. Пятигорск 14%, меньше всего из 8 городов пользуются в г.Москва - 11 % от общего числа пользователей.\n",
    "\n",
    "    * Соотношение пользователей с подпиской и без. Пользователей, использующих бесплатную подписку больше - 835 человек, что является ~54% от общего числа пользователей. На платной подписке сидит 699 пользователей, что соответственно является ~46%.\n",
    "\n",
    "    * Расстояния, которое пользователь преодолел за одну поездку.В среднем расстояние одной поездки составляет 3км. В основном пользователи проезжают от 2.5 км до 4 км. Самые длинные поездки составляют 7 км.\n",
    "    * Возраста пользователей. Средний возраст пользователей приложения 20-30 лет, это и самый часто встречающийся в данных возраст пользователей. При этом самому юному пользователю 12 лет, а самому возрастному - 43 года.\n",
    "    * Исследование данных по продолжительности поездок Чаще всего длительность поездки состовляет 13 - 22 минут. Среднее время пользования самокатом лежит в пределах 15-20 минут.Так же на графике видны поездки длящиеся не более одной минуты, от них нельзя избавляться так как на тарифе без подписки такие поездки могут приносить прибыль из за установленной цены старта.\n",
    "\n",
    "* Были сравнены распределения продолжительности поездок и пройденному пути для пользователей с подпиской и без. У пользователей с подпиской время в пути несколько выше, также, по гистограмме сравнения распределений пройденных дистанций можно заметить, что у пользователей с подпиской меньшая дисперсия в данных. Также, был осуществлён подсчёт ежемесячных затрат пользователей на пользование сервисом.\n",
    "\n",
    "Были проверены гипотезы:\n",
    "\n",
    "1. О равенстве средних двух генеральных совокупностей - пользователи с подпиской тратят больше времени на поездки, чем пользователи на бесплатном тарифе. После проведеного t-тестирования можем отвергнуть нулевую гипотезу, в пользу альтернативной время пользователей на подписке ultra больше времени пользователей на подписке free\n",
    "\n",
    "2. О равенстве среднего ген совокупности к числу. Расстояние, которое пользователи с подпиской преодолевают на одну поездку не превышает 3130 м. после проведения t-теста стало понятно, что отвергать данную гипотезу нельзя\n",
    "\n",
    "3. О равенстве средних двух генеральных совокупностей. Ежемесячная прибыль от пользователей с подпиской равна прибыли от пользователей без подписки по результатам t-тестирования Не можем отвергнуть нулевую гипотезу.Следовательно ежемесячная прибыль от пользователей с подпиской не меньше чем от пользователей без подписки.\n",
    "\n",
    "По результатам проведенного исследования нельзя утверждать что пользователи подписки ultra приносят больше прибыли так как помесячный средний доход пользователей без подписки значительно выше.\n",
    "\n",
    "Советы для бизнеса\n",
    "Масштабирование, с увеличением колличества городов охват будет больше, следовательно и прибыль.\n",
    "\n",
    "Проводить рекламную компанию для целевой аудитории,20-30 лет,\n",
    "\n",
    "Увеличить цену сверхкоротких поездок (до 1000 м.) для тарифа free, поскольку имеется пик на графике, с учетом цены старта, поднятие цены замотивирует совершать более длительные поездки,\n"
   ]
  }
 ],
 "metadata": {
  "ExecuteTimeLog": [
   {
    "duration": 43,
    "start_time": "2023-09-25T14:04:19.439Z"
   },
   {
    "duration": 375,
    "start_time": "2023-09-25T14:04:23.680Z"
   },
   {
    "duration": 28,
    "start_time": "2023-09-25T14:04:26.119Z"
   },
   {
    "duration": 7,
    "start_time": "2023-09-25T14:04:37.630Z"
   },
   {
    "duration": 62,
    "start_time": "2023-09-25T14:04:45.685Z"
   },
   {
    "duration": 301,
    "start_time": "2023-09-25T14:05:54.876Z"
   },
   {
    "duration": 69,
    "start_time": "2023-09-25T14:06:09.917Z"
   },
   {
    "duration": 68,
    "start_time": "2023-09-25T14:06:52.397Z"
   },
   {
    "duration": 67,
    "start_time": "2023-09-25T14:07:12.436Z"
   },
   {
    "duration": 72,
    "start_time": "2023-09-25T14:09:27.885Z"
   },
   {
    "duration": 73,
    "start_time": "2023-09-25T14:09:35.831Z"
   },
   {
    "duration": 2,
    "start_time": "2023-09-25T14:17:34.214Z"
   },
   {
    "duration": 75,
    "start_time": "2023-09-25T14:17:54.809Z"
   },
   {
    "duration": 79,
    "start_time": "2023-09-25T14:18:27.600Z"
   },
   {
    "duration": 77,
    "start_time": "2023-09-25T14:18:52.511Z"
   },
   {
    "duration": 76,
    "start_time": "2023-09-25T14:19:00.895Z"
   },
   {
    "duration": 71,
    "start_time": "2023-09-25T14:19:17.192Z"
   },
   {
    "duration": 86,
    "start_time": "2023-09-25T14:19:29.951Z"
   },
   {
    "duration": 75,
    "start_time": "2023-09-25T14:19:42.719Z"
   },
   {
    "duration": 77,
    "start_time": "2023-09-25T14:19:51.456Z"
   },
   {
    "duration": 74,
    "start_time": "2023-09-25T14:20:04.960Z"
   },
   {
    "duration": 100,
    "start_time": "2023-09-25T14:24:38.723Z"
   },
   {
    "duration": 104,
    "start_time": "2023-09-25T15:40:51.168Z"
   },
   {
    "duration": 113,
    "start_time": "2023-09-25T15:41:17.487Z"
   },
   {
    "duration": 118,
    "start_time": "2023-09-25T15:41:52.107Z"
   },
   {
    "duration": 119,
    "start_time": "2023-09-25T15:42:20.215Z"
   },
   {
    "duration": 202,
    "start_time": "2023-09-25T15:43:22.690Z"
   },
   {
    "duration": 124,
    "start_time": "2023-09-25T15:43:28.307Z"
   },
   {
    "duration": 113,
    "start_time": "2023-09-25T15:43:32.195Z"
   },
   {
    "duration": 114,
    "start_time": "2023-09-25T15:43:45.215Z"
   },
   {
    "duration": 149,
    "start_time": "2023-09-25T15:43:57.207Z"
   },
   {
    "duration": 107,
    "start_time": "2023-09-25T15:44:02.008Z"
   },
   {
    "duration": 108,
    "start_time": "2023-09-25T15:45:36.986Z"
   },
   {
    "duration": 793,
    "start_time": "2023-09-25T15:55:02.533Z"
   },
   {
    "duration": 7,
    "start_time": "2023-09-25T15:58:47.918Z"
   },
   {
    "duration": 53,
    "start_time": "2023-09-25T15:59:03.136Z"
   },
   {
    "duration": 16,
    "start_time": "2023-09-25T15:59:12.885Z"
   },
   {
    "duration": 17,
    "start_time": "2023-09-25T15:59:56.084Z"
   },
   {
    "duration": 402,
    "start_time": "2023-09-25T16:00:31.803Z"
   },
   {
    "duration": 114,
    "start_time": "2023-09-25T16:00:32.207Z"
   },
   {
    "duration": 874,
    "start_time": "2023-09-25T16:00:32.322Z"
   },
   {
    "duration": 11,
    "start_time": "2023-09-25T16:00:41.188Z"
   },
   {
    "duration": 47,
    "start_time": "2023-09-25T16:00:49.049Z"
   },
   {
    "duration": 7,
    "start_time": "2023-09-25T16:03:12.109Z"
   },
   {
    "duration": 10,
    "start_time": "2023-09-25T16:06:45.411Z"
   },
   {
    "duration": 13,
    "start_time": "2023-09-25T16:08:39.781Z"
   },
   {
    "duration": 6,
    "start_time": "2023-09-25T16:08:54.621Z"
   },
   {
    "duration": 7,
    "start_time": "2023-09-25T16:09:06.040Z"
   },
   {
    "duration": 9,
    "start_time": "2023-09-25T16:09:24.472Z"
   },
   {
    "duration": 10,
    "start_time": "2023-09-25T16:11:06.680Z"
   },
   {
    "duration": 11,
    "start_time": "2023-09-25T16:12:06.792Z"
   },
   {
    "duration": 5,
    "start_time": "2023-09-25T16:12:57.579Z"
   },
   {
    "duration": 4,
    "start_time": "2023-09-25T16:13:09.938Z"
   },
   {
    "duration": 9,
    "start_time": "2023-09-25T16:16:59.779Z"
   },
   {
    "duration": 10,
    "start_time": "2023-09-25T16:17:14.778Z"
   },
   {
    "duration": 10,
    "start_time": "2023-09-25T16:17:53.407Z"
   },
   {
    "duration": 14,
    "start_time": "2023-09-25T16:18:41.986Z"
   },
   {
    "duration": 7,
    "start_time": "2023-09-25T16:21:50.959Z"
   },
   {
    "duration": 12,
    "start_time": "2023-09-25T16:23:41.371Z"
   },
   {
    "duration": 11,
    "start_time": "2023-09-25T16:25:21.672Z"
   },
   {
    "duration": 12,
    "start_time": "2023-09-25T16:26:13.248Z"
   },
   {
    "duration": 22,
    "start_time": "2023-09-25T16:27:47.561Z"
   },
   {
    "duration": 24,
    "start_time": "2023-09-25T16:28:42.081Z"
   },
   {
    "duration": 27,
    "start_time": "2023-09-25T16:28:56.815Z"
   },
   {
    "duration": 25,
    "start_time": "2023-09-25T16:29:49.353Z"
   },
   {
    "duration": 30,
    "start_time": "2023-09-25T16:30:19.801Z"
   },
   {
    "duration": 24,
    "start_time": "2023-09-25T16:30:34.670Z"
   },
   {
    "duration": 30,
    "start_time": "2023-09-25T16:31:03.541Z"
   },
   {
    "duration": 6,
    "start_time": "2023-09-25T16:34:24.253Z"
   },
   {
    "duration": 6,
    "start_time": "2023-09-25T16:34:42.061Z"
   },
   {
    "duration": 6,
    "start_time": "2023-09-25T16:37:04.861Z"
   },
   {
    "duration": 6,
    "start_time": "2023-09-25T16:38:30.420Z"
   },
   {
    "duration": 5,
    "start_time": "2023-09-25T16:38:56.013Z"
   },
   {
    "duration": 12,
    "start_time": "2023-09-25T16:42:03.667Z"
   },
   {
    "duration": 1957,
    "start_time": "2023-09-25T16:42:17.042Z"
   },
   {
    "duration": 359,
    "start_time": "2023-09-25T16:42:36.441Z"
   },
   {
    "duration": 335,
    "start_time": "2023-09-25T16:43:03.267Z"
   },
   {
    "duration": 278,
    "start_time": "2023-09-25T16:43:45.781Z"
   },
   {
    "duration": 2,
    "start_time": "2023-09-25T16:44:20.330Z"
   },
   {
    "duration": 294,
    "start_time": "2023-09-25T16:44:27.101Z"
   },
   {
    "duration": 286,
    "start_time": "2023-09-25T16:44:52.073Z"
   },
   {
    "duration": 268,
    "start_time": "2023-09-25T16:45:33.096Z"
   },
   {
    "duration": 12,
    "start_time": "2023-09-25T16:52:06.501Z"
   },
   {
    "duration": 293,
    "start_time": "2023-09-25T16:52:36.920Z"
   },
   {
    "duration": 12,
    "start_time": "2023-09-25T16:53:18.640Z"
   },
   {
    "duration": 330142,
    "start_time": "2023-09-25T16:53:33.001Z"
   },
   {
    "duration": 320677,
    "start_time": "2023-09-25T18:05:25.322Z"
   },
   {
    "duration": 5,
    "start_time": "2023-09-25T19:12:58.048Z"
   },
   {
    "duration": 8,
    "start_time": "2023-09-25T19:13:40.950Z"
   },
   {
    "duration": 7,
    "start_time": "2023-09-25T19:15:35.755Z"
   },
   {
    "duration": 115,
    "start_time": "2023-09-25T19:18:15.249Z"
   },
   {
    "duration": 74,
    "start_time": "2023-09-25T19:18:28.748Z"
   },
   {
    "duration": 70,
    "start_time": "2023-09-25T19:18:32.748Z"
   },
   {
    "duration": 129,
    "start_time": "2023-09-25T19:18:54.207Z"
   },
   {
    "duration": 9,
    "start_time": "2023-09-25T19:19:09.408Z"
   },
   {
    "duration": 126,
    "start_time": "2023-09-25T19:19:32.455Z"
   },
   {
    "duration": 75,
    "start_time": "2023-09-25T19:20:06.868Z"
   },
   {
    "duration": 125,
    "start_time": "2023-09-25T19:20:12.188Z"
   },
   {
    "duration": 9,
    "start_time": "2023-09-25T19:20:16.007Z"
   },
   {
    "duration": 4,
    "start_time": "2023-09-25T19:20:28.547Z"
   },
   {
    "duration": 7,
    "start_time": "2023-09-25T19:20:33.607Z"
   },
   {
    "duration": 9,
    "start_time": "2023-09-25T19:22:27.828Z"
   },
   {
    "duration": 64,
    "start_time": "2023-09-25T19:23:41.368Z"
   },
   {
    "duration": 9,
    "start_time": "2023-09-25T19:23:45.371Z"
   },
   {
    "duration": 9,
    "start_time": "2023-09-25T19:25:21.153Z"
   },
   {
    "duration": 10,
    "start_time": "2023-09-25T19:25:36.335Z"
   },
   {
    "duration": 9,
    "start_time": "2023-09-25T19:25:40.387Z"
   },
   {
    "duration": 5,
    "start_time": "2023-09-25T19:26:02.875Z"
   },
   {
    "duration": 5,
    "start_time": "2023-09-25T19:26:09.967Z"
   },
   {
    "duration": 9,
    "start_time": "2023-09-25T19:27:07.927Z"
   },
   {
    "duration": 9,
    "start_time": "2023-09-25T19:27:14.795Z"
   },
   {
    "duration": 9,
    "start_time": "2023-09-25T19:27:27.448Z"
   },
   {
    "duration": 7,
    "start_time": "2023-09-25T19:28:14.587Z"
   },
   {
    "duration": 9,
    "start_time": "2023-09-25T19:28:40.767Z"
   },
   {
    "duration": 1428,
    "start_time": "2023-09-25T19:29:05.767Z"
   },
   {
    "duration": 1424,
    "start_time": "2023-09-25T19:29:16.869Z"
   },
   {
    "duration": 1501,
    "start_time": "2023-09-25T19:29:26.467Z"
   },
   {
    "duration": 1522,
    "start_time": "2023-09-25T19:29:44.887Z"
   },
   {
    "duration": 1420,
    "start_time": "2023-09-25T19:29:54.359Z"
   },
   {
    "duration": 10,
    "start_time": "2023-09-25T19:30:18.108Z"
   },
   {
    "duration": 10,
    "start_time": "2023-09-25T19:30:53.829Z"
   },
   {
    "duration": 11,
    "start_time": "2023-09-25T19:31:31.149Z"
   },
   {
    "duration": 9,
    "start_time": "2023-09-25T19:32:32.055Z"
   },
   {
    "duration": 11,
    "start_time": "2023-09-25T19:33:23.087Z"
   },
   {
    "duration": 10,
    "start_time": "2023-09-25T19:33:44.727Z"
   },
   {
    "duration": 10,
    "start_time": "2023-09-25T19:33:50.896Z"
   },
   {
    "duration": 10,
    "start_time": "2023-09-25T19:34:17.507Z"
   },
   {
    "duration": 10,
    "start_time": "2023-09-25T19:34:31.259Z"
   },
   {
    "duration": 12,
    "start_time": "2023-09-25T19:35:12.267Z"
   },
   {
    "duration": 393,
    "start_time": "2023-09-25T19:36:05.907Z"
   },
   {
    "duration": 373,
    "start_time": "2023-09-25T19:37:58.266Z"
   },
   {
    "duration": 121,
    "start_time": "2023-09-25T19:38:07.267Z"
   },
   {
    "duration": 12,
    "start_time": "2023-09-25T19:38:44.368Z"
   },
   {
    "duration": 116,
    "start_time": "2023-09-25T19:38:50.227Z"
   },
   {
    "duration": 10,
    "start_time": "2023-09-25T19:39:16.326Z"
   },
   {
    "duration": 12,
    "start_time": "2023-09-25T19:42:11.178Z"
   },
   {
    "duration": 13,
    "start_time": "2023-09-25T19:42:24.162Z"
   },
   {
    "duration": 131,
    "start_time": "2023-09-25T19:42:29.858Z"
   },
   {
    "duration": 268,
    "start_time": "2023-09-25T19:42:39.227Z"
   },
   {
    "duration": 74,
    "start_time": "2023-09-25T20:03:40.961Z"
   },
   {
    "duration": 268,
    "start_time": "2023-09-25T20:03:47.220Z"
   },
   {
    "duration": 262,
    "start_time": "2023-09-25T20:04:18.441Z"
   },
   {
    "duration": 297,
    "start_time": "2023-09-25T20:05:21.939Z"
   },
   {
    "duration": 1393,
    "start_time": "2023-09-25T20:05:30.168Z"
   },
   {
    "duration": 252,
    "start_time": "2023-09-25T20:05:43.580Z"
   },
   {
    "duration": 1461,
    "start_time": "2023-09-25T20:07:18.241Z"
   },
   {
    "duration": 285,
    "start_time": "2023-09-25T20:07:26.180Z"
   },
   {
    "duration": 1222,
    "start_time": "2023-09-25T20:07:34.254Z"
   },
   {
    "duration": 1225,
    "start_time": "2023-09-25T20:09:11.420Z"
   },
   {
    "duration": 1249,
    "start_time": "2023-09-25T20:09:34.640Z"
   },
   {
    "duration": 1316,
    "start_time": "2023-09-25T20:10:02.540Z"
   },
   {
    "duration": 1257,
    "start_time": "2023-09-25T20:10:58.961Z"
   },
   {
    "duration": 1258,
    "start_time": "2023-09-25T20:11:09.587Z"
   },
   {
    "duration": 10,
    "start_time": "2023-09-25T20:14:19.537Z"
   },
   {
    "duration": 26,
    "start_time": "2023-09-25T20:14:22.692Z"
   },
   {
    "duration": 40,
    "start_time": "2023-09-25T20:14:51.540Z"
   },
   {
    "duration": 111,
    "start_time": "2023-09-25T20:16:53.159Z"
   },
   {
    "duration": 25,
    "start_time": "2023-09-25T20:16:56.472Z"
   },
   {
    "duration": 37,
    "start_time": "2023-09-25T20:17:31.460Z"
   },
   {
    "duration": 74,
    "start_time": "2023-09-25T20:23:26.842Z"
   },
   {
    "duration": 43,
    "start_time": "2023-09-25T20:23:30.722Z"
   },
   {
    "duration": 32,
    "start_time": "2023-09-25T20:25:42.843Z"
   },
   {
    "duration": 37,
    "start_time": "2023-09-25T20:25:47.992Z"
   },
   {
    "duration": 1442,
    "start_time": "2023-09-25T20:26:48.726Z"
   },
   {
    "duration": 1470,
    "start_time": "2023-09-25T20:27:09.363Z"
   },
   {
    "duration": 6,
    "start_time": "2023-09-25T20:27:26.964Z"
   },
   {
    "duration": 237,
    "start_time": "2023-09-25T20:28:00.825Z"
   },
   {
    "duration": 365,
    "start_time": "2023-09-25T20:28:14.704Z"
   },
   {
    "duration": 6905,
    "start_time": "2023-09-25T20:28:32.905Z"
   },
   {
    "duration": 358,
    "start_time": "2023-09-25T20:28:45.692Z"
   },
   {
    "duration": 79,
    "start_time": "2023-09-25T20:31:44.305Z"
   },
   {
    "duration": 62,
    "start_time": "2023-09-25T20:31:55.105Z"
   },
   {
    "duration": 39,
    "start_time": "2023-09-25T20:32:00.005Z"
   },
   {
    "duration": 37,
    "start_time": "2023-09-25T20:32:12.566Z"
   },
   {
    "duration": 32,
    "start_time": "2023-09-25T20:32:18.946Z"
   },
   {
    "duration": 39,
    "start_time": "2023-09-25T20:32:23.847Z"
   },
   {
    "duration": 24,
    "start_time": "2023-09-25T20:32:39.685Z"
   },
   {
    "duration": 339,
    "start_time": "2023-09-25T20:33:03.025Z"
   },
   {
    "duration": 229,
    "start_time": "2023-09-25T20:33:19.853Z"
   },
   {
    "duration": 380,
    "start_time": "2023-09-25T20:33:26.865Z"
   },
   {
    "duration": 4,
    "start_time": "2023-09-25T20:35:20.157Z"
   },
   {
    "duration": 61,
    "start_time": "2023-09-25T20:35:25.846Z"
   },
   {
    "duration": 251,
    "start_time": "2023-09-25T20:35:30.126Z"
   },
   {
    "duration": 233,
    "start_time": "2023-09-25T20:35:39.918Z"
   },
   {
    "duration": 226,
    "start_time": "2023-09-25T20:36:06.166Z"
   },
   {
    "duration": 255,
    "start_time": "2023-09-25T20:36:22.666Z"
   },
   {
    "duration": 343,
    "start_time": "2023-09-25T20:36:35.873Z"
   },
   {
    "duration": 352,
    "start_time": "2023-09-25T20:37:12.506Z"
   },
   {
    "duration": 369,
    "start_time": "2023-09-25T20:37:47.814Z"
   },
   {
    "duration": 363,
    "start_time": "2023-09-25T20:37:58.587Z"
   },
   {
    "duration": 362,
    "start_time": "2023-09-25T20:38:12.766Z"
   },
   {
    "duration": 357,
    "start_time": "2023-09-25T20:38:32.706Z"
   },
   {
    "duration": 412,
    "start_time": "2023-09-25T20:38:53.807Z"
   },
   {
    "duration": 359,
    "start_time": "2023-09-25T20:39:07.039Z"
   },
   {
    "duration": 350,
    "start_time": "2023-09-25T20:39:18.806Z"
   },
   {
    "duration": 19,
    "start_time": "2023-09-25T20:57:12.267Z"
   },
   {
    "duration": 43,
    "start_time": "2023-09-25T20:57:43.107Z"
   },
   {
    "duration": 23,
    "start_time": "2023-09-25T20:57:55.407Z"
   },
   {
    "duration": 34,
    "start_time": "2023-09-25T20:58:01.406Z"
   },
   {
    "duration": 3,
    "start_time": "2023-09-25T21:03:17.085Z"
   },
   {
    "duration": 35,
    "start_time": "2023-09-25T21:03:22.605Z"
   },
   {
    "duration": 63,
    "start_time": "2023-09-25T21:07:40.394Z"
   },
   {
    "duration": 13,
    "start_time": "2023-09-25T21:09:30.445Z"
   },
   {
    "duration": 12,
    "start_time": "2023-09-25T21:10:24.413Z"
   },
   {
    "duration": 9,
    "start_time": "2023-09-25T21:10:39.346Z"
   },
   {
    "duration": 22,
    "start_time": "2023-09-25T21:10:47.073Z"
   },
   {
    "duration": 35,
    "start_time": "2023-09-25T21:12:00.099Z"
   },
   {
    "duration": 31,
    "start_time": "2023-09-25T21:12:26.346Z"
   },
   {
    "duration": 90,
    "start_time": "2023-09-25T21:26:01.967Z"
   },
   {
    "duration": 67,
    "start_time": "2023-09-25T21:31:29.146Z"
   },
   {
    "duration": 77,
    "start_time": "2023-09-25T21:31:59.706Z"
   },
   {
    "duration": 66,
    "start_time": "2023-09-25T21:32:25.486Z"
   },
   {
    "duration": 41,
    "start_time": "2023-09-25T21:32:30.266Z"
   },
   {
    "duration": 60,
    "start_time": "2023-09-25T21:34:18.187Z"
   },
   {
    "duration": 1510,
    "start_time": "2023-09-25T21:35:10.568Z"
   },
   {
    "duration": 555,
    "start_time": "2023-09-25T21:35:22.187Z"
   },
   {
    "duration": 1128,
    "start_time": "2023-09-25T21:36:02.247Z"
   },
   {
    "duration": 409,
    "start_time": "2023-09-25T21:36:34.287Z"
   },
   {
    "duration": 1475,
    "start_time": "2023-09-25T21:36:40.247Z"
   },
   {
    "duration": 1215,
    "start_time": "2023-09-25T21:36:52.828Z"
   },
   {
    "duration": 48,
    "start_time": "2023-09-25T21:39:06.446Z"
   },
   {
    "duration": 67,
    "start_time": "2023-09-25T21:39:16.127Z"
   },
   {
    "duration": 2268,
    "start_time": "2023-09-25T21:39:22.115Z"
   },
   {
    "duration": 46,
    "start_time": "2023-09-25T21:39:51.667Z"
   },
   {
    "duration": 56,
    "start_time": "2023-09-25T21:41:07.327Z"
   },
   {
    "duration": 2247,
    "start_time": "2023-09-25T21:41:21.687Z"
   },
   {
    "duration": 76,
    "start_time": "2023-09-25T21:43:33.166Z"
   },
   {
    "duration": 77,
    "start_time": "2023-09-25T21:43:44.208Z"
   },
   {
    "duration": 2218,
    "start_time": "2023-09-25T21:43:52.328Z"
   },
   {
    "duration": 2112,
    "start_time": "2023-09-25T21:44:21.507Z"
   },
   {
    "duration": 1402,
    "start_time": "2023-09-25T21:44:31.467Z"
   },
   {
    "duration": 70,
    "start_time": "2023-09-25T21:49:37.127Z"
   },
   {
    "duration": 71,
    "start_time": "2023-09-25T21:49:43.168Z"
   },
   {
    "duration": 66,
    "start_time": "2023-09-25T21:49:52.620Z"
   },
   {
    "duration": 46,
    "start_time": "2023-09-25T21:50:06.319Z"
   },
   {
    "duration": 1602,
    "start_time": "2023-09-25T21:52:37.489Z"
   },
   {
    "duration": 422,
    "start_time": "2023-09-25T21:54:30.356Z"
   },
   {
    "duration": 404,
    "start_time": "2023-09-25T21:54:41.276Z"
   },
   {
    "duration": 51,
    "start_time": "2023-09-25T21:55:16.528Z"
   },
   {
    "duration": 48,
    "start_time": "2023-09-25T21:55:35.996Z"
   },
   {
    "duration": 49,
    "start_time": "2023-09-25T21:55:54.788Z"
   },
   {
    "duration": 2362,
    "start_time": "2023-09-25T21:56:14.468Z"
   },
   {
    "duration": 46,
    "start_time": "2023-09-25T21:56:35.868Z"
   },
   {
    "duration": 47,
    "start_time": "2023-09-25T21:57:04.856Z"
   },
   {
    "duration": 48,
    "start_time": "2023-09-25T21:57:37.287Z"
   },
   {
    "duration": 45,
    "start_time": "2023-09-25T21:57:41.068Z"
   },
   {
    "duration": 46,
    "start_time": "2023-09-25T21:58:47.900Z"
   },
   {
    "duration": 44,
    "start_time": "2023-09-25T22:00:57.489Z"
   },
   {
    "duration": 45,
    "start_time": "2023-09-25T22:02:19.455Z"
   },
   {
    "duration": 47,
    "start_time": "2023-09-25T22:02:31.829Z"
   },
   {
    "duration": 46,
    "start_time": "2023-09-25T22:03:11.421Z"
   },
   {
    "duration": 46,
    "start_time": "2023-09-25T22:04:31.770Z"
   },
   {
    "duration": 783,
    "start_time": "2023-09-25T22:11:42.639Z"
   },
   {
    "duration": 863,
    "start_time": "2023-09-25T22:11:50.530Z"
   },
   {
    "duration": 8,
    "start_time": "2023-09-25T22:12:47.030Z"
   },
   {
    "duration": 92,
    "start_time": "2023-09-25T22:13:16.550Z"
   },
   {
    "duration": 8,
    "start_time": "2023-09-25T22:13:24.710Z"
   },
   {
    "duration": 29,
    "start_time": "2023-09-25T22:13:35.150Z"
   },
   {
    "duration": 31,
    "start_time": "2023-09-25T22:13:55.170Z"
   },
   {
    "duration": 33,
    "start_time": "2023-09-25T22:14:41.758Z"
   },
   {
    "duration": 30,
    "start_time": "2023-09-25T22:15:13.070Z"
   },
   {
    "duration": 20,
    "start_time": "2023-09-25T22:15:53.492Z"
   },
   {
    "duration": 30,
    "start_time": "2023-09-25T22:16:02.430Z"
   },
   {
    "duration": 1091,
    "start_time": "2023-09-25T22:18:17.370Z"
   },
   {
    "duration": 1302,
    "start_time": "2023-09-25T22:18:55.890Z"
   },
   {
    "duration": 1217,
    "start_time": "2023-09-25T22:19:48.526Z"
   },
   {
    "duration": 82,
    "start_time": "2023-09-25T22:20:02.872Z"
   },
   {
    "duration": 1266,
    "start_time": "2023-09-25T22:20:07.711Z"
   },
   {
    "duration": 14,
    "start_time": "2023-09-25T22:20:27.858Z"
   },
   {
    "duration": 18,
    "start_time": "2023-09-25T22:20:38.130Z"
   },
   {
    "duration": 1169,
    "start_time": "2023-09-25T22:21:06.650Z"
   },
   {
    "duration": 1113,
    "start_time": "2023-09-25T22:21:18.858Z"
   },
   {
    "duration": 16,
    "start_time": "2023-09-25T22:21:48.231Z"
   },
   {
    "duration": 874,
    "start_time": "2023-09-26T06:31:03.204Z"
   },
   {
    "duration": 265,
    "start_time": "2023-09-26T06:31:04.080Z"
   },
   {
    "duration": 14,
    "start_time": "2023-09-26T06:31:04.347Z"
   },
   {
    "duration": 31,
    "start_time": "2023-09-26T06:31:04.363Z"
   },
   {
    "duration": 40,
    "start_time": "2023-09-26T06:31:04.396Z"
   },
   {
    "duration": 196,
    "start_time": "2023-09-26T06:31:04.437Z"
   },
   {
    "duration": 145,
    "start_time": "2023-09-26T06:31:04.636Z"
   },
   {
    "duration": 381,
    "start_time": "2023-09-26T06:31:04.783Z"
   },
   {
    "duration": 326,
    "start_time": "2023-09-26T06:31:05.165Z"
   },
   {
    "duration": 1524,
    "start_time": "2023-09-26T06:31:05.493Z"
   },
   {
    "duration": 45,
    "start_time": "2023-09-26T06:31:07.019Z"
   },
   {
    "duration": 405,
    "start_time": "2023-09-26T06:31:07.065Z"
   },
   {
    "duration": 415,
    "start_time": "2023-09-26T06:31:07.471Z"
   },
   {
    "duration": 47,
    "start_time": "2023-09-26T06:31:07.889Z"
   },
   {
    "duration": 2176,
    "start_time": "2023-09-26T06:31:07.938Z"
   },
   {
    "duration": 0,
    "start_time": "2023-09-26T06:31:10.116Z"
   },
   {
    "duration": 1294,
    "start_time": "2023-09-26T06:34:16.071Z"
   },
   {
    "duration": 4,
    "start_time": "2023-09-26T06:35:25.987Z"
   },
   {
    "duration": 288,
    "start_time": "2023-09-26T06:35:32.077Z"
   },
   {
    "duration": 167,
    "start_time": "2023-09-26T06:35:36.524Z"
   },
   {
    "duration": 153,
    "start_time": "2023-09-26T06:37:22.391Z"
   },
   {
    "duration": 727,
    "start_time": "2023-09-26T06:37:36.486Z"
   },
   {
    "duration": 130,
    "start_time": "2023-09-26T06:37:37.215Z"
   },
   {
    "duration": 14,
    "start_time": "2023-09-26T06:37:37.347Z"
   },
   {
    "duration": 14,
    "start_time": "2023-09-26T06:37:37.362Z"
   },
   {
    "duration": 28,
    "start_time": "2023-09-26T06:37:37.409Z"
   },
   {
    "duration": 193,
    "start_time": "2023-09-26T06:37:37.439Z"
   },
   {
    "duration": 158,
    "start_time": "2023-09-26T06:37:37.634Z"
   },
   {
    "duration": 356,
    "start_time": "2023-09-26T06:37:37.794Z"
   },
   {
    "duration": 379,
    "start_time": "2023-09-26T06:37:38.152Z"
   },
   {
    "duration": 1594,
    "start_time": "2023-09-26T06:37:38.533Z"
   },
   {
    "duration": 41,
    "start_time": "2023-09-26T06:37:40.129Z"
   },
   {
    "duration": 431,
    "start_time": "2023-09-26T06:37:40.171Z"
   },
   {
    "duration": 480,
    "start_time": "2023-09-26T06:37:40.604Z"
   },
   {
    "duration": 49,
    "start_time": "2023-09-26T06:37:41.087Z"
   },
   {
    "duration": 185,
    "start_time": "2023-09-26T06:37:41.138Z"
   },
   {
    "duration": 1224,
    "start_time": "2023-09-26T06:37:41.326Z"
   },
   {
    "duration": 9,
    "start_time": "2023-09-26T06:49:17.180Z"
   },
   {
    "duration": 8,
    "start_time": "2023-09-26T06:50:28.402Z"
   },
   {
    "duration": 559,
    "start_time": "2023-09-26T06:50:35.391Z"
   },
   {
    "duration": 6,
    "start_time": "2023-09-26T06:50:40.171Z"
   },
   {
    "duration": 6,
    "start_time": "2023-09-26T07:00:23.912Z"
   },
   {
    "duration": 6,
    "start_time": "2023-09-26T07:00:35.156Z"
   },
   {
    "duration": 5,
    "start_time": "2023-09-26T07:14:08.023Z"
   },
   {
    "duration": 76,
    "start_time": "2023-09-26T07:19:30.969Z"
   },
   {
    "duration": 6,
    "start_time": "2023-09-26T07:20:43.100Z"
   },
   {
    "duration": 67,
    "start_time": "2023-09-26T07:24:08.665Z"
   },
   {
    "duration": 12,
    "start_time": "2023-09-26T07:24:47.779Z"
   },
   {
    "duration": 15,
    "start_time": "2023-09-26T07:25:13.846Z"
   },
   {
    "duration": 11,
    "start_time": "2023-09-26T07:26:08.613Z"
   },
   {
    "duration": 11,
    "start_time": "2023-09-26T07:30:09.831Z"
   },
   {
    "duration": 13,
    "start_time": "2023-09-26T07:30:16.221Z"
   },
   {
    "duration": 8,
    "start_time": "2023-09-26T07:32:01.630Z"
   },
   {
    "duration": 8,
    "start_time": "2023-09-26T07:32:09.241Z"
   },
   {
    "duration": 9,
    "start_time": "2023-09-26T07:32:15.670Z"
   },
   {
    "duration": 13,
    "start_time": "2023-09-26T07:33:28.898Z"
   },
   {
    "duration": 12,
    "start_time": "2023-09-26T07:34:03.158Z"
   },
   {
    "duration": 14,
    "start_time": "2023-09-26T07:34:18.921Z"
   },
   {
    "duration": 17,
    "start_time": "2023-09-26T07:37:12.441Z"
   },
   {
    "duration": 11,
    "start_time": "2023-09-26T07:37:48.111Z"
   },
   {
    "duration": 11,
    "start_time": "2023-09-26T07:39:33.872Z"
   },
   {
    "duration": 14,
    "start_time": "2023-09-26T07:42:18.451Z"
   },
   {
    "duration": 12,
    "start_time": "2023-09-26T08:17:09.099Z"
   },
   {
    "duration": 21,
    "start_time": "2023-09-26T08:23:30.352Z"
   },
   {
    "duration": 26,
    "start_time": "2023-09-26T08:24:14.133Z"
   },
   {
    "duration": 151,
    "start_time": "2023-09-26T08:38:41.552Z"
   },
   {
    "duration": 153,
    "start_time": "2023-09-26T08:39:04.852Z"
   },
   {
    "duration": 10,
    "start_time": "2023-09-26T08:39:58.172Z"
   },
   {
    "duration": 10,
    "start_time": "2023-09-26T08:40:10.424Z"
   },
   {
    "duration": 152,
    "start_time": "2023-09-26T08:40:32.022Z"
   },
   {
    "duration": 141,
    "start_time": "2023-09-26T09:06:53.636Z"
   },
   {
    "duration": 146,
    "start_time": "2023-09-26T09:07:25.516Z"
   },
   {
    "duration": 121,
    "start_time": "2023-09-26T09:10:19.097Z"
   },
   {
    "duration": 295,
    "start_time": "2023-09-26T09:12:42.689Z"
   },
   {
    "duration": 76,
    "start_time": "2023-09-26T09:16:47.409Z"
   },
   {
    "duration": 49,
    "start_time": "2023-09-26T09:26:59.157Z"
   },
   {
    "duration": 526,
    "start_time": "2023-09-26T09:27:11.517Z"
   },
   {
    "duration": 458,
    "start_time": "2023-09-26T09:30:29.592Z"
   },
   {
    "duration": 149,
    "start_time": "2023-09-26T09:34:50.116Z"
   },
   {
    "duration": 394,
    "start_time": "2023-09-26T09:35:42.854Z"
   },
   {
    "duration": 401,
    "start_time": "2023-09-26T09:36:11.740Z"
   },
   {
    "duration": 322,
    "start_time": "2023-09-26T09:36:37.995Z"
   },
   {
    "duration": 116,
    "start_time": "2023-09-26T09:36:47.143Z"
   },
   {
    "duration": 302,
    "start_time": "2023-09-26T09:36:57.000Z"
   },
   {
    "duration": 398,
    "start_time": "2023-09-26T09:37:17.640Z"
   },
   {
    "duration": 395,
    "start_time": "2023-09-26T09:37:57.200Z"
   },
   {
    "duration": 14,
    "start_time": "2023-09-26T09:59:43.044Z"
   },
   {
    "duration": 14,
    "start_time": "2023-09-26T10:00:31.132Z"
   },
   {
    "duration": 17,
    "start_time": "2023-09-26T10:09:09.714Z"
   },
   {
    "duration": 15,
    "start_time": "2023-09-26T10:09:16.015Z"
   },
   {
    "duration": 15,
    "start_time": "2023-09-26T10:09:23.285Z"
   },
   {
    "duration": 20,
    "start_time": "2023-09-26T10:12:18.904Z"
   },
   {
    "duration": 41,
    "start_time": "2023-09-26T10:13:38.598Z"
   },
   {
    "duration": 30,
    "start_time": "2023-09-26T10:14:09.633Z"
   },
   {
    "duration": 308,
    "start_time": "2023-09-26T10:16:29.318Z"
   },
   {
    "duration": 227,
    "start_time": "2023-09-26T10:23:16.742Z"
   },
   {
    "duration": 172,
    "start_time": "2023-09-26T10:23:21.618Z"
   },
   {
    "duration": 21,
    "start_time": "2023-09-26T10:23:24.462Z"
   },
   {
    "duration": 14,
    "start_time": "2023-09-26T10:23:39.235Z"
   },
   {
    "duration": 139,
    "start_time": "2023-09-26T10:33:17.393Z"
   },
   {
    "duration": 37,
    "start_time": "2023-09-26T10:35:23.302Z"
   },
   {
    "duration": 49,
    "start_time": "2023-09-26T10:35:29.586Z"
   },
   {
    "duration": 1203,
    "start_time": "2023-09-26T16:18:34.383Z"
   },
   {
    "duration": 243,
    "start_time": "2023-09-26T16:18:35.588Z"
   },
   {
    "duration": 13,
    "start_time": "2023-09-26T16:18:35.833Z"
   },
   {
    "duration": 48,
    "start_time": "2023-09-26T16:18:35.848Z"
   },
   {
    "duration": 69,
    "start_time": "2023-09-26T16:18:35.898Z"
   },
   {
    "duration": 408,
    "start_time": "2023-09-26T16:18:35.969Z"
   },
   {
    "duration": 150,
    "start_time": "2023-09-26T16:18:36.379Z"
   },
   {
    "duration": 328,
    "start_time": "2023-09-26T16:18:36.531Z"
   },
   {
    "duration": 301,
    "start_time": "2023-09-26T16:18:36.861Z"
   },
   {
    "duration": 285,
    "start_time": "2023-09-26T16:18:37.164Z"
   },
   {
    "duration": 51,
    "start_time": "2023-09-26T16:18:37.451Z"
   },
   {
    "duration": 488,
    "start_time": "2023-09-26T16:18:37.504Z"
   },
   {
    "duration": 416,
    "start_time": "2023-09-26T16:18:37.994Z"
   },
   {
    "duration": 39,
    "start_time": "2023-09-26T16:18:38.412Z"
   },
   {
    "duration": 203,
    "start_time": "2023-09-26T16:18:38.452Z"
   },
   {
    "duration": 13,
    "start_time": "2023-09-26T16:18:38.658Z"
   },
   {
    "duration": 35,
    "start_time": "2023-09-26T16:18:38.672Z"
   },
   {
    "duration": 61,
    "start_time": "2023-09-26T16:18:38.709Z"
   },
   {
    "duration": 1187,
    "start_time": "2023-09-27T07:48:21.013Z"
   },
   {
    "duration": 252,
    "start_time": "2023-09-27T07:48:22.404Z"
   },
   {
    "duration": 11,
    "start_time": "2023-09-27T07:48:28.225Z"
   },
   {
    "duration": 1625,
    "start_time": "2023-09-27T07:48:45.104Z"
   },
   {
    "duration": 1376,
    "start_time": "2023-09-27T07:50:55.328Z"
   },
   {
    "duration": 12,
    "start_time": "2023-09-27T07:51:32.488Z"
   },
   {
    "duration": 10,
    "start_time": "2023-09-27T07:52:41.824Z"
   },
   {
    "duration": 10,
    "start_time": "2023-09-27T07:52:58.337Z"
   },
   {
    "duration": 12,
    "start_time": "2023-09-27T07:53:52.959Z"
   },
   {
    "duration": 11,
    "start_time": "2023-09-27T07:53:59.395Z"
   },
   {
    "duration": 8,
    "start_time": "2023-09-27T07:56:17.669Z"
   },
   {
    "duration": 8,
    "start_time": "2023-09-27T07:56:40.196Z"
   },
   {
    "duration": 10,
    "start_time": "2023-09-27T07:56:48.324Z"
   },
   {
    "duration": 12,
    "start_time": "2023-09-27T07:56:55.696Z"
   },
   {
    "duration": 138,
    "start_time": "2023-09-27T08:01:54.727Z"
   },
   {
    "duration": 180,
    "start_time": "2023-09-27T08:02:21.139Z"
   },
   {
    "duration": 151,
    "start_time": "2023-09-27T08:05:15.758Z"
   },
   {
    "duration": 146,
    "start_time": "2023-09-27T08:05:34.982Z"
   },
   {
    "duration": 139,
    "start_time": "2023-09-27T08:05:53.617Z"
   },
   {
    "duration": 153,
    "start_time": "2023-09-27T08:06:12.191Z"
   },
   {
    "duration": 160,
    "start_time": "2023-09-27T08:06:21.049Z"
   },
   {
    "duration": 132,
    "start_time": "2023-09-27T08:06:47.819Z"
   },
   {
    "duration": 176,
    "start_time": "2023-09-27T08:06:56.089Z"
   },
   {
    "duration": 213,
    "start_time": "2023-09-27T08:07:13.209Z"
   },
   {
    "duration": 124,
    "start_time": "2023-09-27T08:32:22.227Z"
   },
   {
    "duration": 519,
    "start_time": "2023-09-27T08:34:15.784Z"
   },
   {
    "duration": 447,
    "start_time": "2023-09-27T08:35:46.986Z"
   },
   {
    "duration": 573,
    "start_time": "2023-09-27T08:36:09.289Z"
   },
   {
    "duration": 259,
    "start_time": "2023-09-27T08:37:23.013Z"
   },
   {
    "duration": 230,
    "start_time": "2023-09-27T08:37:27.780Z"
   },
   {
    "duration": 762,
    "start_time": "2023-09-27T08:37:39.893Z"
   },
   {
    "duration": 180,
    "start_time": "2023-09-27T08:37:47.620Z"
   },
   {
    "duration": 260,
    "start_time": "2023-09-27T08:37:56.390Z"
   },
   {
    "duration": 234,
    "start_time": "2023-09-27T08:38:37.000Z"
   },
   {
    "duration": 268,
    "start_time": "2023-09-27T08:38:50.752Z"
   },
   {
    "duration": 234,
    "start_time": "2023-09-27T08:39:14.532Z"
   },
   {
    "duration": 441,
    "start_time": "2023-09-27T08:40:15.391Z"
   },
   {
    "duration": 30,
    "start_time": "2023-09-27T08:41:36.991Z"
   },
   {
    "duration": 61,
    "start_time": "2023-09-27T08:42:10.649Z"
   },
   {
    "duration": 36,
    "start_time": "2023-09-27T08:43:34.866Z"
   },
   {
    "duration": 30,
    "start_time": "2023-09-27T08:44:02.710Z"
   },
   {
    "duration": 46,
    "start_time": "2023-09-27T09:09:34.427Z"
   },
   {
    "duration": 39,
    "start_time": "2023-09-27T09:09:47.127Z"
   },
   {
    "duration": 4,
    "start_time": "2023-09-27T09:17:24.353Z"
   },
   {
    "duration": 30,
    "start_time": "2023-09-27T09:54:19.869Z"
   },
   {
    "duration": 4929,
    "start_time": "2023-09-27T09:57:36.048Z"
   },
   {
    "duration": 2,
    "start_time": "2023-09-27T09:58:01.770Z"
   },
   {
    "duration": 278,
    "start_time": "2023-09-27T09:58:01.774Z"
   },
   {
    "duration": 12,
    "start_time": "2023-09-27T09:58:02.054Z"
   },
   {
    "duration": 154,
    "start_time": "2023-09-27T09:58:02.068Z"
   },
   {
    "duration": 116,
    "start_time": "2023-09-27T09:58:02.225Z"
   },
   {
    "duration": 175,
    "start_time": "2023-09-27T09:58:02.343Z"
   },
   {
    "duration": 134,
    "start_time": "2023-09-27T09:58:02.519Z"
   },
   {
    "duration": 277,
    "start_time": "2023-09-27T09:58:02.654Z"
   },
   {
    "duration": 263,
    "start_time": "2023-09-27T09:58:02.933Z"
   },
   {
    "duration": 200,
    "start_time": "2023-09-27T09:58:03.198Z"
   },
   {
    "duration": 262,
    "start_time": "2023-09-27T09:58:03.400Z"
   },
   {
    "duration": 273,
    "start_time": "2023-09-27T09:58:03.664Z"
   },
   {
    "duration": 48,
    "start_time": "2023-09-27T09:58:03.939Z"
   },
   {
    "duration": 532,
    "start_time": "2023-09-27T09:58:03.988Z"
   },
   {
    "duration": 363,
    "start_time": "2023-09-27T09:58:04.522Z"
   },
   {
    "duration": 42,
    "start_time": "2023-09-27T09:58:04.971Z"
   },
   {
    "duration": 3957,
    "start_time": "2023-09-27T09:58:05.015Z"
   },
   {
    "duration": 0,
    "start_time": "2023-09-27T09:58:08.974Z"
   },
   {
    "duration": 0,
    "start_time": "2023-09-27T09:58:08.976Z"
   },
   {
    "duration": 0,
    "start_time": "2023-09-27T09:58:08.978Z"
   },
   {
    "duration": 30,
    "start_time": "2023-09-27T10:00:54.515Z"
   },
   {
    "duration": 30,
    "start_time": "2023-09-27T10:01:11.027Z"
   },
   {
    "duration": 2146,
    "start_time": "2023-09-27T10:02:03.987Z"
   },
   {
    "duration": 18,
    "start_time": "2023-09-27T10:02:22.959Z"
   },
   {
    "duration": 100,
    "start_time": "2023-09-27T10:04:11.278Z"
   },
   {
    "duration": 82,
    "start_time": "2023-09-27T10:04:20.131Z"
   },
   {
    "duration": 79,
    "start_time": "2023-09-27T10:04:29.614Z"
   },
   {
    "duration": 93,
    "start_time": "2023-09-27T10:04:37.367Z"
   },
   {
    "duration": 43,
    "start_time": "2023-09-27T10:04:46.166Z"
   },
   {
    "duration": 34,
    "start_time": "2023-09-27T10:05:19.598Z"
   },
   {
    "duration": 51,
    "start_time": "2023-09-27T10:05:22.790Z"
   },
   {
    "duration": 7,
    "start_time": "2023-09-27T10:07:50.873Z"
   },
   {
    "duration": 10,
    "start_time": "2023-09-27T10:09:41.010Z"
   },
   {
    "duration": 104,
    "start_time": "2023-09-27T10:11:57.105Z"
   },
   {
    "duration": 14,
    "start_time": "2023-09-27T10:12:23.292Z"
   },
   {
    "duration": 10,
    "start_time": "2023-09-27T10:17:06.943Z"
   },
   {
    "duration": 12,
    "start_time": "2023-09-27T10:18:12.059Z"
   },
   {
    "duration": 20,
    "start_time": "2023-09-27T10:39:09.361Z"
   },
   {
    "duration": 17,
    "start_time": "2023-09-27T10:39:18.704Z"
   },
   {
    "duration": 64,
    "start_time": "2023-09-28T04:58:22.535Z"
   },
   {
    "duration": 12,
    "start_time": "2023-09-28T04:59:12.608Z"
   },
   {
    "duration": 1323,
    "start_time": "2023-09-28T04:59:17.559Z"
   },
   {
    "duration": 264,
    "start_time": "2023-09-28T04:59:18.884Z"
   },
   {
    "duration": 12,
    "start_time": "2023-09-28T04:59:19.150Z"
   },
   {
    "duration": 41,
    "start_time": "2023-09-28T04:59:19.163Z"
   },
   {
    "duration": 35,
    "start_time": "2023-09-28T04:59:19.206Z"
   },
   {
    "duration": 182,
    "start_time": "2023-09-28T04:59:19.243Z"
   },
   {
    "duration": 138,
    "start_time": "2023-09-28T04:59:19.427Z"
   },
   {
    "duration": 311,
    "start_time": "2023-09-28T04:59:19.566Z"
   },
   {
    "duration": 293,
    "start_time": "2023-09-28T04:59:19.878Z"
   },
   {
    "duration": 251,
    "start_time": "2023-09-28T04:59:20.172Z"
   },
   {
    "duration": 270,
    "start_time": "2023-09-28T04:59:20.425Z"
   },
   {
    "duration": 347,
    "start_time": "2023-09-28T04:59:20.696Z"
   },
   {
    "duration": 42,
    "start_time": "2023-09-28T04:59:21.045Z"
   },
   {
    "duration": 401,
    "start_time": "2023-09-28T04:59:21.114Z"
   },
   {
    "duration": 380,
    "start_time": "2023-09-28T04:59:21.517Z"
   },
   {
    "duration": 43,
    "start_time": "2023-09-28T04:59:21.900Z"
   },
   {
    "duration": 72,
    "start_time": "2023-09-28T04:59:21.944Z"
   },
   {
    "duration": 30,
    "start_time": "2023-09-28T04:59:22.018Z"
   },
   {
    "duration": 18,
    "start_time": "2023-09-28T04:59:22.050Z"
   },
   {
    "duration": 80,
    "start_time": "2023-09-28T04:59:22.069Z"
   },
   {
    "duration": 7,
    "start_time": "2023-09-28T05:00:23.424Z"
   },
   {
    "duration": 7,
    "start_time": "2023-09-28T05:00:36.355Z"
   },
   {
    "duration": 9,
    "start_time": "2023-09-28T05:01:44.474Z"
   },
   {
    "duration": 10,
    "start_time": "2023-09-28T05:02:58.576Z"
   },
   {
    "duration": 9,
    "start_time": "2023-09-28T05:03:17.619Z"
   },
   {
    "duration": 7,
    "start_time": "2023-09-28T05:06:56.136Z"
   },
   {
    "duration": 11,
    "start_time": "2023-09-28T05:07:09.378Z"
   },
   {
    "duration": 8,
    "start_time": "2023-09-28T05:27:45.323Z"
   },
   {
    "duration": 13,
    "start_time": "2023-09-28T06:12:14.461Z"
   },
   {
    "duration": 15,
    "start_time": "2023-09-28T06:12:23.593Z"
   },
   {
    "duration": 11,
    "start_time": "2023-09-28T06:44:07.429Z"
   },
   {
    "duration": 41,
    "start_time": "2023-09-28T06:46:00.099Z"
   },
   {
    "duration": 25,
    "start_time": "2023-09-28T06:46:44.039Z"
   },
   {
    "duration": 17,
    "start_time": "2023-09-28T06:51:47.429Z"
   },
   {
    "duration": 11,
    "start_time": "2023-09-28T06:52:07.361Z"
   },
   {
    "duration": 4,
    "start_time": "2023-09-28T07:49:14.689Z"
   },
   {
    "duration": 173,
    "start_time": "2023-09-28T07:49:14.695Z"
   },
   {
    "duration": 14,
    "start_time": "2023-09-28T07:49:14.870Z"
   },
   {
    "duration": 53,
    "start_time": "2023-09-28T07:49:14.886Z"
   },
   {
    "duration": 46,
    "start_time": "2023-09-28T07:49:14.942Z"
   },
   {
    "duration": 165,
    "start_time": "2023-09-28T07:49:14.989Z"
   },
   {
    "duration": 159,
    "start_time": "2023-09-28T07:49:15.155Z"
   },
   {
    "duration": 335,
    "start_time": "2023-09-28T07:49:15.316Z"
   },
   {
    "duration": 430,
    "start_time": "2023-09-28T07:49:15.653Z"
   },
   {
    "duration": 258,
    "start_time": "2023-09-28T07:49:16.085Z"
   },
   {
    "duration": 295,
    "start_time": "2023-09-28T07:49:16.345Z"
   },
   {
    "duration": 318,
    "start_time": "2023-09-28T07:49:16.642Z"
   },
   {
    "duration": 72,
    "start_time": "2023-09-28T07:49:16.964Z"
   },
   {
    "duration": 443,
    "start_time": "2023-09-28T07:49:17.038Z"
   },
   {
    "duration": 589,
    "start_time": "2023-09-28T07:49:17.483Z"
   },
   {
    "duration": 63,
    "start_time": "2023-09-28T07:49:18.073Z"
   },
   {
    "duration": 275,
    "start_time": "2023-09-28T07:49:18.138Z"
   },
   {
    "duration": 31,
    "start_time": "2023-09-28T07:49:18.414Z"
   },
   {
    "duration": 29,
    "start_time": "2023-09-28T07:49:18.447Z"
   },
   {
    "duration": 60,
    "start_time": "2023-09-28T07:49:18.477Z"
   },
   {
    "duration": 4,
    "start_time": "2023-09-28T07:50:20.033Z"
   },
   {
    "duration": 209,
    "start_time": "2023-09-28T07:50:20.039Z"
   },
   {
    "duration": 21,
    "start_time": "2023-09-28T07:50:20.250Z"
   },
   {
    "duration": 47,
    "start_time": "2023-09-28T07:50:20.274Z"
   },
   {
    "duration": 35,
    "start_time": "2023-09-28T07:50:20.331Z"
   },
   {
    "duration": 267,
    "start_time": "2023-09-28T07:50:20.368Z"
   },
   {
    "duration": 181,
    "start_time": "2023-09-28T07:50:20.639Z"
   },
   {
    "duration": 373,
    "start_time": "2023-09-28T07:50:20.821Z"
   },
   {
    "duration": 330,
    "start_time": "2023-09-28T07:50:21.201Z"
   },
   {
    "duration": 232,
    "start_time": "2023-09-28T07:50:21.532Z"
   },
   {
    "duration": 497,
    "start_time": "2023-09-28T07:50:21.765Z"
   },
   {
    "duration": 332,
    "start_time": "2023-09-28T07:50:22.264Z"
   },
   {
    "duration": 72,
    "start_time": "2023-09-28T07:50:22.601Z"
   },
   {
    "duration": 481,
    "start_time": "2023-09-28T07:50:22.675Z"
   },
   {
    "duration": 474,
    "start_time": "2023-09-28T07:50:23.158Z"
   },
   {
    "duration": 46,
    "start_time": "2023-09-28T07:50:23.634Z"
   },
   {
    "duration": 325,
    "start_time": "2023-09-28T07:50:23.682Z"
   },
   {
    "duration": 37,
    "start_time": "2023-09-28T07:50:24.009Z"
   },
   {
    "duration": 38,
    "start_time": "2023-09-28T07:50:24.048Z"
   },
   {
    "duration": 57,
    "start_time": "2023-09-28T07:50:24.088Z"
   },
   {
    "duration": 1286,
    "start_time": "2023-09-28T08:55:40.802Z"
   },
   {
    "duration": 241,
    "start_time": "2023-09-28T08:55:42.090Z"
   },
   {
    "duration": 15,
    "start_time": "2023-09-28T08:55:42.333Z"
   },
   {
    "duration": 30,
    "start_time": "2023-09-28T08:55:42.350Z"
   },
   {
    "duration": 36,
    "start_time": "2023-09-28T08:55:42.382Z"
   },
   {
    "duration": 173,
    "start_time": "2023-09-28T08:55:42.419Z"
   },
   {
    "duration": 126,
    "start_time": "2023-09-28T08:55:42.593Z"
   },
   {
    "duration": 266,
    "start_time": "2023-09-28T08:55:42.721Z"
   },
   {
    "duration": 261,
    "start_time": "2023-09-28T08:55:42.988Z"
   },
   {
    "duration": 191,
    "start_time": "2023-09-28T08:55:43.251Z"
   },
   {
    "duration": 236,
    "start_time": "2023-09-28T08:55:43.443Z"
   },
   {
    "duration": 310,
    "start_time": "2023-09-28T08:55:43.681Z"
   },
   {
    "duration": 41,
    "start_time": "2023-09-28T08:55:43.992Z"
   },
   {
    "duration": 338,
    "start_time": "2023-09-28T08:55:44.049Z"
   },
   {
    "duration": 371,
    "start_time": "2023-09-28T08:55:44.388Z"
   },
   {
    "duration": 40,
    "start_time": "2023-09-28T08:55:44.761Z"
   },
   {
    "duration": 242,
    "start_time": "2023-09-28T08:55:44.803Z"
   },
   {
    "duration": 18,
    "start_time": "2023-09-28T08:55:45.049Z"
   },
   {
    "duration": 32,
    "start_time": "2023-09-28T08:55:45.068Z"
   },
   {
    "duration": 71,
    "start_time": "2023-09-28T08:55:45.101Z"
   },
   {
    "duration": 1132,
    "start_time": "2024-03-27T15:35:15.485Z"
   },
   {
    "duration": 169,
    "start_time": "2024-03-27T15:35:16.619Z"
   },
   {
    "duration": 11,
    "start_time": "2024-03-27T15:35:16.789Z"
   },
   {
    "duration": 12,
    "start_time": "2024-03-27T15:35:16.801Z"
   },
   {
    "duration": 46,
    "start_time": "2024-03-27T15:35:16.814Z"
   },
   {
    "duration": 151,
    "start_time": "2024-03-27T15:35:16.861Z"
   },
   {
    "duration": 120,
    "start_time": "2024-03-27T15:35:17.013Z"
   },
   {
    "duration": 259,
    "start_time": "2024-03-27T15:35:17.135Z"
   },
   {
    "duration": 243,
    "start_time": "2024-03-27T15:35:17.396Z"
   },
   {
    "duration": 335,
    "start_time": "2024-03-27T15:35:17.642Z"
   },
   {
    "duration": 302,
    "start_time": "2024-03-27T15:35:17.979Z"
   },
   {
    "duration": 41,
    "start_time": "2024-03-27T15:35:18.282Z"
   },
   {
    "duration": 360,
    "start_time": "2024-03-27T15:35:18.325Z"
   },
   {
    "duration": 355,
    "start_time": "2024-03-27T15:35:18.687Z"
   },
   {
    "duration": 40,
    "start_time": "2024-03-27T15:35:19.043Z"
   },
   {
    "duration": 239,
    "start_time": "2024-03-27T15:35:19.084Z"
   },
   {
    "duration": 3,
    "start_time": "2024-03-27T15:35:19.324Z"
   },
   {
    "duration": 34,
    "start_time": "2024-03-27T15:35:19.329Z"
   },
   {
    "duration": 7,
    "start_time": "2024-03-27T15:35:19.365Z"
   },
   {
    "duration": 20,
    "start_time": "2024-03-27T15:35:19.374Z"
   },
   {
    "duration": 3,
    "start_time": "2024-03-27T15:48:09.171Z"
   },
   {
    "duration": 17,
    "start_time": "2024-03-27T15:50:07.463Z"
   },
   {
    "duration": 9,
    "start_time": "2024-03-27T15:50:14.031Z"
   },
   {
    "duration": 9,
    "start_time": "2024-03-27T15:50:43.618Z"
   },
   {
    "duration": 58,
    "start_time": "2024-03-30T18:35:15.559Z"
   },
   {
    "duration": 1182,
    "start_time": "2024-03-30T18:35:18.575Z"
   },
   {
    "duration": 1133,
    "start_time": "2024-03-30T18:35:25.724Z"
   },
   {
    "duration": 360,
    "start_time": "2024-03-30T18:35:26.859Z"
   },
   {
    "duration": 14,
    "start_time": "2024-03-30T18:35:27.220Z"
   },
   {
    "duration": 11,
    "start_time": "2024-03-30T18:35:27.235Z"
   },
   {
    "duration": 57,
    "start_time": "2024-03-30T18:35:27.248Z"
   },
   {
    "duration": 169,
    "start_time": "2024-03-30T18:35:27.307Z"
   },
   {
    "duration": 144,
    "start_time": "2024-03-30T18:35:27.481Z"
   },
   {
    "duration": 304,
    "start_time": "2024-03-30T18:35:27.627Z"
   },
   {
    "duration": 282,
    "start_time": "2024-03-30T18:35:27.934Z"
   },
   {
    "duration": 382,
    "start_time": "2024-03-30T18:35:28.219Z"
   },
   {
    "duration": 357,
    "start_time": "2024-03-30T18:35:28.603Z"
   },
   {
    "duration": 55,
    "start_time": "2024-03-30T18:35:28.962Z"
   },
   {
    "duration": 386,
    "start_time": "2024-03-30T18:35:29.020Z"
   },
   {
    "duration": 404,
    "start_time": "2024-03-30T18:35:29.408Z"
   },
   {
    "duration": 42,
    "start_time": "2024-03-30T18:35:29.813Z"
   },
   {
    "duration": 279,
    "start_time": "2024-03-30T18:35:29.857Z"
   },
   {
    "duration": 3,
    "start_time": "2024-03-30T18:35:30.138Z"
   },
   {
    "duration": 45,
    "start_time": "2024-03-30T18:35:30.143Z"
   },
   {
    "duration": 39,
    "start_time": "2024-03-30T18:35:30.190Z"
   },
   {
    "duration": 61,
    "start_time": "2024-03-30T18:35:30.231Z"
   },
   {
    "duration": 1165,
    "start_time": "2024-03-30T18:36:04.020Z"
   },
   {
    "duration": 115,
    "start_time": "2024-03-30T18:36:05.186Z"
   },
   {
    "duration": 13,
    "start_time": "2024-03-30T18:36:05.302Z"
   },
   {
    "duration": 26,
    "start_time": "2024-03-30T18:36:05.317Z"
   },
   {
    "duration": 50,
    "start_time": "2024-03-30T18:36:05.345Z"
   },
   {
    "duration": 175,
    "start_time": "2024-03-30T18:36:05.397Z"
   },
   {
    "duration": 144,
    "start_time": "2024-03-30T18:36:05.575Z"
   },
   {
    "duration": 310,
    "start_time": "2024-03-30T18:36:05.721Z"
   },
   {
    "duration": 286,
    "start_time": "2024-03-30T18:36:06.033Z"
   },
   {
    "duration": 384,
    "start_time": "2024-03-30T18:36:06.322Z"
   },
   {
    "duration": 363,
    "start_time": "2024-03-30T18:36:06.707Z"
   },
   {
    "duration": 50,
    "start_time": "2024-03-30T18:36:07.072Z"
   },
   {
    "duration": 425,
    "start_time": "2024-03-30T18:36:07.124Z"
   },
   {
    "duration": 401,
    "start_time": "2024-03-30T18:36:07.551Z"
   },
   {
    "duration": 49,
    "start_time": "2024-03-30T18:36:07.953Z"
   },
   {
    "duration": 254,
    "start_time": "2024-03-30T18:36:08.003Z"
   },
   {
    "duration": 3,
    "start_time": "2024-03-30T18:36:08.258Z"
   },
   {
    "duration": 24,
    "start_time": "2024-03-30T18:36:08.262Z"
   },
   {
    "duration": 7,
    "start_time": "2024-03-30T18:36:08.287Z"
   },
   {
    "duration": 28,
    "start_time": "2024-03-30T18:36:08.296Z"
   }
  ],
  "kernelspec": {
   "display_name": "Python 3 (ipykernel)",
   "language": "python",
   "name": "python3"
  },
  "language_info": {
   "codemirror_mode": {
    "name": "ipython",
    "version": 3
   },
   "file_extension": ".py",
   "mimetype": "text/x-python",
   "name": "python",
   "nbconvert_exporter": "python",
   "pygments_lexer": "ipython3",
   "version": "3.9.5"
  },
  "toc": {
   "base_numbering": 1,
   "nav_menu": {},
   "number_sections": true,
   "sideBar": true,
   "skip_h1_title": true,
   "title_cell": "Table of Contents",
   "title_sidebar": "Contents",
   "toc_cell": false,
   "toc_position": {},
   "toc_section_display": true,
   "toc_window_display": true
  }
 },
 "nbformat": 4,
 "nbformat_minor": 5
}
