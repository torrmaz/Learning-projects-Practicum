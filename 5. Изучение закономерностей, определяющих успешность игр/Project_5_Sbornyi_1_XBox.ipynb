{
 "cells": [
  {
   "cell_type": "markdown",
   "metadata": {},
   "source": [
    "#  Описание проекта "
   ]
  },
  {
   "cell_type": "markdown",
   "metadata": {},
   "source": [
    "\n",
    "В интернет-магазине «Стримчик», который продаёт по всему миру компьютерные игры доступны данные о продажах игр, оценки пользователей и экспертов, жанры и платформы (например, Xbox или PlayStation). данные до 2016 года.Сейчас декабрь 2016 г., и в проекте планируем кампанию на 2017-й. Нужно отработать принцип работы с данными. \n",
    "\n",
    "Цель\n",
    "\n",
    "Вам нужно выявить определяющие успешность игры закономерности. Это позволит сделать ставку на потенциально популярный продукт и спланировать рекламные кампании.\n",
    "Перед вами\n",
    "\n",
    "Описание данных\n",
    "[/datasets/games.csv](https://code.s3.yandex.net/datasets/games.csv)\n",
    "- Name — название игры\n",
    "- Platform — платформа\n",
    "- Year_of_Release — год выпуска\n",
    "- Genre — жанр игры\n",
    "- NA_sales — продажи в Северной Америке (миллионы проданных копий)\n",
    "- EU_sales — продажи в Европе (миллионы проданных копий)\n",
    "- JP_sales — продажи в Японии (миллионы проданных копий)\n",
    "- Other_sales — продажи в других странах (миллионы проданных копий)\n",
    "- Critic_Score — оценка критиков (максимум 100)\n",
    "- User_Score — оценка пользователей (максимум 10)\n",
    "Rating — рейтинг от организации ESRB (англ. Entertainment Software Rating Board). Эта ассоциация определяет рейтинг компьютерных игр и присваивает им подходящую возрастную категорию.\n",
    "Данные за 2016 год могут быть неполными."
   ]
  },
  {
   "cell_type": "markdown",
   "metadata": {},
   "source": [
    "План работы\n",
    "* Шаг 1. Откроем файл с данными и изучим общую информацию\n",
    "* Шаг 2. Подготовим данные\n",
    "  * Заменим названия столбцов (приведение к нижнему регистру);\n",
    "  * Преобразуем данные в нужные типы. Опишем, в каких столбцах заменили тип данных и почему;\n",
    "  * Обработаем пропуски при необходимости:\n",
    "     * Почему заполняли пропуски определённым образом или почему не стали это делать;\n",
    "     * Попробуем описать причины, которые могли привести к пропускам;\n",
    "     * Аббревиатуру 'tbd' в столбце с оценкой пользователей отдельно разберем это значение и опишем, как его обработать;\n",
    "    * Посчитаем суммарные продажи во всех регионах и запишем их в отдельный столбец.\n",
    "* Шаг 3. Проведем исследовательский анализ данных\n",
    "    * Посмотрим, сколько игр выпускалось в разные годы. Важны ли данные за все периоды?\n",
    "    * Посмотрим, как менялись продажи по платформам. Выберем платформы с наибольшими суммарными продажами и построим распределение по годам. За какой характерный срок появляются новые и исчезают старые платформы?\n",
    "    * Возьмем данные за соответствующий актуальный период. Актуальный период определите самостоятельно основной фактор — эти данные помогут построить прогноз на 2017 год.\n",
    "    * Далее работаем с усеченным данными\n",
    "    * Какие платформы лидируют по продажам, растут или падают? Выберем несколько потенциально прибыльных платформ.\n",
    "    * Построим график «ящик с усами» по глобальным продажам игр в разбивке по платформам.\n",
    "    * Посмотрим, как влияют на продажи внутри одной популярной платформы отзывы пользователей и критиков. Построим диаграмму рассеяния и посчитаем корреляцию между отзывами и продажами. Сформулируем выводы.\n",
    "    * Соотнесем выводы с продажами игр на других платформах.\n",
    "    * Посмотрим на общее распределение игр по жанрам. Выделяются ли жанры с высокими и низкими продажами?\n",
    "* Шаг 4. Составим портрет пользователя каждого региона\n",
    "    * Определим для пользователя каждого региона (NA, EU, JP):\n",
    "        * Самые популярные платформы (топ-5). Опишите различия в долях продаж.\n",
    "        * Самые популярные жанры (топ-5). Поясните разницу.\n",
    "        * Влияет ли рейтинг ESRB на продажи в отдельном регионе?\n",
    "* Шаг 5. Проверим гипотезы\n",
    "    * Средние пользовательские рейтинги платформ Xbox One и PC одинаковые;\n",
    "    * Средние пользовательские рейтинги жанров Action (англ. «действие», экшен-игры) и Sports (англ. «спортивные соревнования») разные.\n",
    "* Шаг 6. Напишем общий вывод"
   ]
  },
  {
   "cell_type": "markdown",
   "metadata": {},
   "source": [
    "## Шаг. Откроем файл с данными и изучим общую информацию"
   ]
  },
  {
   "cell_type": "code",
   "execution_count": 1,
   "metadata": {},
   "outputs": [],
   "source": [
    "import pandas as pd# Импортируем необходимые библиотеки\n",
    "import seaborn as sns\n",
    "import numpy as np\n",
    "from matplotlib import pyplot as plt\n",
    "from scipy import stats as st"
   ]
  },
  {
   "cell_type": "code",
   "execution_count": 2,
   "metadata": {},
   "outputs": [
    {
     "data": {
      "text/html": [
       "<div>\n",
       "<style scoped>\n",
       "    .dataframe tbody tr th:only-of-type {\n",
       "        vertical-align: middle;\n",
       "    }\n",
       "\n",
       "    .dataframe tbody tr th {\n",
       "        vertical-align: top;\n",
       "    }\n",
       "\n",
       "    .dataframe thead th {\n",
       "        text-align: right;\n",
       "    }\n",
       "</style>\n",
       "<table border=\"1\" class=\"dataframe\">\n",
       "  <thead>\n",
       "    <tr style=\"text-align: right;\">\n",
       "      <th></th>\n",
       "      <th>Name</th>\n",
       "      <th>Platform</th>\n",
       "      <th>Year_of_Release</th>\n",
       "      <th>Genre</th>\n",
       "      <th>NA_sales</th>\n",
       "      <th>EU_sales</th>\n",
       "      <th>JP_sales</th>\n",
       "      <th>Other_sales</th>\n",
       "      <th>Critic_Score</th>\n",
       "      <th>User_Score</th>\n",
       "      <th>Rating</th>\n",
       "    </tr>\n",
       "  </thead>\n",
       "  <tbody>\n",
       "    <tr>\n",
       "      <th>0</th>\n",
       "      <td>Wii Sports</td>\n",
       "      <td>Wii</td>\n",
       "      <td>2006.0</td>\n",
       "      <td>Sports</td>\n",
       "      <td>41.36</td>\n",
       "      <td>28.96</td>\n",
       "      <td>3.77</td>\n",
       "      <td>8.45</td>\n",
       "      <td>76.0</td>\n",
       "      <td>8</td>\n",
       "      <td>E</td>\n",
       "    </tr>\n",
       "    <tr>\n",
       "      <th>1</th>\n",
       "      <td>Super Mario Bros.</td>\n",
       "      <td>NES</td>\n",
       "      <td>1985.0</td>\n",
       "      <td>Platform</td>\n",
       "      <td>29.08</td>\n",
       "      <td>3.58</td>\n",
       "      <td>6.81</td>\n",
       "      <td>0.77</td>\n",
       "      <td>NaN</td>\n",
       "      <td>NaN</td>\n",
       "      <td>NaN</td>\n",
       "    </tr>\n",
       "    <tr>\n",
       "      <th>2</th>\n",
       "      <td>Mario Kart Wii</td>\n",
       "      <td>Wii</td>\n",
       "      <td>2008.0</td>\n",
       "      <td>Racing</td>\n",
       "      <td>15.68</td>\n",
       "      <td>12.76</td>\n",
       "      <td>3.79</td>\n",
       "      <td>3.29</td>\n",
       "      <td>82.0</td>\n",
       "      <td>8.3</td>\n",
       "      <td>E</td>\n",
       "    </tr>\n",
       "    <tr>\n",
       "      <th>3</th>\n",
       "      <td>Wii Sports Resort</td>\n",
       "      <td>Wii</td>\n",
       "      <td>2009.0</td>\n",
       "      <td>Sports</td>\n",
       "      <td>15.61</td>\n",
       "      <td>10.93</td>\n",
       "      <td>3.28</td>\n",
       "      <td>2.95</td>\n",
       "      <td>80.0</td>\n",
       "      <td>8</td>\n",
       "      <td>E</td>\n",
       "    </tr>\n",
       "    <tr>\n",
       "      <th>4</th>\n",
       "      <td>Pokemon Red/Pokemon Blue</td>\n",
       "      <td>GB</td>\n",
       "      <td>1996.0</td>\n",
       "      <td>Role-Playing</td>\n",
       "      <td>11.27</td>\n",
       "      <td>8.89</td>\n",
       "      <td>10.22</td>\n",
       "      <td>1.00</td>\n",
       "      <td>NaN</td>\n",
       "      <td>NaN</td>\n",
       "      <td>NaN</td>\n",
       "    </tr>\n",
       "  </tbody>\n",
       "</table>\n",
       "</div>"
      ],
      "text/plain": [
       "                       Name Platform  Year_of_Release         Genre  NA_sales  \\\n",
       "0                Wii Sports      Wii           2006.0        Sports     41.36   \n",
       "1         Super Mario Bros.      NES           1985.0      Platform     29.08   \n",
       "2            Mario Kart Wii      Wii           2008.0        Racing     15.68   \n",
       "3         Wii Sports Resort      Wii           2009.0        Sports     15.61   \n",
       "4  Pokemon Red/Pokemon Blue       GB           1996.0  Role-Playing     11.27   \n",
       "\n",
       "   EU_sales  JP_sales  Other_sales  Critic_Score User_Score Rating  \n",
       "0     28.96      3.77         8.45          76.0          8      E  \n",
       "1      3.58      6.81         0.77           NaN        NaN    NaN  \n",
       "2     12.76      3.79         3.29          82.0        8.3      E  \n",
       "3     10.93      3.28         2.95          80.0          8      E  \n",
       "4      8.89     10.22         1.00           NaN        NaN    NaN  "
      ]
     },
     "metadata": {},
     "output_type": "display_data"
    },
    {
     "name": "stdout",
     "output_type": "stream",
     "text": [
      "<class 'pandas.core.frame.DataFrame'>\n",
      "RangeIndex: 16715 entries, 0 to 16714\n",
      "Data columns (total 11 columns):\n",
      " #   Column           Non-Null Count  Dtype  \n",
      "---  ------           --------------  -----  \n",
      " 0   Name             16713 non-null  object \n",
      " 1   Platform         16715 non-null  object \n",
      " 2   Year_of_Release  16446 non-null  float64\n",
      " 3   Genre            16713 non-null  object \n",
      " 4   NA_sales         16715 non-null  float64\n",
      " 5   EU_sales         16715 non-null  float64\n",
      " 6   JP_sales         16715 non-null  float64\n",
      " 7   Other_sales      16715 non-null  float64\n",
      " 8   Critic_Score     8137 non-null   float64\n",
      " 9   User_Score       10014 non-null  object \n",
      " 10  Rating           9949 non-null   object \n",
      "dtypes: float64(6), object(5)\n",
      "memory usage: 1.4+ MB\n"
     ]
    },
    {
     "data": {
      "text/plain": [
       "None"
      ]
     },
     "metadata": {},
     "output_type": "display_data"
    }
   ],
   "source": [
    "try:\n",
    "    df=pd.read_csv('/datasets/games.csv')\n",
    "except:\n",
    "    df=pd.read_csv('https://code.s3.yandex.net/datasets/games.csv')\n",
    "display(df.head())\n",
    "display(df.info())"
   ]
  },
  {
   "cell_type": "code",
   "execution_count": 3,
   "metadata": {},
   "outputs": [
    {
     "data": {
      "text/plain": [
       "0"
      ]
     },
     "execution_count": 3,
     "metadata": {},
     "output_type": "execute_result"
    }
   ],
   "source": [
    "df.duplicated().sum()# Проводим проверку на явные дубликаты"
   ]
  },
  {
   "cell_type": "markdown",
   "metadata": {},
   "source": [
    "Вывод:Датасет содержит 16715 строк.Необходимо привести названия столбцов к змеиному регистру. Большое колличество пропусков в столбцах Critic_Score,User_Score и Rating. Незначительное колличество пропусков в столбцах Year_of_Release и Name."
   ]
  },
  {
   "cell_type": "markdown",
   "metadata": {},
   "source": [
    "## Шаг. Подготовка данных"
   ]
  },
  {
   "cell_type": "markdown",
   "metadata": {},
   "source": [
    "### Приводим названия колонок к нижнему регистру"
   ]
  },
  {
   "cell_type": "code",
   "execution_count": 4,
   "metadata": {},
   "outputs": [
    {
     "data": {
      "text/plain": [
       "Index(['name', 'platform', 'year_of_release', 'genre', 'na_sales', 'eu_sales',\n",
       "       'jp_sales', 'other_sales', 'critic_score', 'user_score', 'rating'],\n",
       "      dtype='object')"
      ]
     },
     "execution_count": 4,
     "metadata": {},
     "output_type": "execute_result"
    }
   ],
   "source": [
    "df.columns = df.columns.str.lower()#Приводим названия колонок к нижнему регистру\n",
    "df.columns"
   ]
  },
  {
   "cell_type": "markdown",
   "metadata": {},
   "source": [
    "### Ищем неявные дубликаты в столбце name"
   ]
  },
  {
   "cell_type": "code",
   "execution_count": 5,
   "metadata": {},
   "outputs": [
    {
     "data": {
      "text/html": [
       "<div>\n",
       "<style scoped>\n",
       "    .dataframe tbody tr th:only-of-type {\n",
       "        vertical-align: middle;\n",
       "    }\n",
       "\n",
       "    .dataframe tbody tr th {\n",
       "        vertical-align: top;\n",
       "    }\n",
       "\n",
       "    .dataframe thead th {\n",
       "        text-align: right;\n",
       "    }\n",
       "</style>\n",
       "<table border=\"1\" class=\"dataframe\">\n",
       "  <thead>\n",
       "    <tr style=\"text-align: right;\">\n",
       "      <th></th>\n",
       "      <th>name</th>\n",
       "      <th>platform</th>\n",
       "      <th>year_of_release</th>\n",
       "      <th>genre</th>\n",
       "      <th>na_sales</th>\n",
       "      <th>eu_sales</th>\n",
       "      <th>jp_sales</th>\n",
       "      <th>other_sales</th>\n",
       "      <th>critic_score</th>\n",
       "      <th>user_score</th>\n",
       "      <th>rating</th>\n",
       "    </tr>\n",
       "  </thead>\n",
       "  <tbody>\n",
       "    <tr>\n",
       "      <th>14244</th>\n",
       "      <td>NaN</td>\n",
       "      <td>GEN</td>\n",
       "      <td>1993.0</td>\n",
       "      <td>NaN</td>\n",
       "      <td>0.0</td>\n",
       "      <td>0.00</td>\n",
       "      <td>0.03</td>\n",
       "      <td>0.0</td>\n",
       "      <td>NaN</td>\n",
       "      <td>NaN</td>\n",
       "      <td>NaN</td>\n",
       "    </tr>\n",
       "    <tr>\n",
       "      <th>16230</th>\n",
       "      <td>Madden NFL 13</td>\n",
       "      <td>PS3</td>\n",
       "      <td>2012.0</td>\n",
       "      <td>Sports</td>\n",
       "      <td>0.0</td>\n",
       "      <td>0.01</td>\n",
       "      <td>0.00</td>\n",
       "      <td>0.0</td>\n",
       "      <td>83.0</td>\n",
       "      <td>5.5</td>\n",
       "      <td>E</td>\n",
       "    </tr>\n",
       "  </tbody>\n",
       "</table>\n",
       "</div>"
      ],
      "text/plain": [
       "                name platform  year_of_release   genre  na_sales  eu_sales  \\\n",
       "14244            NaN      GEN           1993.0     NaN       0.0      0.00   \n",
       "16230  Madden NFL 13      PS3           2012.0  Sports       0.0      0.01   \n",
       "\n",
       "       jp_sales  other_sales  critic_score user_score rating  \n",
       "14244      0.03          0.0           NaN        NaN    NaN  \n",
       "16230      0.00          0.0          83.0        5.5      E  "
      ]
     },
     "metadata": {},
     "output_type": "display_data"
    }
   ],
   "source": [
    "display(df[df.duplicated(subset=['name','platform','year_of_release'])==True])\n",
    "df.drop_duplicates(subset=['name','platform','year_of_release'],keep='first',inplace=True)"
   ]
  },
  {
   "cell_type": "code",
   "execution_count": 6,
   "metadata": {},
   "outputs": [
    {
     "data": {
      "text/html": [
       "<div>\n",
       "<style scoped>\n",
       "    .dataframe tbody tr th:only-of-type {\n",
       "        vertical-align: middle;\n",
       "    }\n",
       "\n",
       "    .dataframe tbody tr th {\n",
       "        vertical-align: top;\n",
       "    }\n",
       "\n",
       "    .dataframe thead th {\n",
       "        text-align: right;\n",
       "    }\n",
       "</style>\n",
       "<table border=\"1\" class=\"dataframe\">\n",
       "  <thead>\n",
       "    <tr style=\"text-align: right;\">\n",
       "      <th></th>\n",
       "      <th>name</th>\n",
       "      <th>platform</th>\n",
       "      <th>year_of_release</th>\n",
       "      <th>genre</th>\n",
       "      <th>na_sales</th>\n",
       "      <th>eu_sales</th>\n",
       "      <th>jp_sales</th>\n",
       "      <th>other_sales</th>\n",
       "      <th>critic_score</th>\n",
       "      <th>user_score</th>\n",
       "      <th>rating</th>\n",
       "    </tr>\n",
       "  </thead>\n",
       "  <tbody>\n",
       "  </tbody>\n",
       "</table>\n",
       "</div>"
      ],
      "text/plain": [
       "Empty DataFrame\n",
       "Columns: [name, platform, year_of_release, genre, na_sales, eu_sales, jp_sales, other_sales, critic_score, user_score, rating]\n",
       "Index: []"
      ]
     },
     "execution_count": 6,
     "metadata": {},
     "output_type": "execute_result"
    }
   ],
   "source": [
    "df1=df.query('platform == \"DS\"').query('year_of_release<2000')# В этой строке год выпуска игры значительно меньше чем год выхода латформы\n",
    "df.reset_index(drop=True)\n",
    "df[(df['year_of_release']==1985) & (df['platform'] == \"DS\")]['year_of_release']\n",
    "df.loc[15957,'year_of_release']=2004\n",
    "df1"
   ]
  },
  {
   "cell_type": "markdown",
   "metadata": {},
   "source": [
    "Наличие дубликатов связано с тем что в даннык рейтинг для некоторых игр представлен на разных платформах.Избавились от двух строк с пропушенными значениеми в name, и одного неявного дубликата для игры Madden NFL 13"
   ]
  },
  {
   "cell_type": "markdown",
   "metadata": {},
   "source": [
    "### name"
   ]
  },
  {
   "cell_type": "code",
   "execution_count": 7,
   "metadata": {},
   "outputs": [
    {
     "data": {
      "text/html": [
       "<div>\n",
       "<style scoped>\n",
       "    .dataframe tbody tr th:only-of-type {\n",
       "        vertical-align: middle;\n",
       "    }\n",
       "\n",
       "    .dataframe tbody tr th {\n",
       "        vertical-align: top;\n",
       "    }\n",
       "\n",
       "    .dataframe thead th {\n",
       "        text-align: right;\n",
       "    }\n",
       "</style>\n",
       "<table border=\"1\" class=\"dataframe\">\n",
       "  <thead>\n",
       "    <tr style=\"text-align: right;\">\n",
       "      <th></th>\n",
       "      <th>name</th>\n",
       "      <th>platform</th>\n",
       "      <th>year_of_release</th>\n",
       "      <th>genre</th>\n",
       "      <th>na_sales</th>\n",
       "      <th>eu_sales</th>\n",
       "      <th>jp_sales</th>\n",
       "      <th>other_sales</th>\n",
       "      <th>critic_score</th>\n",
       "      <th>user_score</th>\n",
       "      <th>rating</th>\n",
       "    </tr>\n",
       "  </thead>\n",
       "  <tbody>\n",
       "    <tr>\n",
       "      <th>659</th>\n",
       "      <td>NaN</td>\n",
       "      <td>GEN</td>\n",
       "      <td>1993.0</td>\n",
       "      <td>NaN</td>\n",
       "      <td>1.78</td>\n",
       "      <td>0.53</td>\n",
       "      <td>0.0</td>\n",
       "      <td>0.08</td>\n",
       "      <td>NaN</td>\n",
       "      <td>NaN</td>\n",
       "      <td>NaN</td>\n",
       "    </tr>\n",
       "  </tbody>\n",
       "</table>\n",
       "</div>"
      ],
      "text/plain": [
       "    name platform  year_of_release genre  na_sales  eu_sales  jp_sales  \\\n",
       "659  NaN      GEN           1993.0   NaN      1.78      0.53       0.0   \n",
       "\n",
       "     other_sales  critic_score user_score rating  \n",
       "659         0.08           NaN        NaN    NaN  "
      ]
     },
     "metadata": {},
     "output_type": "display_data"
    }
   ],
   "source": [
    "display(df.query('name.isna()==True'))#Игры без названий интереса не представляют\n",
    "df=df.dropna(subset=['name'])"
   ]
  },
  {
   "cell_type": "markdown",
   "metadata": {},
   "source": [
    "### year_of_release"
   ]
  },
  {
   "cell_type": "code",
   "execution_count": 8,
   "metadata": {},
   "outputs": [
    {
     "data": {
      "text/plain": [
       "269"
      ]
     },
     "metadata": {},
     "output_type": "display_data"
    }
   ],
   "source": [
    "display(df['year_of_release'].isna().sum())#269 пропусков в данных о годе выпуска\n",
    "df=df.dropna(subset=['year_of_release'])#избавляемся от них т.к. составляют менее 2 % данных\n",
    "df.year_of_release=df.year_of_release.astype('int64')#приводим к целочисленному типу"
   ]
  },
  {
   "cell_type": "markdown",
   "metadata": {},
   "source": [
    "### critic_score"
   ]
  },
  {
   "cell_type": "code",
   "execution_count": 9,
   "metadata": {},
   "outputs": [
    {
     "data": {
      "text/plain": [
       "array([76., nan, 82., 80., 89., 58., 87., 91., 61., 97., 95., 77., 88.,\n",
       "       83., 94., 93., 85., 86., 98., 96., 90., 84., 73., 74., 78., 92.,\n",
       "       71., 72., 68., 62., 49., 67., 81., 66., 56., 79., 70., 59., 64.,\n",
       "       75., 60., 63., 69., 50., 25., 42., 44., 55., 48., 57., 29., 47.,\n",
       "       65., 54., 20., 53., 37., 38., 33., 52., 30., 32., 43., 45., 51.,\n",
       "       40., 46., 39., 34., 41., 36., 31., 27., 35., 26., 19., 28., 23.,\n",
       "       24., 21., 17., 13.])"
      ]
     },
     "metadata": {},
     "output_type": "display_data"
    }
   ],
   "source": [
    "display(df['critic_score'].unique())\n",
    "df['critic_score'] = df.critic_score.astype('Int64')"
   ]
  },
  {
   "cell_type": "markdown",
   "metadata": {},
   "source": [
    "### user_score"
   ]
  },
  {
   "cell_type": "code",
   "execution_count": 10,
   "metadata": {},
   "outputs": [
    {
     "data": {
      "text/plain": [
       "array(['8', nan, '8.3', '8.5', '6.6', '8.4', '8.6', '7.7', '6.3', '7.4',\n",
       "       '8.2', '9', '7.9', '8.1', '8.7', '7.1', '3.4', '5.3', '4.8', '3.2',\n",
       "       '8.9', '6.4', '7.8', '7.5', '2.6', '7.2', '9.2', '7', '7.3', '4.3',\n",
       "       '7.6', '5.7', '5', '9.1', '6.5', 'tbd', '8.8', '6.9', '9.4', '6.8',\n",
       "       '6.1', '6.7', '5.4', '4', '4.9', '4.5', '9.3', '6.2', '4.2', '6',\n",
       "       '3.7', '4.1', '5.8', '5.6', '5.5', '4.4', '4.6', '5.9', '3.9',\n",
       "       '3.1', '2.9', '5.2', '3.3', '4.7', '5.1', '3.5', '2.5', '1.9', '3',\n",
       "       '2.7', '2.2', '2', '9.5', '2.1', '3.6', '2.8', '1.8', '3.8', '0',\n",
       "       '1.6', '9.6', '2.4', '1.7', '1.1', '0.3', '1.5', '0.7', '1.2',\n",
       "       '2.3', '0.5', '1.3', '0.2', '0.6', '1.4', '0.9', '1', '9.7'],\n",
       "      dtype=object)"
      ]
     },
     "metadata": {},
     "output_type": "display_data"
    }
   ],
   "source": [
    "display(df.user_score.unique())\n",
    "#TBD - аббревиатура от английского To Be Determined (будет определено) скорее всего было мало отзывов для формирования рейтинга\n",
    "#Заменим значение \"tbd\"  на NaN\n",
    "df.user_score = df.user_score.replace('tbd', np.NaN)\n",
    "df.user_score = df.user_score.astype('float64')"
   ]
  },
  {
   "cell_type": "markdown",
   "metadata": {},
   "source": [
    "### rating"
   ]
  },
  {
   "cell_type": "code",
   "execution_count": 11,
   "metadata": {},
   "outputs": [
    {
     "name": "stdout",
     "output_type": "stream",
     "text": [
      "<class 'pandas.core.frame.DataFrame'>\n",
      "Int64Index: 16443 entries, 0 to 16714\n",
      "Data columns (total 11 columns):\n",
      " #   Column           Non-Null Count  Dtype  \n",
      "---  ------           --------------  -----  \n",
      " 0   name             16443 non-null  object \n",
      " 1   platform         16443 non-null  object \n",
      " 2   year_of_release  16443 non-null  int64  \n",
      " 3   genre            16443 non-null  object \n",
      " 4   na_sales         16443 non-null  float64\n",
      " 5   eu_sales         16443 non-null  float64\n",
      " 6   jp_sales         16443 non-null  float64\n",
      " 7   other_sales      16443 non-null  float64\n",
      " 8   critic_score     7982 non-null   Int64  \n",
      " 9   user_score       7462 non-null   float64\n",
      " 10  rating           16443 non-null  object \n",
      "dtypes: Int64(1), float64(5), int64(1), object(4)\n",
      "memory usage: 1.5+ MB\n"
     ]
    }
   ],
   "source": [
    "df.rating = df.rating.fillna(\"Unknown\")\n",
    "df.info()"
   ]
  },
  {
   "cell_type": "markdown",
   "metadata": {},
   "source": [
    "Первичная обработка данных завершена, на этом этапе датасет был очищен от 271 строки, на основании отсутствия данных в столбцах name и year_of_release, что составляет менее 2 % от всех данных.\n",
    "Так же столбцы critic_score, user_score и rating были приведены к соответствующим типам данных, пропуски в этих столбцах были обработаны,значение \"tbd\" в user_score было изменено на NaN"
   ]
  },
  {
   "cell_type": "markdown",
   "metadata": {},
   "source": [
    "### Посчитаем суммарные продажи во всех регионах"
   ]
  },
  {
   "cell_type": "code",
   "execution_count": 15,
   "metadata": {},
   "outputs": [
    {
     "data": {
      "text/html": [
       "<div>\n",
       "<style scoped>\n",
       "    .dataframe tbody tr th:only-of-type {\n",
       "        vertical-align: middle;\n",
       "    }\n",
       "\n",
       "    .dataframe tbody tr th {\n",
       "        vertical-align: top;\n",
       "    }\n",
       "\n",
       "    .dataframe thead th {\n",
       "        text-align: right;\n",
       "    }\n",
       "</style>\n",
       "<table border=\"1\" class=\"dataframe\">\n",
       "  <thead>\n",
       "    <tr style=\"text-align: right;\">\n",
       "      <th></th>\n",
       "      <th>name</th>\n",
       "      <th>platform</th>\n",
       "      <th>year_of_release</th>\n",
       "      <th>genre</th>\n",
       "      <th>na_sales</th>\n",
       "      <th>eu_sales</th>\n",
       "      <th>jp_sales</th>\n",
       "      <th>other_sales</th>\n",
       "      <th>critic_score</th>\n",
       "      <th>user_score</th>\n",
       "      <th>rating</th>\n",
       "      <th>w_sales</th>\n",
       "    </tr>\n",
       "  </thead>\n",
       "  <tbody>\n",
       "    <tr>\n",
       "      <th>0</th>\n",
       "      <td>Wii Sports</td>\n",
       "      <td>Wii</td>\n",
       "      <td>2006.0</td>\n",
       "      <td>Sports</td>\n",
       "      <td>41.36</td>\n",
       "      <td>28.96</td>\n",
       "      <td>3.77</td>\n",
       "      <td>8.45</td>\n",
       "      <td>76.0</td>\n",
       "      <td>8</td>\n",
       "      <td>E</td>\n",
       "      <td>82.54</td>\n",
       "    </tr>\n",
       "    <tr>\n",
       "      <th>1</th>\n",
       "      <td>Super Mario Bros.</td>\n",
       "      <td>NES</td>\n",
       "      <td>1985.0</td>\n",
       "      <td>Platform</td>\n",
       "      <td>29.08</td>\n",
       "      <td>3.58</td>\n",
       "      <td>6.81</td>\n",
       "      <td>0.77</td>\n",
       "      <td>NaN</td>\n",
       "      <td>NaN</td>\n",
       "      <td>NaN</td>\n",
       "      <td>40.24</td>\n",
       "    </tr>\n",
       "    <tr>\n",
       "      <th>2</th>\n",
       "      <td>Mario Kart Wii</td>\n",
       "      <td>Wii</td>\n",
       "      <td>2008.0</td>\n",
       "      <td>Racing</td>\n",
       "      <td>15.68</td>\n",
       "      <td>12.76</td>\n",
       "      <td>3.79</td>\n",
       "      <td>3.29</td>\n",
       "      <td>82.0</td>\n",
       "      <td>8.3</td>\n",
       "      <td>E</td>\n",
       "      <td>35.52</td>\n",
       "    </tr>\n",
       "    <tr>\n",
       "      <th>3</th>\n",
       "      <td>Wii Sports Resort</td>\n",
       "      <td>Wii</td>\n",
       "      <td>2009.0</td>\n",
       "      <td>Sports</td>\n",
       "      <td>15.61</td>\n",
       "      <td>10.93</td>\n",
       "      <td>3.28</td>\n",
       "      <td>2.95</td>\n",
       "      <td>80.0</td>\n",
       "      <td>8</td>\n",
       "      <td>E</td>\n",
       "      <td>32.77</td>\n",
       "    </tr>\n",
       "    <tr>\n",
       "      <th>4</th>\n",
       "      <td>Pokemon Red/Pokemon Blue</td>\n",
       "      <td>GB</td>\n",
       "      <td>1996.0</td>\n",
       "      <td>Role-Playing</td>\n",
       "      <td>11.27</td>\n",
       "      <td>8.89</td>\n",
       "      <td>10.22</td>\n",
       "      <td>1.00</td>\n",
       "      <td>NaN</td>\n",
       "      <td>NaN</td>\n",
       "      <td>NaN</td>\n",
       "      <td>31.38</td>\n",
       "    </tr>\n",
       "    <tr>\n",
       "      <th>...</th>\n",
       "      <td>...</td>\n",
       "      <td>...</td>\n",
       "      <td>...</td>\n",
       "      <td>...</td>\n",
       "      <td>...</td>\n",
       "      <td>...</td>\n",
       "      <td>...</td>\n",
       "      <td>...</td>\n",
       "      <td>...</td>\n",
       "      <td>...</td>\n",
       "      <td>...</td>\n",
       "      <td>...</td>\n",
       "    </tr>\n",
       "    <tr>\n",
       "      <th>16710</th>\n",
       "      <td>Samurai Warriors: Sanada Maru</td>\n",
       "      <td>PS3</td>\n",
       "      <td>2016.0</td>\n",
       "      <td>Action</td>\n",
       "      <td>0.00</td>\n",
       "      <td>0.00</td>\n",
       "      <td>0.01</td>\n",
       "      <td>0.00</td>\n",
       "      <td>NaN</td>\n",
       "      <td>NaN</td>\n",
       "      <td>NaN</td>\n",
       "      <td>0.01</td>\n",
       "    </tr>\n",
       "    <tr>\n",
       "      <th>16711</th>\n",
       "      <td>LMA Manager 2007</td>\n",
       "      <td>X360</td>\n",
       "      <td>2006.0</td>\n",
       "      <td>Sports</td>\n",
       "      <td>0.00</td>\n",
       "      <td>0.01</td>\n",
       "      <td>0.00</td>\n",
       "      <td>0.00</td>\n",
       "      <td>NaN</td>\n",
       "      <td>NaN</td>\n",
       "      <td>NaN</td>\n",
       "      <td>0.01</td>\n",
       "    </tr>\n",
       "    <tr>\n",
       "      <th>16712</th>\n",
       "      <td>Haitaka no Psychedelica</td>\n",
       "      <td>PSV</td>\n",
       "      <td>2016.0</td>\n",
       "      <td>Adventure</td>\n",
       "      <td>0.00</td>\n",
       "      <td>0.00</td>\n",
       "      <td>0.01</td>\n",
       "      <td>0.00</td>\n",
       "      <td>NaN</td>\n",
       "      <td>NaN</td>\n",
       "      <td>NaN</td>\n",
       "      <td>0.01</td>\n",
       "    </tr>\n",
       "    <tr>\n",
       "      <th>16713</th>\n",
       "      <td>Spirits &amp; Spells</td>\n",
       "      <td>GBA</td>\n",
       "      <td>2003.0</td>\n",
       "      <td>Platform</td>\n",
       "      <td>0.01</td>\n",
       "      <td>0.00</td>\n",
       "      <td>0.00</td>\n",
       "      <td>0.00</td>\n",
       "      <td>NaN</td>\n",
       "      <td>NaN</td>\n",
       "      <td>NaN</td>\n",
       "      <td>0.01</td>\n",
       "    </tr>\n",
       "    <tr>\n",
       "      <th>16714</th>\n",
       "      <td>Winning Post 8 2016</td>\n",
       "      <td>PSV</td>\n",
       "      <td>2016.0</td>\n",
       "      <td>Simulation</td>\n",
       "      <td>0.00</td>\n",
       "      <td>0.00</td>\n",
       "      <td>0.01</td>\n",
       "      <td>0.00</td>\n",
       "      <td>NaN</td>\n",
       "      <td>NaN</td>\n",
       "      <td>NaN</td>\n",
       "      <td>0.01</td>\n",
       "    </tr>\n",
       "  </tbody>\n",
       "</table>\n",
       "<p>16715 rows × 12 columns</p>\n",
       "</div>"
      ],
      "text/plain": [
       "                                name platform  year_of_release         genre  \\\n",
       "0                         Wii Sports      Wii           2006.0        Sports   \n",
       "1                  Super Mario Bros.      NES           1985.0      Platform   \n",
       "2                     Mario Kart Wii      Wii           2008.0        Racing   \n",
       "3                  Wii Sports Resort      Wii           2009.0        Sports   \n",
       "4           Pokemon Red/Pokemon Blue       GB           1996.0  Role-Playing   \n",
       "...                              ...      ...              ...           ...   \n",
       "16710  Samurai Warriors: Sanada Maru      PS3           2016.0        Action   \n",
       "16711               LMA Manager 2007     X360           2006.0        Sports   \n",
       "16712        Haitaka no Psychedelica      PSV           2016.0     Adventure   \n",
       "16713               Spirits & Spells      GBA           2003.0      Platform   \n",
       "16714            Winning Post 8 2016      PSV           2016.0    Simulation   \n",
       "\n",
       "       na_sales  eu_sales  jp_sales  other_sales  critic_score user_score  \\\n",
       "0         41.36     28.96      3.77         8.45          76.0          8   \n",
       "1         29.08      3.58      6.81         0.77           NaN        NaN   \n",
       "2         15.68     12.76      3.79         3.29          82.0        8.3   \n",
       "3         15.61     10.93      3.28         2.95          80.0          8   \n",
       "4         11.27      8.89     10.22         1.00           NaN        NaN   \n",
       "...         ...       ...       ...          ...           ...        ...   \n",
       "16710      0.00      0.00      0.01         0.00           NaN        NaN   \n",
       "16711      0.00      0.01      0.00         0.00           NaN        NaN   \n",
       "16712      0.00      0.00      0.01         0.00           NaN        NaN   \n",
       "16713      0.01      0.00      0.00         0.00           NaN        NaN   \n",
       "16714      0.00      0.00      0.01         0.00           NaN        NaN   \n",
       "\n",
       "      rating  w_sales  \n",
       "0          E    82.54  \n",
       "1        NaN    40.24  \n",
       "2          E    35.52  \n",
       "3          E    32.77  \n",
       "4        NaN    31.38  \n",
       "...      ...      ...  \n",
       "16710    NaN     0.01  \n",
       "16711    NaN     0.01  \n",
       "16712    NaN     0.01  \n",
       "16713    NaN     0.01  \n",
       "16714    NaN     0.01  \n",
       "\n",
       "[16715 rows x 12 columns]"
      ]
     },
     "execution_count": 15,
     "metadata": {},
     "output_type": "execute_result"
    }
   ],
   "source": [
    "df['w_sales'] = df['na_sales'] + df['eu_sales'] + df['jp_sales'] + df['other_sales']\n",
    "df"
   ]
  },
  {
   "cell_type": "markdown",
   "metadata": {},
   "source": [
    "Вывод:Пропуски в столбцах name и  genre скорее всего случайны, может при заполнении данных таблицы были пропущены значения. А в столбцах critic_score, user_score и rating тем, что для некоторых игр рейтинг не собирался, в виду небольшой популярности игры или ранним годом выпуска."
   ]
  },
  {
   "cell_type": "markdown",
   "metadata": {},
   "source": [
    "## Шаг. Исследовательский анализ данных\n",
    "### Посмотрим, сколько игр выпускалось в разные годы."
   ]
  },
  {
   "cell_type": "code",
   "execution_count": 16,
   "metadata": {},
   "outputs": [
    {
     "data": {
      "image/png": "[encoded data removed]",
      "text/plain": [
       "<Figure size 864x360 with 1 Axes>"
      ]
     },
     "metadata": {
      "needs_background": "light"
     },
     "output_type": "display_data"
    }
   ],
   "source": [
    "df_years = pd.pivot_table(df, index='year_of_release', values='name', aggfunc='count')\n",
    "df_years.plot(kind='bar', ylabel='',title='Колличество выпущенных игр по годам реализации', figsize=(12, 5),rot=90)\n",
    "plt.xlabel('Год выпуска')\n",
    "plt.ylabel('Выпущенно игр, шт');"
   ]
  },
  {
   "cell_type": "markdown",
   "metadata": {},
   "source": [
    "До 1994 года игры выпускались не чаще чем 100 штук в год, эта часть данных для дальнейшего анализа малопоказательна.Затем вплоть до 2009 года наблюдается увеличение колличества выпускаемых игр, после 2010 года новинок игровой индустрии становится меньше\n",
    ",и к 2012 уровень выпуска новинок падает до уровня в начале тысячелетия."
   ]
  },
  {
   "cell_type": "markdown",
   "metadata": {},
   "source": [
    "### Посмотрbим, как менялись продажи по платформам. За какой характерный срок появляются новые и исчезают старые платформы?"
   ]
  },
  {
   "cell_type": "code",
   "execution_count": 19,
   "metadata": {},
   "outputs": [
    {
     "data": {
      "text/plain": [
       "['PS2', 'X360', 'PS3', 'Wii', 'DS', 'PS']"
      ]
     },
     "execution_count": 19,
     "metadata": {},
     "output_type": "execute_result"
    },
    {
     "data": {
      "image/png": "[encoded data removed]",
      "text/plain": [
       "<Figure size 864x360 with 1 Axes>"
      ]
     },
     "metadata": {
      "needs_background": "light"
     },
     "output_type": "display_data"
    }
   ],
   "source": [
    "df_platform=df.groupby(['platform']).agg({'w_sales':'sum'}).sort_values(by='w_sales', ascending=False)\n",
    "df_platform.plot(kind='bar', ylabel='',title='Колличество выпущенных игр на разных платформах', figsize=(12, 5),rot=90)\n",
    "plt.xlabel('Название платформы')\n",
    "plt.ylabel('Продано млн.')\n",
    "platform = list(df_platform.index[:6])\n",
    "platform"
   ]
  },
  {
   "cell_type": "markdown",
   "metadata": {},
   "source": [
    "Самыми популярными платформами являются ['PS2', 'X360', 'PS3', 'Wii', 'DS', 'PS']"
   ]
  },
  {
   "cell_type": "code",
   "execution_count": 15,
   "metadata": {},
   "outputs": [
    {
     "data": {
      "image/png": "[encoded data removed]",
      "text/plain": [
       "<Figure size 432x288 with 1 Axes>"
      ]
     },
     "metadata": {
      "needs_background": "light"
     },
     "output_type": "display_data"
    },
    {
     "data": {
      "image/png": "[encoded data removed]",
      "text/plain": [
       "<Figure size 432x288 with 1 Axes>"
      ]
     },
     "metadata": {
      "needs_background": "light"
     },
     "output_type": "display_data"
    },
    {
     "data": {
      "image/png": "[encoded data removed]",
      "text/plain": [
       "<Figure size 432x288 with 1 Axes>"
      ]
     },
     "metadata": {
      "needs_background": "light"
     },
     "output_type": "display_data"
    },
    {
     "data": {
      "image/png": "[encoded data removed]",
      "text/plain": [
       "<Figure size 432x288 with 1 Axes>"
      ]
     },
     "metadata": {
      "needs_background": "light"
     },
     "output_type": "display_data"
    },
    {
     "data": {
      "image/png": "[encoded data removed]",
      "text/plain": [
       "<Figure size 432x288 with 1 Axes>"
      ]
     },
     "metadata": {
      "needs_background": "light"
     },
     "output_type": "display_data"
    },
    {
     "data": {
      "image/png": "[encoded data removed]",
      "text/plain": [
       "<Figure size 432x288 with 1 Axes>"
      ]
     },
     "metadata": {
      "needs_background": "light"
     },
     "output_type": "display_data"
    }
   ],
   "source": [
    "for pltf in platform:\n",
    "    pltf_sales = pd.pivot_table(df.query('platform == @pltf'), index=['year_of_release'], values='w_sales', aggfunc='sum')\n",
    "    pltf_sales.plot();\n",
    "    plt.title(pltf)"
   ]
  },
  {
   "cell_type": "markdown",
   "metadata": {},
   "source": [
    "Из построеных графиков распределения видны продажи игр на разные платформы в зависимости от годов выпуска.\n",
    "\n",
    "* Самая популярная платформа PS2 имеет пик продаж в 2004 году, со сроком жизни платформы в 10 лет\n",
    "* Пик продаж игр на платформу XBOX360 приходится на 2010 год, платформа была популярна на протяжении 11 лет\n",
    "* PS3 Имеет очень похожий максимум продаж, и тоде продержалась 10 лет\n",
    "* Приставка Wii со старта продаж заимела высокую популярность,но за три года прекратила рост и продажи быстро упали.Срок жизни 6 лет\n",
    "* Платформа DS принимает пик популярности в 2008 году, 9 лет была популярна\n",
    "* Платформа PS в 1988 году самая продаваемая, 8 лет держалась на рынке\n",
    "Вывод: Срок жизни платформы в среднем составляет 9 лет, после этого платформа либо вытесняется конкурентами, либо заменяется новым поколением."
   ]
  },
  {
   "cell_type": "markdown",
   "metadata": {},
   "source": [
    "### Возьмем данные за актуальный период. \n",
    "Актуальный период необходимо определить для построения прогноза на 2017 год.С учетом распределения продаж самых популярных платформ возьмем срез данных с 2013 года, так как в этом году вышла новая платформа PS4, а популярные платформы уже идут на спад Не учитывайте в работе данные за предыдущие годы.\n",
    "Какие платформы лидируют по продажам, растут или падают? Выберите несколько потенциально прибыльных платформ.\n"
   ]
  },
  {
   "cell_type": "code",
   "execution_count": 24,
   "metadata": {},
   "outputs": [
    {
     "data": {
      "image/png": "[encoded data removed]",
      "text/plain": [
       "<Figure size 720x432 with 1 Axes>"
      ]
     },
     "metadata": {
      "needs_background": "light"
     },
     "output_type": "display_data"
    }
   ],
   "source": [
    "df_act=df.query('year_of_release>=2013')\n",
    "platform=df_act.pivot_table(index='year_of_release',columns='platform',values='w_sales',aggfunc='sum')\n",
    "platform.plot(figsize=(10,6));\n",
    "plt.xticks(ticks=np.arange(2013,2017,1));"
   ]
  },
  {
   "cell_type": "markdown",
   "metadata": {},
   "source": [
    "Самым прибыльными по состоянию на 2016 год можно считать платформы PS4 XOne и 3DS, и хотя продажи игр на эти платформы сейчас переживают падение, на эти три платформы стоит делать ставку в будующем году. "
   ]
  },
  {
   "cell_type": "markdown",
   "metadata": {},
   "source": [
    "### Построим график «ящик с усами» по глобальным продажам игр в разбивке по платформам."
   ]
  },
  {
   "cell_type": "code",
   "execution_count": 17,
   "metadata": {},
   "outputs": [
    {
     "data": {
      "text/plain": [
       "platform\n",
       "3DS     143.25\n",
       "DS        1.54\n",
       "PC       39.43\n",
       "PS3     181.43\n",
       "PS4     314.14\n",
       "PSP       3.50\n",
       "PSV      32.99\n",
       "Wii      13.66\n",
       "WiiU     64.63\n",
       "X360    136.80\n",
       "XOne    159.32\n",
       "Name: w_sales, dtype: float64"
      ]
     },
     "execution_count": 17,
     "metadata": {},
     "output_type": "execute_result"
    },
    {
     "data": {
      "image/png": "[encoded data removed]",
      "text/plain": [
       "<Figure size 1080x720 with 1 Axes>"
      ]
     },
     "metadata": {
      "needs_background": "light"
     },
     "output_type": "display_data"
    },
    {
     "data": {
      "image/png": "[encoded data removed]",
      "text/plain": [
       "<Figure size 1080x720 with 1 Axes>"
      ]
     },
     "metadata": {
      "needs_background": "light"
     },
     "output_type": "display_data"
    }
   ],
   "source": [
    "platform_sales=df_act.pivot_table(index=['platform','year_of_release'],values='w_sales',aggfunc='sum')\n",
    "plt.figure(figsize=(15,10))\n",
    "sns.boxplot(x=\"w_sales\", y=\"platform\", data=platform_sales.reset_index())\n",
    "\n",
    "platform_sales=df_act.groupby('platform')['w_sales'].sum()\n",
    "plt.figure(figsize=(15,10))\n",
    "sns.boxplot( y=df_act[\"platform\"],x=df_act[\"w_sales\"], data=platform_sales.reset_index())\n",
    "platform_sales"
   ]
  },
  {
   "cell_type": "markdown",
   "metadata": {},
   "source": [
    "Из \"ящика с усами\" видим данные о продажах для каждой платформы, выделяется PS4, она является самой прибыльной за этот период.У xbox360 и PS3 видны вбросы с большими значениями, значит эти платформы имели несколько более популярных игр чем на ведущей приставке, "
   ]
  },
  {
   "cell_type": "markdown",
   "metadata": {},
   "source": [
    "### Как влияют на продажи внутри одной популярной платформы отзывы пользователей и критиков"
   ]
  },
  {
   "cell_type": "code",
   "execution_count": 18,
   "metadata": {},
   "outputs": [
    {
     "name": "stdout",
     "output_type": "stream",
     "text": [
      "Диаграмма рассеяния для PS4\n"
     ]
    },
    {
     "data": {
      "image/png": "[encoded data removed]",
      "text/plain": [
       "<Figure size 540x540 with 12 Axes>"
      ]
     },
     "metadata": {
      "needs_background": "light"
     },
     "output_type": "display_data"
    },
    {
     "name": "stdout",
     "output_type": "stream",
     "text": [
      "PS2\n",
      "Корелляция продаж от оценок пользователей 0.18\n",
      "Корелляция продаж от оценок критиков 0.39\n",
      "X360\n",
      "Корелляция продаж от оценок пользователей 0.11\n",
      "Корелляция продаж от оценок критиков 0.39\n",
      "PS3\n",
      "Корелляция продаж от оценок пользователей 0.13\n",
      "Корелляция продаж от оценок критиков 0.43\n",
      "Wii\n",
      "Корелляция продаж от оценок пользователей 0.11\n",
      "Корелляция продаж от оценок критиков 0.18\n",
      "DS\n",
      "Корелляция продаж от оценок пользователей 0.13\n",
      "Корелляция продаж от оценок критиков 0.24\n",
      "PS\n",
      "Корелляция продаж от оценок пользователей 0.3\n",
      "Корелляция продаж от оценок критиков 0.45\n",
      "PS4\n",
      "Корелляция продаж от оценок пользователей -0.03\n",
      "Корелляция продаж от оценок критиков 0.41\n"
     ]
    }
   ],
   "source": [
    "print(\"Диаграмма рассеяния для PS4\")\n",
    "diagr=sns.pairplot(df_act[df_act.platform == \"PS4\"][['w_sales', 'critic_score', 'user_score']])\n",
    "plt.show()\n",
    "df_act.groupby(['platform']).agg({'w_sales':'sum'}).sort_values(by='w_sales', ascending=False)\n",
    "top_5 = list(df_platform.index[:7])#Платформы учавствующие в исследовании\n",
    "for i in top_5:\n",
    "    print(i)\n",
    "    s=df[df.platform == i][['w_sales', 'critic_score', 'user_score']].corr()\n",
    "    print(f'Корелляция продаж от оценок пользователей {s.user_score.w_sales.round(2)}')\n",
    "    print(f'Корелляция продаж от оценок критиков {s.critic_score.w_sales.round(2)}')"
   ]
  },
  {
   "cell_type": "markdown",
   "metadata": {},
   "source": [
    "Из матрицы рассеяния для PS4 видим что чем выше оценка критика тем выше продажи.Для остальных популярных платформ видим что корелляция продаж от оценок пользователей у всех платформ значительно ниже чем от оценок критиков. Следовательно при покупке игры оценка критиков имее для игроков большую значимость."
   ]
  },
  {
   "cell_type": "markdown",
   "metadata": {},
   "source": [
    "### Посмотрите на общее распределение игр по жанрам.\n",
    "\n",
    "Соотнесите выводы с продажами игр на других платформах. Посмотрите на общее распределение игр по жанрам. Что можно сказать о самых прибыльных жанрах? Выделяются ли жанры с высокими и низкими продажами?"
   ]
  },
  {
   "cell_type": "code",
   "execution_count": 25,
   "metadata": {},
   "outputs": [
    {
     "data": {
      "text/html": [
       "<div>\n",
       "<style scoped>\n",
       "    .dataframe tbody tr th:only-of-type {\n",
       "        vertical-align: middle;\n",
       "    }\n",
       "\n",
       "    .dataframe tbody tr th {\n",
       "        vertical-align: top;\n",
       "    }\n",
       "\n",
       "    .dataframe thead th {\n",
       "        text-align: right;\n",
       "    }\n",
       "</style>\n",
       "<table border=\"1\" class=\"dataframe\">\n",
       "  <thead>\n",
       "    <tr style=\"text-align: right;\">\n",
       "      <th></th>\n",
       "      <th>mean</th>\n",
       "      <th>median</th>\n",
       "    </tr>\n",
       "    <tr>\n",
       "      <th>genre</th>\n",
       "      <th></th>\n",
       "      <th></th>\n",
       "    </tr>\n",
       "  </thead>\n",
       "  <tbody>\n",
       "    <tr>\n",
       "      <th>Shooter</th>\n",
       "      <td>1.245882</td>\n",
       "      <td>0.450</td>\n",
       "    </tr>\n",
       "    <tr>\n",
       "      <th>Sports</th>\n",
       "      <td>0.703972</td>\n",
       "      <td>0.240</td>\n",
       "    </tr>\n",
       "    <tr>\n",
       "      <th>Platform</th>\n",
       "      <td>0.576081</td>\n",
       "      <td>0.225</td>\n",
       "    </tr>\n",
       "    <tr>\n",
       "      <th>Role-Playing</th>\n",
       "      <td>0.499623</td>\n",
       "      <td>0.125</td>\n",
       "    </tr>\n",
       "    <tr>\n",
       "      <th>Racing</th>\n",
       "      <td>0.469294</td>\n",
       "      <td>0.120</td>\n",
       "    </tr>\n",
       "    <tr>\n",
       "      <th>Fighting</th>\n",
       "      <td>0.441375</td>\n",
       "      <td>0.125</td>\n",
       "    </tr>\n",
       "    <tr>\n",
       "      <th>Action</th>\n",
       "      <td>0.420196</td>\n",
       "      <td>0.110</td>\n",
       "    </tr>\n",
       "    <tr>\n",
       "      <th>Misc</th>\n",
       "      <td>0.405290</td>\n",
       "      <td>0.100</td>\n",
       "    </tr>\n",
       "    <tr>\n",
       "      <th>Simulation</th>\n",
       "      <td>0.350968</td>\n",
       "      <td>0.100</td>\n",
       "    </tr>\n",
       "    <tr>\n",
       "      <th>Puzzle</th>\n",
       "      <td>0.186471</td>\n",
       "      <td>0.060</td>\n",
       "    </tr>\n",
       "    <tr>\n",
       "      <th>Strategy</th>\n",
       "      <td>0.180000</td>\n",
       "      <td>0.080</td>\n",
       "    </tr>\n",
       "    <tr>\n",
       "      <th>Adventure</th>\n",
       "      <td>0.096490</td>\n",
       "      <td>0.030</td>\n",
       "    </tr>\n",
       "  </tbody>\n",
       "</table>\n",
       "</div>"
      ],
      "text/plain": [
       "                  mean  median\n",
       "genre                         \n",
       "Shooter       1.245882   0.450\n",
       "Sports        0.703972   0.240\n",
       "Platform      0.576081   0.225\n",
       "Role-Playing  0.499623   0.125\n",
       "Racing        0.469294   0.120\n",
       "Fighting      0.441375   0.125\n",
       "Action        0.420196   0.110\n",
       "Misc          0.405290   0.100\n",
       "Simulation    0.350968   0.100\n",
       "Puzzle        0.186471   0.060\n",
       "Strategy      0.180000   0.080\n",
       "Adventure     0.096490   0.030"
      ]
     },
     "metadata": {},
     "output_type": "display_data"
    },
    {
     "data": {
      "text/html": [
       "<div>\n",
       "<style scoped>\n",
       "    .dataframe tbody tr th:only-of-type {\n",
       "        vertical-align: middle;\n",
       "    }\n",
       "\n",
       "    .dataframe tbody tr th {\n",
       "        vertical-align: top;\n",
       "    }\n",
       "\n",
       "    .dataframe thead th {\n",
       "        text-align: right;\n",
       "    }\n",
       "</style>\n",
       "<table border=\"1\" class=\"dataframe\">\n",
       "  <thead>\n",
       "    <tr style=\"text-align: right;\">\n",
       "      <th></th>\n",
       "      <th>mean</th>\n",
       "      <th>median</th>\n",
       "    </tr>\n",
       "    <tr>\n",
       "      <th>genre</th>\n",
       "      <th></th>\n",
       "      <th></th>\n",
       "    </tr>\n",
       "  </thead>\n",
       "  <tbody>\n",
       "    <tr>\n",
       "      <th>Shooter</th>\n",
       "      <td>1.245882</td>\n",
       "      <td>0.450</td>\n",
       "    </tr>\n",
       "    <tr>\n",
       "      <th>Sports</th>\n",
       "      <td>0.703972</td>\n",
       "      <td>0.240</td>\n",
       "    </tr>\n",
       "    <tr>\n",
       "      <th>Platform</th>\n",
       "      <td>0.576081</td>\n",
       "      <td>0.225</td>\n",
       "    </tr>\n",
       "    <tr>\n",
       "      <th>Role-Playing</th>\n",
       "      <td>0.499623</td>\n",
       "      <td>0.125</td>\n",
       "    </tr>\n",
       "    <tr>\n",
       "      <th>Fighting</th>\n",
       "      <td>0.441375</td>\n",
       "      <td>0.125</td>\n",
       "    </tr>\n",
       "    <tr>\n",
       "      <th>Racing</th>\n",
       "      <td>0.469294</td>\n",
       "      <td>0.120</td>\n",
       "    </tr>\n",
       "    <tr>\n",
       "      <th>Action</th>\n",
       "      <td>0.420196</td>\n",
       "      <td>0.110</td>\n",
       "    </tr>\n",
       "    <tr>\n",
       "      <th>Simulation</th>\n",
       "      <td>0.350968</td>\n",
       "      <td>0.100</td>\n",
       "    </tr>\n",
       "    <tr>\n",
       "      <th>Misc</th>\n",
       "      <td>0.405290</td>\n",
       "      <td>0.100</td>\n",
       "    </tr>\n",
       "    <tr>\n",
       "      <th>Strategy</th>\n",
       "      <td>0.180000</td>\n",
       "      <td>0.080</td>\n",
       "    </tr>\n",
       "    <tr>\n",
       "      <th>Puzzle</th>\n",
       "      <td>0.186471</td>\n",
       "      <td>0.060</td>\n",
       "    </tr>\n",
       "    <tr>\n",
       "      <th>Adventure</th>\n",
       "      <td>0.096490</td>\n",
       "      <td>0.030</td>\n",
       "    </tr>\n",
       "  </tbody>\n",
       "</table>\n",
       "</div>"
      ],
      "text/plain": [
       "                  mean  median\n",
       "genre                         \n",
       "Shooter       1.245882   0.450\n",
       "Sports        0.703972   0.240\n",
       "Platform      0.576081   0.225\n",
       "Role-Playing  0.499623   0.125\n",
       "Fighting      0.441375   0.125\n",
       "Racing        0.469294   0.120\n",
       "Action        0.420196   0.110\n",
       "Simulation    0.350968   0.100\n",
       "Misc          0.405290   0.100\n",
       "Strategy      0.180000   0.080\n",
       "Puzzle        0.186471   0.060\n",
       "Adventure     0.096490   0.030"
      ]
     },
     "metadata": {},
     "output_type": "display_data"
    },
    {
     "data": {
      "image/png": "[encoded data removed]",
      "text/plain": [
       "<Figure size 1080x720 with 1 Axes>"
      ]
     },
     "metadata": {
      "needs_background": "light"
     },
     "output_type": "display_data"
    }
   ],
   "source": [
    "e = pd.pivot_table(df_act, index='genre', values='w_sales', aggfunc={'w_sales': ['mean', 'median']})\n",
    "display(e.sort_values(by='mean',ascending=False))\n",
    "display(e.sort_values(by='median',ascending=False))\n",
    "\n",
    "\n",
    "p=df_act.groupby('genre')['w_sales'].median()\n",
    "plt.figure(figsize=(15,10))\n",
    "sns.boxplot( y=df_act['genre'],x=df_act[\"w_sales\"], data=p.reset_index());"
   ]
  },
  {
   "cell_type": "markdown",
   "metadata": {},
   "source": [
    "Shooter является самым популярным жанром, сразу за ним Sports и Platform. На \"ящике с усами\" видно что у жанра Action многие игры имели аномально высокие продажи, несмотря на эти единичные случаи Shooter продается лучше"
   ]
  },
  {
   "cell_type": "markdown",
   "metadata": {},
   "source": [
    "## Шаг 4 Составьте портрет пользователя каждого региона \n",
    "Определите для пользователя каждого региона (NA, EU, JP): Самые популярные платформы (топ-5). Опишите различия в долях продаж. Самые популярные жанры (топ-5). Поясните разницу. Влияет ли рейтинг ESRB на продажи в отдельном регионе?"
   ]
  },
  {
   "cell_type": "markdown",
   "metadata": {},
   "source": [
    "### North America"
   ]
  },
  {
   "cell_type": "code",
   "execution_count": 20,
   "metadata": {
    "scrolled": false
   },
   "outputs": [
    {
     "name": "stdout",
     "output_type": "stream",
     "text": [
      "<class 'pandas.core.frame.DataFrame'>\n",
      "Int64Index: 1309 entries, 16 to 16672\n",
      "Data columns (total 12 columns):\n",
      " #   Column           Non-Null Count  Dtype  \n",
      "---  ------           --------------  -----  \n",
      " 0   name             1309 non-null   object \n",
      " 1   platform         1309 non-null   object \n",
      " 2   year_of_release  1309 non-null   int64  \n",
      " 3   genre            1309 non-null   object \n",
      " 4   na_sales         1309 non-null   float64\n",
      " 5   eu_sales         1309 non-null   float64\n",
      " 6   jp_sales         1309 non-null   float64\n",
      " 7   other_sales      1309 non-null   float64\n",
      " 8   critic_score     809 non-null    Int64  \n",
      " 9   user_score       974 non-null    float64\n",
      " 10  rating           1309 non-null   object \n",
      " 11  w_sales          1309 non-null   float64\n",
      "dtypes: Int64(1), float64(6), int64(1), object(4)\n",
      "memory usage: 134.2+ KB\n"
     ]
    },
    {
     "data": {
      "image/png": "[encoded data removed]",
      "text/plain": [
       "<Figure size 720x288 with 1 Axes>"
      ]
     },
     "metadata": {
      "needs_background": "light"
     },
     "output_type": "display_data"
    },
    {
     "data": {
      "image/png": "[encoded data removed]",
      "text/plain": [
       "<Figure size 720x288 with 1 Axes>"
      ]
     },
     "metadata": {
      "needs_background": "light"
     },
     "output_type": "display_data"
    },
    {
     "data": {
      "image/png": "[encoded data removed]",
      "text/plain": [
       "<Figure size 720x288 with 1 Axes>"
      ]
     },
     "metadata": {
      "needs_background": "light"
     },
     "output_type": "display_data"
    },
    {
     "name": "stdout",
     "output_type": "stream",
     "text": [
      "rating\n",
      "M          165.21\n",
      "Unknown     89.42\n",
      "E           79.05\n",
      "E10+        54.24\n",
      "T           49.79\n",
      "Name: na_sales, dtype: float64\n"
     ]
    }
   ],
   "source": [
    "def portrait (area):\n",
    "    na.info()\n",
    "    steps=['platform','genre','rating']\n",
    "    for i in steps:\n",
    "        na_platform = pd.pivot_table(na, index=i, values=area,\n",
    "                                        aggfunc='sum').sort_values(area, ascending=False)\n",
    "        plt.figure(figsize=(10,4))\n",
    "        na_platform_graph = na_platform.reset_index()\n",
    "\n",
    "        na_platform[area].plot.bar(grid=True)#plt.bar(na_platform_graph[area],height=2)\n",
    "        plt.show()\n",
    "    print(na_platform[area])\n",
    "na= df_act.query('na_sales > 0')\n",
    "portrait('na_sales')"
   ]
  },
  {
   "cell_type": "markdown",
   "metadata": {},
   "source": [
    "- Американский пользователь отдает предпочтение консоли PS4. Конкурирующий XOne хоть и отстает, зато в прошлом поколении приставка обошла PS.\n",
    "- Жанры по популярности\n",
    "\n",
    "    - Action\n",
    "    - Shooter\n",
    "    - Sports\n",
    "    - Role-Playing\n",
    "    - Misc\n",
    "- Популярны игры с рейтингом M (Mature)"
   ]
  },
  {
   "cell_type": "markdown",
   "metadata": {},
   "source": [
    "### Europe"
   ]
  },
  {
   "cell_type": "code",
   "execution_count": 21,
   "metadata": {},
   "outputs": [
    {
     "name": "stdout",
     "output_type": "stream",
     "text": [
      "<class 'pandas.core.frame.DataFrame'>\n",
      "Int64Index: 1422 entries, 16 to 16692\n",
      "Data columns (total 12 columns):\n",
      " #   Column           Non-Null Count  Dtype  \n",
      "---  ------           --------------  -----  \n",
      " 0   name             1422 non-null   object \n",
      " 1   platform         1422 non-null   object \n",
      " 2   year_of_release  1422 non-null   int64  \n",
      " 3   genre            1422 non-null   object \n",
      " 4   na_sales         1422 non-null   float64\n",
      " 5   eu_sales         1422 non-null   float64\n",
      " 6   jp_sales         1422 non-null   float64\n",
      " 7   other_sales      1422 non-null   float64\n",
      " 8   critic_score     872 non-null    Int64  \n",
      " 9   user_score       1047 non-null   float64\n",
      " 10  rating           1422 non-null   object \n",
      " 11  w_sales          1422 non-null   float64\n",
      "dtypes: Int64(1), float64(6), int64(1), object(4)\n",
      "memory usage: 145.8+ KB\n"
     ]
    },
    {
     "data": {
      "image/png": "[encoded data removed]",
      "text/plain": [
       "<Figure size 720x288 with 1 Axes>"
      ]
     },
     "metadata": {
      "needs_background": "light"
     },
     "output_type": "display_data"
    },
    {
     "data": {
      "image/png": "[encoded data removed]",
      "text/plain": [
       "<Figure size 720x288 with 1 Axes>"
      ]
     },
     "metadata": {
      "needs_background": "light"
     },
     "output_type": "display_data"
    },
    {
     "data": {
      "image/png": "[encoded data removed]",
      "text/plain": [
       "<Figure size 720x288 with 1 Axes>"
      ]
     },
     "metadata": {
      "needs_background": "light"
     },
     "output_type": "display_data"
    },
    {
     "name": "stdout",
     "output_type": "stream",
     "text": [
      "rating\n",
      "M          145.32\n",
      "E           83.36\n",
      "Unknown     78.91\n",
      "E10+        42.69\n",
      "T           41.95\n",
      "Name: eu_sales, dtype: float64\n"
     ]
    }
   ],
   "source": [
    "na= df_act.query('eu_sales > 0')\n",
    "portrait('eu_sales')"
   ]
  },
  {
   "cell_type": "markdown",
   "metadata": {},
   "source": [
    "- Европейские игроки однозначно предпочитают играть на консоли PS4\n",
    "- Жанры по популярности\n",
    "\n",
    "    - Action\n",
    "    - Shooter\n",
    "    - Sports\n",
    "    - Role-Playing\n",
    "    - Racing\n",
    "- Популярны игры с рейтингом M (Mature)"
   ]
  },
  {
   "cell_type": "markdown",
   "metadata": {},
   "source": [
    "### Japan"
   ]
  },
  {
   "cell_type": "code",
   "execution_count": 22,
   "metadata": {},
   "outputs": [
    {
     "name": "stdout",
     "output_type": "stream",
     "text": [
      "<class 'pandas.core.frame.DataFrame'>\n",
      "Int64Index: 1187 entries, 16 to 16714\n",
      "Data columns (total 12 columns):\n",
      " #   Column           Non-Null Count  Dtype  \n",
      "---  ------           --------------  -----  \n",
      " 0   name             1187 non-null   object \n",
      " 1   platform         1187 non-null   object \n",
      " 2   year_of_release  1187 non-null   int64  \n",
      " 3   genre            1187 non-null   object \n",
      " 4   na_sales         1187 non-null   float64\n",
      " 5   eu_sales         1187 non-null   float64\n",
      " 6   jp_sales         1187 non-null   float64\n",
      " 7   other_sales      1187 non-null   float64\n",
      " 8   critic_score     410 non-null    Int64  \n",
      " 9   user_score       462 non-null    float64\n",
      " 10  rating           1187 non-null   object \n",
      " 11  w_sales          1187 non-null   float64\n",
      "dtypes: Int64(1), float64(6), int64(1), object(4)\n",
      "memory usage: 121.7+ KB\n"
     ]
    },
    {
     "data": {
      "image/png": "[encoded data removed]",
      "text/plain": [
       "<Figure size 720x288 with 1 Axes>"
      ]
     },
     "metadata": {
      "needs_background": "light"
     },
     "output_type": "display_data"
    },
    {
     "data": {
      "image/png": "[encoded data removed]",
      "text/plain": [
       "<Figure size 720x288 with 1 Axes>"
      ]
     },
     "metadata": {
      "needs_background": "light"
     },
     "output_type": "display_data"
    },
    {
     "data": {
      "image/png": "[encoded data removed]",
      "text/plain": [
       "<Figure size 720x288 with 1 Axes>"
      ]
     },
     "metadata": {
      "needs_background": "light"
     },
     "output_type": "display_data"
    },
    {
     "name": "stdout",
     "output_type": "stream",
     "text": [
      "rating\n",
      "Unknown    85.05\n",
      "T          20.59\n",
      "E          15.14\n",
      "M          14.11\n",
      "E10+        5.89\n",
      "Name: jp_sales, dtype: float64\n"
     ]
    }
   ],
   "source": [
    "na= df_act.query('jp_sales > 0')\n",
    "portrait('jp_sales')"
   ]
  },
  {
   "cell_type": "markdown",
   "metadata": {},
   "source": [
    "- Японские игроки выбирают приставку 3DS видимо она больше подходит для игр жанра Role-Playing популярного в данном регионе.\n",
    "- Жанры по популярности\n",
    "    - Role-Playing\n",
    "    - Action\n",
    "    - Misc\n",
    "    - Fighting\n",
    "    - Shooter\n",
    "- Выделяется рейтинг Teen, но большинство игр не отмечены рейтингом ESRB, скорее всего в японии своя система рейтингов"
   ]
  },
  {
   "cell_type": "markdown",
   "metadata": {},
   "source": [
    "### Other"
   ]
  },
  {
   "cell_type": "code",
   "execution_count": 23,
   "metadata": {},
   "outputs": [
    {
     "name": "stdout",
     "output_type": "stream",
     "text": [
      "<class 'pandas.core.frame.DataFrame'>\n",
      "Int64Index: 1187 entries, 16 to 16714\n",
      "Data columns (total 12 columns):\n",
      " #   Column           Non-Null Count  Dtype  \n",
      "---  ------           --------------  -----  \n",
      " 0   name             1187 non-null   object \n",
      " 1   platform         1187 non-null   object \n",
      " 2   year_of_release  1187 non-null   int64  \n",
      " 3   genre            1187 non-null   object \n",
      " 4   na_sales         1187 non-null   float64\n",
      " 5   eu_sales         1187 non-null   float64\n",
      " 6   jp_sales         1187 non-null   float64\n",
      " 7   other_sales      1187 non-null   float64\n",
      " 8   critic_score     410 non-null    Int64  \n",
      " 9   user_score       462 non-null    float64\n",
      " 10  rating           1187 non-null   object \n",
      " 11  w_sales          1187 non-null   float64\n",
      "dtypes: Int64(1), float64(6), int64(1), object(4)\n",
      "memory usage: 121.7+ KB\n"
     ]
    },
    {
     "data": {
      "image/png": "[encoded data removed]",
      "text/plain": [
       "<Figure size 720x288 with 1 Axes>"
      ]
     },
     "metadata": {
      "needs_background": "light"
     },
     "output_type": "display_data"
    },
    {
     "data": {
      "image/png": "[encoded data removed]",
      "text/plain": [
       "<Figure size 720x288 with 1 Axes>"
      ]
     },
     "metadata": {
      "needs_background": "light"
     },
     "output_type": "display_data"
    },
    {
     "data": {
      "image/png": "[encoded data removed]",
      "text/plain": [
       "<Figure size 720x288 with 1 Axes>"
      ]
     },
     "metadata": {
      "needs_background": "light"
     },
     "output_type": "display_data"
    },
    {
     "name": "stdout",
     "output_type": "stream",
     "text": [
      "rating\n",
      "M          37.13\n",
      "Unknown    17.05\n",
      "E          14.24\n",
      "T           9.54\n",
      "E10+        4.48\n",
      "Name: other_sales, dtype: float64\n"
     ]
    }
   ],
   "source": [
    "na= df_act.query('jp_sales > 0')\n",
    "portrait('other_sales')"
   ]
  },
  {
   "cell_type": "markdown",
   "metadata": {},
   "source": [
    "- Для игроков остального мира самой предпочтительной является PS4.\n",
    "- Жанры по популярности(Распределение похоже на европейское)\n",
    "    - Action\n",
    "    - Shooter\n",
    "    - Sports\n",
    "    - Role-Playing\n",
    "    - Racing\n",
    "- Выделяется рейтинг M\n"
   ]
  },
  {
   "cell_type": "markdown",
   "metadata": {},
   "source": [
    "## Шаг. Проверьте гипотезы \n",
    "Средние пользовательские рейтинги платформ Xbox One и PC одинаковые; Средние пользовательские рейтинги жанров Action (англ. «действие», экшен-игры) и Sports (англ. «спортивные соревнования») разные. Задайте самостоятельно пороговое значение alpha. Поясните: Как вы сформулировали нулевую и альтернативную гипотезы; Какой критерий применили для проверки гипотез и почему."
   ]
  },
  {
   "cell_type": "markdown",
   "metadata": {},
   "source": [
    "Гипотеза 1\n",
    "\n",
    "h0:Средние пользовательские рейтинги платформ Xbox One и PC одинаковые\n",
    "\n",
    "h1:Средние пользовательские рейтинги платформ Xbox One и PC разные"
   ]
  },
  {
   "cell_type": "code",
   "execution_count": 24,
   "metadata": {},
   "outputs": [
    {
     "name": "stdout",
     "output_type": "stream",
     "text": [
      "p-значение: 0.14012658403611647\n",
      "Не получилось отвергнуть нулевую гипотезу\n",
      "6.521428571428572\n",
      "6.2696774193548395\n"
     ]
    }
   ],
   "source": [
    "sample_1 = df_act[df_act['platform']==\"XOne\"]['user_score'].dropna() # Оценки пользователей Xbox One\n",
    "sample_2 = df_act[df_act['platform']==\"PC\"]['user_score'].dropna()\n",
    "\n",
    "alpha = 0.01\n",
    "\n",
    "results = st.ttest_ind(sample_1,sample_2)\n",
    "\n",
    "print('p-значение:', results.pvalue)\n",
    "\n",
    "if (results.pvalue < alpha):\n",
    "    print(\"Отвергаем нулевую гипотезу\")\n",
    "else:\n",
    "    print(\"Не получилось отвергнуть нулевую гипотезу\")\n",
    "print(sample_1.mean())\n",
    "print(sample_2.mean())"
   ]
  },
  {
   "cell_type": "markdown",
   "metadata": {},
   "source": [
    "На основании Т-теста не удалось отвергнуть нулевую гипотезу, утверждение о том что средние пользовательские рейтинги платформ Xbox One и PC одинаковые можно считать верным."
   ]
  },
  {
   "cell_type": "markdown",
   "metadata": {},
   "source": [
    "Гипотеза 2\n",
    "\n",
    "h0:Средние пользовательские рейтинги жанров Action и Sports равны\n",
    "\n",
    "h1:Средние пользовательские рейтинги жанров Action и Sports разные"
   ]
  },
  {
   "cell_type": "code",
   "execution_count": 25,
   "metadata": {},
   "outputs": [
    {
     "name": "stdout",
     "output_type": "stream",
     "text": [
      "p-значение: 1.0517832389140023e-27\n",
      "Отвергаем нулевую гипотезу\n",
      "6.837532133676092\n",
      "5.238124999999999\n"
     ]
    }
   ],
   "source": [
    "sample_3 = df_act[df_act['genre']==\"Action\"]['user_score'].dropna()\n",
    "sample_4 = df_act[df_act['genre']==\"Sports\"]['user_score'].dropna()\n",
    "\n",
    "alpha = 0.01\n",
    "\n",
    "results = st.ttest_ind(sample_3,sample_4)\n",
    "\n",
    "print('p-значение:', results.pvalue)\n",
    "\n",
    "if (results.pvalue < alpha):\n",
    "    print(\"Отвергаем нулевую гипотезу\")\n",
    "else:\n",
    "    print(\"Не получилось отвергнуть нулевую гипотезу\")\n",
    "print(sample_3.mean())\n",
    "print(sample_4.mean())"
   ]
  },
  {
   "cell_type": "markdown",
   "metadata": {},
   "source": [
    "Гипотезу о равенстве средних пользовательских оценок жанров Action и Sports нельзя принять на основании проведенного Т-теста, отвергаем ее в пользу альтернативной гипотезы."
   ]
  },
  {
   "cell_type": "markdown",
   "metadata": {},
   "source": [
    "## Общий вывод\n",
    "\n",
    "У данной таблицы с данными в ходе предобработки данных, выявлены и обработаны пропуски, многие пропуски были оставлены для статистики. Пропуски в столбцах name и genre скорее всего случайны, может при заполнении данных таблицы были пропущены значения. А в столбцах critic_score, user_score и rating тем что для некоторых тигр рейтинг не собирался, в виду небольшой популярности игры или ранним годом выпуска. Обработаны аномалии, удалены приблизительно 1,6 % данных, что является допустимым. Названия столбцов приведены к нижнему регистру,были заменены типы данных. \n",
    "Исследовательский анализ данных показал что:\n",
    "\n",
    "    - пик продаж по колличеству игр приходился на 2008-2009 годы. Затем новинок игровой индустрии становится меньше ,и к 2012 уровень выпуска новинок падает до уровня в начале тысячелетия.\n",
    "    - для построения прогноза на 2017 год берем срез данных с 2013 года\n",
    "    - характерный срок жизни платформы - 10 лет\n",
    "    - потенциально прибыльные платформы - PS4, XOne, 3DS\n",
    "    - Shooter является самым популярным жанром, сразу за ним Sports и Platform\n",
    "    - при покупке игры оценка критиков имеет для игроков большую значимость.\n",
    "Были составены портреты пользователя для разных регионов\n",
    "\n",
    "    - В NA самая популярная платформа X360. в Европе предпочитают PS4. В Японии популярны 3DS.\n",
    "    - Японский пользователь сильно отличается от общемирового, и жанрами и рейтингами\n",
    "    - Можно выделить рейтинг Mature как основной\n",
    "Были проверены гипотезы о равенстве средних:\n",
    "\n",
    "    -Средние пользовательские рейтинги платформ Xbox One и PC одинаковые(не удалось отвергнуть)\n",
    "    -Средние пользовательские рейтинги жанров Action и Sports равны(отвергли в пользу гипотезы неравенства)\n",
    "Считаю что в 2017 году стоит сделать ставку на консоли нового поколения в зависимости от их популярности в каждом из регионов.. Такая же ситуация с жанром и возростному рейтингу. Судя по полуярности рейтинга M - основная часть геймеров старше 17 лет. Также стоит учитывать рейтинг критиков на вышедшую игру, чем он выше тем больше будет продаж.\n",
    "\n",
    "\n",
    "Стоит учесть, что в конце актуального периода продажи игра падали по всем платформам, вероятно выручка в 2017 году будет меньше чем в 2016 пока не появятся консоли нового поколения,т.к. после выхода новых консолей резко начинают расти продажи игр. Заранее заключать договора на поставку игр в магазин.\n",
    "Можно отметить, что стиабильными являются продажи игр на платформе PC."
   ]
  }
 ],
 "metadata": {
  "ExecuteTimeLog": [
   {
    "duration": 3,
    "start_time": "2023-09-28T10:23:41.057Z"
   },
   {
    "duration": 1228,
    "start_time": "2023-09-28T10:37:10.910Z"
   },
   {
    "duration": 229,
    "start_time": "2023-09-28T10:38:36.157Z"
   },
   {
    "duration": 5,
    "start_time": "2023-09-28T10:52:06.637Z"
   },
   {
    "duration": 5,
    "start_time": "2023-09-28T10:53:07.341Z"
   },
   {
    "duration": 4,
    "start_time": "2023-09-28T11:00:38.636Z"
   },
   {
    "duration": 5,
    "start_time": "2023-09-28T11:00:47.937Z"
   },
   {
    "duration": 7,
    "start_time": "2023-09-28T11:02:07.197Z"
   },
   {
    "duration": 6,
    "start_time": "2023-09-28T11:02:51.589Z"
   },
   {
    "duration": 6,
    "start_time": "2023-09-28T11:05:34.657Z"
   },
   {
    "duration": 94,
    "start_time": "2023-09-28T11:08:03.489Z"
   },
   {
    "duration": 6,
    "start_time": "2023-09-28T11:08:08.925Z"
   },
   {
    "duration": 17,
    "start_time": "2023-09-28T11:09:51.597Z"
   },
   {
    "duration": 8,
    "start_time": "2023-09-28T11:11:10.666Z"
   },
   {
    "duration": 16,
    "start_time": "2023-09-28T11:11:19.897Z"
   },
   {
    "duration": 6,
    "start_time": "2023-09-28T11:13:05.988Z"
   },
   {
    "duration": 6,
    "start_time": "2023-09-28T11:13:40.676Z"
   },
   {
    "duration": 15,
    "start_time": "2023-09-28T11:16:10.657Z"
   },
   {
    "duration": 9,
    "start_time": "2023-09-28T11:17:36.457Z"
   },
   {
    "duration": 8,
    "start_time": "2023-09-28T11:17:41.076Z"
   },
   {
    "duration": 6,
    "start_time": "2023-09-28T11:17:55.130Z"
   },
   {
    "duration": 25,
    "start_time": "2023-09-28T11:18:30.497Z"
   },
   {
    "duration": 32,
    "start_time": "2023-09-28T11:19:01.457Z"
   },
   {
    "duration": 21,
    "start_time": "2023-09-28T11:19:05.737Z"
   },
   {
    "duration": 20,
    "start_time": "2023-09-28T11:19:12.428Z"
   },
   {
    "duration": 12,
    "start_time": "2023-09-28T11:19:56.855Z"
   },
   {
    "duration": 12,
    "start_time": "2023-09-28T11:20:01.814Z"
   },
   {
    "duration": 17,
    "start_time": "2023-09-28T11:20:36.737Z"
   },
   {
    "duration": 2060,
    "start_time": "2023-09-28T11:21:05.977Z"
   },
   {
    "duration": 16,
    "start_time": "2023-09-28T11:21:25.380Z"
   },
   {
    "duration": 17,
    "start_time": "2023-09-28T11:21:44.377Z"
   },
   {
    "duration": 9,
    "start_time": "2023-09-28T11:21:56.989Z"
   },
   {
    "duration": 10,
    "start_time": "2023-09-28T11:22:10.696Z"
   },
   {
    "duration": 9,
    "start_time": "2023-09-28T11:22:22.017Z"
   },
   {
    "duration": 16,
    "start_time": "2023-09-28T11:22:29.075Z"
   },
   {
    "duration": 10,
    "start_time": "2023-09-28T11:22:37.417Z"
   },
   {
    "duration": 15,
    "start_time": "2023-09-28T11:22:45.159Z"
   },
   {
    "duration": 11,
    "start_time": "2023-09-28T11:23:21.121Z"
   },
   {
    "duration": 12,
    "start_time": "2023-09-28T11:23:27.017Z"
   },
   {
    "duration": 17,
    "start_time": "2023-09-28T11:23:33.705Z"
   },
   {
    "duration": 11,
    "start_time": "2023-09-28T11:30:09.907Z"
   },
   {
    "duration": 20,
    "start_time": "2023-09-28T11:30:50.576Z"
   },
   {
    "duration": 31,
    "start_time": "2023-09-28T11:31:09.056Z"
   },
   {
    "duration": 36,
    "start_time": "2023-09-28T11:33:23.774Z"
   },
   {
    "duration": 38,
    "start_time": "2023-09-28T11:33:43.844Z"
   },
   {
    "duration": 43,
    "start_time": "2023-09-28T11:33:55.856Z"
   },
   {
    "duration": 42,
    "start_time": "2023-09-28T11:34:00.777Z"
   },
   {
    "duration": 37,
    "start_time": "2023-09-28T11:34:14.484Z"
   },
   {
    "duration": 10,
    "start_time": "2023-09-28T11:34:51.696Z"
   },
   {
    "duration": 10,
    "start_time": "2023-09-28T11:35:04.593Z"
   },
   {
    "duration": 3,
    "start_time": "2023-09-28T11:35:17.258Z"
   },
   {
    "duration": 79,
    "start_time": "2023-09-28T11:35:17.263Z"
   },
   {
    "duration": 24,
    "start_time": "2023-09-28T11:35:17.343Z"
   },
   {
    "duration": 5,
    "start_time": "2023-09-28T11:35:17.368Z"
   },
   {
    "duration": 40,
    "start_time": "2023-09-28T11:35:17.374Z"
   },
   {
    "duration": 20,
    "start_time": "2023-09-28T11:35:42.168Z"
   },
   {
    "duration": 47,
    "start_time": "2023-09-28T11:36:35.253Z"
   },
   {
    "duration": 33,
    "start_time": "2023-09-28T11:36:45.970Z"
   },
   {
    "duration": 59,
    "start_time": "2023-09-28T11:37:02.768Z"
   },
   {
    "duration": 30,
    "start_time": "2023-09-28T11:37:27.357Z"
   },
   {
    "duration": 13,
    "start_time": "2023-09-28T11:39:14.859Z"
   },
   {
    "duration": 6,
    "start_time": "2023-09-28T11:40:17.534Z"
   },
   {
    "duration": 5,
    "start_time": "2023-09-28T11:40:25.397Z"
   },
   {
    "duration": 5,
    "start_time": "2023-09-28T11:41:08.558Z"
   },
   {
    "duration": 20,
    "start_time": "2023-09-28T11:44:53.238Z"
   },
   {
    "duration": 22,
    "start_time": "2023-09-28T11:44:54.239Z"
   },
   {
    "duration": 8,
    "start_time": "2023-09-28T11:45:09.638Z"
   },
   {
    "duration": 9,
    "start_time": "2023-09-28T11:45:11.958Z"
   },
   {
    "duration": 11,
    "start_time": "2023-09-28T11:51:59.173Z"
   },
   {
    "duration": 17,
    "start_time": "2023-09-28T11:52:13.658Z"
   },
   {
    "duration": 9,
    "start_time": "2023-09-28T11:52:31.560Z"
   },
   {
    "duration": 20,
    "start_time": "2023-09-28T11:52:55.436Z"
   },
   {
    "duration": 10,
    "start_time": "2023-09-28T11:53:25.575Z"
   },
   {
    "duration": 3,
    "start_time": "2023-09-28T11:53:31.692Z"
   },
   {
    "duration": 82,
    "start_time": "2023-09-28T11:53:31.717Z"
   },
   {
    "duration": 14,
    "start_time": "2023-09-28T11:53:31.800Z"
   },
   {
    "duration": 15,
    "start_time": "2023-09-28T11:53:31.815Z"
   },
   {
    "duration": 60,
    "start_time": "2023-09-28T11:53:31.832Z"
   },
   {
    "duration": 9,
    "start_time": "2023-09-28T11:53:31.895Z"
   },
   {
    "duration": 11,
    "start_time": "2023-09-28T11:53:46.724Z"
   },
   {
    "duration": 14,
    "start_time": "2023-09-28T11:53:51.776Z"
   },
   {
    "duration": 10,
    "start_time": "2023-09-28T12:01:00.888Z"
   },
   {
    "duration": 4,
    "start_time": "2023-09-28T12:01:09.836Z"
   },
   {
    "duration": 5,
    "start_time": "2023-09-28T12:01:58.088Z"
   },
   {
    "duration": 5,
    "start_time": "2023-09-28T12:02:12.176Z"
   },
   {
    "duration": 8,
    "start_time": "2023-09-28T12:02:26.116Z"
   },
   {
    "duration": 18,
    "start_time": "2023-09-28T12:02:53.259Z"
   },
   {
    "duration": 9,
    "start_time": "2023-09-28T12:03:11.276Z"
   },
   {
    "duration": 18,
    "start_time": "2023-09-28T12:03:13.296Z"
   },
   {
    "duration": 18,
    "start_time": "2023-09-28T12:07:19.674Z"
   },
   {
    "duration": 17,
    "start_time": "2023-09-28T12:07:39.416Z"
   },
   {
    "duration": 19,
    "start_time": "2023-09-28T12:08:59.146Z"
   },
   {
    "duration": 7,
    "start_time": "2023-09-28T12:09:09.936Z"
   },
   {
    "duration": 8,
    "start_time": "2023-09-28T12:09:12.915Z"
   },
   {
    "duration": 5,
    "start_time": "2023-09-28T12:11:32.969Z"
   },
   {
    "duration": 11,
    "start_time": "2023-09-28T12:12:43.142Z"
   },
   {
    "duration": 9,
    "start_time": "2023-09-28T12:12:52.934Z"
   },
   {
    "duration": 16,
    "start_time": "2023-09-28T12:13:11.273Z"
   },
   {
    "duration": 7,
    "start_time": "2023-09-28T12:13:44.919Z"
   },
   {
    "duration": 9,
    "start_time": "2023-09-28T12:16:03.321Z"
   },
   {
    "duration": 5,
    "start_time": "2023-09-28T12:16:11.468Z"
   },
   {
    "duration": 15,
    "start_time": "2023-09-28T12:18:36.266Z"
   },
   {
    "duration": 7,
    "start_time": "2023-09-28T12:23:58.614Z"
   },
   {
    "duration": 1564,
    "start_time": "2023-09-29T07:21:49.055Z"
   },
   {
    "duration": 158,
    "start_time": "2023-09-29T07:21:50.622Z"
   },
   {
    "duration": 20,
    "start_time": "2023-09-29T07:21:50.783Z"
   },
   {
    "duration": 26,
    "start_time": "2023-09-29T07:21:50.805Z"
   },
   {
    "duration": 90,
    "start_time": "2023-09-29T07:21:50.834Z"
   },
   {
    "duration": 81,
    "start_time": "2023-09-29T07:21:50.927Z"
   },
   {
    "duration": 102,
    "start_time": "2023-09-29T07:21:51.011Z"
   },
   {
    "duration": 266,
    "start_time": "2023-09-29T07:21:51.115Z"
   },
   {
    "duration": 173,
    "start_time": "2023-09-29T07:21:51.383Z"
   },
   {
    "duration": 28,
    "start_time": "2023-09-29T07:25:12.872Z"
   },
   {
    "duration": 29,
    "start_time": "2023-09-29T07:27:12.192Z"
   },
   {
    "duration": 45,
    "start_time": "2023-09-30T06:59:54.928Z"
   },
   {
    "duration": 1330,
    "start_time": "2023-09-30T07:00:07.969Z"
   },
   {
    "duration": 127,
    "start_time": "2023-09-30T07:00:09.302Z"
   },
   {
    "duration": 17,
    "start_time": "2023-09-30T07:00:09.430Z"
   },
   {
    "duration": 8,
    "start_time": "2023-09-30T07:00:09.449Z"
   },
   {
    "duration": 44,
    "start_time": "2023-09-30T07:00:09.459Z"
   },
   {
    "duration": 25,
    "start_time": "2023-09-30T07:00:09.505Z"
   },
   {
    "duration": 12,
    "start_time": "2023-09-30T07:00:09.532Z"
   },
   {
    "duration": 29,
    "start_time": "2023-09-30T07:00:09.545Z"
   },
   {
    "duration": 33,
    "start_time": "2023-09-30T07:00:09.576Z"
   },
   {
    "duration": 25,
    "start_time": "2023-09-30T07:00:09.611Z"
   },
   {
    "duration": 14,
    "start_time": "2023-09-30T07:09:52.390Z"
   },
   {
    "duration": 62,
    "start_time": "2023-09-30T07:11:28.373Z"
   },
   {
    "duration": 14,
    "start_time": "2023-09-30T07:12:33.111Z"
   },
   {
    "duration": 32,
    "start_time": "2023-09-30T07:12:38.479Z"
   },
   {
    "duration": 14,
    "start_time": "2023-09-30T07:12:44.399Z"
   },
   {
    "duration": 445,
    "start_time": "2023-09-30T07:14:43.799Z"
   },
   {
    "duration": 310,
    "start_time": "2023-09-30T07:16:37.133Z"
   },
   {
    "duration": 347,
    "start_time": "2023-09-30T07:16:43.171Z"
   },
   {
    "duration": 327,
    "start_time": "2023-09-30T07:16:52.452Z"
   },
   {
    "duration": 387,
    "start_time": "2023-09-30T07:17:07.272Z"
   },
   {
    "duration": 310,
    "start_time": "2023-09-30T07:17:13.460Z"
   },
   {
    "duration": 315,
    "start_time": "2023-09-30T07:17:37.254Z"
   },
   {
    "duration": 3656,
    "start_time": "2023-09-30T07:21:30.462Z"
   },
   {
    "duration": 12,
    "start_time": "2023-09-30T07:21:40.713Z"
   },
   {
    "duration": 20,
    "start_time": "2023-09-30T07:21:50.593Z"
   },
   {
    "duration": 12,
    "start_time": "2023-09-30T07:25:34.774Z"
   },
   {
    "duration": 290,
    "start_time": "2023-09-30T07:25:58.046Z"
   },
   {
    "duration": 3,
    "start_time": "2023-09-30T07:26:09.774Z"
   },
   {
    "duration": 109,
    "start_time": "2023-09-30T07:26:09.778Z"
   },
   {
    "duration": 17,
    "start_time": "2023-09-30T07:26:09.888Z"
   },
   {
    "duration": 35,
    "start_time": "2023-09-30T07:26:09.906Z"
   },
   {
    "duration": 66,
    "start_time": "2023-09-30T07:26:09.944Z"
   },
   {
    "duration": 11,
    "start_time": "2023-09-30T07:26:10.013Z"
   },
   {
    "duration": 47,
    "start_time": "2023-09-30T07:26:10.025Z"
   },
   {
    "duration": 37,
    "start_time": "2023-09-30T07:26:10.074Z"
   },
   {
    "duration": 42,
    "start_time": "2023-09-30T07:26:10.112Z"
   },
   {
    "duration": 35,
    "start_time": "2023-09-30T07:26:10.156Z"
   },
   {
    "duration": 362,
    "start_time": "2023-09-30T07:26:10.192Z"
   },
   {
    "duration": 309,
    "start_time": "2023-09-30T07:26:10.556Z"
   },
   {
    "duration": 297,
    "start_time": "2023-09-30T07:26:30.854Z"
   },
   {
    "duration": 293,
    "start_time": "2023-09-30T07:26:57.594Z"
   },
   {
    "duration": 10,
    "start_time": "2023-09-30T07:28:07.374Z"
   },
   {
    "duration": 31,
    "start_time": "2023-09-30T07:30:24.635Z"
   },
   {
    "duration": 331,
    "start_time": "2023-09-30T07:30:33.315Z"
   },
   {
    "duration": 395,
    "start_time": "2023-09-30T07:30:56.875Z"
   },
   {
    "duration": 323,
    "start_time": "2023-09-30T07:31:07.856Z"
   },
   {
    "duration": 307,
    "start_time": "2023-09-30T07:31:21.546Z"
   },
   {
    "duration": 324,
    "start_time": "2023-09-30T07:31:50.094Z"
   },
   {
    "duration": 317,
    "start_time": "2023-09-30T07:32:01.217Z"
   },
   {
    "duration": 4,
    "start_time": "2023-09-30T07:33:42.395Z"
   },
   {
    "duration": 17,
    "start_time": "2023-09-30T07:33:48.795Z"
   },
   {
    "duration": 15,
    "start_time": "2023-09-30T07:33:54.418Z"
   },
   {
    "duration": 343,
    "start_time": "2023-09-30T07:33:59.335Z"
   },
   {
    "duration": 282,
    "start_time": "2023-09-30T07:35:54.443Z"
   },
   {
    "duration": 335,
    "start_time": "2023-09-30T07:37:50.148Z"
   },
   {
    "duration": 429,
    "start_time": "2023-09-30T07:38:20.217Z"
   },
   {
    "duration": 10,
    "start_time": "2023-09-30T07:40:15.516Z"
   },
   {
    "duration": 10,
    "start_time": "2023-09-30T07:42:21.536Z"
   },
   {
    "duration": 13,
    "start_time": "2023-09-30T07:42:26.676Z"
   },
   {
    "duration": 17,
    "start_time": "2023-09-30T07:42:34.137Z"
   },
   {
    "duration": 10,
    "start_time": "2023-09-30T07:43:25.467Z"
   },
   {
    "duration": 165,
    "start_time": "2023-09-30T07:43:47.219Z"
   },
   {
    "duration": 112,
    "start_time": "2023-09-30T07:43:52.623Z"
   },
   {
    "duration": 10,
    "start_time": "2023-09-30T07:43:54.999Z"
   },
   {
    "duration": 10,
    "start_time": "2023-09-30T07:44:06.149Z"
   },
   {
    "duration": 15,
    "start_time": "2023-09-30T07:44:11.048Z"
   },
   {
    "duration": 314,
    "start_time": "2023-09-30T07:44:23.536Z"
   },
   {
    "duration": 13,
    "start_time": "2023-09-30T07:45:11.862Z"
   },
   {
    "duration": 302,
    "start_time": "2023-09-30T07:45:41.916Z"
   },
   {
    "duration": 288,
    "start_time": "2023-09-30T07:45:48.432Z"
   },
   {
    "duration": 284,
    "start_time": "2023-09-30T07:45:57.856Z"
   },
   {
    "duration": 280,
    "start_time": "2023-09-30T07:46:04.877Z"
   },
   {
    "duration": 278,
    "start_time": "2023-09-30T07:46:39.940Z"
   },
   {
    "duration": 293,
    "start_time": "2023-09-30T07:47:17.022Z"
   },
   {
    "duration": 74,
    "start_time": "2023-09-30T07:47:37.534Z"
   },
   {
    "duration": 476,
    "start_time": "2023-09-30T07:49:25.498Z"
   },
   {
    "duration": 87,
    "start_time": "2023-09-30T07:54:49.813Z"
   },
   {
    "duration": 324,
    "start_time": "2023-09-30T07:56:20.246Z"
   },
   {
    "duration": 293,
    "start_time": "2023-09-30T07:56:36.125Z"
   },
   {
    "duration": 342,
    "start_time": "2023-09-30T07:57:16.745Z"
   },
   {
    "duration": 9,
    "start_time": "2023-09-30T08:01:07.476Z"
   },
   {
    "duration": 13,
    "start_time": "2023-09-30T08:01:44.866Z"
   },
   {
    "duration": 17,
    "start_time": "2023-09-30T08:01:53.986Z"
   },
   {
    "duration": 303,
    "start_time": "2023-09-30T08:02:14.093Z"
   },
   {
    "duration": 870,
    "start_time": "2023-09-30T08:02:33.388Z"
   },
   {
    "duration": 78,
    "start_time": "2023-09-30T08:03:04.464Z"
   },
   {
    "duration": 162,
    "start_time": "2023-09-30T08:03:15.025Z"
   },
   {
    "duration": 989,
    "start_time": "2023-09-30T08:03:23.626Z"
   },
   {
    "duration": 829,
    "start_time": "2023-09-30T08:04:03.407Z"
   },
   {
    "duration": 33,
    "start_time": "2023-09-30T08:09:08.945Z"
   },
   {
    "duration": 120,
    "start_time": "2023-09-30T08:09:28.587Z"
   },
   {
    "duration": 131,
    "start_time": "2023-09-30T08:10:07.024Z"
   },
   {
    "duration": 90,
    "start_time": "2023-09-30T08:10:19.345Z"
   },
   {
    "duration": 841,
    "start_time": "2023-09-30T08:10:24.196Z"
   },
   {
    "duration": 14,
    "start_time": "2023-09-30T08:10:59.768Z"
   },
   {
    "duration": 151,
    "start_time": "2023-09-30T08:11:10.205Z"
   },
   {
    "duration": 803,
    "start_time": "2023-09-30T08:11:17.936Z"
   },
   {
    "duration": 664,
    "start_time": "2023-09-30T08:12:56.545Z"
   },
   {
    "duration": 1216,
    "start_time": "2023-09-30T08:13:09.384Z"
   },
   {
    "duration": 846,
    "start_time": "2023-09-30T08:14:00.949Z"
   },
   {
    "duration": 11,
    "start_time": "2023-09-30T08:23:41.760Z"
   },
   {
    "duration": 16,
    "start_time": "2023-09-30T08:23:48.377Z"
   },
   {
    "duration": 18,
    "start_time": "2023-09-30T08:24:21.404Z"
   },
   {
    "duration": 18,
    "start_time": "2023-09-30T08:25:03.066Z"
   },
   {
    "duration": 16,
    "start_time": "2023-09-30T08:25:11.232Z"
   },
   {
    "duration": 102,
    "start_time": "2023-09-30T08:26:06.928Z"
   },
   {
    "duration": 40,
    "start_time": "2023-09-30T08:26:18.974Z"
   },
   {
    "duration": 15,
    "start_time": "2023-09-30T08:27:34.826Z"
   },
   {
    "duration": 21,
    "start_time": "2023-09-30T08:27:45.667Z"
   },
   {
    "duration": 17,
    "start_time": "2023-09-30T08:27:49.619Z"
   },
   {
    "duration": 19,
    "start_time": "2023-09-30T08:27:53.579Z"
   },
   {
    "duration": 18,
    "start_time": "2023-09-30T08:28:01.369Z"
   },
   {
    "duration": 27,
    "start_time": "2023-09-30T08:29:28.310Z"
   },
   {
    "duration": 35,
    "start_time": "2023-09-30T08:29:34.722Z"
   },
   {
    "duration": 22,
    "start_time": "2023-09-30T08:31:56.273Z"
   },
   {
    "duration": 15,
    "start_time": "2023-09-30T08:31:59.686Z"
   },
   {
    "duration": 12,
    "start_time": "2023-09-30T08:32:07.453Z"
   },
   {
    "duration": 869,
    "start_time": "2023-09-30T08:32:12.827Z"
   },
   {
    "duration": 1004,
    "start_time": "2023-09-30T08:33:39.353Z"
   },
   {
    "duration": 14,
    "start_time": "2023-09-30T08:45:58.943Z"
   },
   {
    "duration": 1288,
    "start_time": "2023-10-01T07:42:47.031Z"
   },
   {
    "duration": 133,
    "start_time": "2023-10-01T07:42:48.321Z"
   },
   {
    "duration": 18,
    "start_time": "2023-10-01T07:42:48.456Z"
   },
   {
    "duration": 5,
    "start_time": "2023-10-01T07:42:48.476Z"
   },
   {
    "duration": 46,
    "start_time": "2023-10-01T07:42:48.484Z"
   },
   {
    "duration": 13,
    "start_time": "2023-10-01T07:42:48.532Z"
   },
   {
    "duration": 17,
    "start_time": "2023-10-01T07:42:48.548Z"
   },
   {
    "duration": 38,
    "start_time": "2023-10-01T07:42:48.567Z"
   },
   {
    "duration": 17,
    "start_time": "2023-10-01T07:42:48.607Z"
   },
   {
    "duration": 46,
    "start_time": "2023-10-01T07:42:48.626Z"
   },
   {
    "duration": 383,
    "start_time": "2023-10-01T07:42:48.675Z"
   },
   {
    "duration": 330,
    "start_time": "2023-10-01T07:42:49.060Z"
   },
   {
    "duration": 856,
    "start_time": "2023-10-01T07:42:49.391Z"
   },
   {
    "duration": 14,
    "start_time": "2023-10-01T07:42:50.249Z"
   },
   {
    "duration": 117,
    "start_time": "2023-10-01T07:46:48.501Z"
   },
   {
    "duration": 26,
    "start_time": "2023-10-01T07:46:55.410Z"
   },
   {
    "duration": 31,
    "start_time": "2023-10-01T07:47:18.688Z"
   },
   {
    "duration": 27,
    "start_time": "2023-10-01T08:01:41.037Z"
   },
   {
    "duration": 1594,
    "start_time": "2023-10-01T08:02:01.129Z"
   },
   {
    "duration": 1437,
    "start_time": "2023-10-01T08:02:07.549Z"
   },
   {
    "duration": 1951,
    "start_time": "2023-10-01T08:02:22.309Z"
   },
   {
    "duration": 1461,
    "start_time": "2023-10-01T08:02:51.481Z"
   },
   {
    "duration": 1449,
    "start_time": "2023-10-01T08:03:03.589Z"
   },
   {
    "duration": 221,
    "start_time": "2023-10-01T08:03:25.270Z"
   },
   {
    "duration": 117,
    "start_time": "2023-10-01T08:06:55.089Z"
   },
   {
    "duration": 117,
    "start_time": "2023-10-01T08:07:05.579Z"
   },
   {
    "duration": 187,
    "start_time": "2023-10-01T08:07:09.327Z"
   },
   {
    "duration": 251,
    "start_time": "2023-10-01T08:08:34.818Z"
   },
   {
    "duration": 1642,
    "start_time": "2023-10-01T08:11:40.140Z"
   },
   {
    "duration": 1973,
    "start_time": "2023-10-01T08:12:14.059Z"
   },
   {
    "duration": 34,
    "start_time": "2023-10-01T08:12:36.738Z"
   },
   {
    "duration": 28,
    "start_time": "2023-10-01T08:14:32.047Z"
   },
   {
    "duration": 1726,
    "start_time": "2023-10-01T08:14:40.298Z"
   },
   {
    "duration": 105,
    "start_time": "2023-10-01T08:16:49.419Z"
   },
   {
    "duration": 36,
    "start_time": "2023-10-01T08:17:18.691Z"
   },
   {
    "duration": 108,
    "start_time": "2023-10-01T08:17:51.651Z"
   },
   {
    "duration": 35,
    "start_time": "2023-10-01T08:17:57.419Z"
   },
   {
    "duration": 42,
    "start_time": "2023-10-01T08:20:22.026Z"
   },
   {
    "duration": 6,
    "start_time": "2023-10-01T08:30:57.330Z"
   },
   {
    "duration": 28,
    "start_time": "2023-10-01T08:32:55.917Z"
   },
   {
    "duration": 123,
    "start_time": "2023-10-01T08:33:10.039Z"
   },
   {
    "duration": 129,
    "start_time": "2023-10-01T08:33:25.260Z"
   },
   {
    "duration": 135,
    "start_time": "2023-10-01T08:33:37.119Z"
   },
   {
    "duration": 156,
    "start_time": "2023-10-01T08:33:49.759Z"
   },
   {
    "duration": 237,
    "start_time": "2023-10-01T08:34:11.259Z"
   },
   {
    "duration": 226,
    "start_time": "2023-10-01T08:35:24.299Z"
   },
   {
    "duration": 232,
    "start_time": "2023-10-01T08:35:33.259Z"
   },
   {
    "duration": 336,
    "start_time": "2023-10-01T08:35:47.291Z"
   },
   {
    "duration": 282,
    "start_time": "2023-10-01T08:36:14.347Z"
   },
   {
    "duration": 253,
    "start_time": "2023-10-01T08:36:37.348Z"
   },
   {
    "duration": 242,
    "start_time": "2023-10-01T08:36:48.815Z"
   },
   {
    "duration": 9,
    "start_time": "2023-10-01T08:37:32.607Z"
   },
   {
    "duration": 8,
    "start_time": "2023-10-01T08:37:42.479Z"
   },
   {
    "duration": 224,
    "start_time": "2023-10-01T08:37:52.220Z"
   },
   {
    "duration": 227,
    "start_time": "2023-10-01T08:38:00.979Z"
   },
   {
    "duration": 262,
    "start_time": "2023-10-01T08:38:08.528Z"
   },
   {
    "duration": 8,
    "start_time": "2023-10-01T08:38:17.999Z"
   },
   {
    "duration": 220,
    "start_time": "2023-10-01T08:38:20.361Z"
   },
   {
    "duration": 8,
    "start_time": "2023-10-01T08:38:31.427Z"
   },
   {
    "duration": 282,
    "start_time": "2023-10-01T08:38:33.935Z"
   },
   {
    "duration": 21,
    "start_time": "2023-10-01T08:50:28.100Z"
   },
   {
    "duration": 330,
    "start_time": "2023-10-01T08:50:36.160Z"
   },
   {
    "duration": 125,
    "start_time": "2023-10-01T08:50:53.941Z"
   },
   {
    "duration": 293,
    "start_time": "2023-10-01T08:51:01.241Z"
   },
   {
    "duration": 11,
    "start_time": "2023-10-01T08:51:24.492Z"
   },
   {
    "duration": 14,
    "start_time": "2023-10-01T08:51:28.181Z"
   },
   {
    "duration": 6,
    "start_time": "2023-10-01T08:51:47.892Z"
   },
   {
    "duration": 389,
    "start_time": "2023-10-01T08:53:55.538Z"
   },
   {
    "duration": 308,
    "start_time": "2023-10-01T08:54:20.300Z"
   },
   {
    "duration": 311,
    "start_time": "2023-10-01T08:58:17.649Z"
   },
   {
    "duration": 297,
    "start_time": "2023-10-01T08:58:44.929Z"
   },
   {
    "duration": 328,
    "start_time": "2023-10-01T08:59:12.173Z"
   },
   {
    "duration": 317,
    "start_time": "2023-10-01T08:59:21.594Z"
   },
   {
    "duration": 293,
    "start_time": "2023-10-01T08:59:26.600Z"
   },
   {
    "duration": 330,
    "start_time": "2023-10-01T08:59:31.640Z"
   },
   {
    "duration": 9,
    "start_time": "2023-10-01T08:59:57.863Z"
   },
   {
    "duration": 11,
    "start_time": "2023-10-01T09:00:11.761Z"
   },
   {
    "duration": 354,
    "start_time": "2023-10-01T09:00:14.372Z"
   },
   {
    "duration": 312,
    "start_time": "2023-10-01T09:00:26.081Z"
   },
   {
    "duration": 318,
    "start_time": "2023-10-01T09:00:31.817Z"
   },
   {
    "duration": 267,
    "start_time": "2023-10-01T09:01:16.877Z"
   },
   {
    "duration": 1667,
    "start_time": "2023-10-01T09:01:27.613Z"
   },
   {
    "duration": 1666,
    "start_time": "2023-10-01T09:01:41.482Z"
   },
   {
    "duration": 328,
    "start_time": "2023-10-01T09:02:03.217Z"
   },
   {
    "duration": 360,
    "start_time": "2023-10-01T09:03:45.094Z"
   },
   {
    "duration": 296,
    "start_time": "2023-10-01T09:07:17.645Z"
   },
   {
    "duration": 301,
    "start_time": "2023-10-01T09:07:35.105Z"
   },
   {
    "duration": 285,
    "start_time": "2023-10-01T09:07:47.305Z"
   },
   {
    "duration": 272,
    "start_time": "2023-10-01T09:08:10.677Z"
   },
   {
    "duration": 260,
    "start_time": "2023-10-01T09:09:00.388Z"
   },
   {
    "duration": 330,
    "start_time": "2023-10-01T09:09:14.385Z"
   },
   {
    "duration": 16,
    "start_time": "2023-10-01T09:14:56.558Z"
   },
   {
    "duration": 21,
    "start_time": "2023-10-01T09:15:10.404Z"
   },
   {
    "duration": 386,
    "start_time": "2023-10-01T09:17:44.045Z"
   },
   {
    "duration": 272,
    "start_time": "2023-10-01T09:17:50.364Z"
   },
   {
    "duration": 10,
    "start_time": "2023-10-01T09:18:17.965Z"
   },
   {
    "duration": 19,
    "start_time": "2023-10-01T09:18:25.937Z"
   },
   {
    "duration": 17,
    "start_time": "2023-10-01T09:18:44.964Z"
   },
   {
    "duration": 286,
    "start_time": "2023-10-01T09:19:41.504Z"
   },
   {
    "duration": 287,
    "start_time": "2023-10-01T09:20:11.904Z"
   },
   {
    "duration": 271,
    "start_time": "2023-10-01T09:20:19.926Z"
   },
   {
    "duration": 11,
    "start_time": "2023-10-01T09:20:55.704Z"
   },
   {
    "duration": 10,
    "start_time": "2023-10-01T09:21:03.404Z"
   },
   {
    "duration": 19,
    "start_time": "2023-10-01T09:21:18.223Z"
   },
   {
    "duration": 334,
    "start_time": "2023-10-01T09:21:25.597Z"
   },
   {
    "duration": 308,
    "start_time": "2023-10-01T09:21:33.496Z"
   },
   {
    "duration": 182,
    "start_time": "2023-10-01T09:22:02.964Z"
   },
   {
    "duration": 292,
    "start_time": "2023-10-01T09:22:30.981Z"
   },
   {
    "duration": 285,
    "start_time": "2023-10-01T09:22:39.464Z"
   },
   {
    "duration": 100,
    "start_time": "2023-10-01T09:56:57.889Z"
   },
   {
    "duration": 284,
    "start_time": "2023-10-01T09:57:03.980Z"
   },
   {
    "duration": 304,
    "start_time": "2023-10-01T09:59:24.321Z"
   },
   {
    "duration": 329,
    "start_time": "2023-10-01T10:00:12.362Z"
   },
   {
    "duration": 354,
    "start_time": "2023-10-01T10:00:18.888Z"
   },
   {
    "duration": 435,
    "start_time": "2023-10-01T10:02:23.161Z"
   },
   {
    "duration": 111,
    "start_time": "2023-10-01T10:02:46.880Z"
   },
   {
    "duration": 103,
    "start_time": "2023-10-01T10:02:55.821Z"
   },
   {
    "duration": 17,
    "start_time": "2023-10-01T10:03:03.966Z"
   },
   {
    "duration": 23,
    "start_time": "2023-10-01T10:03:54.459Z"
   },
   {
    "duration": 35,
    "start_time": "2023-10-01T10:04:20.300Z"
   },
   {
    "duration": 150,
    "start_time": "2023-10-01T10:04:27.500Z"
   },
   {
    "duration": 17,
    "start_time": "2023-10-01T10:04:44.901Z"
   },
   {
    "duration": 6,
    "start_time": "2023-10-01T10:04:50.900Z"
   },
   {
    "duration": 37,
    "start_time": "2023-10-01T10:04:57.232Z"
   },
   {
    "duration": 6,
    "start_time": "2023-10-01T10:05:04.281Z"
   },
   {
    "duration": 292,
    "start_time": "2023-10-01T10:05:21.501Z"
   },
   {
    "duration": 16,
    "start_time": "2023-10-01T10:05:26.340Z"
   },
   {
    "duration": 24,
    "start_time": "2023-10-01T10:06:10.927Z"
   },
   {
    "duration": 164,
    "start_time": "2023-10-01T10:06:56.500Z"
   },
   {
    "duration": 138,
    "start_time": "2023-10-01T10:07:15.820Z"
   },
   {
    "duration": 13,
    "start_time": "2023-10-01T10:07:21.940Z"
   },
   {
    "duration": 13,
    "start_time": "2023-10-01T10:07:28.180Z"
   },
   {
    "duration": 270,
    "start_time": "2023-10-01T10:07:33.072Z"
   },
   {
    "duration": 31,
    "start_time": "2023-10-01T10:07:57.762Z"
   },
   {
    "duration": 316,
    "start_time": "2023-10-01T10:08:09.039Z"
   },
   {
    "duration": 315,
    "start_time": "2023-10-01T10:08:48.264Z"
   },
   {
    "duration": 133,
    "start_time": "2023-10-01T10:09:19.300Z"
   },
   {
    "duration": 432,
    "start_time": "2023-10-01T10:09:30.899Z"
   },
   {
    "duration": 308,
    "start_time": "2023-10-01T10:09:45.980Z"
   },
   {
    "duration": 293,
    "start_time": "2023-10-01T10:09:53.372Z"
   },
   {
    "duration": 305,
    "start_time": "2023-10-01T10:10:48.062Z"
   },
   {
    "duration": 312,
    "start_time": "2023-10-01T10:11:11.761Z"
   },
   {
    "duration": 307,
    "start_time": "2023-10-01T10:11:19.980Z"
   },
   {
    "duration": 410,
    "start_time": "2023-10-01T10:11:29.363Z"
   },
   {
    "duration": 295,
    "start_time": "2023-10-01T10:11:47.987Z"
   },
   {
    "duration": 257,
    "start_time": "2023-10-01T10:11:59.379Z"
   },
   {
    "duration": 309,
    "start_time": "2023-10-01T10:12:10.600Z"
   },
   {
    "duration": 339,
    "start_time": "2023-10-01T10:14:32.172Z"
   },
   {
    "duration": 748,
    "start_time": "2023-10-01T10:15:02.580Z"
   },
   {
    "duration": 306,
    "start_time": "2023-10-01T10:15:31.032Z"
   },
   {
    "duration": 296,
    "start_time": "2023-10-01T10:15:42.092Z"
   },
   {
    "duration": 3,
    "start_time": "2023-10-01T10:20:52.073Z"
   },
   {
    "duration": 4,
    "start_time": "2023-10-01T10:21:01.840Z"
   },
   {
    "duration": 279,
    "start_time": "2023-10-01T10:21:10.884Z"
   },
   {
    "duration": 292,
    "start_time": "2023-10-01T10:21:36.156Z"
   },
   {
    "duration": 4,
    "start_time": "2023-10-01T10:21:39.441Z"
   },
   {
    "duration": 5,
    "start_time": "2023-10-01T10:21:43.141Z"
   },
   {
    "duration": 4,
    "start_time": "2023-10-01T10:21:49.429Z"
   },
   {
    "duration": 5,
    "start_time": "2023-10-01T10:22:19.073Z"
   },
   {
    "duration": 7,
    "start_time": "2023-10-01T10:22:25.977Z"
   },
   {
    "duration": 5,
    "start_time": "2023-10-01T10:22:52.800Z"
   },
   {
    "duration": 5,
    "start_time": "2023-10-01T10:22:58.140Z"
   },
   {
    "duration": 82,
    "start_time": "2023-10-01T10:24:02.201Z"
   },
   {
    "duration": 9,
    "start_time": "2023-10-01T10:24:13.968Z"
   },
   {
    "duration": 9,
    "start_time": "2023-10-01T10:24:17.720Z"
   },
   {
    "duration": 9,
    "start_time": "2023-10-01T10:24:32.040Z"
   },
   {
    "duration": 9,
    "start_time": "2023-10-01T10:25:30.641Z"
   },
   {
    "duration": 5,
    "start_time": "2023-10-01T10:25:50.992Z"
   },
   {
    "duration": 10,
    "start_time": "2023-10-01T10:26:04.909Z"
   },
   {
    "duration": 5,
    "start_time": "2023-10-01T10:26:11.649Z"
   },
   {
    "duration": 14,
    "start_time": "2023-10-01T10:26:32.665Z"
   },
   {
    "duration": 11,
    "start_time": "2023-10-01T10:26:48.788Z"
   },
   {
    "duration": 11,
    "start_time": "2023-10-01T10:27:07.920Z"
   },
   {
    "duration": 10,
    "start_time": "2023-10-01T10:27:15.801Z"
   },
   {
    "duration": 4,
    "start_time": "2023-10-01T10:27:20.841Z"
   },
   {
    "duration": 5,
    "start_time": "2023-10-01T10:27:26.040Z"
   },
   {
    "duration": 16,
    "start_time": "2023-10-01T10:27:34.689Z"
   },
   {
    "duration": 10,
    "start_time": "2023-10-01T10:27:38.602Z"
   },
   {
    "duration": 5,
    "start_time": "2023-10-01T10:28:07.040Z"
   },
   {
    "duration": 10,
    "start_time": "2023-10-01T10:28:30.781Z"
   },
   {
    "duration": 157,
    "start_time": "2023-10-01T10:28:37.374Z"
   },
   {
    "duration": 9,
    "start_time": "2023-10-01T10:28:46.952Z"
   },
   {
    "duration": 13,
    "start_time": "2023-10-01T10:28:55.800Z"
   },
   {
    "duration": 84,
    "start_time": "2023-10-01T10:29:04.521Z"
   },
   {
    "duration": 6,
    "start_time": "2023-10-01T10:29:08.421Z"
   },
   {
    "duration": 282,
    "start_time": "2023-10-01T10:29:26.701Z"
   },
   {
    "duration": 126,
    "start_time": "2023-10-01T10:29:31.215Z"
   },
   {
    "duration": 19,
    "start_time": "2023-10-01T10:29:35.301Z"
   },
   {
    "duration": 11,
    "start_time": "2023-10-01T10:30:00.329Z"
   },
   {
    "duration": 12,
    "start_time": "2023-10-01T10:41:29.720Z"
   },
   {
    "duration": 15,
    "start_time": "2023-10-01T10:42:23.970Z"
   },
   {
    "duration": 1831,
    "start_time": "2023-10-01T10:42:33.280Z"
   },
   {
    "duration": 1619,
    "start_time": "2023-10-01T10:43:47.270Z"
   },
   {
    "duration": 1753,
    "start_time": "2023-10-01T10:51:02.602Z"
   },
   {
    "duration": 1877,
    "start_time": "2023-10-01T10:51:13.790Z"
   },
   {
    "duration": 1745,
    "start_time": "2023-10-01T10:54:44.171Z"
   },
   {
    "duration": 1850,
    "start_time": "2023-10-01T10:54:59.551Z"
   },
   {
    "duration": 1628,
    "start_time": "2023-10-01T10:56:22.623Z"
   },
   {
    "duration": 1881,
    "start_time": "2023-10-01T11:00:18.824Z"
   },
   {
    "duration": 23,
    "start_time": "2023-10-01T11:05:25.717Z"
   },
   {
    "duration": 10,
    "start_time": "2023-10-01T11:05:57.236Z"
   },
   {
    "duration": 4,
    "start_time": "2023-10-01T11:06:03.704Z"
   },
   {
    "duration": 4,
    "start_time": "2023-10-01T11:06:21.305Z"
   },
   {
    "duration": 11,
    "start_time": "2023-10-01T11:07:11.401Z"
   },
   {
    "duration": 10,
    "start_time": "2023-10-01T11:07:21.905Z"
   },
   {
    "duration": 10,
    "start_time": "2023-10-01T11:07:25.085Z"
   },
   {
    "duration": 10,
    "start_time": "2023-10-01T11:08:06.116Z"
   },
   {
    "duration": 5,
    "start_time": "2023-10-01T11:08:20.444Z"
   },
   {
    "duration": 4,
    "start_time": "2023-10-01T11:08:49.517Z"
   },
   {
    "duration": 5,
    "start_time": "2023-10-01T11:08:55.876Z"
   },
   {
    "duration": 318,
    "start_time": "2023-10-01T11:09:04.776Z"
   },
   {
    "duration": 279,
    "start_time": "2023-10-01T11:09:09.372Z"
   },
   {
    "duration": 25,
    "start_time": "2023-10-01T11:09:31.197Z"
   },
   {
    "duration": 13,
    "start_time": "2023-10-01T11:09:35.724Z"
   },
   {
    "duration": 126,
    "start_time": "2023-10-01T11:10:31.845Z"
   },
   {
    "duration": 8,
    "start_time": "2023-10-01T11:10:40.566Z"
   },
   {
    "duration": 102,
    "start_time": "2023-10-01T11:16:33.865Z"
   },
   {
    "duration": 159,
    "start_time": "2023-10-01T11:16:59.733Z"
   },
   {
    "duration": 1274,
    "start_time": "2023-10-01T11:17:15.486Z"
   },
   {
    "duration": 1244,
    "start_time": "2023-10-01T11:17:27.460Z"
   },
   {
    "duration": 1491,
    "start_time": "2023-10-01T11:17:39.185Z"
   },
   {
    "duration": 1284,
    "start_time": "2023-10-01T11:18:35.846Z"
   },
   {
    "duration": 1853,
    "start_time": "2023-10-01T11:18:54.715Z"
   },
   {
    "duration": 1644,
    "start_time": "2023-10-01T11:19:42.684Z"
   },
   {
    "duration": 1856,
    "start_time": "2023-10-01T11:19:56.984Z"
   },
   {
    "duration": 11,
    "start_time": "2023-10-01T11:20:08.985Z"
   },
   {
    "duration": 9,
    "start_time": "2023-10-01T11:20:19.993Z"
   },
   {
    "duration": 18,
    "start_time": "2023-10-01T11:20:27.985Z"
   },
   {
    "duration": 25,
    "start_time": "2023-10-01T11:20:48.063Z"
   },
   {
    "duration": 19,
    "start_time": "2023-10-01T11:20:58.732Z"
   },
   {
    "duration": 23,
    "start_time": "2023-10-01T11:21:04.945Z"
   },
   {
    "duration": 77,
    "start_time": "2023-10-01T11:21:18.393Z"
   },
   {
    "duration": 20,
    "start_time": "2023-10-01T11:21:22.125Z"
   },
   {
    "duration": 21,
    "start_time": "2023-10-01T11:21:42.567Z"
   },
   {
    "duration": 19,
    "start_time": "2023-10-01T11:21:50.955Z"
   },
   {
    "duration": 20,
    "start_time": "2023-10-01T11:22:07.941Z"
   },
   {
    "duration": 1768,
    "start_time": "2023-10-01T11:22:45.876Z"
   },
   {
    "duration": 1944,
    "start_time": "2023-10-01T11:22:53.125Z"
   },
   {
    "duration": 2367,
    "start_time": "2023-10-01T11:25:22.484Z"
   },
   {
    "duration": 103,
    "start_time": "2023-10-01T11:26:17.290Z"
   },
   {
    "duration": 1931,
    "start_time": "2023-10-01T11:26:30.443Z"
   },
   {
    "duration": 2106,
    "start_time": "2023-10-01T11:26:46.390Z"
   },
   {
    "duration": 2036,
    "start_time": "2023-10-01T11:27:55.665Z"
   },
   {
    "duration": 2513,
    "start_time": "2023-10-01T11:30:16.642Z"
   },
   {
    "duration": 1720,
    "start_time": "2023-10-01T11:31:25.962Z"
   },
   {
    "duration": 1877,
    "start_time": "2023-10-01T11:32:07.941Z"
   },
   {
    "duration": 1647,
    "start_time": "2023-10-01T11:32:25.588Z"
   },
   {
    "duration": 1849,
    "start_time": "2023-10-01T11:32:57.581Z"
   },
   {
    "duration": 1689,
    "start_time": "2023-10-01T11:35:50.901Z"
   },
   {
    "duration": 1967,
    "start_time": "2023-10-01T11:36:54.369Z"
   },
   {
    "duration": 1682,
    "start_time": "2023-10-01T11:36:58.940Z"
   },
   {
    "duration": 2195,
    "start_time": "2023-10-01T11:37:07.082Z"
   },
   {
    "duration": 1913,
    "start_time": "2023-10-01T11:37:17.128Z"
   },
   {
    "duration": 1927,
    "start_time": "2023-10-01T11:37:57.241Z"
   },
   {
    "duration": 2018,
    "start_time": "2023-10-01T11:38:19.600Z"
   },
   {
    "duration": 2029,
    "start_time": "2023-10-01T11:41:04.680Z"
   },
   {
    "duration": 2154,
    "start_time": "2023-10-01T11:41:32.061Z"
   },
   {
    "duration": 2052,
    "start_time": "2023-10-01T11:41:58.640Z"
   },
   {
    "duration": 1773,
    "start_time": "2023-10-01T11:42:07.408Z"
   },
   {
    "duration": 2193,
    "start_time": "2023-10-01T11:43:03.788Z"
   },
   {
    "duration": 171,
    "start_time": "2023-10-01T11:43:28.163Z"
   },
   {
    "duration": 1930,
    "start_time": "2023-10-01T11:44:31.320Z"
   },
   {
    "duration": 27,
    "start_time": "2023-10-01T11:46:07.820Z"
   },
   {
    "duration": 24,
    "start_time": "2023-10-01T11:46:11.080Z"
   },
   {
    "duration": 2163,
    "start_time": "2023-10-01T11:46:20.163Z"
   },
   {
    "duration": 2022,
    "start_time": "2023-10-01T11:46:51.440Z"
   },
   {
    "duration": 2231,
    "start_time": "2023-10-01T11:47:05.961Z"
   },
   {
    "duration": 1759,
    "start_time": "2023-10-01T11:50:30.121Z"
   },
   {
    "duration": 2019,
    "start_time": "2023-10-01T11:51:47.567Z"
   },
   {
    "duration": 1797,
    "start_time": "2023-10-01T11:51:58.747Z"
   },
   {
    "duration": 1930,
    "start_time": "2023-10-01T11:52:15.452Z"
   },
   {
    "duration": 192,
    "start_time": "2023-10-01T11:53:22.567Z"
   },
   {
    "duration": 1751,
    "start_time": "2023-10-01T11:53:29.427Z"
   },
   {
    "duration": 3899,
    "start_time": "2023-10-01T11:53:49.028Z"
   },
   {
    "duration": 1706,
    "start_time": "2023-10-01T11:54:05.320Z"
   },
   {
    "duration": 1929,
    "start_time": "2023-10-01T11:54:26.300Z"
   },
   {
    "duration": 1928,
    "start_time": "2023-10-01T11:54:41.889Z"
   },
   {
    "duration": 1795,
    "start_time": "2023-10-01T11:55:03.635Z"
   },
   {
    "duration": 1864,
    "start_time": "2023-10-01T11:55:41.868Z"
   },
   {
    "duration": 1677,
    "start_time": "2023-10-01T11:56:12.781Z"
   },
   {
    "duration": 1928,
    "start_time": "2023-10-01T12:02:17.675Z"
   },
   {
    "duration": 1679,
    "start_time": "2023-10-01T12:02:31.851Z"
   },
   {
    "duration": 1974,
    "start_time": "2023-10-01T12:02:54.199Z"
   },
   {
    "duration": 3265,
    "start_time": "2023-10-01T12:03:34.719Z"
   },
   {
    "duration": 3727,
    "start_time": "2023-10-01T12:03:45.439Z"
   },
   {
    "duration": 3542,
    "start_time": "2023-10-01T12:03:55.241Z"
   },
   {
    "duration": 2977,
    "start_time": "2023-10-01T12:05:26.821Z"
   },
   {
    "duration": 1838,
    "start_time": "2023-10-01T12:05:38.679Z"
   },
   {
    "duration": 1729,
    "start_time": "2023-10-01T12:06:11.180Z"
   },
   {
    "duration": 3605,
    "start_time": "2023-10-01T12:08:30.659Z"
   },
   {
    "duration": 1648,
    "start_time": "2023-10-01T12:10:27.980Z"
   },
   {
    "duration": 1886,
    "start_time": "2023-10-01T12:11:30.959Z"
   },
   {
    "duration": 1714,
    "start_time": "2023-10-01T12:11:40.747Z"
   },
   {
    "duration": 1987,
    "start_time": "2023-10-01T12:11:56.040Z"
   },
   {
    "duration": 1662,
    "start_time": "2023-10-01T12:12:32.371Z"
   },
   {
    "duration": 1864,
    "start_time": "2023-10-01T12:12:42.540Z"
   },
   {
    "duration": 13,
    "start_time": "2023-10-01T12:12:50.571Z"
   },
   {
    "duration": 12,
    "start_time": "2023-10-01T12:13:00.979Z"
   },
   {
    "duration": 47,
    "start_time": "2023-10-01T12:13:14.399Z"
   },
   {
    "duration": 19,
    "start_time": "2023-10-01T12:13:40.579Z"
   },
   {
    "duration": 22,
    "start_time": "2023-10-01T12:14:01.599Z"
   },
   {
    "duration": 1032,
    "start_time": "2023-10-01T12:14:05.900Z"
   },
   {
    "duration": 20,
    "start_time": "2023-10-01T12:14:11.879Z"
   },
   {
    "duration": 868,
    "start_time": "2023-10-01T12:14:27.763Z"
   },
   {
    "duration": 20,
    "start_time": "2023-10-01T12:14:48.479Z"
   },
   {
    "duration": 20,
    "start_time": "2023-10-01T12:15:14.626Z"
   },
   {
    "duration": 19,
    "start_time": "2023-10-01T12:15:30.419Z"
   },
   {
    "duration": 15,
    "start_time": "2023-10-01T12:16:09.967Z"
   },
   {
    "duration": 86,
    "start_time": "2023-10-01T12:16:28.539Z"
   },
   {
    "duration": 18,
    "start_time": "2023-10-01T12:16:36.319Z"
   },
   {
    "duration": 19,
    "start_time": "2023-10-01T12:16:53.180Z"
   },
   {
    "duration": 33,
    "start_time": "2023-10-01T12:18:00.421Z"
   },
   {
    "duration": 29,
    "start_time": "2023-10-01T12:20:00.903Z"
   },
   {
    "duration": 27,
    "start_time": "2023-10-01T12:20:05.184Z"
   },
   {
    "duration": 27,
    "start_time": "2023-10-01T12:20:17.244Z"
   },
   {
    "duration": 27,
    "start_time": "2023-10-01T12:20:28.872Z"
   },
   {
    "duration": 35,
    "start_time": "2023-10-01T12:20:59.676Z"
   },
   {
    "duration": 38,
    "start_time": "2023-10-01T12:30:10.490Z"
   },
   {
    "duration": 321,
    "start_time": "2023-10-01T12:30:17.681Z"
   },
   {
    "duration": 286,
    "start_time": "2023-10-01T12:30:31.576Z"
   },
   {
    "duration": 22,
    "start_time": "2023-10-01T12:31:01.468Z"
   },
   {
    "duration": 22,
    "start_time": "2023-10-01T12:31:26.737Z"
   },
   {
    "duration": 351,
    "start_time": "2023-10-01T12:31:35.178Z"
   },
   {
    "duration": 27,
    "start_time": "2023-10-01T12:32:12.462Z"
   },
   {
    "duration": 34,
    "start_time": "2023-10-01T12:32:19.218Z"
   },
   {
    "duration": 28,
    "start_time": "2023-10-01T12:32:26.172Z"
   },
   {
    "duration": 1756,
    "start_time": "2023-10-01T12:32:43.224Z"
   },
   {
    "duration": 28,
    "start_time": "2023-10-01T12:32:49.217Z"
   },
   {
    "duration": 35,
    "start_time": "2023-10-01T12:33:16.358Z"
   },
   {
    "duration": 37,
    "start_time": "2023-10-01T12:33:28.518Z"
   },
   {
    "duration": 1643,
    "start_time": "2023-10-01T12:33:32.341Z"
   },
   {
    "duration": 23,
    "start_time": "2023-10-01T12:34:00.326Z"
   },
   {
    "duration": 25,
    "start_time": "2023-10-01T12:34:05.886Z"
   },
   {
    "duration": 36,
    "start_time": "2023-10-01T12:34:27.058Z"
   },
   {
    "duration": 2476,
    "start_time": "2023-10-01T12:35:13.477Z"
   },
   {
    "duration": 35,
    "start_time": "2023-10-01T12:35:23.218Z"
   },
   {
    "duration": 697,
    "start_time": "2023-10-01T12:36:23.186Z"
   },
   {
    "duration": 1933,
    "start_time": "2023-10-01T12:36:33.066Z"
   },
   {
    "duration": 2441,
    "start_time": "2023-10-01T12:37:29.799Z"
   },
   {
    "duration": 25,
    "start_time": "2023-10-01T12:37:40.797Z"
   },
   {
    "duration": 42,
    "start_time": "2023-10-01T12:37:46.518Z"
   },
   {
    "duration": 25,
    "start_time": "2023-10-01T12:40:40.038Z"
   },
   {
    "duration": 1490,
    "start_time": "2023-10-01T12:43:39.398Z"
   },
   {
    "duration": 5,
    "start_time": "2023-10-01T12:43:46.518Z"
   },
   {
    "duration": 1678,
    "start_time": "2023-10-01T12:44:03.438Z"
   },
   {
    "duration": 6,
    "start_time": "2023-10-01T12:46:12.538Z"
   },
   {
    "duration": 5,
    "start_time": "2023-10-01T12:46:28.206Z"
   },
   {
    "duration": 6,
    "start_time": "2023-10-01T12:46:31.552Z"
   },
   {
    "duration": 5,
    "start_time": "2023-10-01T12:46:39.317Z"
   },
   {
    "duration": 39,
    "start_time": "2023-10-01T12:47:00.318Z"
   },
   {
    "duration": 38,
    "start_time": "2023-10-01T12:47:16.018Z"
   },
   {
    "duration": 71,
    "start_time": "2023-10-01T12:48:40.578Z"
   },
   {
    "duration": 116,
    "start_time": "2023-10-01T12:48:44.759Z"
   },
   {
    "duration": 135,
    "start_time": "2023-10-01T12:48:49.126Z"
   },
   {
    "duration": 88,
    "start_time": "2023-10-01T12:48:51.946Z"
   },
   {
    "duration": 50,
    "start_time": "2023-10-01T12:48:55.838Z"
   },
   {
    "duration": 23,
    "start_time": "2023-10-01T12:49:38.137Z"
   },
   {
    "duration": 37,
    "start_time": "2023-10-01T12:49:48.266Z"
   },
   {
    "duration": 27,
    "start_time": "2023-10-01T12:49:57.038Z"
   },
   {
    "duration": 26,
    "start_time": "2023-10-01T12:50:18.737Z"
   },
   {
    "duration": 30,
    "start_time": "2023-10-01T12:50:41.477Z"
   },
   {
    "duration": 28,
    "start_time": "2023-10-01T12:50:48.937Z"
   },
   {
    "duration": 1719,
    "start_time": "2023-10-01T12:51:08.561Z"
   },
   {
    "duration": 1309,
    "start_time": "2023-10-02T06:16:23.961Z"
   },
   {
    "duration": 125,
    "start_time": "2023-10-02T06:16:25.272Z"
   },
   {
    "duration": 14,
    "start_time": "2023-10-02T06:16:25.398Z"
   },
   {
    "duration": 4,
    "start_time": "2023-10-02T06:16:25.413Z"
   },
   {
    "duration": 48,
    "start_time": "2023-10-02T06:16:25.419Z"
   },
   {
    "duration": 8,
    "start_time": "2023-10-02T06:16:25.469Z"
   },
   {
    "duration": 12,
    "start_time": "2023-10-02T06:16:25.478Z"
   },
   {
    "duration": 9,
    "start_time": "2023-10-02T06:16:25.491Z"
   },
   {
    "duration": 15,
    "start_time": "2023-10-02T06:16:25.502Z"
   },
   {
    "duration": 51,
    "start_time": "2023-10-02T06:16:25.519Z"
   },
   {
    "duration": 361,
    "start_time": "2023-10-02T06:16:25.571Z"
   },
   {
    "duration": 347,
    "start_time": "2023-10-02T06:16:25.934Z"
   },
   {
    "duration": 823,
    "start_time": "2023-10-02T06:16:26.283Z"
   },
   {
    "duration": 242,
    "start_time": "2023-10-02T06:16:27.108Z"
   },
   {
    "duration": 342,
    "start_time": "2023-10-02T06:16:27.351Z"
   },
   {
    "duration": 1567,
    "start_time": "2023-10-02T06:16:27.696Z"
   },
   {
    "duration": 19,
    "start_time": "2023-10-02T06:16:29.265Z"
   },
   {
    "duration": 10,
    "start_time": "2023-10-02T06:16:29.286Z"
   },
   {
    "duration": 1558,
    "start_time": "2023-10-02T06:16:57.496Z"
   },
   {
    "duration": 4,
    "start_time": "2023-10-02T06:17:22.110Z"
   },
   {
    "duration": 1635,
    "start_time": "2023-10-02T06:17:31.162Z"
   },
   {
    "duration": 5,
    "start_time": "2023-10-02T06:17:34.510Z"
   },
   {
    "duration": 91,
    "start_time": "2023-10-02T06:22:27.399Z"
   },
   {
    "duration": 21,
    "start_time": "2023-10-02T06:22:36.228Z"
   },
   {
    "duration": 17,
    "start_time": "2023-10-02T06:22:48.030Z"
   },
   {
    "duration": 17,
    "start_time": "2023-10-02T06:23:01.525Z"
   },
   {
    "duration": 17,
    "start_time": "2023-10-02T06:23:21.797Z"
   },
   {
    "duration": 27,
    "start_time": "2023-10-02T06:23:43.099Z"
   },
   {
    "duration": 47,
    "start_time": "2023-10-02T06:24:03.637Z"
   },
   {
    "duration": 133,
    "start_time": "2023-10-02T06:28:30.249Z"
   },
   {
    "duration": 163,
    "start_time": "2023-10-02T06:31:46.187Z"
   },
   {
    "duration": 12,
    "start_time": "2023-10-02T06:31:57.920Z"
   },
   {
    "duration": 29,
    "start_time": "2023-10-02T06:32:05.139Z"
   },
   {
    "duration": 1724,
    "start_time": "2023-10-02T06:37:10.098Z"
   },
   {
    "duration": 42,
    "start_time": "2023-10-02T06:37:57.439Z"
   },
   {
    "duration": 55,
    "start_time": "2023-10-02T06:38:14.746Z"
   },
   {
    "duration": 1575,
    "start_time": "2023-10-02T06:38:51.466Z"
   },
   {
    "duration": 1664,
    "start_time": "2023-10-02T06:39:30.260Z"
   },
   {
    "duration": 2004,
    "start_time": "2023-10-02T06:39:40.067Z"
   },
   {
    "duration": 1757,
    "start_time": "2023-10-02T06:39:52.470Z"
   },
   {
    "duration": 77,
    "start_time": "2023-10-02T06:40:26.956Z"
   },
   {
    "duration": 49,
    "start_time": "2023-10-02T06:40:48.641Z"
   },
   {
    "duration": 54,
    "start_time": "2023-10-02T06:40:54.340Z"
   },
   {
    "duration": 45,
    "start_time": "2023-10-02T06:41:30.294Z"
   },
   {
    "duration": 44,
    "start_time": "2023-10-02T06:41:49.593Z"
   },
   {
    "duration": 51,
    "start_time": "2023-10-02T06:42:04.569Z"
   },
   {
    "duration": 48,
    "start_time": "2023-10-02T06:42:26.529Z"
   },
   {
    "duration": 1373,
    "start_time": "2023-10-02T08:53:47.891Z"
   },
   {
    "duration": 142,
    "start_time": "2023-10-02T08:53:49.266Z"
   },
   {
    "duration": 15,
    "start_time": "2023-10-02T08:53:49.410Z"
   },
   {
    "duration": 17,
    "start_time": "2023-10-02T08:53:49.426Z"
   },
   {
    "duration": 154,
    "start_time": "2023-10-02T08:53:49.445Z"
   },
   {
    "duration": 0,
    "start_time": "2023-10-02T08:53:49.601Z"
   },
   {
    "duration": 0,
    "start_time": "2023-10-02T08:53:49.602Z"
   },
   {
    "duration": 0,
    "start_time": "2023-10-02T08:53:49.603Z"
   },
   {
    "duration": 0,
    "start_time": "2023-10-02T08:53:49.604Z"
   },
   {
    "duration": 0,
    "start_time": "2023-10-02T08:53:49.605Z"
   },
   {
    "duration": 0,
    "start_time": "2023-10-02T08:53:49.606Z"
   },
   {
    "duration": 0,
    "start_time": "2023-10-02T08:53:49.607Z"
   },
   {
    "duration": 11,
    "start_time": "2023-10-02T08:53:50.466Z"
   },
   {
    "duration": 0,
    "start_time": "2023-10-02T08:53:50.479Z"
   },
   {
    "duration": 0,
    "start_time": "2023-10-02T08:53:50.480Z"
   },
   {
    "duration": 0,
    "start_time": "2023-10-02T08:53:50.481Z"
   },
   {
    "duration": 0,
    "start_time": "2023-10-02T08:53:50.482Z"
   },
   {
    "duration": 0,
    "start_time": "2023-10-02T08:53:50.483Z"
   },
   {
    "duration": 9,
    "start_time": "2023-10-02T08:53:57.320Z"
   },
   {
    "duration": 3,
    "start_time": "2023-10-02T08:54:23.535Z"
   },
   {
    "duration": 102,
    "start_time": "2023-10-02T08:54:23.542Z"
   },
   {
    "duration": 20,
    "start_time": "2023-10-02T08:54:23.646Z"
   },
   {
    "duration": 10,
    "start_time": "2023-10-02T08:54:23.668Z"
   },
   {
    "duration": 38,
    "start_time": "2023-10-02T08:54:23.680Z"
   },
   {
    "duration": 0,
    "start_time": "2023-10-02T08:54:23.720Z"
   },
   {
    "duration": 0,
    "start_time": "2023-10-02T08:54:23.721Z"
   },
   {
    "duration": 0,
    "start_time": "2023-10-02T08:54:23.722Z"
   },
   {
    "duration": 0,
    "start_time": "2023-10-02T08:54:23.723Z"
   },
   {
    "duration": 0,
    "start_time": "2023-10-02T08:54:23.724Z"
   },
   {
    "duration": 0,
    "start_time": "2023-10-02T08:54:23.725Z"
   },
   {
    "duration": 0,
    "start_time": "2023-10-02T08:54:23.726Z"
   },
   {
    "duration": 0,
    "start_time": "2023-10-02T08:54:23.726Z"
   },
   {
    "duration": 0,
    "start_time": "2023-10-02T08:54:23.749Z"
   },
   {
    "duration": 10,
    "start_time": "2023-10-02T08:54:23.852Z"
   },
   {
    "duration": 0,
    "start_time": "2023-10-02T08:54:23.867Z"
   },
   {
    "duration": 0,
    "start_time": "2023-10-02T08:54:23.868Z"
   },
   {
    "duration": 0,
    "start_time": "2023-10-02T08:54:23.869Z"
   },
   {
    "duration": 0,
    "start_time": "2023-10-02T08:54:23.870Z"
   },
   {
    "duration": 12,
    "start_time": "2023-10-02T08:54:56.781Z"
   },
   {
    "duration": 12,
    "start_time": "2023-10-02T08:55:02.321Z"
   },
   {
    "duration": 11,
    "start_time": "2023-10-02T08:55:17.848Z"
   },
   {
    "duration": 10,
    "start_time": "2023-10-02T08:55:25.436Z"
   },
   {
    "duration": 11,
    "start_time": "2023-10-02T08:55:42.769Z"
   },
   {
    "duration": 9,
    "start_time": "2023-10-02T08:55:53.201Z"
   },
   {
    "duration": 11,
    "start_time": "2023-10-02T08:56:12.380Z"
   },
   {
    "duration": 3,
    "start_time": "2023-10-02T08:56:25.941Z"
   },
   {
    "duration": 76,
    "start_time": "2023-10-02T08:56:27.311Z"
   },
   {
    "duration": 16,
    "start_time": "2023-10-02T08:56:29.463Z"
   },
   {
    "duration": 4,
    "start_time": "2023-10-02T08:56:32.008Z"
   },
   {
    "duration": 59,
    "start_time": "2023-10-02T08:56:35.540Z"
   },
   {
    "duration": 36,
    "start_time": "2023-10-02T08:57:17.980Z"
   },
   {
    "duration": 38,
    "start_time": "2023-10-02T08:57:30.389Z"
   },
   {
    "duration": 622,
    "start_time": "2023-10-02T08:58:35.550Z"
   },
   {
    "duration": 38,
    "start_time": "2023-10-02T08:58:41.901Z"
   },
   {
    "duration": 38,
    "start_time": "2023-10-02T08:59:03.488Z"
   },
   {
    "duration": 62,
    "start_time": "2023-10-02T08:59:19.224Z"
   },
   {
    "duration": 38,
    "start_time": "2023-10-02T08:59:21.600Z"
   },
   {
    "duration": 15,
    "start_time": "2023-10-02T08:59:22.912Z"
   },
   {
    "duration": 7,
    "start_time": "2023-10-02T08:59:24.340Z"
   },
   {
    "duration": 10,
    "start_time": "2023-10-02T09:00:21.832Z"
   },
   {
    "duration": 9,
    "start_time": "2023-10-02T09:00:25.921Z"
   },
   {
    "duration": 12,
    "start_time": "2023-10-02T09:00:26.861Z"
   },
   {
    "duration": 11,
    "start_time": "2023-10-02T09:00:32.400Z"
   },
   {
    "duration": 21,
    "start_time": "2023-10-02T09:00:36.454Z"
   },
   {
    "duration": 26,
    "start_time": "2023-10-02T09:00:40.620Z"
   },
   {
    "duration": 410,
    "start_time": "2023-10-02T09:00:44.120Z"
   },
   {
    "duration": 314,
    "start_time": "2023-10-02T09:00:47.480Z"
   },
   {
    "duration": 869,
    "start_time": "2023-10-02T09:00:49.900Z"
   },
   {
    "duration": 49,
    "start_time": "2023-10-02T09:01:13.740Z"
   },
   {
    "duration": 9,
    "start_time": "2023-10-02T09:02:52.413Z"
   },
   {
    "duration": 251,
    "start_time": "2023-10-02T09:03:00.764Z"
   },
   {
    "duration": 372,
    "start_time": "2023-10-02T09:03:04.123Z"
   },
   {
    "duration": 1654,
    "start_time": "2023-10-02T09:03:08.274Z"
   },
   {
    "duration": 3,
    "start_time": "2023-10-02T09:03:25.266Z"
   },
   {
    "duration": 104,
    "start_time": "2023-10-02T09:03:25.271Z"
   },
   {
    "duration": 14,
    "start_time": "2023-10-02T09:03:25.376Z"
   },
   {
    "duration": 5,
    "start_time": "2023-10-02T09:03:25.392Z"
   },
   {
    "duration": 64,
    "start_time": "2023-10-02T09:03:25.399Z"
   },
   {
    "duration": 10,
    "start_time": "2023-10-02T09:03:25.465Z"
   },
   {
    "duration": 23,
    "start_time": "2023-10-02T09:03:25.477Z"
   },
   {
    "duration": 24,
    "start_time": "2023-10-02T09:03:25.502Z"
   },
   {
    "duration": 37,
    "start_time": "2023-10-02T09:03:25.528Z"
   },
   {
    "duration": 27,
    "start_time": "2023-10-02T09:03:25.567Z"
   },
   {
    "duration": 353,
    "start_time": "2023-10-02T09:03:25.598Z"
   },
   {
    "duration": 404,
    "start_time": "2023-10-02T09:03:25.956Z"
   },
   {
    "duration": 969,
    "start_time": "2023-10-02T09:03:26.362Z"
   },
   {
    "duration": 265,
    "start_time": "2023-10-02T09:03:27.333Z"
   },
   {
    "duration": 281,
    "start_time": "2023-10-02T09:03:27.600Z"
   },
   {
    "duration": 1649,
    "start_time": "2023-10-02T09:03:27.883Z"
   },
   {
    "duration": 43,
    "start_time": "2023-10-02T09:03:29.534Z"
   },
   {
    "duration": 158,
    "start_time": "2023-10-02T09:03:29.578Z"
   },
   {
    "duration": 0,
    "start_time": "2023-10-02T09:03:29.737Z"
   },
   {
    "duration": 2,
    "start_time": "2023-10-02T09:03:36.882Z"
   },
   {
    "duration": 94,
    "start_time": "2023-10-02T09:03:36.886Z"
   },
   {
    "duration": 14,
    "start_time": "2023-10-02T09:03:36.982Z"
   },
   {
    "duration": 25,
    "start_time": "2023-10-02T09:03:36.998Z"
   },
   {
    "duration": 138,
    "start_time": "2023-10-02T09:03:37.026Z"
   },
   {
    "duration": 8,
    "start_time": "2023-10-02T09:03:37.167Z"
   },
   {
    "duration": 38,
    "start_time": "2023-10-02T09:03:37.177Z"
   },
   {
    "duration": 20,
    "start_time": "2023-10-02T09:03:37.216Z"
   },
   {
    "duration": 40,
    "start_time": "2023-10-02T09:03:37.237Z"
   },
   {
    "duration": 37,
    "start_time": "2023-10-02T09:03:37.279Z"
   },
   {
    "duration": 348,
    "start_time": "2023-10-02T09:03:37.318Z"
   },
   {
    "duration": 309,
    "start_time": "2023-10-02T09:03:37.667Z"
   },
   {
    "duration": 841,
    "start_time": "2023-10-02T09:03:37.977Z"
   },
   {
    "duration": 263,
    "start_time": "2023-10-02T09:03:38.820Z"
   },
   {
    "duration": 306,
    "start_time": "2023-10-02T09:03:39.085Z"
   },
   {
    "duration": 1769,
    "start_time": "2023-10-02T09:03:39.392Z"
   },
   {
    "duration": 29,
    "start_time": "2023-10-02T09:03:41.163Z"
   },
   {
    "duration": 120,
    "start_time": "2023-10-02T09:03:41.193Z"
   },
   {
    "duration": 0,
    "start_time": "2023-10-02T09:03:41.314Z"
   },
   {
    "duration": 1316,
    "start_time": "2023-10-02T09:03:50.130Z"
   },
   {
    "duration": 3,
    "start_time": "2023-10-02T09:03:53.713Z"
   },
   {
    "duration": 96,
    "start_time": "2023-10-02T09:03:53.718Z"
   },
   {
    "duration": 16,
    "start_time": "2023-10-02T09:03:53.816Z"
   },
   {
    "duration": 5,
    "start_time": "2023-10-02T09:03:53.834Z"
   },
   {
    "duration": 44,
    "start_time": "2023-10-02T09:03:53.854Z"
   },
   {
    "duration": 9,
    "start_time": "2023-10-02T09:03:53.899Z"
   },
   {
    "duration": 12,
    "start_time": "2023-10-02T09:03:53.909Z"
   },
   {
    "duration": 32,
    "start_time": "2023-10-02T09:03:53.923Z"
   },
   {
    "duration": 39,
    "start_time": "2023-10-02T09:03:53.956Z"
   },
   {
    "duration": 36,
    "start_time": "2023-10-02T09:03:53.997Z"
   },
   {
    "duration": 354,
    "start_time": "2023-10-02T09:03:54.034Z"
   },
   {
    "duration": 324,
    "start_time": "2023-10-02T09:03:54.389Z"
   },
   {
    "duration": 855,
    "start_time": "2023-10-02T09:03:54.714Z"
   },
   {
    "duration": 257,
    "start_time": "2023-10-02T09:03:55.571Z"
   },
   {
    "duration": 437,
    "start_time": "2023-10-02T09:03:55.829Z"
   },
   {
    "duration": 1566,
    "start_time": "2023-10-02T09:03:56.268Z"
   },
   {
    "duration": 29,
    "start_time": "2023-10-02T09:03:57.836Z"
   },
   {
    "duration": 609,
    "start_time": "2023-10-02T09:03:57.867Z"
   },
   {
    "duration": 0,
    "start_time": "2023-10-02T09:03:58.478Z"
   },
   {
    "duration": 258,
    "start_time": "2023-10-02T09:04:37.405Z"
   },
   {
    "duration": 313,
    "start_time": "2023-10-02T09:04:45.053Z"
   },
   {
    "duration": 1768,
    "start_time": "2023-10-02T09:05:03.816Z"
   },
   {
    "duration": 6,
    "start_time": "2023-10-02T09:06:02.304Z"
   },
   {
    "duration": 1599,
    "start_time": "2023-10-02T09:06:06.086Z"
   },
   {
    "duration": 1705,
    "start_time": "2023-10-02T09:06:19.769Z"
   },
   {
    "duration": 1618,
    "start_time": "2023-10-02T09:07:01.404Z"
   },
   {
    "duration": 1696,
    "start_time": "2023-10-02T09:07:13.105Z"
   },
   {
    "duration": 1627,
    "start_time": "2023-10-02T09:07:28.017Z"
   },
   {
    "duration": 1694,
    "start_time": "2023-10-02T09:08:34.326Z"
   },
   {
    "duration": 1553,
    "start_time": "2023-10-02T09:08:47.039Z"
   },
   {
    "duration": 1664,
    "start_time": "2023-10-02T09:09:27.128Z"
   },
   {
    "duration": 55,
    "start_time": "2023-10-02T09:09:41.608Z"
   },
   {
    "duration": 1838,
    "start_time": "2023-10-02T09:10:35.386Z"
   },
   {
    "duration": 4366,
    "start_time": "2023-10-02T09:10:53.535Z"
   },
   {
    "duration": 55,
    "start_time": "2023-10-02T09:11:02.962Z"
   },
   {
    "duration": 55,
    "start_time": "2023-10-02T09:11:09.677Z"
   },
   {
    "duration": 51,
    "start_time": "2023-10-02T09:11:21.576Z"
   },
   {
    "duration": 69,
    "start_time": "2023-10-02T09:11:47.906Z"
   },
   {
    "duration": 1148,
    "start_time": "2023-10-02T09:12:09.592Z"
   },
   {
    "duration": 88,
    "start_time": "2023-10-02T09:12:10.742Z"
   },
   {
    "duration": 13,
    "start_time": "2023-10-02T09:12:10.832Z"
   },
   {
    "duration": 32,
    "start_time": "2023-10-02T09:12:10.846Z"
   },
   {
    "duration": 94,
    "start_time": "2023-10-02T09:12:10.880Z"
   },
   {
    "duration": 12,
    "start_time": "2023-10-02T09:12:10.976Z"
   },
   {
    "duration": 22,
    "start_time": "2023-10-02T09:12:10.990Z"
   },
   {
    "duration": 43,
    "start_time": "2023-10-02T09:12:11.013Z"
   },
   {
    "duration": 32,
    "start_time": "2023-10-02T09:12:11.059Z"
   },
   {
    "duration": 44,
    "start_time": "2023-10-02T09:12:11.092Z"
   },
   {
    "duration": 345,
    "start_time": "2023-10-02T09:12:11.137Z"
   },
   {
    "duration": 294,
    "start_time": "2023-10-02T09:12:11.484Z"
   },
   {
    "duration": 861,
    "start_time": "2023-10-02T09:12:11.779Z"
   },
   {
    "duration": 281,
    "start_time": "2023-10-02T09:12:12.643Z"
   },
   {
    "duration": 363,
    "start_time": "2023-10-02T09:12:12.926Z"
   },
   {
    "duration": 1553,
    "start_time": "2023-10-02T09:12:13.291Z"
   },
   {
    "duration": 42,
    "start_time": "2023-10-02T09:12:14.845Z"
   },
   {
    "duration": 212,
    "start_time": "2023-10-02T09:12:14.888Z"
   },
   {
    "duration": 0,
    "start_time": "2023-10-02T09:12:15.102Z"
   },
   {
    "duration": 15,
    "start_time": "2023-10-02T09:12:39.366Z"
   },
   {
    "duration": 17,
    "start_time": "2023-10-02T09:12:54.257Z"
   },
   {
    "duration": 14,
    "start_time": "2023-10-02T09:13:02.462Z"
   },
   {
    "duration": 1139,
    "start_time": "2023-10-02T09:13:37.791Z"
   },
   {
    "duration": 94,
    "start_time": "2023-10-02T09:13:38.931Z"
   },
   {
    "duration": 16,
    "start_time": "2023-10-02T09:13:39.026Z"
   },
   {
    "duration": 48,
    "start_time": "2023-10-02T09:13:39.043Z"
   },
   {
    "duration": 101,
    "start_time": "2023-10-02T09:13:39.094Z"
   },
   {
    "duration": 0,
    "start_time": "2023-10-02T09:13:39.196Z"
   },
   {
    "duration": 0,
    "start_time": "2023-10-02T09:13:39.198Z"
   },
   {
    "duration": 0,
    "start_time": "2023-10-02T09:13:39.199Z"
   },
   {
    "duration": 0,
    "start_time": "2023-10-02T09:13:39.200Z"
   },
   {
    "duration": 0,
    "start_time": "2023-10-02T09:13:39.201Z"
   },
   {
    "duration": 0,
    "start_time": "2023-10-02T09:13:39.202Z"
   },
   {
    "duration": 0,
    "start_time": "2023-10-02T09:13:39.203Z"
   },
   {
    "duration": 0,
    "start_time": "2023-10-02T09:13:39.204Z"
   },
   {
    "duration": 0,
    "start_time": "2023-10-02T09:13:39.205Z"
   },
   {
    "duration": 0,
    "start_time": "2023-10-02T09:13:39.206Z"
   },
   {
    "duration": 102,
    "start_time": "2023-10-02T09:13:39.432Z"
   },
   {
    "duration": 0,
    "start_time": "2023-10-02T09:13:39.535Z"
   },
   {
    "duration": 0,
    "start_time": "2023-10-02T09:13:39.537Z"
   },
   {
    "duration": 0,
    "start_time": "2023-10-02T09:13:39.537Z"
   },
   {
    "duration": 63,
    "start_time": "2023-10-02T09:13:55.419Z"
   },
   {
    "duration": 75,
    "start_time": "2023-10-02T09:14:11.234Z"
   },
   {
    "duration": 61,
    "start_time": "2023-10-02T09:14:14.515Z"
   },
   {
    "duration": 19,
    "start_time": "2023-10-02T09:14:15.060Z"
   },
   {
    "duration": 13,
    "start_time": "2023-10-02T09:14:15.343Z"
   },
   {
    "duration": 14,
    "start_time": "2023-10-02T09:14:16.039Z"
   },
   {
    "duration": 30,
    "start_time": "2023-10-02T09:14:16.966Z"
   },
   {
    "duration": 23,
    "start_time": "2023-10-02T09:14:18.115Z"
   },
   {
    "duration": 350,
    "start_time": "2023-10-02T09:14:18.885Z"
   },
   {
    "duration": 307,
    "start_time": "2023-10-02T09:14:19.373Z"
   },
   {
    "duration": 842,
    "start_time": "2023-10-02T09:14:19.682Z"
   },
   {
    "duration": 273,
    "start_time": "2023-10-02T09:14:20.525Z"
   },
   {
    "duration": 375,
    "start_time": "2023-10-02T09:14:20.801Z"
   },
   {
    "duration": 1494,
    "start_time": "2023-10-02T09:14:21.183Z"
   },
   {
    "duration": 28,
    "start_time": "2023-10-02T09:14:22.694Z"
   },
   {
    "duration": 102,
    "start_time": "2023-10-02T09:14:22.723Z"
   },
   {
    "duration": 0,
    "start_time": "2023-10-02T09:14:22.826Z"
   },
   {
    "duration": 10,
    "start_time": "2023-10-02T09:14:38.490Z"
   },
   {
    "duration": 14,
    "start_time": "2023-10-02T09:15:11.651Z"
   },
   {
    "duration": 57,
    "start_time": "2023-10-02T09:16:31.320Z"
   },
   {
    "duration": 1053,
    "start_time": "2023-10-02T09:16:51.230Z"
   },
   {
    "duration": 46,
    "start_time": "2023-10-02T09:17:01.092Z"
   },
   {
    "duration": 785,
    "start_time": "2023-10-02T09:18:41.092Z"
   },
   {
    "duration": 378,
    "start_time": "2023-10-02T09:18:49.731Z"
   },
   {
    "duration": 55,
    "start_time": "2023-10-02T09:19:39.352Z"
   },
   {
    "duration": 387,
    "start_time": "2023-10-02T09:21:33.792Z"
   },
   {
    "duration": 49,
    "start_time": "2023-10-02T09:22:00.073Z"
   },
   {
    "duration": 40,
    "start_time": "2023-10-02T09:22:15.571Z"
   },
   {
    "duration": 38,
    "start_time": "2023-10-02T09:22:57.966Z"
   },
   {
    "duration": 42,
    "start_time": "2023-10-02T09:24:02.594Z"
   },
   {
    "duration": 1044,
    "start_time": "2023-10-02T09:24:17.205Z"
   },
   {
    "duration": 78,
    "start_time": "2023-10-02T09:24:18.251Z"
   },
   {
    "duration": 15,
    "start_time": "2023-10-02T09:24:18.331Z"
   },
   {
    "duration": 32,
    "start_time": "2023-10-02T09:24:18.348Z"
   },
   {
    "duration": 87,
    "start_time": "2023-10-02T09:24:18.382Z"
   },
   {
    "duration": 8,
    "start_time": "2023-10-02T09:24:18.471Z"
   },
   {
    "duration": 19,
    "start_time": "2023-10-02T09:24:18.480Z"
   },
   {
    "duration": 21,
    "start_time": "2023-10-02T09:24:18.500Z"
   },
   {
    "duration": 26,
    "start_time": "2023-10-02T09:24:18.522Z"
   },
   {
    "duration": 26,
    "start_time": "2023-10-02T09:24:18.550Z"
   },
   {
    "duration": 331,
    "start_time": "2023-10-02T09:24:18.577Z"
   },
   {
    "duration": 292,
    "start_time": "2023-10-02T09:24:18.909Z"
   },
   {
    "duration": 759,
    "start_time": "2023-10-02T09:24:19.203Z"
   },
   {
    "duration": 240,
    "start_time": "2023-10-02T09:24:19.965Z"
   },
   {
    "duration": 360,
    "start_time": "2023-10-02T09:24:20.207Z"
   },
   {
    "duration": 1453,
    "start_time": "2023-10-02T09:24:20.568Z"
   },
   {
    "duration": 29,
    "start_time": "2023-10-02T09:24:22.023Z"
   },
   {
    "duration": 92,
    "start_time": "2023-10-02T09:24:22.053Z"
   },
   {
    "duration": 0,
    "start_time": "2023-10-02T09:24:22.146Z"
   },
   {
    "duration": 41,
    "start_time": "2023-10-02T09:24:46.874Z"
   },
   {
    "duration": 38,
    "start_time": "2023-10-02T09:24:55.174Z"
   },
   {
    "duration": 44,
    "start_time": "2023-10-02T09:25:12.363Z"
   },
   {
    "duration": 44,
    "start_time": "2023-10-02T09:25:39.134Z"
   },
   {
    "duration": 44,
    "start_time": "2023-10-02T09:25:44.274Z"
   },
   {
    "duration": 3,
    "start_time": "2023-10-02T09:26:00.726Z"
   },
   {
    "duration": 107,
    "start_time": "2023-10-02T09:26:00.730Z"
   },
   {
    "duration": 13,
    "start_time": "2023-10-02T09:26:00.839Z"
   },
   {
    "duration": 33,
    "start_time": "2023-10-02T09:26:00.854Z"
   },
   {
    "duration": 72,
    "start_time": "2023-10-02T09:26:00.889Z"
   },
   {
    "duration": 18,
    "start_time": "2023-10-02T09:26:00.962Z"
   },
   {
    "duration": 93,
    "start_time": "2023-10-02T09:26:00.981Z"
   },
   {
    "duration": 125,
    "start_time": "2023-10-02T09:26:01.076Z"
   },
   {
    "duration": 52,
    "start_time": "2023-10-02T09:26:01.202Z"
   },
   {
    "duration": 145,
    "start_time": "2023-10-02T09:26:01.255Z"
   },
   {
    "duration": 536,
    "start_time": "2023-10-02T09:26:01.402Z"
   },
   {
    "duration": 483,
    "start_time": "2023-10-02T09:26:01.940Z"
   },
   {
    "duration": 842,
    "start_time": "2023-10-02T09:26:02.424Z"
   },
   {
    "duration": 233,
    "start_time": "2023-10-02T09:26:03.268Z"
   },
   {
    "duration": 252,
    "start_time": "2023-10-02T09:26:03.502Z"
   },
   {
    "duration": 1557,
    "start_time": "2023-10-02T09:26:03.755Z"
   },
   {
    "duration": 37,
    "start_time": "2023-10-02T09:26:05.314Z"
   },
   {
    "duration": 103,
    "start_time": "2023-10-02T09:26:05.353Z"
   },
   {
    "duration": 0,
    "start_time": "2023-10-02T09:26:05.458Z"
   },
   {
    "duration": 15,
    "start_time": "2023-10-02T09:26:31.573Z"
   },
   {
    "duration": 22,
    "start_time": "2023-10-02T09:27:25.012Z"
   },
   {
    "duration": 21,
    "start_time": "2023-10-02T09:27:47.598Z"
   },
   {
    "duration": 156,
    "start_time": "2023-10-02T09:29:12.755Z"
   },
   {
    "duration": 18,
    "start_time": "2023-10-02T09:39:49.631Z"
   },
   {
    "duration": 15,
    "start_time": "2023-10-02T09:40:01.233Z"
   },
   {
    "duration": 197,
    "start_time": "2023-10-02T09:40:11.233Z"
   },
   {
    "duration": 13,
    "start_time": "2023-10-02T09:40:24.445Z"
   },
   {
    "duration": 14,
    "start_time": "2023-10-02T09:40:24.836Z"
   },
   {
    "duration": 101,
    "start_time": "2023-10-02T09:40:53.051Z"
   },
   {
    "duration": 186,
    "start_time": "2023-10-02T09:41:25.572Z"
   },
   {
    "duration": 13,
    "start_time": "2023-10-02T09:43:07.685Z"
   },
   {
    "duration": 132,
    "start_time": "2023-10-02T09:43:46.378Z"
   },
   {
    "duration": 438,
    "start_time": "2023-10-02T09:47:56.710Z"
   },
   {
    "duration": 95,
    "start_time": "2023-10-02T09:48:12.753Z"
   },
   {
    "duration": 167,
    "start_time": "2023-10-02T09:48:21.983Z"
   },
   {
    "duration": 145,
    "start_time": "2023-10-02T09:48:42.985Z"
   },
   {
    "duration": 165,
    "start_time": "2023-10-02T09:48:56.721Z"
   },
   {
    "duration": 85,
    "start_time": "2023-10-02T09:52:16.711Z"
   },
   {
    "duration": 483,
    "start_time": "2023-10-02T09:52:44.485Z"
   },
   {
    "duration": 575,
    "start_time": "2023-10-02T09:54:04.132Z"
   },
   {
    "duration": 481,
    "start_time": "2023-10-02T09:54:43.938Z"
   },
   {
    "duration": 455,
    "start_time": "2023-10-02T09:55:05.597Z"
   },
   {
    "duration": 445,
    "start_time": "2023-10-02T09:56:28.953Z"
   },
   {
    "duration": 457,
    "start_time": "2023-10-02T09:56:34.365Z"
   },
   {
    "duration": 3,
    "start_time": "2023-10-02T09:57:35.358Z"
   },
   {
    "duration": 307,
    "start_time": "2023-10-02T10:45:23.667Z"
   },
   {
    "duration": 520,
    "start_time": "2023-10-02T10:45:35.906Z"
   },
   {
    "duration": 1394,
    "start_time": "2023-10-02T10:45:56.355Z"
   },
   {
    "duration": 28,
    "start_time": "2023-10-02T10:46:09.743Z"
   },
   {
    "duration": 29,
    "start_time": "2023-10-02T10:47:07.511Z"
   },
   {
    "duration": 30,
    "start_time": "2023-10-02T10:47:14.232Z"
   },
   {
    "duration": 29,
    "start_time": "2023-10-02T10:47:54.659Z"
   },
   {
    "duration": 31,
    "start_time": "2023-10-02T10:48:06.312Z"
   },
   {
    "duration": 28,
    "start_time": "2023-10-02T10:48:19.260Z"
   },
   {
    "duration": 27,
    "start_time": "2023-10-02T10:51:19.609Z"
   },
   {
    "duration": 28,
    "start_time": "2023-10-02T10:51:45.450Z"
   },
   {
    "duration": 2720,
    "start_time": "2023-10-02T10:52:44.812Z"
   },
   {
    "duration": 239,
    "start_time": "2023-10-02T10:53:47.716Z"
   },
   {
    "duration": 267,
    "start_time": "2023-10-02T10:53:54.400Z"
   },
   {
    "duration": 1220,
    "start_time": "2023-10-02T10:54:01.338Z"
   },
   {
    "duration": 81,
    "start_time": "2023-10-02T10:54:02.559Z"
   },
   {
    "duration": 14,
    "start_time": "2023-10-02T10:54:02.642Z"
   },
   {
    "duration": 20,
    "start_time": "2023-10-02T10:54:02.657Z"
   },
   {
    "duration": 60,
    "start_time": "2023-10-02T10:54:02.679Z"
   },
   {
    "duration": 9,
    "start_time": "2023-10-02T10:54:02.741Z"
   },
   {
    "duration": 66,
    "start_time": "2023-10-02T10:54:02.751Z"
   },
   {
    "duration": 42,
    "start_time": "2023-10-02T10:54:02.818Z"
   },
   {
    "duration": 23,
    "start_time": "2023-10-02T10:54:02.862Z"
   },
   {
    "duration": 23,
    "start_time": "2023-10-02T10:54:02.887Z"
   },
   {
    "duration": 347,
    "start_time": "2023-10-02T10:54:02.911Z"
   },
   {
    "duration": 309,
    "start_time": "2023-10-02T10:54:03.260Z"
   },
   {
    "duration": 780,
    "start_time": "2023-10-02T10:54:03.571Z"
   },
   {
    "duration": 239,
    "start_time": "2023-10-02T10:54:04.354Z"
   },
   {
    "duration": 328,
    "start_time": "2023-10-02T10:54:04.594Z"
   },
   {
    "duration": 1514,
    "start_time": "2023-10-02T10:54:04.923Z"
   },
   {
    "duration": 32,
    "start_time": "2023-10-02T10:54:06.439Z"
   },
   {
    "duration": 437,
    "start_time": "2023-10-02T10:54:06.472Z"
   },
   {
    "duration": 497,
    "start_time": "2023-10-02T10:54:06.910Z"
   },
   {
    "duration": 407,
    "start_time": "2023-10-02T10:54:07.409Z"
   },
   {
    "duration": 413,
    "start_time": "2023-10-02T10:54:07.817Z"
   },
   {
    "duration": 98,
    "start_time": "2023-10-02T10:54:08.231Z"
   },
   {
    "duration": 7,
    "start_time": "2023-10-02T11:28:23.299Z"
   },
   {
    "duration": 10,
    "start_time": "2023-10-02T11:52:03.442Z"
   },
   {
    "duration": 11,
    "start_time": "2023-10-02T11:53:29.532Z"
   },
   {
    "duration": 9,
    "start_time": "2023-10-02T11:54:53.916Z"
   },
   {
    "duration": 9,
    "start_time": "2023-10-02T11:54:58.625Z"
   },
   {
    "duration": 8,
    "start_time": "2023-10-02T11:55:22.974Z"
   },
   {
    "duration": 10,
    "start_time": "2023-10-02T11:57:21.820Z"
   },
   {
    "duration": 10,
    "start_time": "2023-10-02T11:57:39.102Z"
   },
   {
    "duration": 11,
    "start_time": "2023-10-02T11:57:57.389Z"
   },
   {
    "duration": 333,
    "start_time": "2023-10-02T12:09:34.525Z"
   },
   {
    "duration": 86,
    "start_time": "2023-10-02T12:28:20.294Z"
   },
   {
    "duration": 1390,
    "start_time": "2023-10-02T12:41:12.086Z"
   },
   {
    "duration": 115,
    "start_time": "2023-10-02T12:41:13.478Z"
   },
   {
    "duration": 22,
    "start_time": "2023-10-02T12:41:13.595Z"
   },
   {
    "duration": 19,
    "start_time": "2023-10-02T12:41:13.618Z"
   },
   {
    "duration": 103,
    "start_time": "2023-10-02T12:41:13.641Z"
   },
   {
    "duration": 38,
    "start_time": "2023-10-02T12:41:13.746Z"
   },
   {
    "duration": 15,
    "start_time": "2023-10-02T12:41:13.785Z"
   },
   {
    "duration": 11,
    "start_time": "2023-10-02T12:41:13.802Z"
   },
   {
    "duration": 25,
    "start_time": "2023-10-02T12:41:13.816Z"
   },
   {
    "duration": 47,
    "start_time": "2023-10-02T12:41:13.844Z"
   },
   {
    "duration": 494,
    "start_time": "2023-10-02T12:41:13.893Z"
   },
   {
    "duration": 499,
    "start_time": "2023-10-02T12:41:14.389Z"
   },
   {
    "duration": 959,
    "start_time": "2023-10-02T12:41:14.889Z"
   },
   {
    "duration": 284,
    "start_time": "2023-10-02T12:41:15.850Z"
   },
   {
    "duration": 474,
    "start_time": "2023-10-02T12:41:16.136Z"
   },
   {
    "duration": 1690,
    "start_time": "2023-10-02T12:41:16.612Z"
   },
   {
    "duration": 28,
    "start_time": "2023-10-02T12:41:18.304Z"
   },
   {
    "duration": 535,
    "start_time": "2023-10-02T12:41:18.334Z"
   },
   {
    "duration": 611,
    "start_time": "2023-10-02T12:41:18.875Z"
   },
   {
    "duration": 527,
    "start_time": "2023-10-02T12:41:19.489Z"
   },
   {
    "duration": 183,
    "start_time": "2023-10-02T12:41:20.018Z"
   },
   {
    "duration": 0,
    "start_time": "2023-10-02T12:41:20.203Z"
   },
   {
    "duration": 0,
    "start_time": "2023-10-02T12:41:20.204Z"
   },
   {
    "duration": 0,
    "start_time": "2023-10-02T12:41:20.205Z"
   },
   {
    "duration": 516,
    "start_time": "2023-10-02T12:41:37.136Z"
   },
   {
    "duration": 9,
    "start_time": "2023-10-02T12:41:39.304Z"
   },
   {
    "duration": 14,
    "start_time": "2023-10-02T12:41:40.686Z"
   },
   {
    "duration": 4,
    "start_time": "2023-10-02T12:42:06.081Z"
   },
   {
    "duration": 134,
    "start_time": "2023-10-02T12:42:06.087Z"
   },
   {
    "duration": 17,
    "start_time": "2023-10-02T12:42:06.224Z"
   },
   {
    "duration": 31,
    "start_time": "2023-10-02T12:42:06.243Z"
   },
   {
    "duration": 89,
    "start_time": "2023-10-02T12:42:06.287Z"
   },
   {
    "duration": 15,
    "start_time": "2023-10-02T12:42:06.382Z"
   },
   {
    "duration": 23,
    "start_time": "2023-10-02T12:42:06.401Z"
   },
   {
    "duration": 39,
    "start_time": "2023-10-02T12:42:06.427Z"
   },
   {
    "duration": 42,
    "start_time": "2023-10-02T12:42:06.471Z"
   },
   {
    "duration": 78,
    "start_time": "2023-10-02T12:42:06.515Z"
   },
   {
    "duration": 408,
    "start_time": "2023-10-02T12:42:06.595Z"
   },
   {
    "duration": 391,
    "start_time": "2023-10-02T12:42:07.006Z"
   },
   {
    "duration": 1049,
    "start_time": "2023-10-02T12:42:07.398Z"
   },
   {
    "duration": 299,
    "start_time": "2023-10-02T12:42:08.452Z"
   },
   {
    "duration": 300,
    "start_time": "2023-10-02T12:42:08.758Z"
   },
   {
    "duration": 1825,
    "start_time": "2023-10-02T12:42:09.060Z"
   },
   {
    "duration": 31,
    "start_time": "2023-10-02T12:42:10.886Z"
   },
   {
    "duration": 578,
    "start_time": "2023-10-02T12:42:10.919Z"
   },
   {
    "duration": 634,
    "start_time": "2023-10-02T12:42:11.499Z"
   },
   {
    "duration": 556,
    "start_time": "2023-10-02T12:42:12.135Z"
   },
   {
    "duration": 523,
    "start_time": "2023-10-02T12:42:12.693Z"
   },
   {
    "duration": 9,
    "start_time": "2023-10-02T12:42:13.218Z"
   },
   {
    "duration": 53,
    "start_time": "2023-10-02T12:42:13.229Z"
   },
   {
    "duration": 1370,
    "start_time": "2023-10-02T13:07:32.230Z"
   },
   {
    "duration": 90,
    "start_time": "2023-10-02T13:07:33.602Z"
   },
   {
    "duration": 17,
    "start_time": "2023-10-02T13:07:33.693Z"
   },
   {
    "duration": 14,
    "start_time": "2023-10-02T13:07:33.712Z"
   },
   {
    "duration": 61,
    "start_time": "2023-10-02T13:07:33.728Z"
   },
   {
    "duration": 25,
    "start_time": "2023-10-02T13:07:33.791Z"
   },
   {
    "duration": 7,
    "start_time": "2023-10-02T13:07:33.817Z"
   },
   {
    "duration": 25,
    "start_time": "2023-10-02T13:07:33.826Z"
   },
   {
    "duration": 25,
    "start_time": "2023-10-02T13:07:33.853Z"
   },
   {
    "duration": 37,
    "start_time": "2023-10-02T13:07:33.880Z"
   },
   {
    "duration": 403,
    "start_time": "2023-10-02T13:07:33.919Z"
   },
   {
    "duration": 351,
    "start_time": "2023-10-02T13:07:34.324Z"
   },
   {
    "duration": 982,
    "start_time": "2023-10-02T13:07:34.677Z"
   },
   {
    "duration": 292,
    "start_time": "2023-10-02T13:07:35.663Z"
   },
   {
    "duration": 125,
    "start_time": "2023-10-02T13:07:35.957Z"
   },
   {
    "duration": 0,
    "start_time": "2023-10-02T13:07:36.084Z"
   },
   {
    "duration": 0,
    "start_time": "2023-10-02T13:07:36.085Z"
   },
   {
    "duration": 0,
    "start_time": "2023-10-02T13:07:36.086Z"
   },
   {
    "duration": 0,
    "start_time": "2023-10-02T13:07:36.087Z"
   },
   {
    "duration": 0,
    "start_time": "2023-10-02T13:07:36.088Z"
   },
   {
    "duration": 0,
    "start_time": "2023-10-02T13:07:36.109Z"
   },
   {
    "duration": 0,
    "start_time": "2023-10-02T13:07:36.111Z"
   },
   {
    "duration": 0,
    "start_time": "2023-10-02T13:07:36.113Z"
   },
   {
    "duration": 281,
    "start_time": "2023-10-02T13:39:52.732Z"
   },
   {
    "duration": 338,
    "start_time": "2023-10-02T13:39:57.992Z"
   },
   {
    "duration": 1342,
    "start_time": "2023-10-02T13:40:12.474Z"
   },
   {
    "duration": 134,
    "start_time": "2023-10-02T13:40:13.818Z"
   },
   {
    "duration": 18,
    "start_time": "2023-10-02T13:40:13.954Z"
   },
   {
    "duration": 23,
    "start_time": "2023-10-02T13:40:13.974Z"
   },
   {
    "duration": 72,
    "start_time": "2023-10-02T13:40:14.000Z"
   },
   {
    "duration": 11,
    "start_time": "2023-10-02T13:40:14.073Z"
   },
   {
    "duration": 33,
    "start_time": "2023-10-02T13:40:14.086Z"
   },
   {
    "duration": 40,
    "start_time": "2023-10-02T13:40:14.121Z"
   },
   {
    "duration": 45,
    "start_time": "2023-10-02T13:40:14.163Z"
   },
   {
    "duration": 59,
    "start_time": "2023-10-02T13:40:14.210Z"
   },
   {
    "duration": 462,
    "start_time": "2023-10-02T13:40:14.270Z"
   },
   {
    "duration": 484,
    "start_time": "2023-10-02T13:40:14.735Z"
   },
   {
    "duration": 990,
    "start_time": "2023-10-02T13:40:15.221Z"
   },
   {
    "duration": 308,
    "start_time": "2023-10-02T13:40:16.213Z"
   },
   {
    "duration": 403,
    "start_time": "2023-10-02T13:40:16.523Z"
   },
   {
    "duration": 1856,
    "start_time": "2023-10-02T13:40:16.928Z"
   },
   {
    "duration": 47,
    "start_time": "2023-10-02T13:40:18.786Z"
   },
   {
    "duration": 569,
    "start_time": "2023-10-02T13:40:18.835Z"
   },
   {
    "duration": 617,
    "start_time": "2023-10-02T13:40:19.410Z"
   },
   {
    "duration": 528,
    "start_time": "2023-10-02T13:40:20.028Z"
   },
   {
    "duration": 550,
    "start_time": "2023-10-02T13:40:20.559Z"
   },
   {
    "duration": 12,
    "start_time": "2023-10-02T13:40:21.111Z"
   },
   {
    "duration": 58,
    "start_time": "2023-10-02T13:40:21.126Z"
   },
   {
    "duration": 27,
    "start_time": "2023-10-02T13:44:34.600Z"
   },
   {
    "duration": 37,
    "start_time": "2023-10-02T13:44:48.693Z"
   },
   {
    "duration": 33,
    "start_time": "2023-10-02T13:44:53.776Z"
   },
   {
    "duration": 56,
    "start_time": "2023-10-03T08:24:43.042Z"
   },
   {
    "duration": 1463,
    "start_time": "2023-10-03T08:24:47.651Z"
   },
   {
    "duration": 134,
    "start_time": "2023-10-03T08:24:49.117Z"
   },
   {
    "duration": 17,
    "start_time": "2023-10-03T08:24:49.252Z"
   },
   {
    "duration": 5,
    "start_time": "2023-10-03T08:24:49.271Z"
   },
   {
    "duration": 73,
    "start_time": "2023-10-03T08:24:49.277Z"
   },
   {
    "duration": 8,
    "start_time": "2023-10-03T08:24:49.352Z"
   },
   {
    "duration": 14,
    "start_time": "2023-10-03T08:24:49.362Z"
   },
   {
    "duration": 10,
    "start_time": "2023-10-03T08:24:49.378Z"
   },
   {
    "duration": 17,
    "start_time": "2023-10-03T08:24:49.389Z"
   },
   {
    "duration": 52,
    "start_time": "2023-10-03T08:24:49.409Z"
   },
   {
    "duration": 395,
    "start_time": "2023-10-03T08:24:49.463Z"
   },
   {
    "duration": 355,
    "start_time": "2023-10-03T08:24:49.860Z"
   },
   {
    "duration": 913,
    "start_time": "2023-10-03T08:24:50.217Z"
   },
   {
    "duration": 287,
    "start_time": "2023-10-03T08:24:51.132Z"
   },
   {
    "duration": 388,
    "start_time": "2023-10-03T08:24:51.421Z"
   },
   {
    "duration": 2376,
    "start_time": "2023-10-03T08:24:51.810Z"
   },
   {
    "duration": 85,
    "start_time": "2023-10-03T08:24:54.188Z"
   },
   {
    "duration": 1035,
    "start_time": "2023-10-03T08:24:54.275Z"
   },
   {
    "duration": 614,
    "start_time": "2023-10-03T08:24:55.312Z"
   },
   {
    "duration": 507,
    "start_time": "2023-10-03T08:24:55.929Z"
   },
   {
    "duration": 511,
    "start_time": "2023-10-03T08:24:56.438Z"
   },
   {
    "duration": 11,
    "start_time": "2023-10-03T08:24:56.951Z"
   },
   {
    "duration": 31,
    "start_time": "2023-10-03T08:24:56.963Z"
   },
   {
    "duration": 49,
    "start_time": "2023-10-03T08:26:24.782Z"
   },
   {
    "duration": 51,
    "start_time": "2023-10-03T08:26:46.801Z"
   },
   {
    "duration": 47,
    "start_time": "2023-10-03T08:27:10.781Z"
   },
   {
    "duration": 48,
    "start_time": "2023-10-03T08:27:18.694Z"
   },
   {
    "duration": 54,
    "start_time": "2023-10-03T08:27:22.099Z"
   },
   {
    "duration": 50,
    "start_time": "2023-10-03T08:27:57.395Z"
   },
   {
    "duration": 137,
    "start_time": "2023-10-03T08:28:08.645Z"
   },
   {
    "duration": 48,
    "start_time": "2023-10-03T08:28:11.376Z"
   },
   {
    "duration": 5,
    "start_time": "2023-10-03T08:28:40.511Z"
   },
   {
    "duration": 5,
    "start_time": "2023-10-03T08:29:04.229Z"
   },
   {
    "duration": 59,
    "start_time": "2023-10-03T08:29:26.752Z"
   },
   {
    "duration": 62,
    "start_time": "2023-10-03T08:30:11.510Z"
   },
   {
    "duration": 61,
    "start_time": "2023-10-03T08:31:56.829Z"
   },
   {
    "duration": 60,
    "start_time": "2023-10-03T08:32:03.790Z"
   },
   {
    "duration": 78,
    "start_time": "2023-10-03T08:32:30.443Z"
   },
   {
    "duration": 82,
    "start_time": "2023-10-03T08:35:02.109Z"
   },
   {
    "duration": 73,
    "start_time": "2023-10-03T08:35:36.270Z"
   },
   {
    "duration": 76,
    "start_time": "2023-10-03T08:36:11.447Z"
   },
   {
    "duration": 80,
    "start_time": "2023-10-03T08:36:46.441Z"
   },
   {
    "duration": 80,
    "start_time": "2023-10-03T08:38:13.129Z"
   },
   {
    "duration": 1284,
    "start_time": "2023-10-03T08:39:18.297Z"
   },
   {
    "duration": 83,
    "start_time": "2023-10-03T08:39:19.583Z"
   },
   {
    "duration": 17,
    "start_time": "2023-10-03T08:39:20.597Z"
   },
   {
    "duration": 5,
    "start_time": "2023-10-03T08:39:25.230Z"
   },
   {
    "duration": 8,
    "start_time": "2023-10-03T08:39:51.055Z"
   },
   {
    "duration": 29,
    "start_time": "2023-10-03T08:40:20.899Z"
   },
   {
    "duration": 24,
    "start_time": "2023-10-03T08:41:25.336Z"
   },
   {
    "duration": 24,
    "start_time": "2023-10-03T08:42:26.179Z"
   },
   {
    "duration": 18,
    "start_time": "2023-10-03T08:42:34.380Z"
   },
   {
    "duration": 10,
    "start_time": "2023-10-03T08:44:13.478Z"
   },
   {
    "duration": 1343,
    "start_time": "2023-10-03T08:45:30.254Z"
   },
   {
    "duration": 87,
    "start_time": "2023-10-03T08:45:31.599Z"
   },
   {
    "duration": 104,
    "start_time": "2023-10-03T08:45:31.688Z"
   },
   {
    "duration": 7,
    "start_time": "2023-10-03T08:45:32.184Z"
   },
   {
    "duration": 21,
    "start_time": "2023-10-03T08:45:33.791Z"
   },
   {
    "duration": 11,
    "start_time": "2023-10-03T08:45:34.871Z"
   },
   {
    "duration": 22,
    "start_time": "2023-10-03T08:46:44.351Z"
   },
   {
    "duration": 22,
    "start_time": "2023-10-03T08:46:50.312Z"
   },
   {
    "duration": 22,
    "start_time": "2023-10-03T08:47:24.941Z"
   },
   {
    "duration": 19,
    "start_time": "2023-10-03T08:47:31.413Z"
   },
   {
    "duration": 208,
    "start_time": "2023-10-03T08:48:14.155Z"
   },
   {
    "duration": 169,
    "start_time": "2023-10-03T08:49:35.011Z"
   },
   {
    "duration": 31,
    "start_time": "2023-10-03T08:49:40.572Z"
   },
   {
    "duration": 23,
    "start_time": "2023-10-03T08:49:45.472Z"
   },
   {
    "duration": 17,
    "start_time": "2023-10-03T08:50:12.096Z"
   },
   {
    "duration": 14,
    "start_time": "2023-10-03T08:50:15.088Z"
   },
   {
    "duration": 20,
    "start_time": "2023-10-03T08:50:29.460Z"
   },
   {
    "duration": 53,
    "start_time": "2023-10-03T08:51:19.308Z"
   },
   {
    "duration": 1182,
    "start_time": "2023-10-03T08:51:28.900Z"
   },
   {
    "duration": 86,
    "start_time": "2023-10-03T08:51:30.084Z"
   },
   {
    "duration": 123,
    "start_time": "2023-10-03T08:51:30.172Z"
   },
   {
    "duration": 5,
    "start_time": "2023-10-03T08:51:32.300Z"
   },
   {
    "duration": 26,
    "start_time": "2023-10-03T08:51:33.988Z"
   },
   {
    "duration": 15,
    "start_time": "2023-10-03T08:51:35.119Z"
   },
   {
    "duration": 13,
    "start_time": "2023-10-03T08:51:46.069Z"
   },
   {
    "duration": 27,
    "start_time": "2023-10-03T08:52:14.614Z"
   },
   {
    "duration": 15,
    "start_time": "2023-10-03T08:52:16.660Z"
   },
   {
    "duration": 17,
    "start_time": "2023-10-03T08:52:25.420Z"
   },
   {
    "duration": 21,
    "start_time": "2023-10-03T08:53:18.581Z"
   },
   {
    "duration": 10,
    "start_time": "2023-10-03T08:53:21.102Z"
   },
   {
    "duration": 7,
    "start_time": "2023-10-03T08:53:23.299Z"
   },
   {
    "duration": 11,
    "start_time": "2023-10-03T08:53:24.141Z"
   },
   {
    "duration": 19,
    "start_time": "2023-10-03T08:53:25.347Z"
   },
   {
    "duration": 26,
    "start_time": "2023-10-03T08:53:27.305Z"
   },
   {
    "duration": 72,
    "start_time": "2023-10-03T09:39:57.958Z"
   },
   {
    "duration": 1267,
    "start_time": "2023-10-03T09:40:17.351Z"
   },
   {
    "duration": 138,
    "start_time": "2023-10-03T09:40:18.620Z"
   },
   {
    "duration": 16,
    "start_time": "2023-10-03T09:40:18.760Z"
   },
   {
    "duration": 18,
    "start_time": "2023-10-03T09:40:18.778Z"
   },
   {
    "duration": 101,
    "start_time": "2023-10-03T09:40:18.846Z"
   },
   {
    "duration": 18,
    "start_time": "2023-10-03T09:40:18.949Z"
   },
   {
    "duration": 94,
    "start_time": "2023-10-03T09:40:18.969Z"
   },
   {
    "duration": 11,
    "start_time": "2023-10-03T09:40:19.065Z"
   },
   {
    "duration": 72,
    "start_time": "2023-10-03T09:40:19.078Z"
   },
   {
    "duration": 32,
    "start_time": "2023-10-03T09:40:19.152Z"
   },
   {
    "duration": 79,
    "start_time": "2023-10-03T09:40:19.186Z"
   },
   {
    "duration": 95,
    "start_time": "2023-10-03T09:40:19.267Z"
   },
   {
    "duration": 816,
    "start_time": "2023-10-03T09:40:19.364Z"
   },
   {
    "duration": 594,
    "start_time": "2023-10-03T09:40:20.183Z"
   },
   {
    "duration": 952,
    "start_time": "2023-10-03T09:40:20.779Z"
   },
   {
    "duration": 295,
    "start_time": "2023-10-03T09:40:21.733Z"
   },
   {
    "duration": 425,
    "start_time": "2023-10-03T09:40:22.029Z"
   },
   {
    "duration": 1778,
    "start_time": "2023-10-03T09:40:22.456Z"
   },
   {
    "duration": 31,
    "start_time": "2023-10-03T09:40:24.236Z"
   },
   {
    "duration": 599,
    "start_time": "2023-10-03T09:40:24.269Z"
   },
   {
    "duration": 797,
    "start_time": "2023-10-03T09:40:24.869Z"
   },
   {
    "duration": 550,
    "start_time": "2023-10-03T09:40:25.668Z"
   },
   {
    "duration": 517,
    "start_time": "2023-10-03T09:40:26.219Z"
   },
   {
    "duration": 16,
    "start_time": "2023-10-03T09:40:26.738Z"
   },
   {
    "duration": 27,
    "start_time": "2023-10-03T09:40:26.756Z"
   },
   {
    "duration": 558,
    "start_time": "2023-10-03T09:40:36.710Z"
   },
   {
    "duration": 750,
    "start_time": "2023-10-03T09:41:01.230Z"
   },
   {
    "duration": 154,
    "start_time": "2023-10-03T09:41:21.470Z"
   },
   {
    "duration": 589,
    "start_time": "2023-10-03T09:41:53.482Z"
   },
   {
    "duration": 313,
    "start_time": "2023-10-03T09:42:20.590Z"
   },
   {
    "duration": 19,
    "start_time": "2023-10-03T09:43:05.871Z"
   },
   {
    "duration": 716,
    "start_time": "2023-10-03T09:43:11.910Z"
   },
   {
    "duration": 614,
    "start_time": "2023-10-03T09:43:26.094Z"
   },
   {
    "duration": 635,
    "start_time": "2023-10-03T09:43:35.437Z"
   },
   {
    "duration": 580,
    "start_time": "2023-10-03T09:47:33.357Z"
   },
   {
    "duration": 786,
    "start_time": "2023-10-03T09:48:25.085Z"
   },
   {
    "duration": 308,
    "start_time": "2023-10-03T09:49:59.400Z"
   },
   {
    "duration": 319,
    "start_time": "2023-10-03T09:50:32.989Z"
   },
   {
    "duration": 328,
    "start_time": "2023-10-03T09:50:39.949Z"
   },
   {
    "duration": 328,
    "start_time": "2023-10-03T09:50:57.525Z"
   },
   {
    "duration": 317,
    "start_time": "2023-10-03T09:51:24.196Z"
   },
   {
    "duration": 23,
    "start_time": "2023-10-03T09:51:46.734Z"
   },
   {
    "duration": 451,
    "start_time": "2023-10-03T09:52:42.429Z"
   },
   {
    "duration": 320,
    "start_time": "2023-10-03T09:53:04.789Z"
   },
   {
    "duration": 358,
    "start_time": "2023-10-03T09:53:31.509Z"
   },
   {
    "duration": 435,
    "start_time": "2023-10-03T09:53:41.989Z"
   },
   {
    "duration": 325,
    "start_time": "2023-10-03T09:53:58.309Z"
   },
   {
    "duration": 442,
    "start_time": "2023-10-03T09:54:01.422Z"
   },
   {
    "duration": 454,
    "start_time": "2023-10-03T09:54:14.748Z"
   },
   {
    "duration": 466,
    "start_time": "2023-10-03T09:54:29.749Z"
   },
   {
    "duration": 319,
    "start_time": "2023-10-03T09:54:37.953Z"
   },
   {
    "duration": 304,
    "start_time": "2023-10-03T09:54:43.029Z"
   },
   {
    "duration": 523,
    "start_time": "2023-10-03T09:54:45.029Z"
   },
   {
    "duration": 356,
    "start_time": "2023-10-03T09:54:55.108Z"
   },
   {
    "duration": 310,
    "start_time": "2023-10-03T09:57:32.828Z"
   },
   {
    "duration": 6109,
    "start_time": "2023-10-03T09:57:43.629Z"
   },
   {
    "duration": 6022,
    "start_time": "2023-10-03T09:57:52.028Z"
   },
   {
    "duration": 447,
    "start_time": "2023-10-03T09:58:36.388Z"
   },
   {
    "duration": 317,
    "start_time": "2023-10-03T09:58:48.321Z"
   },
   {
    "duration": 326,
    "start_time": "2023-10-03T09:58:59.668Z"
   },
   {
    "duration": 423,
    "start_time": "2023-10-03T09:59:16.588Z"
   },
   {
    "duration": 632,
    "start_time": "2023-10-03T09:59:22.148Z"
   },
   {
    "duration": 795,
    "start_time": "2023-10-03T09:59:38.828Z"
   },
   {
    "duration": 54,
    "start_time": "2023-10-03T12:08:43.474Z"
   },
   {
    "duration": 1638,
    "start_time": "2023-10-03T12:08:50.374Z"
   },
   {
    "duration": 183,
    "start_time": "2023-10-03T12:08:52.014Z"
   },
   {
    "duration": 24,
    "start_time": "2023-10-03T12:08:52.202Z"
   },
   {
    "duration": 6,
    "start_time": "2023-10-03T12:08:52.227Z"
   },
   {
    "duration": 58,
    "start_time": "2023-10-03T12:08:52.236Z"
   },
   {
    "duration": 22,
    "start_time": "2023-10-03T12:08:52.295Z"
   },
   {
    "duration": 21,
    "start_time": "2023-10-03T12:08:52.319Z"
   },
   {
    "duration": 32,
    "start_time": "2023-10-03T12:08:52.342Z"
   },
   {
    "duration": 17,
    "start_time": "2023-10-03T12:08:52.376Z"
   },
   {
    "duration": 35,
    "start_time": "2023-10-03T12:08:52.394Z"
   },
   {
    "duration": 59,
    "start_time": "2023-10-03T12:08:52.430Z"
   },
   {
    "duration": 47,
    "start_time": "2023-10-03T12:08:52.491Z"
   },
   {
    "duration": 478,
    "start_time": "2023-10-03T12:08:52.540Z"
   },
   {
    "duration": 403,
    "start_time": "2023-10-03T12:08:53.021Z"
   },
   {
    "duration": 2467,
    "start_time": "2023-10-03T12:08:53.426Z"
   },
   {
    "duration": 637,
    "start_time": "2023-10-03T12:08:55.895Z"
   },
   {
    "duration": 831,
    "start_time": "2023-10-03T12:08:56.533Z"
   },
   {
    "duration": 2123,
    "start_time": "2023-10-03T12:08:57.371Z"
   },
   {
    "duration": 29,
    "start_time": "2023-10-03T12:08:59.496Z"
   },
   {
    "duration": 775,
    "start_time": "2023-10-03T12:08:59.527Z"
   },
   {
    "duration": 614,
    "start_time": "2023-10-03T12:09:00.305Z"
   },
   {
    "duration": 591,
    "start_time": "2023-10-03T12:09:00.921Z"
   },
   {
    "duration": 665,
    "start_time": "2023-10-03T12:09:01.515Z"
   },
   {
    "duration": 15,
    "start_time": "2023-10-03T12:09:02.182Z"
   },
   {
    "duration": 163,
    "start_time": "2023-10-03T12:09:02.199Z"
   },
   {
    "duration": 4181,
    "start_time": "2023-10-03T12:12:51.415Z"
   },
   {
    "duration": 2697,
    "start_time": "2023-10-03T12:13:09.267Z"
   },
   {
    "duration": 32,
    "start_time": "2023-10-03T12:13:22.805Z"
   },
   {
    "duration": 33,
    "start_time": "2023-10-03T12:13:58.018Z"
   },
   {
    "duration": 2521,
    "start_time": "2023-10-03T12:17:20.059Z"
   },
   {
    "duration": 798,
    "start_time": "2023-10-03T12:17:37.920Z"
   },
   {
    "duration": 2404,
    "start_time": "2023-10-03T12:18:27.997Z"
   },
   {
    "duration": 2296,
    "start_time": "2023-10-03T12:18:48.602Z"
   },
   {
    "duration": 38,
    "start_time": "2023-10-03T12:19:09.878Z"
   },
   {
    "duration": 29,
    "start_time": "2023-10-03T12:20:07.298Z"
   },
   {
    "duration": 2718,
    "start_time": "2023-10-03T12:21:05.194Z"
   },
   {
    "duration": 37,
    "start_time": "2023-10-03T12:21:23.437Z"
   },
   {
    "duration": 5919,
    "start_time": "2023-10-03T12:23:13.347Z"
   },
   {
    "duration": 5976,
    "start_time": "2023-10-03T12:23:20.633Z"
   },
   {
    "duration": 323,
    "start_time": "2023-10-03T12:23:43.221Z"
   },
   {
    "duration": 372,
    "start_time": "2023-10-03T12:23:46.415Z"
   },
   {
    "duration": 233,
    "start_time": "2023-10-03T12:26:09.457Z"
   },
   {
    "duration": 195,
    "start_time": "2023-10-03T12:27:02.710Z"
   },
   {
    "duration": 200,
    "start_time": "2023-10-03T12:27:15.687Z"
   },
   {
    "duration": 205,
    "start_time": "2023-10-03T12:27:18.753Z"
   },
   {
    "duration": 653,
    "start_time": "2023-10-03T12:32:00.407Z"
   },
   {
    "duration": 811,
    "start_time": "2023-10-03T12:32:55.293Z"
   },
   {
    "duration": 355,
    "start_time": "2023-10-03T12:33:12.218Z"
   },
   {
    "duration": 360,
    "start_time": "2023-10-03T12:36:42.800Z"
   },
   {
    "duration": 337,
    "start_time": "2023-10-03T12:36:59.162Z"
   },
   {
    "duration": 362,
    "start_time": "2023-10-03T12:46:12.061Z"
   },
   {
    "duration": 40,
    "start_time": "2023-10-03T12:47:02.501Z"
   },
   {
    "duration": 476,
    "start_time": "2023-10-03T12:47:24.614Z"
   },
   {
    "duration": 12,
    "start_time": "2023-10-03T12:53:28.859Z"
   },
   {
    "duration": 45,
    "start_time": "2023-10-03T12:55:33.915Z"
   },
   {
    "duration": 560,
    "start_time": "2023-10-03T12:56:23.524Z"
   },
   {
    "duration": 611,
    "start_time": "2023-10-03T12:57:53.159Z"
   },
   {
    "duration": 605,
    "start_time": "2023-10-03T12:58:07.335Z"
   },
   {
    "duration": 667,
    "start_time": "2023-10-03T12:58:14.309Z"
   },
   {
    "duration": 572,
    "start_time": "2023-10-03T12:58:37.976Z"
   },
   {
    "duration": 34,
    "start_time": "2023-10-03T12:59:07.498Z"
   },
   {
    "duration": 223,
    "start_time": "2023-10-03T13:01:10.059Z"
   },
   {
    "duration": 206,
    "start_time": "2023-10-03T13:01:19.411Z"
   },
   {
    "duration": 754,
    "start_time": "2023-10-03T13:01:31.218Z"
   },
   {
    "duration": 585,
    "start_time": "2023-10-03T13:01:43.559Z"
   },
   {
    "duration": 619,
    "start_time": "2023-10-03T13:03:25.772Z"
   },
   {
    "duration": 597,
    "start_time": "2023-10-03T13:04:26.801Z"
   },
   {
    "duration": 608,
    "start_time": "2023-10-03T13:05:25.339Z"
   },
   {
    "duration": 606,
    "start_time": "2023-10-03T13:05:29.413Z"
   },
   {
    "duration": 895,
    "start_time": "2023-10-03T13:06:42.539Z"
   },
   {
    "duration": 629,
    "start_time": "2023-10-03T13:06:57.761Z"
   },
   {
    "duration": 686,
    "start_time": "2023-10-03T13:07:04.970Z"
   },
   {
    "duration": 522,
    "start_time": "2023-10-03T13:07:32.461Z"
   },
   {
    "duration": 507,
    "start_time": "2023-10-03T13:13:33.916Z"
   },
   {
    "duration": 565,
    "start_time": "2023-10-03T13:14:01.536Z"
   },
   {
    "duration": 504,
    "start_time": "2023-10-03T13:17:49.452Z"
   },
   {
    "duration": 476,
    "start_time": "2023-10-03T13:19:56.566Z"
   },
   {
    "duration": 681,
    "start_time": "2023-10-03T13:20:06.618Z"
   },
   {
    "duration": 590,
    "start_time": "2023-10-03T13:22:35.128Z"
   },
   {
    "duration": 516,
    "start_time": "2023-10-03T13:23:13.023Z"
   },
   {
    "duration": 523,
    "start_time": "2023-10-03T13:29:21.291Z"
   },
   {
    "duration": 513,
    "start_time": "2023-10-03T13:29:39.183Z"
   },
   {
    "duration": 1224,
    "start_time": "2023-10-03T16:39:25.949Z"
   },
   {
    "duration": 84,
    "start_time": "2023-10-03T16:39:27.175Z"
   },
   {
    "duration": 19,
    "start_time": "2023-10-03T16:39:27.261Z"
   },
   {
    "duration": 4,
    "start_time": "2023-10-03T16:39:27.283Z"
   },
   {
    "duration": 47,
    "start_time": "2023-10-03T16:39:27.289Z"
   },
   {
    "duration": 13,
    "start_time": "2023-10-03T16:39:27.338Z"
   },
   {
    "duration": 18,
    "start_time": "2023-10-03T16:39:27.352Z"
   },
   {
    "duration": 13,
    "start_time": "2023-10-03T16:39:27.371Z"
   },
   {
    "duration": 6,
    "start_time": "2023-10-03T16:39:27.385Z"
   },
   {
    "duration": 38,
    "start_time": "2023-10-03T16:39:27.394Z"
   },
   {
    "duration": 15,
    "start_time": "2023-10-03T16:39:27.434Z"
   },
   {
    "duration": 22,
    "start_time": "2023-10-03T16:39:27.451Z"
   },
   {
    "duration": 357,
    "start_time": "2023-10-03T16:39:27.474Z"
   },
   {
    "duration": 298,
    "start_time": "2023-10-03T16:39:27.833Z"
   },
   {
    "duration": 799,
    "start_time": "2023-10-03T16:39:28.133Z"
   },
   {
    "duration": 243,
    "start_time": "2023-10-03T16:39:28.934Z"
   },
   {
    "duration": 591,
    "start_time": "2023-10-03T16:39:29.178Z"
   },
   {
    "duration": 1556,
    "start_time": "2023-10-03T16:39:29.771Z"
   },
   {
    "duration": 317,
    "start_time": "2023-10-03T16:39:31.329Z"
   },
   {
    "duration": 541,
    "start_time": "2023-10-03T16:39:31.648Z"
   },
   {
    "duration": 514,
    "start_time": "2023-10-03T16:39:32.191Z"
   },
   {
    "duration": 464,
    "start_time": "2023-10-03T16:39:32.707Z"
   },
   {
    "duration": 459,
    "start_time": "2023-10-03T16:39:33.173Z"
   },
   {
    "duration": 9,
    "start_time": "2023-10-03T16:39:33.633Z"
   },
   {
    "duration": 88,
    "start_time": "2023-10-03T16:39:33.644Z"
   },
   {
    "duration": 52,
    "start_time": "2023-11-02T08:08:09.755Z"
   },
   {
    "duration": 9,
    "start_time": "2023-11-02T08:36:19.807Z"
   },
   {
    "duration": 1413,
    "start_time": "2024-03-31T15:10:59.217Z"
   },
   {
    "duration": 223,
    "start_time": "2024-03-31T15:11:00.979Z"
   },
   {
    "duration": 77,
    "start_time": "2024-03-31T15:11:42.854Z"
   },
   {
    "duration": 5,
    "start_time": "2024-03-31T15:13:17.756Z"
   },
   {
    "duration": 14,
    "start_time": "2024-03-31T15:15:03.494Z"
   },
   {
    "duration": 114,
    "start_time": "2024-03-31T15:15:27.685Z"
   },
   {
    "duration": 13,
    "start_time": "2024-03-31T15:15:34.562Z"
   },
   {
    "duration": 17,
    "start_time": "2024-03-31T15:15:56.772Z"
   },
   {
    "duration": 1277,
    "start_time": "2024-03-31T15:16:13.863Z"
   },
   {
    "duration": 84,
    "start_time": "2024-03-31T15:16:15.142Z"
   },
   {
    "duration": 18,
    "start_time": "2024-03-31T15:16:15.228Z"
   },
   {
    "duration": 4,
    "start_time": "2024-03-31T15:16:17.937Z"
   },
   {
    "duration": 23,
    "start_time": "2024-03-31T15:16:20.871Z"
   },
   {
    "duration": 19,
    "start_time": "2024-03-31T15:17:38.205Z"
   },
   {
    "duration": 107,
    "start_time": "2024-03-31T15:38:35.704Z"
   },
   {
    "duration": 392,
    "start_time": "2024-03-31T15:49:20.913Z"
   },
   {
    "duration": 378,
    "start_time": "2024-03-31T15:49:24.068Z"
   },
   {
    "duration": 364,
    "start_time": "2024-03-31T15:49:27.868Z"
   },
   {
    "duration": 369,
    "start_time": "2024-03-31T15:49:38.050Z"
   },
   {
    "duration": 17,
    "start_time": "2024-03-31T15:51:44.305Z"
   },
   {
    "duration": 414,
    "start_time": "2024-03-31T15:51:47.364Z"
   },
   {
    "duration": 15,
    "start_time": "2024-03-31T15:51:49.931Z"
   },
   {
    "duration": 25,
    "start_time": "2024-03-31T15:51:56.308Z"
   },
   {
    "duration": 370,
    "start_time": "2024-03-31T15:51:58.722Z"
   },
   {
    "duration": 166,
    "start_time": "2024-03-31T15:52:01.517Z"
   },
   {
    "duration": 331,
    "start_time": "2024-03-31T15:52:27.290Z"
   },
   {
    "duration": 310,
    "start_time": "2024-03-31T15:52:33.554Z"
   },
   {
    "duration": 288,
    "start_time": "2024-03-31T15:53:32.444Z"
   },
   {
    "duration": 311,
    "start_time": "2024-03-31T15:53:49.101Z"
   },
   {
    "duration": 308,
    "start_time": "2024-03-31T15:53:56.141Z"
   },
   {
    "duration": 382,
    "start_time": "2024-03-31T15:54:04.686Z"
   },
   {
    "duration": 294,
    "start_time": "2024-03-31T15:54:09.999Z"
   },
   {
    "duration": 318,
    "start_time": "2024-03-31T15:56:39.820Z"
   }
  ],
  "kernelspec": {
   "display_name": "Python 3 (ipykernel)",
   "language": "python",
   "name": "python3"
  },
  "language_info": {
   "codemirror_mode": {
    "name": "ipython",
    "version": 3
   },
   "file_extension": ".py",
   "mimetype": "text/x-python",
   "name": "python",
   "nbconvert_exporter": "python",
   "pygments_lexer": "ipython3",
   "version": "3.9.5"
  },
  "toc": {
   "base_numbering": 1,
   "nav_menu": {},
   "number_sections": true,
   "sideBar": true,
   "skip_h1_title": true,
   "title_cell": "Table of Contents",
   "title_sidebar": "Contents",
   "toc_cell": false,
   "toc_position": {
    "height": "calc(100% - 180px)",
    "left": "10px",
    "top": "150px",
    "width": "278.812px"
   },
   "toc_section_display": true,
   "toc_window_display": true
  }
 },
 "nbformat": 4,
 "nbformat_minor": 2
}
