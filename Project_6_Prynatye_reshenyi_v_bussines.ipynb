{
 "cells": [
  {
   "cell_type": "markdown",
   "metadata": {},
   "source": [
    "# Проектная работа по теме: Принятие решений в бизнесе"
   ]
  },
  {
   "cell_type": "markdown",
   "metadata": {},
   "source": [
    "# Описание проекта\n",
    "Вы — аналитик крупного интернет-магазина. Вместе с отделом маркетинга вы подготовили список гипотез для увеличения выручки.\n",
    "Приоритизируйте гипотезы, запустите A/B-тест и проанализируйте результаты. "
   ]
  },
  {
   "cell_type": "markdown",
   "metadata": {},
   "source": [
    "# Описание данных\n",
    "\n",
    "**Данные для первой части**\n",
    "\n",
    "Файл:`/datasets/hypothesis.csv`. [Скачать датасет](https://code.s3.yandex.net/datasets/hypothesis.csv);\n",
    "- `Hypothesis` — краткое описание гипотезы;\n",
    "- `Reach` — охват пользователей по 10-балльной шкале;\n",
    "- `Impact` — влияние на пользователей по 10-балльной шкале;\n",
    "- `Confidence` — уверенность в гипотезе по 10-балльной шкале;\n",
    "- `Efforts` — затраты ресурсов на проверку гипотезы по 10-балльной шкале. Чем больше значение `Efforts`, тем дороже проверка гипотезы.\n",
    "\n",
    "**Данные для второй части**\n",
    "\n",
    "Файл: `/datasets/orders.csv`. [Скачать датасет](https://code.s3.yandex.net/datasets/orders.csv);\n",
    "- `transactionId` — идентификатор заказа;\n",
    "- `visitorId` — идентификатор пользователя, совершившего заказ;\n",
    "- `date` — дата, когда был совершён заказ;\n",
    "- `revenue` — выручка заказа;\n",
    "- `group` — группа A/B-теста, в которую попал заказ.\n",
    "\n",
    "Файл: `/datasets/visitors.csv`. [Скачать датасет](https://code.s3.yandex.net/datasets/visitors.csv);\n",
    "- `date` — дата;\n",
    "- `group` — группа A/B-теста;\n",
    "- `visitors` — количество пользователей в указанную дату в указанной группе A/B-теста"
   ]
  },
  {
   "cell_type": "markdown",
   "metadata": {},
   "source": [
    "# План работы\n",
    "# Часть 1. Приоритизация гипотез.\n",
    "В файле `/datasets/hypothesis.csv` 9 гипотез по увеличению выручки интернет-магазина с указанными параметрами `Reach`, `Impact`, `Confidence`, `Effort`.\n",
    "\n",
    "**Задача**\n",
    "- Применить фреймворк `ICE` для приоритизации гипотез. Отсортировать по убыванию приоритета.\n",
    "- Примените фреймворк `RICE` для приоритизации гипотез. Отсортировать по убыванию приоритета.\n",
    "- Указать, как изменилась приоритизация гипотез при применении `RICE` вместо `ICE`. Объяснить, почему так произошло.\n",
    "\n",
    "# Часть 2. Анализ A/B-теста\n",
    "Результаты проведенного A/B-теста, описаны в файлах `/datasets/orders.csv` и `/datasets/visitors.csv`.\n",
    "\n",
    "**Задача**\n",
    "Проанализируйте A/B-тест:\n",
    "- Построить график кумулятивной выручки по группам. Сделать выводы и предположения.\n",
    "- Построить график кумулятивного среднего чека по группам. Сделать выводы и предположения.\n",
    "- Построить график относительного изменения кумулятивного среднего чека группы B к группе A. Сделать выводы и предположения.\n",
    "- Построить график кумулятивного среднего количества заказов на посетителя по группам. Сделать выводы и предположения.\n",
    "- Построить график относительного изменения кумулятивного среднего количества заказов на посетителя группы B к группе A. Сделать выводы и предположения.\n",
    "- Построить точечный график количества заказов по пользователям. Сделать выводы и предположения.\n",
    "- Посчитать 95-й и 99-й перцентили количества заказов на пользователя. Выбрать границу для определения аномальных пользователей.\n",
    "- Построить точечный график стоимостей заказов. Сделать выводы и предположения.\n",
    "- Посчитать 95-й и 99-й перцентили стоимости заказов. Выберать границу для определения аномальных заказов.\n",
    "- Посчитать статистическую значимость различий в среднем количестве заказов на посетителя между группами по «сырым» данным. Сделать выводы и предположения.\n",
    "- Посчитать статистическую значимость различий в среднем чеке заказа между группами по «сырым» данным. Сделать выводы и предположения.\n",
    "- Посчитать статистическую значимость различий в среднем количестве заказов на посетителя между группами по «очищенным» данным. Сделать выводы и предположения.\n",
    "- Посчитать статистическую значимость различий в среднем чеке заказа между группами по «очищенным» данным. Сделать выводы и предположения.\n",
    "- Принять решение по результатам теста и объяснить его. Варианты решений:\n",
    "    1. Остановить тест, зафиксировать победу одной из групп.\n",
    "    2. Остановить тест, зафиксировать отсутствие различий между группами.\n",
    "    3. Продолжить тест."
   ]
  },
  {
   "cell_type": "markdown",
   "metadata": {},
   "source": [
    "# Приоритизация гипотез.\n",
    "### Применим фреймворк ICE для приоритизации гипотез"
   ]
  },
  {
   "cell_type": "code",
   "execution_count": 1,
   "metadata": {},
   "outputs": [],
   "source": [
    "#загружаем необходимые библиотеки\n",
    "import pandas as pd\n",
    "from datetime import datetime, timedelta\n",
    "from matplotlib import pyplot as plt\n",
    "import numpy as np\n",
    "import scipy.stats as stats"
   ]
  },
  {
   "cell_type": "code",
   "execution_count": 2,
   "metadata": {},
   "outputs": [
    {
     "data": {
      "text/html": [
       "<div>\n",
       "<style scoped>\n",
       "    .dataframe tbody tr th:only-of-type {\n",
       "        vertical-align: middle;\n",
       "    }\n",
       "\n",
       "    .dataframe tbody tr th {\n",
       "        vertical-align: top;\n",
       "    }\n",
       "\n",
       "    .dataframe thead th {\n",
       "        text-align: right;\n",
       "    }\n",
       "</style>\n",
       "<table border=\"1\" class=\"dataframe\">\n",
       "  <thead>\n",
       "    <tr style=\"text-align: right;\">\n",
       "      <th></th>\n",
       "      <th>hypothesis</th>\n",
       "      <th>reach</th>\n",
       "      <th>impact</th>\n",
       "      <th>confidence</th>\n",
       "      <th>efforts</th>\n",
       "    </tr>\n",
       "  </thead>\n",
       "  <tbody>\n",
       "    <tr>\n",
       "      <th>0</th>\n",
       "      <td>Добавить два новых канала привлечения трафика, что позволит привлекать на 30% больше пользователей</td>\n",
       "      <td>3</td>\n",
       "      <td>10</td>\n",
       "      <td>8</td>\n",
       "      <td>6</td>\n",
       "    </tr>\n",
       "    <tr>\n",
       "      <th>1</th>\n",
       "      <td>Запустить собственную службу доставки, что сократит срок доставки заказов</td>\n",
       "      <td>2</td>\n",
       "      <td>5</td>\n",
       "      <td>4</td>\n",
       "      <td>10</td>\n",
       "    </tr>\n",
       "    <tr>\n",
       "      <th>2</th>\n",
       "      <td>Добавить блоки рекомендаций товаров на сайт интернет магазина, чтобы повысить конверсию и средний чек заказа</td>\n",
       "      <td>8</td>\n",
       "      <td>3</td>\n",
       "      <td>7</td>\n",
       "      <td>3</td>\n",
       "    </tr>\n",
       "    <tr>\n",
       "      <th>3</th>\n",
       "      <td>Изменить структура категорий, что увеличит конверсию, т.к. пользователи быстрее найдут нужный товар</td>\n",
       "      <td>8</td>\n",
       "      <td>3</td>\n",
       "      <td>3</td>\n",
       "      <td>8</td>\n",
       "    </tr>\n",
       "    <tr>\n",
       "      <th>4</th>\n",
       "      <td>Изменить цвет фона главной страницы, чтобы увеличить вовлеченность пользователей</td>\n",
       "      <td>3</td>\n",
       "      <td>1</td>\n",
       "      <td>1</td>\n",
       "      <td>1</td>\n",
       "    </tr>\n",
       "    <tr>\n",
       "      <th>5</th>\n",
       "      <td>Добавить страницу отзывов клиентов о магазине, что позволит увеличить количество заказов</td>\n",
       "      <td>3</td>\n",
       "      <td>2</td>\n",
       "      <td>2</td>\n",
       "      <td>3</td>\n",
       "    </tr>\n",
       "    <tr>\n",
       "      <th>6</th>\n",
       "      <td>Показать на главной странице баннеры с актуальными акциями и распродажами, чтобы увеличить конверсию</td>\n",
       "      <td>5</td>\n",
       "      <td>3</td>\n",
       "      <td>8</td>\n",
       "      <td>3</td>\n",
       "    </tr>\n",
       "    <tr>\n",
       "      <th>7</th>\n",
       "      <td>Добавить форму подписки на все основные страницы, чтобы собрать базу клиентов для email-рассылок</td>\n",
       "      <td>10</td>\n",
       "      <td>7</td>\n",
       "      <td>8</td>\n",
       "      <td>5</td>\n",
       "    </tr>\n",
       "    <tr>\n",
       "      <th>8</th>\n",
       "      <td>Запустить акцию, дающую скидку на товар в день рождения</td>\n",
       "      <td>1</td>\n",
       "      <td>9</td>\n",
       "      <td>9</td>\n",
       "      <td>5</td>\n",
       "    </tr>\n",
       "  </tbody>\n",
       "</table>\n",
       "</div>"
      ],
      "text/plain": [
       "                                                                                                     hypothesis  \\\n",
       "0            Добавить два новых канала привлечения трафика, что позволит привлекать на 30% больше пользователей   \n",
       "1                                     Запустить собственную службу доставки, что сократит срок доставки заказов   \n",
       "2  Добавить блоки рекомендаций товаров на сайт интернет магазина, чтобы повысить конверсию и средний чек заказа   \n",
       "3           Изменить структура категорий, что увеличит конверсию, т.к. пользователи быстрее найдут нужный товар   \n",
       "4                              Изменить цвет фона главной страницы, чтобы увеличить вовлеченность пользователей   \n",
       "5                      Добавить страницу отзывов клиентов о магазине, что позволит увеличить количество заказов   \n",
       "6          Показать на главной странице баннеры с актуальными акциями и распродажами, чтобы увеличить конверсию   \n",
       "7              Добавить форму подписки на все основные страницы, чтобы собрать базу клиентов для email-рассылок   \n",
       "8                                                       Запустить акцию, дающую скидку на товар в день рождения   \n",
       "\n",
       "   reach  impact  confidence  efforts  \n",
       "0      3      10           8        6  \n",
       "1      2       5           4       10  \n",
       "2      8       3           7        3  \n",
       "3      8       3           3        8  \n",
       "4      3       1           1        1  \n",
       "5      3       2           2        3  \n",
       "6      5       3           8        3  \n",
       "7     10       7           8        5  \n",
       "8      1       9           9        5  "
      ]
     },
     "execution_count": 2,
     "metadata": {},
     "output_type": "execute_result"
    }
   ],
   "source": [
    "# файл с данными записываем в переменную hypothesis\n",
    "try:\n",
    "    hypothesis=pd.read_csv('/datasets/hypothesis.csv',sep=',')\n",
    "except:\n",
    "    hypothesis=pd.read_csv('https://code.s3.yandex.net/datasets/hypothesis.csv')\n",
    "#переименовываем колонки согласно \"змеинному регистру\"\n",
    "hypothesis.columns = [x.lower() for x in hypothesis.columns]\n",
    "pd.set_option('display.max_colwidth',None)\n",
    "hypothesis"
   ]
  },
  {
   "cell_type": "markdown",
   "metadata": {},
   "source": [
    "Данных немного дополнительная предобработка не требуется\n",
    "### Применим фреймворк ICE для приоритизации гипотез"
   ]
  },
  {
   "cell_type": "code",
   "execution_count": 3,
   "metadata": {
    "scrolled": true
   },
   "outputs": [
    {
     "data": {
      "text/html": [
       "<div>\n",
       "<style scoped>\n",
       "    .dataframe tbody tr th:only-of-type {\n",
       "        vertical-align: middle;\n",
       "    }\n",
       "\n",
       "    .dataframe tbody tr th {\n",
       "        vertical-align: top;\n",
       "    }\n",
       "\n",
       "    .dataframe thead th {\n",
       "        text-align: right;\n",
       "    }\n",
       "</style>\n",
       "<table border=\"1\" class=\"dataframe\">\n",
       "  <thead>\n",
       "    <tr style=\"text-align: right;\">\n",
       "      <th></th>\n",
       "      <th>hypothesis</th>\n",
       "      <th>ICE</th>\n",
       "    </tr>\n",
       "  </thead>\n",
       "  <tbody>\n",
       "    <tr>\n",
       "      <th>8</th>\n",
       "      <td>Запустить акцию, дающую скидку на товар в день рождения</td>\n",
       "      <td>16.2</td>\n",
       "    </tr>\n",
       "    <tr>\n",
       "      <th>0</th>\n",
       "      <td>Добавить два новых канала привлечения трафика, что позволит привлекать на 30% больше пользователей</td>\n",
       "      <td>13.3</td>\n",
       "    </tr>\n",
       "    <tr>\n",
       "      <th>7</th>\n",
       "      <td>Добавить форму подписки на все основные страницы, чтобы собрать базу клиентов для email-рассылок</td>\n",
       "      <td>11.2</td>\n",
       "    </tr>\n",
       "    <tr>\n",
       "      <th>6</th>\n",
       "      <td>Показать на главной странице баннеры с актуальными акциями и распродажами, чтобы увеличить конверсию</td>\n",
       "      <td>8.0</td>\n",
       "    </tr>\n",
       "    <tr>\n",
       "      <th>2</th>\n",
       "      <td>Добавить блоки рекомендаций товаров на сайт интернет магазина, чтобы повысить конверсию и средний чек заказа</td>\n",
       "      <td>7.0</td>\n",
       "    </tr>\n",
       "    <tr>\n",
       "      <th>1</th>\n",
       "      <td>Запустить собственную службу доставки, что сократит срок доставки заказов</td>\n",
       "      <td>2.0</td>\n",
       "    </tr>\n",
       "    <tr>\n",
       "      <th>5</th>\n",
       "      <td>Добавить страницу отзывов клиентов о магазине, что позволит увеличить количество заказов</td>\n",
       "      <td>1.3</td>\n",
       "    </tr>\n",
       "    <tr>\n",
       "      <th>3</th>\n",
       "      <td>Изменить структура категорий, что увеличит конверсию, т.к. пользователи быстрее найдут нужный товар</td>\n",
       "      <td>1.1</td>\n",
       "    </tr>\n",
       "    <tr>\n",
       "      <th>4</th>\n",
       "      <td>Изменить цвет фона главной страницы, чтобы увеличить вовлеченность пользователей</td>\n",
       "      <td>1.0</td>\n",
       "    </tr>\n",
       "  </tbody>\n",
       "</table>\n",
       "</div>"
      ],
      "text/plain": [
       "                                                                                                     hypothesis  \\\n",
       "8                                                       Запустить акцию, дающую скидку на товар в день рождения   \n",
       "0            Добавить два новых канала привлечения трафика, что позволит привлекать на 30% больше пользователей   \n",
       "7              Добавить форму подписки на все основные страницы, чтобы собрать базу клиентов для email-рассылок   \n",
       "6          Показать на главной странице баннеры с актуальными акциями и распродажами, чтобы увеличить конверсию   \n",
       "2  Добавить блоки рекомендаций товаров на сайт интернет магазина, чтобы повысить конверсию и средний чек заказа   \n",
       "1                                     Запустить собственную службу доставки, что сократит срок доставки заказов   \n",
       "5                      Добавить страницу отзывов клиентов о магазине, что позволит увеличить количество заказов   \n",
       "3           Изменить структура категорий, что увеличит конверсию, т.к. пользователи быстрее найдут нужный товар   \n",
       "4                              Изменить цвет фона главной страницы, чтобы увеличить вовлеченность пользователей   \n",
       "\n",
       "    ICE  \n",
       "8  16.2  \n",
       "0  13.3  \n",
       "7  11.2  \n",
       "6   8.0  \n",
       "2   7.0  \n",
       "1   2.0  \n",
       "5   1.3  \n",
       "3   1.1  \n",
       "4   1.0  "
      ]
     },
     "execution_count": 3,
     "metadata": {},
     "output_type": "execute_result"
    }
   ],
   "source": [
    "hypothesis['ICE']=hypothesis['impact']*hypothesis['confidence']/hypothesis['efforts']\n",
    "round(hypothesis[['hypothesis','ICE']].sort_values(by='ICE', ascending=False),1)"
   ]
  },
  {
   "cell_type": "markdown",
   "metadata": {},
   "source": [
    "### Применим фреймворк RICE для приоритизации гипотез"
   ]
  },
  {
   "cell_type": "code",
   "execution_count": 4,
   "metadata": {},
   "outputs": [
    {
     "data": {
      "text/html": [
       "<div>\n",
       "<style scoped>\n",
       "    .dataframe tbody tr th:only-of-type {\n",
       "        vertical-align: middle;\n",
       "    }\n",
       "\n",
       "    .dataframe tbody tr th {\n",
       "        vertical-align: top;\n",
       "    }\n",
       "\n",
       "    .dataframe thead th {\n",
       "        text-align: right;\n",
       "    }\n",
       "</style>\n",
       "<table border=\"1\" class=\"dataframe\">\n",
       "  <thead>\n",
       "    <tr style=\"text-align: right;\">\n",
       "      <th></th>\n",
       "      <th>hypothesis</th>\n",
       "      <th>RICE</th>\n",
       "    </tr>\n",
       "  </thead>\n",
       "  <tbody>\n",
       "    <tr>\n",
       "      <th>7</th>\n",
       "      <td>Добавить форму подписки на все основные страницы, чтобы собрать базу клиентов для email-рассылок</td>\n",
       "      <td>112.0</td>\n",
       "    </tr>\n",
       "    <tr>\n",
       "      <th>2</th>\n",
       "      <td>Добавить блоки рекомендаций товаров на сайт интернет магазина, чтобы повысить конверсию и средний чек заказа</td>\n",
       "      <td>56.0</td>\n",
       "    </tr>\n",
       "    <tr>\n",
       "      <th>0</th>\n",
       "      <td>Добавить два новых канала привлечения трафика, что позволит привлекать на 30% больше пользователей</td>\n",
       "      <td>40.0</td>\n",
       "    </tr>\n",
       "    <tr>\n",
       "      <th>6</th>\n",
       "      <td>Показать на главной странице баннеры с актуальными акциями и распродажами, чтобы увеличить конверсию</td>\n",
       "      <td>40.0</td>\n",
       "    </tr>\n",
       "    <tr>\n",
       "      <th>8</th>\n",
       "      <td>Запустить акцию, дающую скидку на товар в день рождения</td>\n",
       "      <td>16.2</td>\n",
       "    </tr>\n",
       "    <tr>\n",
       "      <th>3</th>\n",
       "      <td>Изменить структура категорий, что увеличит конверсию, т.к. пользователи быстрее найдут нужный товар</td>\n",
       "      <td>9.0</td>\n",
       "    </tr>\n",
       "    <tr>\n",
       "      <th>1</th>\n",
       "      <td>Запустить собственную службу доставки, что сократит срок доставки заказов</td>\n",
       "      <td>4.0</td>\n",
       "    </tr>\n",
       "    <tr>\n",
       "      <th>5</th>\n",
       "      <td>Добавить страницу отзывов клиентов о магазине, что позволит увеличить количество заказов</td>\n",
       "      <td>4.0</td>\n",
       "    </tr>\n",
       "    <tr>\n",
       "      <th>4</th>\n",
       "      <td>Изменить цвет фона главной страницы, чтобы увеличить вовлеченность пользователей</td>\n",
       "      <td>3.0</td>\n",
       "    </tr>\n",
       "  </tbody>\n",
       "</table>\n",
       "</div>"
      ],
      "text/plain": [
       "                                                                                                     hypothesis  \\\n",
       "7              Добавить форму подписки на все основные страницы, чтобы собрать базу клиентов для email-рассылок   \n",
       "2  Добавить блоки рекомендаций товаров на сайт интернет магазина, чтобы повысить конверсию и средний чек заказа   \n",
       "0            Добавить два новых канала привлечения трафика, что позволит привлекать на 30% больше пользователей   \n",
       "6          Показать на главной странице баннеры с актуальными акциями и распродажами, чтобы увеличить конверсию   \n",
       "8                                                       Запустить акцию, дающую скидку на товар в день рождения   \n",
       "3           Изменить структура категорий, что увеличит конверсию, т.к. пользователи быстрее найдут нужный товар   \n",
       "1                                     Запустить собственную службу доставки, что сократит срок доставки заказов   \n",
       "5                      Добавить страницу отзывов клиентов о магазине, что позволит увеличить количество заказов   \n",
       "4                              Изменить цвет фона главной страницы, чтобы увеличить вовлеченность пользователей   \n",
       "\n",
       "    RICE  \n",
       "7  112.0  \n",
       "2   56.0  \n",
       "0   40.0  \n",
       "6   40.0  \n",
       "8   16.2  \n",
       "3    9.0  \n",
       "1    4.0  \n",
       "5    4.0  \n",
       "4    3.0  "
      ]
     },
     "execution_count": 4,
     "metadata": {},
     "output_type": "execute_result"
    }
   ],
   "source": [
    "hypothesis['RICE']=(\n",
    "    hypothesis['reach']*hypothesis['impact']*hypothesis['confidence'])/hypothesis['efforts']\n",
    "hypothesis[['hypothesis','RICE']].sort_values(by='RICE', ascending=False)"
   ]
  },
  {
   "cell_type": "markdown",
   "metadata": {},
   "source": [
    "По фреймворку ICE наибольшую оценку имеет гипотеза 8 'Запустить акцию, дающую скидку на товар в день рождения'. \n",
    "После применения фреймворка RICE вперед вырвалась гипотеза  7 'Добавить форму подписки на все основные страницы, чтобы собрать базу клиентов для email-рассылок'. Эта смена приоритетов обоснована тем что во фреймворке RICE учитывается охват аудитории этой гипотезы. В случае с 8й гипотезой охват самый незначительный, гипотеза 7 помимо самого широкого охвата(reach) имеет не самое ввысокое значение усилий(efforts) для ее внедрения, и довольно высокие показатели влияния на пользователей(impact) и уверенности(confidence)\n",
    "\n",
    "Гипотеза 'Добавить форму подписки на все основные страницы, чтобы собрать базу клиентов для email-рассылок' рекомендуется ко внедрению"
   ]
  },
  {
   "cell_type": "markdown",
   "metadata": {},
   "source": [
    "# Анализ A/B-теста"
   ]
  },
  {
   "cell_type": "code",
   "execution_count": 5,
   "metadata": {},
   "outputs": [
    {
     "data": {
      "text/plain": [
       "'Наличие явных дубликатов в orders'"
      ]
     },
     "metadata": {},
     "output_type": "display_data"
    },
    {
     "data": {
      "text/plain": [
       "0"
      ]
     },
     "metadata": {},
     "output_type": "display_data"
    },
    {
     "data": {
      "text/html": [
       "<div>\n",
       "<style scoped>\n",
       "    .dataframe tbody tr th:only-of-type {\n",
       "        vertical-align: middle;\n",
       "    }\n",
       "\n",
       "    .dataframe tbody tr th {\n",
       "        vertical-align: top;\n",
       "    }\n",
       "\n",
       "    .dataframe thead th {\n",
       "        text-align: right;\n",
       "    }\n",
       "</style>\n",
       "<table border=\"1\" class=\"dataframe\">\n",
       "  <thead>\n",
       "    <tr style=\"text-align: right;\">\n",
       "      <th></th>\n",
       "      <th>transaction_id</th>\n",
       "      <th>visitor_id</th>\n",
       "      <th>date</th>\n",
       "      <th>revenue</th>\n",
       "      <th>group</th>\n",
       "    </tr>\n",
       "  </thead>\n",
       "  <tbody>\n",
       "    <tr>\n",
       "      <th>0</th>\n",
       "      <td>3667963787</td>\n",
       "      <td>3312258926</td>\n",
       "      <td>2019-08-15</td>\n",
       "      <td>1650</td>\n",
       "      <td>B</td>\n",
       "    </tr>\n",
       "    <tr>\n",
       "      <th>1</th>\n",
       "      <td>2804400009</td>\n",
       "      <td>3642806036</td>\n",
       "      <td>2019-08-15</td>\n",
       "      <td>730</td>\n",
       "      <td>B</td>\n",
       "    </tr>\n",
       "    <tr>\n",
       "      <th>2</th>\n",
       "      <td>2961555356</td>\n",
       "      <td>4069496402</td>\n",
       "      <td>2019-08-15</td>\n",
       "      <td>400</td>\n",
       "      <td>A</td>\n",
       "    </tr>\n",
       "    <tr>\n",
       "      <th>3</th>\n",
       "      <td>3797467345</td>\n",
       "      <td>1196621759</td>\n",
       "      <td>2019-08-15</td>\n",
       "      <td>9759</td>\n",
       "      <td>B</td>\n",
       "    </tr>\n",
       "    <tr>\n",
       "      <th>4</th>\n",
       "      <td>2282983706</td>\n",
       "      <td>2322279887</td>\n",
       "      <td>2019-08-15</td>\n",
       "      <td>2308</td>\n",
       "      <td>B</td>\n",
       "    </tr>\n",
       "  </tbody>\n",
       "</table>\n",
       "</div>"
      ],
      "text/plain": [
       "   transaction_id  visitor_id       date  revenue group\n",
       "0      3667963787  3312258926 2019-08-15     1650     B\n",
       "1      2804400009  3642806036 2019-08-15      730     B\n",
       "2      2961555356  4069496402 2019-08-15      400     A\n",
       "3      3797467345  1196621759 2019-08-15     9759     B\n",
       "4      2282983706  2322279887 2019-08-15     2308     B"
      ]
     },
     "metadata": {},
     "output_type": "display_data"
    },
    {
     "name": "stdout",
     "output_type": "stream",
     "text": [
      "<class 'pandas.core.frame.DataFrame'>\n",
      "RangeIndex: 1197 entries, 0 to 1196\n",
      "Data columns (total 5 columns):\n",
      " #   Column          Non-Null Count  Dtype         \n",
      "---  ------          --------------  -----         \n",
      " 0   transaction_id  1197 non-null   int64         \n",
      " 1   visitor_id      1197 non-null   int64         \n",
      " 2   date            1197 non-null   datetime64[ns]\n",
      " 3   revenue         1197 non-null   int64         \n",
      " 4   group           1197 non-null   object        \n",
      "dtypes: datetime64[ns](1), int64(3), object(1)\n",
      "memory usage: 46.9+ KB\n"
     ]
    },
    {
     "data": {
      "text/plain": [
       "None"
      ]
     },
     "metadata": {},
     "output_type": "display_data"
    },
    {
     "data": {
      "text/plain": [
       "'Наличие явных дубликатов в visitors'"
      ]
     },
     "metadata": {},
     "output_type": "display_data"
    },
    {
     "data": {
      "text/plain": [
       "0"
      ]
     },
     "metadata": {},
     "output_type": "display_data"
    },
    {
     "data": {
      "text/html": [
       "<div>\n",
       "<style scoped>\n",
       "    .dataframe tbody tr th:only-of-type {\n",
       "        vertical-align: middle;\n",
       "    }\n",
       "\n",
       "    .dataframe tbody tr th {\n",
       "        vertical-align: top;\n",
       "    }\n",
       "\n",
       "    .dataframe thead th {\n",
       "        text-align: right;\n",
       "    }\n",
       "</style>\n",
       "<table border=\"1\" class=\"dataframe\">\n",
       "  <thead>\n",
       "    <tr style=\"text-align: right;\">\n",
       "      <th></th>\n",
       "      <th>date</th>\n",
       "      <th>group</th>\n",
       "      <th>visitors</th>\n",
       "    </tr>\n",
       "  </thead>\n",
       "  <tbody>\n",
       "    <tr>\n",
       "      <th>0</th>\n",
       "      <td>2019-08-01</td>\n",
       "      <td>A</td>\n",
       "      <td>719</td>\n",
       "    </tr>\n",
       "    <tr>\n",
       "      <th>1</th>\n",
       "      <td>2019-08-02</td>\n",
       "      <td>A</td>\n",
       "      <td>619</td>\n",
       "    </tr>\n",
       "    <tr>\n",
       "      <th>2</th>\n",
       "      <td>2019-08-03</td>\n",
       "      <td>A</td>\n",
       "      <td>507</td>\n",
       "    </tr>\n",
       "    <tr>\n",
       "      <th>3</th>\n",
       "      <td>2019-08-04</td>\n",
       "      <td>A</td>\n",
       "      <td>717</td>\n",
       "    </tr>\n",
       "    <tr>\n",
       "      <th>4</th>\n",
       "      <td>2019-08-05</td>\n",
       "      <td>A</td>\n",
       "      <td>756</td>\n",
       "    </tr>\n",
       "  </tbody>\n",
       "</table>\n",
       "</div>"
      ],
      "text/plain": [
       "        date group  visitors\n",
       "0 2019-08-01     A       719\n",
       "1 2019-08-02     A       619\n",
       "2 2019-08-03     A       507\n",
       "3 2019-08-04     A       717\n",
       "4 2019-08-05     A       756"
      ]
     },
     "metadata": {},
     "output_type": "display_data"
    },
    {
     "name": "stdout",
     "output_type": "stream",
     "text": [
      "<class 'pandas.core.frame.DataFrame'>\n",
      "RangeIndex: 62 entries, 0 to 61\n",
      "Data columns (total 3 columns):\n",
      " #   Column    Non-Null Count  Dtype         \n",
      "---  ------    --------------  -----         \n",
      " 0   date      62 non-null     datetime64[ns]\n",
      " 1   group     62 non-null     object        \n",
      " 2   visitors  62 non-null     int64         \n",
      "dtypes: datetime64[ns](1), int64(1), object(1)\n",
      "memory usage: 1.6+ KB\n"
     ]
    },
    {
     "data": {
      "text/plain": [
       "None"
      ]
     },
     "metadata": {},
     "output_type": "display_data"
    }
   ],
   "source": [
    "# файл с данными записываем в переменную orders\n",
    "try:\n",
    "    orders=pd.read_csv('/datasets/orders.csv',sep=',')\n",
    "    visitors=pd.read_csv('/datasets/visitors.csv',sep=',')\n",
    "except:\n",
    "    orders=pd.read_csv('https://code.s3.yandex.net/datasets/orders.csv')\n",
    "    visitors=pd.read_csv('https://code.s3.yandex.net/datasets/visitors.csv')\n",
    "    \n",
    "orders=orders.rename(columns={'transactionId':'transaction_id','visitorId':'visitor_id'})#переименовываем колонки согласно \"змеинному регистру\"\n",
    "orders['date'] = orders['date'].map(lambda x: datetime.strptime(x, '%Y-%m-%d'))# меняем формат даты на datetime64[ns]\n",
    "display('Наличие явных дубликатов в orders',orders.duplicated().sum())\n",
    "display(orders.head())\n",
    "display(orders.info())\n",
    "# файл с данными записываем в переменную orders\n",
    "\n",
    "visitors['date'] = visitors['date'].map(lambda x: datetime.strptime(x, '%Y-%m-%d'))\n",
    "display('Наличие явных дубликатов в visitors',visitors.duplicated().sum())\n",
    "display(visitors.head())\n",
    "display(visitors.info())"
   ]
  },
  {
   "cell_type": "markdown",
   "metadata": {},
   "source": [
    "Данные не имеют явных дубликатов,и пропусков, привели названия колонок к змеиному регистру. Был изменен формат даты для дальнейших расчетов, можем переходить к анализу."
   ]
  },
  {
   "cell_type": "markdown",
   "metadata": {},
   "source": [
    "### A/A исследование\n",
    "Проверим количество пользователей в различных группах для успешного теста оно должно различается не более, чем на 1%;\n",
    "Так же следует проверить что попавший в одну из групп посетитель остаётся в этой группе до конца теста."
   ]
  },
  {
   "cell_type": "code",
   "execution_count": 6,
   "metadata": {},
   "outputs": [
    {
     "name": "stdout",
     "output_type": "stream",
     "text": [
      "Кол-во посетителей в группе А: 18736\n",
      "Кол-во посетителей в группе B: 18916\n",
      "Группы различаются на 1.0%\n",
      "Посетителей входящих в обе группы: 58\n"
     ]
    }
   ],
   "source": [
    "print('Кол-во посетителей в группе А: {}\\n'\n",
    "      'Кол-во посетителей в группе B: {}\\n'\n",
    "      'Группы различаются на {:.1%}'.format(visitors[visitors['group']=='A']['visitors'].sum(), \n",
    "                                        visitors[visitors['group']=='B']['visitors'].sum(),\n",
    "                                        visitors[visitors['group']=='B']['visitors'].sum()/ \n",
    "                                        visitors[visitors['group']=='A']['visitors'].sum()-1,))\n",
    "#Найдем пользователей которых включили в обе группы\n",
    "filt=(orders[orders['group']=='A']['visitor_id'].isin(orders[orders['group']=='B']['visitor_id'])*orders['visitor_id']).dropna()\n",
    "filt=filt[filt!=0]\n",
    "print(\"Посетителей входящих в обе группы:\",len(filt.unique()))\n"
   ]
  },
  {
   "cell_type": "markdown",
   "metadata": {},
   "source": [
    "Различие между группами составляет 1% это не должно повлиять на результаты A/B тестирования\n",
    "По результатам тестирования обнаружено 58 аномальных пользователя, инструмент «деления» трафика работает ошибочно."
   ]
  },
  {
   "cell_type": "markdown",
   "metadata": {},
   "source": [
    "### Построим график кумулятивной выручки по группам"
   ]
  },
  {
   "cell_type": "code",
   "execution_count": 7,
   "metadata": {},
   "outputs": [
    {
     "name": "stdout",
     "output_type": "stream",
     "text": [
      "         date group  orders  buyers  revenue  visitors\n",
      "0  2019-08-01     A      24      20   148579       719\n",
      "1  2019-08-01     B      21      20   101217       713\n",
      "2  2019-08-02     A      44      38   242401      1338\n",
      "3  2019-08-02     B      45      43   266748      1294\n",
      "4  2019-08-03     A      68      62   354874      1845\n",
      "..        ...   ...     ...     ...      ...       ...\n",
      "57 2019-08-29     B     596     544  5559398     17708\n",
      "58 2019-08-30     A     545     493  4022970     18037\n",
      "59 2019-08-30     B     620     567  5774631     18198\n",
      "60 2019-08-31     A     557     503  4084803     18736\n",
      "61 2019-08-31     B     640     586  5907760     18916\n",
      "\n",
      "[62 rows x 6 columns]\n"
     ]
    },
    {
     "data": {
      "image/png": "[encoded data removed]",
      "text/plain": [
       "<Figure size 720x432 with 1 Axes>"
      ]
     },
     "metadata": {
      "needs_background": "light"
     },
     "output_type": "display_data"
    }
   ],
   "source": [
    "# создаем массив уникальных пар значений дат и групп теста\n",
    "datesGroups = orders[['date','group']].drop_duplicates() \n",
    "# получаем агрегированные кумулятивные по дням данные о заказах \n",
    "ordersAggregated = datesGroups.apply(lambda x: orders[np.logical_and(orders['date'] <= x['date'], orders['group'] == x['group'])].agg({'date' : 'max', 'group' : 'max', 'transaction_id' : 'nunique', 'visitor_id' : 'nunique', 'revenue' : 'sum'}), axis=1).sort_values(by=['date','group'])\n",
    "# получаем агрегированные кумулятивные по дням данные о посетителях интернет-магазина \n",
    "visitorsAggregated = datesGroups.apply(lambda x: visitors[np.logical_and(visitors['date'] <= x['date'], visitors['group'] == x['group'])].agg({'date' : 'max', 'group' : 'max', 'visitors' : 'sum'}), axis=1).sort_values(by=['date','group'])\n",
    "# объединяем кумулятивные данные в одной таблице и присваиваем ее столбцам понятные названия\n",
    "cumulativeData = ordersAggregated.merge(visitorsAggregated, left_on=['date', 'group'], right_on=['date', 'group'])\n",
    "cumulativeData.columns = ['date', 'group', 'orders', 'buyers', 'revenue', 'visitors']\n",
    "print(cumulativeData.head(69))\n",
    "# датафрейм с кумулятивным количеством заказов и кумулятивной выручкой по дням в группе А\n",
    "cumulativeRevenueA = cumulativeData[cumulativeData['group']=='A'][['date','revenue', 'orders']]\n",
    "# датафрейм с кумулятивным количеством заказов и кумулятивной выручкой по дням в группе B\n",
    "cumulativeRevenueB = cumulativeData[cumulativeData['group']=='B'][['date','revenue', 'orders']]\n",
    "# Строим график выручки группы А\n",
    "plt.figure(figsize=(10,6))\n",
    "plt.plot(cumulativeRevenueA['date'], cumulativeRevenueA['revenue'], label='A')\n",
    "# Строим график выручки группы B\n",
    "plt.plot(cumulativeRevenueB['date'], cumulativeRevenueB['revenue'], label='B')\n",
    "plt.xticks( rotation=30)\n",
    "plt.xlabel('Дата')\n",
    "plt.ylabel('Выручка, млн. у.е.') \n",
    "plt.title('Кумулятивная выручка по дням и группам')\n",
    "plt.legend();"
   ]
  },
  {
   "cell_type": "markdown",
   "metadata": {},
   "source": [
    "Группа B по куммулятивной выручке лидирирует на протяжении всего периода, на 18й день наблюдается резкий рост выручки у группы B, это может быть связанно с большим колличеством заказов, или аномально дорогим заказом в этот день "
   ]
  },
  {
   "cell_type": "markdown",
   "metadata": {},
   "source": [
    "### Построим график кумулятивного среднего чека по группам\n",
    "Построим графики среднего чека по группам — разделим кумулятивную выручку на кумулятивное число заказов:"
   ]
  },
  {
   "cell_type": "code",
   "execution_count": 8,
   "metadata": {},
   "outputs": [
    {
     "data": {
      "image/png": "[encoded data removed]",
      "text/plain": [
       "<Figure size 720x432 with 1 Axes>"
      ]
     },
     "metadata": {
      "needs_background": "light"
     },
     "output_type": "display_data"
    }
   ],
   "source": [
    "plt.figure(figsize=(10,6))\n",
    "plt.plot(cumulativeRevenueA['date'], cumulativeRevenueA['revenue']/cumulativeRevenueA['orders'], label='A')\n",
    "plt.plot(cumulativeRevenueB['date'], cumulativeRevenueB['revenue']/cumulativeRevenueB['orders'], label='B')\n",
    "plt.xticks(rotation=30)\n",
    "plt.xlabel('Дата')\n",
    "plt.ylabel('Средний чек, у.е.') \n",
    "plt.title('Кумулятивное среднего чека по группам')\n",
    "plt.legend();"
   ]
  },
  {
   "cell_type": "markdown",
   "metadata": {},
   "source": [
    "Как мы видим, средний чек так же как и выручка, в группе B почти всё время был выше,\n",
    "смущает его резкий рост на 18й день, есть вероятность что он обусловлен найденными аномалиями, либо  в данную группу в середине теста попали крупные заказы. Необходимо будет учесть этот факт при принятии решения о результатах A/B-теста\n",
    "Накопление среднего чека в обеих группах неравномерное.чтобы график среднего чека установился на определенном уровне необходимо продлить тест или задействовать больше данных."
   ]
  },
  {
   "cell_type": "markdown",
   "metadata": {},
   "source": [
    "\n",
    "### Построим график относительного изменения кумулятивного среднего чека группы B к группе A."
   ]
  },
  {
   "cell_type": "code",
   "execution_count": 9,
   "metadata": {},
   "outputs": [
    {
     "data": {
      "image/png": "[encoded data removed]",
      "text/plain": [
       "<Figure size 720x432 with 1 Axes>"
      ]
     },
     "metadata": {
      "needs_background": "light"
     },
     "output_type": "display_data"
    }
   ],
   "source": [
    "# собираем данные в одном датафрейме\n",
    "mergedCumulativeRevenue = cumulativeRevenueA.merge(cumulativeRevenueB, left_on='date', right_on='date', how='left', suffixes=['A', 'B'])\n",
    "\n",
    "# cтроим отношение средних чеков\n",
    "plt.figure(figsize=(10,6))\n",
    "plt.plot(mergedCumulativeRevenue['date'], \n",
    "         ((mergedCumulativeRevenue['revenueB']/mergedCumulativeRevenue['ordersB'])/\n",
    "         (mergedCumulativeRevenue['revenueA']/mergedCumulativeRevenue['ordersA'])-1)*100.0)\n",
    "# добавляем ось X\n",
    "plt.axhline(y=0, color='black', linestyle='--')\n",
    "plt.axhline(y=0.26, color='grey', linestyle='--');\n",
    "plt.xlabel('Дата')\n",
    "plt.ylabel('Прирост,%') \n",
    "plt.title('Относительный прирост среднего чека группы B относительно группы A')\n",
    "plt.xticks(rotation=30);"
   ]
  },
  {
   "cell_type": "markdown",
   "metadata": {},
   "source": [
    "Относительное изменение кумулятивного среднего чека группы В к группе А резко скачет устонавливается на 26% под конец теста. Скачок 18го дня ярко выделяется и на этом графике."
   ]
  },
  {
   "cell_type": "markdown",
   "metadata": {},
   "source": [
    "### Построим график кумулятивного среднего количества заказов на посетителя по группам"
   ]
  },
  {
   "cell_type": "code",
   "execution_count": 10,
   "metadata": {},
   "outputs": [
    {
     "data": {
      "image/png": "[encoded data removed]",
      "text/plain": [
       "<Figure size 720x432 with 1 Axes>"
      ]
     },
     "metadata": {
      "needs_background": "light"
     },
     "output_type": "display_data"
    }
   ],
   "source": [
    "# считаем кумулятивную конверсию\n",
    "cumulativeData['conversion'] = cumulativeData['orders']/cumulativeData['visitors']\n",
    "# отделяем данные по группе A\n",
    "cumulativeDataA = cumulativeData[cumulativeData['group']=='A']\n",
    "# отделяем данные по группе B\n",
    "cumulativeDataB = cumulativeData[cumulativeData['group']=='B']\n",
    "# строим графики\n",
    "plt.figure(figsize=(10,6))\n",
    "plt.plot(cumulativeDataA['date'], cumulativeDataA['conversion'], label='A')\n",
    "plt.plot(cumulativeDataB['date'], cumulativeDataB['conversion'], label='B')\n",
    "plt.legend();\n",
    "plt.xlabel('Дата')\n",
    "plt.ylabel('Среднее количество заказов') \n",
    "plt.title('График кумулятивного среднего количества заказов на посетителя по группам')\n",
    "plt.xticks(rotation=30);"
   ]
  },
  {
   "cell_type": "markdown",
   "metadata": {},
   "source": [
    "\n",
    "На графике видим, что в первые дни конверся у группы А была выше, чем у В, но на 6й день это поменялось:\n",
    "После этого группа B стабильно показывает большую конверсию чем группа A"
   ]
  },
  {
   "cell_type": "markdown",
   "metadata": {},
   "source": [
    "### Построим график относительного изменения кумулятивного среднего количества заказов на посетителя группы B к группе A."
   ]
  },
  {
   "cell_type": "code",
   "execution_count": 11,
   "metadata": {},
   "outputs": [
    {
     "data": {
      "image/png": "[encoded data removed]",
      "text/plain": [
       "<Figure size 720x432 with 1 Axes>"
      ]
     },
     "metadata": {
      "needs_background": "light"
     },
     "output_type": "display_data"
    }
   ],
   "source": [
    "mergedCumulativeConversions = cumulativeDataA[['date','conversion']].merge(cumulativeDataB[['date','conversion']], left_on='date', right_on='date', how='left', suffixes=['A', 'B'])\n",
    "plt.figure(figsize=(10,6))\n",
    "plt.plot(mergedCumulativeConversions['date'], (mergedCumulativeConversions['conversionB']/mergedCumulativeConversions['conversionA']-1)*100.0)\n",
    "plt.axhline(y=0, color='black', linestyle='--')\n",
    "plt.axhline(y=0.09, color='grey', linestyle='--');\n",
    "plt.xlabel('Дата')\n",
    "plt.ylabel('конверсии группы B относительно группы A, %')\n",
    "plt.title('График относительного изменения кумулятивного среднего количества заказов на посетителя группы B к группе A')\n",
    "plt.xticks(rotation=30);"
   ]
  },
  {
   "cell_type": "markdown",
   "metadata": {},
   "source": [
    "Конверсия в группе B стабильно лучше конверсии в группе A на 9% по просшествии 7ми дней после начала тестирования"
   ]
  },
  {
   "cell_type": "markdown",
   "metadata": {},
   "source": [
    "### Построим точечный график количества заказов по пользователям"
   ]
  },
  {
   "cell_type": "code",
   "execution_count": 12,
   "metadata": {},
   "outputs": [
    {
     "data": {
      "image/png": "[encoded data removed]",
      "text/plain": [
       "<Figure size 720x432 with 1 Axes>"
      ]
     },
     "metadata": {
      "needs_background": "light"
     },
     "output_type": "display_data"
    }
   ],
   "source": [
    "orders.head(5)\n",
    "ordersByUsers = orders.groupby('visitor_id', as_index = False).agg({'transaction_id':'count'})\n",
    "ordersByUsers.columns = ['visitor_id', 'orders']\n",
    "plt.figure(figsize=(10,6))\n",
    "x_values = pd.Series(range(0,len(ordersByUsers['orders'])))\n",
    "plt.scatter(x_values, ordersByUsers['orders']);\n",
    "plt.ylabel('Количество заказов')\n",
    "plt.title('Распределение по количеству сделанных заказов');\n",
    "plt.xlabel('Количество пользователей');"
   ]
  },
  {
   "cell_type": "markdown",
   "metadata": {},
   "source": [
    "Больше всего пользователей с 1м или 2мя заказами, остальные редки,максимально активные пользователи делают до 11ти заказов за месяц. Они будут в дальнейшем убраны"
   ]
  },
  {
   "cell_type": "markdown",
   "metadata": {},
   "source": [
    "### Посчитаем 95-й и 99-й перцентили количества заказов на пользователя. Выберите границу для определения аномальных пользователей."
   ]
  },
  {
   "cell_type": "code",
   "execution_count": 13,
   "metadata": {},
   "outputs": [
    {
     "name": "stdout",
     "output_type": "stream",
     "text": [
      "[2. 4.]\n"
     ]
    }
   ],
   "source": [
    "print(np.percentile(ordersByUsers['orders'], [95, 99])) "
   ]
  },
  {
   "cell_type": "markdown",
   "metadata": {},
   "source": [
    "Больше 2 заказов совершают только 5% пользователей, все пользователи сделавшие больше заказов, далее рассматриваются как аномальные."
   ]
  },
  {
   "cell_type": "markdown",
   "metadata": {},
   "source": [
    "### Построим точечный график стоимостей заказов."
   ]
  },
  {
   "cell_type": "code",
   "execution_count": 14,
   "metadata": {},
   "outputs": [
    {
     "data": {
      "image/png": "[encoded data removed]",
      "text/plain": [
       "<Figure size 720x432 with 1 Axes>"
      ]
     },
     "metadata": {
      "needs_background": "light"
     },
     "output_type": "display_data"
    }
   ],
   "source": [
    "plt.figure(figsize=(10,6))\n",
    "x_values = pd.Series(range(0,len(orders['revenue'])))\n",
    "plt.scatter(x_values, orders['revenue']);\n",
    "plt.ylabel('Стоимость заказов, 100 тыс. у.е.') \n",
    "plt.xlabel('Количество пользователей') \n",
    "plt.title('Распределение по сумме сделанных заказов');"
   ]
  },
  {
   "cell_type": "markdown",
   "metadata": {},
   "source": [
    "Отчетливо виден закз на сумму свыше 120 000, остальные заказы не превышают 20 000, возможно именно с этой аномалией связан резкий скачок на предыдущих графиках "
   ]
  },
  {
   "cell_type": "markdown",
   "metadata": {},
   "source": [
    "### Посчитаем 95-й и 99-й перцентили стоимости заказов. Выберите границу для определения аномальных заказов."
   ]
  },
  {
   "cell_type": "code",
   "execution_count": 15,
   "metadata": {},
   "outputs": [
    {
     "name": "stdout",
     "output_type": "stream",
     "text": [
      "[28000.  58233.2]\n"
     ]
    }
   ],
   "source": [
    "print(np.percentile(orders['revenue'], [95, 99])) "
   ]
  },
  {
   "cell_type": "markdown",
   "metadata": {},
   "source": [
    "Заказы на сумму свыше 28 000 совершают только 5% пользователей, все пользователи сделавшие заказы на большую сумму, далее рассматриваются как аномальные."
   ]
  },
  {
   "cell_type": "markdown",
   "metadata": {},
   "source": [
    "### Посчитаем статистическую значимость различий в среднем количестве заказов на посетителя между группами по «сырым» данным.\n",
    "Сформулируем гипотезы:\n",
    "\n",
    "H0:различий в среднем количестве заказов между группами нет. \n",
    "\n",
    "H1: различия в среднем между группами есть."
   ]
  },
  {
   "cell_type": "code",
   "execution_count": 16,
   "metadata": {},
   "outputs": [
    {
     "name": "stdout",
     "output_type": "stream",
     "text": [
      "P-value:0.017\n",
      "Отвергаем нулевую гипотезу\n",
      "Средняя конверсия группы А: 3.0%\n",
      "Средняя конверсия группы B: 3.4%\n",
      "Отношение конверсии В к А: 0.138\n"
     ]
    }
   ],
   "source": [
    "#задаем значение aplha\n",
    "alpha=.05\n",
    "#ordersByUsersA пользователи, которые заказывали хотя бы 1 раз,число совершённых ими заказов(группа А)\n",
    "ordersByUsersA=(orders[orders['group'] == 'A'].groupby('visitor_id', as_index=False).agg({'transaction_id': pd.Series.nunique}))\n",
    "ordersByUsersA.columns = ['user_id', 'orders']\n",
    "#ordersByUsersA пользователи, которые заказывали хотя бы 1 раз,число совершённых ими заказов(группа В)\n",
    "ordersByUsersB =(orders[orders['group'] == 'B'].groupby('visitor_id', as_index=False).agg({'transaction_id': pd.Series.nunique}))\n",
    "ordersByUsersB.columns = ['user_id', 'orders'] \n",
    "\n",
    "visitorsADaily = visitors[visitors['group'] == 'A'][['date', 'visitors']]\n",
    "\n",
    "visitorsBDaily = visitors[visitors['group'] == 'B'][['date', 'visitors']]\n",
    "\n",
    "\n",
    "\n",
    "# выборкa, где каждый элемент — число заказов определённого пользователя, в том числе ноль.\n",
    "# К ordersByUsersA присоединяем series с нулями длинной (количество пользователей, сумма всех элементов — количество заказов)\n",
    "sampleA = pd.concat([ordersByUsersA['orders'],\n",
    "        pd.Series(0,index=np.arange(visitorsADaily['visitors'].sum() - len(ordersByUsersA['orders'])),name='orders',),],axis=0,)\n",
    "\n",
    "sampleB = pd.concat([ordersByUsersB['orders'],\n",
    "        pd.Series(0,index=np.arange(visitorsBDaily['visitors'].sum() - len(ordersByUsersB['orders'])),name='orders',),],axis=0,)\n",
    "#Применим статистический критерий Манна-Уитни к полученным выборкам:\n",
    "result_1=stats.mannwhitneyu(sampleA, sampleB)[1]          \n",
    "print('P-value:{0:.3f}'.format(result_1))\n",
    "if result_1 < alpha:\n",
    "    print(\"Отвергаем нулевую гипотезу\")\n",
    "else:\n",
    "    print(\"Не получилось отвергнуть нулевую гипотезу\")  \n",
    "print('Средняя конверсия группы А: {:.1%}'.format(sampleA.mean()))\n",
    "print('Средняя конверсия группы B: {:.1%}'.format(sampleB.mean()))  \n",
    "print('Отношение конверсии В к А: {0:.3f}'.format(sampleB.mean()/sampleA.mean()-1))   \n"
   ]
  },
  {
   "cell_type": "markdown",
   "metadata": {},
   "source": [
    "P-value меньше заданного значения alpha - отвергаем нулевую гипотезу, следовательно верно что различия между конверсиями групп имеют место быть.\n",
    "\n",
    "Отношений конверсий группы В к А 0.138, что можно интерпритировать как относительный прирост в ~13%, что является не плохим результатом, на следующих этапах посмотрим какое значения будут иметь данные без аномалий"
   ]
  },
  {
   "cell_type": "markdown",
   "metadata": {},
   "source": [
    "### Посчитаем статистическую значимость различий в среднем чеке заказа между группами по «сырым» данным. Сделайте выводы и предположения.\n",
    "Сформулируем гипотезы:\n",
    "\n",
    "Н0: Различий в средних чеках между группами нет\n",
    "\n",
    "Н1: Различия в средних чеках между группами есть"
   ]
  },
  {
   "cell_type": "code",
   "execution_count": 17,
   "metadata": {},
   "outputs": [
    {
     "name": "stdout",
     "output_type": "stream",
     "text": [
      "P-value:0.729\n",
      "Не получилось отвергнуть нулевую гипотезу\n",
      "Средняя чек группы А: 7333.6\n",
      "Средняя чек группы B: 9230.9\n",
      "Отношение среднего чека В к А: 0.259\n"
     ]
    }
   ],
   "source": [
    "sampleA=orders[orders['group']=='A']['revenue']\n",
    "sampleB=orders[orders['group']=='B']['revenue']\n",
    "result_2=stats.mannwhitneyu(sampleA, sampleB)[1]\n",
    "print('P-value:{0:.3f}'.format(result_2))\n",
    "if result_2 < alpha:\n",
    "    print(\"Отвергаем нулевую гипотезу\")\n",
    "else:\n",
    "    print(\"Не получилось отвергнуть нулевую гипотезу\")  \n",
    "print('Средняя чек группы А: {:.5}'.format(sampleA.mean()))\n",
    "print('Средняя чек группы B: {:.5}'.format(sampleB.mean()))  \n",
    "print('Отношение среднего чека В к А: {0:.3f}'.format(sampleB.mean()/sampleA.mean()-1))  \n"
   ]
  },
  {
   "cell_type": "markdown",
   "metadata": {},
   "source": [
    "P-value больше заданного значения alpha - не можем отвергнуть нулевую гипотезу, с нет оснований считать группы разными.\n",
    "\n",
    "Отношений конверсий группы В к А 0.256, что можно интерпритировать как относительный прирост в ~26%,различие не является значимым для этих групп"
   ]
  },
  {
   "cell_type": "markdown",
   "metadata": {},
   "source": [
    "### Посчитаем статистическую значимость различий в среднем количестве заказов на посетителя между группами по «очищенным» данным. "
   ]
  },
  {
   "cell_type": "code",
   "execution_count": 18,
   "metadata": {},
   "outputs": [
    {
     "name": "stdout",
     "output_type": "stream",
     "text": [
      "Колличество аномальных пользователей 113\n"
     ]
    }
   ],
   "source": [
    "#Сделаем срез пользователей с числом заказов больше 2\n",
    "usersWithManyOrders=pd.concat(\n",
    "    [ordersByUsersA[ordersByUsersA['orders'] > 2]['user_id'],\n",
    "    ordersByUsersB[ordersByUsersB['orders'] > 2]['user_id'],],axis=0,)\n",
    "#Сделаем срез пользователей, совершивших заказы дороже 28 000\n",
    "usersWithExpensiveOrders = orders[orders['revenue'] > 28000]['visitor_id']\n",
    "#Объединим пользователей в переменной abnormalUsers\n",
    "abnormalUsers = (pd.concat(\n",
    "    [usersWithManyOrders, usersWithExpensiveOrders,filt], axis=0)\n",
    "    .drop_duplicates()\n",
    "    .sort_values())\n",
    "print('Колличество аномальных пользователей',abnormalUsers.shape[0]) \n"
   ]
  },
  {
   "cell_type": "code",
   "execution_count": 19,
   "metadata": {},
   "outputs": [
    {
     "name": "stdout",
     "output_type": "stream",
     "text": [
      "P-value:0.009\n",
      "Отвергаем нулевую гипотезу\n",
      "Средняя конверсия группы А: 2.3%\n",
      "Средняя конверсия группы B: 2.7%\n",
      "Отношение конверсии В к А: 0.189\n"
     ]
    }
   ],
   "source": [
    "sampleAFiltered = pd.concat(\n",
    "    [ordersByUsersA[np.logical_not(ordersByUsersA['user_id'].isin(abnormalUsers))]['orders'],\n",
    "     pd.Series(0,index=np.arange(visitorsADaily['visitors'].sum() - len(ordersByUsersA['orders'])),name='orders',),],axis=0)\n",
    "\n",
    "sampleBFiltered = pd.concat(\n",
    "    [ordersByUsersB[np.logical_not(ordersByUsersB['user_id'].isin(abnormalUsers))]['orders'],\n",
    "    pd.Series(0,index=np.arange(visitorsBDaily['visitors'].sum() - len(ordersByUsersB['orders'])),name='orders',),],axis=0) \n",
    "#Применим статистический критерий Манна-Уитни к полученным выборкам:\n",
    "result_3=stats.mannwhitneyu(sampleAFiltered, sampleBFiltered)[1]          \n",
    "print('P-value:{0:.3f}'.format(result_3))\n",
    "if result_3 < alpha:\n",
    "    print(\"Отвергаем нулевую гипотезу\")\n",
    "else:\n",
    "    print(\"Не получилось отвергнуть нулевую гипотезу\")  \n",
    "print('Средняя конверсия группы А: {:.1%}'.format(sampleAFiltered.mean()))\n",
    "print('Средняя конверсия группы B: {:.1%}'.format(sampleBFiltered.mean()))  \n",
    "print('Отношение конверсии В к А: {0:.3f}'.format(sampleBFiltered.mean()/sampleAFiltered.mean()-1))   \n"
   ]
  },
  {
   "cell_type": "markdown",
   "metadata": {},
   "source": [
    "P-value меньше заданного значения alpha - так же отвергаем нулевую гипотезу, следовательно верно что различия между конверсиями групп имеют место быть.\n",
    "\n",
    "Аномалии особо не повлияли на статистическую значимость. По очищенным данным p_value уменьшился с 1.7%% до 0.9%.\n",
    "Отношений конверсий группы В к А увеличилось до 0.189 на 5.1%"
   ]
  },
  {
   "cell_type": "markdown",
   "metadata": {},
   "source": [
    "### Посчитаем статистическую значимость различий в среднем чеке заказа между группами по «очищенным» данным"
   ]
  },
  {
   "cell_type": "code",
   "execution_count": 20,
   "metadata": {},
   "outputs": [
    {
     "name": "stdout",
     "output_type": "stream",
     "text": [
      "P-value:0.762\n",
      "Не получилось отвергнуть нулевую гипотезу\n",
      "Средняя чек группы А: 5102.5\n",
      "Средняя чек группы B: 4988.0\n",
      "Отношение среднего чека В к А: -0.022\n"
     ]
    }
   ],
   "source": [
    "sampleAFiltered=orders[np.logical_and(orders['group'] == 'A',np.logical_not(orders['visitor_id'].isin(abnormalUsers)))]['revenue']\n",
    "sampleBFiltered=orders[np.logical_and(orders['group'] == 'B',np.logical_not(orders['visitor_id'].isin(abnormalUsers)))]['revenue']\n",
    "\n",
    "result_4=stats.mannwhitneyu(sampleAFiltered, sampleBFiltered)[1]     \n",
    "print('P-value:{0:.3f}'.format(result_4))\n",
    "if result_4 < alpha:\n",
    "    print(\"Отвергаем нулевую гипотезу\")\n",
    "else:\n",
    "      print(\"Не получилось отвергнуть нулевую гипотезу\")  \n",
    "print('Средняя чек группы А: {:.5}'.format(sampleAFiltered.mean()))\n",
    "print('Средняя чек группы B: {:.5}'.format(sampleBFiltered.mean()))  \n",
    "print('Отношение среднего чека В к А: {0:.3f}'.format(sampleBFiltered.mean()/sampleAFiltered.mean()-1))  \n"
   ]
  },
  {
   "cell_type": "markdown",
   "metadata": {},
   "source": [
    "На очищенных данных статистическая значимость средних чеков группы B и A, также равны, их абсолютные значения практически выровнились."
   ]
  },
  {
   "cell_type": "markdown",
   "metadata": {},
   "source": [
    "# Примем решение по результатам теста\n",
    "\n",
    "Был проведен тест на корректность предоставленных данных (A/A тест)\n",
    "Выборка данных имеет корректный размер, проблему подглядывания в результате сравнения групп во время проведения теста мы исключаем. Было обнаружено 58 пользователей с некорректным разделением по группам\n",
    "\n",
    "Из графиков кумулятивного расчета выявлено:\n",
    " - Прибыль в обеих группах почти равномерно растет в течение всего рассматриваемого периода\n",
    " - Кумулятивный средний чек рос неравномерно\n",
    " - График кумулятивного среднего количества заказов на посетителя по группам показателен. По группе А падает с выходом на плато, но на всем периоде больше стабильно растущей метрики по группе В. ошибку при А/А тестировании\n",
    " \n",
    "Оценили наличие аномалий в данных.\n",
    "\n",
    "Посчитали статистическую значимость различий в среднем количестве заказов на посетителя между группами по «очищенным» и \"сырым\" данным:\n",
    "  - Есть статистически значимое различие по конверсии между группами как по сырым данным, так и после фильтрации аномалий.\n",
    "  \n",
    "То есть разница получена не случайным образом, а действительно присутствует.\n",
    "  \n",
    "Посчитали статистическую значимость различий в среднем чеке заказа между группами по «очищенным» и \"сырым\" данным:\n",
    "  - По сырым данным нет статистически значимого различия по среднему чеку между группами. после удаления аномалий статистически значимого различия не наблюдается.\n",
    "  \n",
    "Следовательно в группе В, количество заказов на посетителя увеличилось, а средний чек остался прежним. Это приведет к росту выручки кампании.Тест следует остановить и признать успешным."
   ]
  }
 ],
 "metadata": {
  "ExecuteTimeLog": [
   {
    "duration": 802,
    "start_time": "2023-11-28T07:55:57.217Z"
   },
   {
    "duration": 73,
    "start_time": "2023-11-28T07:56:50.028Z"
   },
   {
    "duration": 35,
    "start_time": "2023-11-28T07:57:12.268Z"
   },
   {
    "duration": 92,
    "start_time": "2023-11-28T07:58:51.055Z"
   },
   {
    "duration": 34,
    "start_time": "2023-11-28T07:58:59.156Z"
   },
   {
    "duration": 33,
    "start_time": "2023-11-28T08:03:29.852Z"
   },
   {
    "duration": 32,
    "start_time": "2023-11-28T08:03:40.032Z"
   },
   {
    "duration": 1401,
    "start_time": "2023-11-28T08:05:51.212Z"
   },
   {
    "duration": 37,
    "start_time": "2023-11-28T08:06:11.652Z"
   },
   {
    "duration": 38,
    "start_time": "2023-11-28T08:06:22.785Z"
   },
   {
    "duration": 36,
    "start_time": "2023-11-28T08:06:29.489Z"
   },
   {
    "duration": 38,
    "start_time": "2023-11-28T08:06:49.503Z"
   },
   {
    "duration": 34,
    "start_time": "2023-11-28T08:07:57.451Z"
   },
   {
    "duration": 34,
    "start_time": "2023-11-28T08:08:06.569Z"
   },
   {
    "duration": 32,
    "start_time": "2023-11-28T08:08:23.069Z"
   },
   {
    "duration": 35,
    "start_time": "2023-11-28T08:08:33.212Z"
   },
   {
    "duration": 37,
    "start_time": "2023-11-28T08:09:43.199Z"
   },
   {
    "duration": 1735,
    "start_time": "2023-11-28T08:10:02.169Z"
   },
   {
    "duration": 36,
    "start_time": "2023-11-28T08:10:15.429Z"
   },
   {
    "duration": 12,
    "start_time": "2023-11-28T08:13:39.262Z"
   },
   {
    "duration": 11,
    "start_time": "2023-11-28T08:13:42.350Z"
   },
   {
    "duration": 10,
    "start_time": "2023-11-28T08:13:47.949Z"
   },
   {
    "duration": 68,
    "start_time": "2023-11-28T08:16:26.929Z"
   },
   {
    "duration": 35,
    "start_time": "2023-11-28T08:16:56.073Z"
   },
   {
    "duration": 35,
    "start_time": "2023-11-28T08:17:19.569Z"
   },
   {
    "duration": 37,
    "start_time": "2023-11-28T08:20:35.117Z"
   },
   {
    "duration": 36,
    "start_time": "2023-11-28T08:20:47.049Z"
   },
   {
    "duration": 141,
    "start_time": "2023-11-28T08:33:16.749Z"
   },
   {
    "duration": 70,
    "start_time": "2023-11-28T08:33:31.988Z"
   },
   {
    "duration": 36,
    "start_time": "2023-11-28T08:33:39.148Z"
   },
   {
    "duration": 36,
    "start_time": "2023-11-28T08:33:49.618Z"
   },
   {
    "duration": 67,
    "start_time": "2023-11-28T09:29:06.740Z"
   },
   {
    "duration": 70,
    "start_time": "2023-11-28T09:30:04.680Z"
   },
   {
    "duration": 69,
    "start_time": "2023-11-28T09:30:18.812Z"
   },
   {
    "duration": 70,
    "start_time": "2023-11-28T09:30:33.276Z"
   },
   {
    "duration": 69,
    "start_time": "2023-11-28T09:30:52.382Z"
   },
   {
    "duration": 69,
    "start_time": "2023-11-28T09:31:33.460Z"
   },
   {
    "duration": 68,
    "start_time": "2023-11-28T09:31:56.961Z"
   },
   {
    "duration": 3,
    "start_time": "2023-11-28T09:32:41.940Z"
   },
   {
    "duration": 66,
    "start_time": "2023-11-28T09:32:45.540Z"
   },
   {
    "duration": 127,
    "start_time": "2023-11-28T09:32:59.360Z"
   },
   {
    "duration": 3,
    "start_time": "2023-11-28T09:33:09.480Z"
   },
   {
    "duration": 445,
    "start_time": "2023-11-28T09:33:55.026Z"
   },
   {
    "duration": 404,
    "start_time": "2023-11-28T09:34:07.301Z"
   },
   {
    "duration": 456,
    "start_time": "2023-11-28T09:51:26.921Z"
   },
   {
    "duration": 408,
    "start_time": "2023-11-28T09:51:39.109Z"
   },
   {
    "duration": 70,
    "start_time": "2023-11-28T09:52:11.518Z"
   },
   {
    "duration": 69,
    "start_time": "2023-11-28T09:53:13.441Z"
   },
   {
    "duration": 73,
    "start_time": "2023-11-28T09:53:19.609Z"
   },
   {
    "duration": 417,
    "start_time": "2023-11-28T09:54:24.052Z"
   },
   {
    "duration": 83,
    "start_time": "2023-11-28T09:54:36.477Z"
   },
   {
    "duration": 80,
    "start_time": "2023-11-28T09:55:03.727Z"
   },
   {
    "duration": 89,
    "start_time": "2023-11-28T09:55:44.357Z"
   },
   {
    "duration": 92,
    "start_time": "2023-11-28T10:35:30.737Z"
   },
   {
    "duration": 90,
    "start_time": "2023-11-28T10:36:21.519Z"
   },
   {
    "duration": 56,
    "start_time": "2023-11-28T10:37:12.856Z"
   },
   {
    "duration": 67,
    "start_time": "2023-11-28T10:37:28.337Z"
   },
   {
    "duration": 98,
    "start_time": "2023-11-28T10:38:01.597Z"
   },
   {
    "duration": 99,
    "start_time": "2023-11-28T10:41:05.317Z"
   },
   {
    "duration": 28,
    "start_time": "2023-11-28T10:43:25.934Z"
   },
   {
    "duration": 28,
    "start_time": "2023-11-28T10:43:28.822Z"
   },
   {
    "duration": 32,
    "start_time": "2023-11-28T10:43:47.315Z"
   },
   {
    "duration": 4,
    "start_time": "2023-11-28T10:48:34.183Z"
   },
   {
    "duration": 33,
    "start_time": "2023-11-28T10:48:41.505Z"
   },
   {
    "duration": 32,
    "start_time": "2023-11-28T10:48:57.053Z"
   },
   {
    "duration": 28,
    "start_time": "2023-11-28T10:49:10.345Z"
   },
   {
    "duration": 36,
    "start_time": "2023-11-28T10:49:17.012Z"
   },
   {
    "duration": 12,
    "start_time": "2023-11-28T10:49:29.483Z"
   },
   {
    "duration": 10,
    "start_time": "2023-11-28T10:49:36.623Z"
   },
   {
    "duration": 97,
    "start_time": "2023-11-28T10:49:40.245Z"
   },
   {
    "duration": 101,
    "start_time": "2023-11-28T11:05:58.699Z"
   },
   {
    "duration": 100,
    "start_time": "2023-11-28T11:07:50.399Z"
   },
   {
    "duration": 209,
    "start_time": "2023-11-28T11:08:58.943Z"
   },
   {
    "duration": 229,
    "start_time": "2023-11-28T11:09:32.404Z"
   },
   {
    "duration": 208,
    "start_time": "2023-11-28T11:09:39.583Z"
   },
   {
    "duration": 3,
    "start_time": "2023-11-28T11:35:21.174Z"
   },
   {
    "duration": 179,
    "start_time": "2023-11-28T11:40:01.683Z"
   },
   {
    "duration": 272,
    "start_time": "2023-11-28T11:40:43.005Z"
   },
   {
    "duration": 274,
    "start_time": "2023-11-28T11:40:57.203Z"
   },
   {
    "duration": 269,
    "start_time": "2023-11-28T11:41:03.383Z"
   },
   {
    "duration": 563,
    "start_time": "2023-11-28T11:42:13.026Z"
   },
   {
    "duration": 534,
    "start_time": "2023-11-28T11:44:59.303Z"
   },
   {
    "duration": 443,
    "start_time": "2023-11-28T11:45:10.043Z"
   },
   {
    "duration": 435,
    "start_time": "2023-11-28T11:45:15.646Z"
   },
   {
    "duration": 476,
    "start_time": "2023-11-28T11:45:23.012Z"
   },
   {
    "duration": 182,
    "start_time": "2023-11-28T12:03:54.602Z"
   },
   {
    "duration": 356,
    "start_time": "2023-11-28T12:35:07.397Z"
   },
   {
    "duration": 281,
    "start_time": "2023-11-28T12:35:58.089Z"
   },
   {
    "duration": 262,
    "start_time": "2023-11-28T12:36:06.438Z"
   },
   {
    "duration": 257,
    "start_time": "2023-11-28T12:36:44.077Z"
   },
   {
    "duration": 246,
    "start_time": "2023-11-28T12:36:51.857Z"
   },
   {
    "duration": 258,
    "start_time": "2023-11-28T12:36:59.078Z"
   },
   {
    "duration": 325,
    "start_time": "2023-11-28T12:37:03.380Z"
   },
   {
    "duration": 153,
    "start_time": "2023-11-28T12:37:15.658Z"
   },
   {
    "duration": 275,
    "start_time": "2023-11-28T12:37:26.258Z"
   },
   {
    "duration": 199,
    "start_time": "2023-11-28T12:38:21.540Z"
   },
   {
    "duration": 281,
    "start_time": "2023-11-28T12:38:26.486Z"
   },
   {
    "duration": 11,
    "start_time": "2023-11-28T12:38:29.619Z"
   },
   {
    "duration": 204,
    "start_time": "2023-11-28T12:38:35.238Z"
   },
   {
    "duration": 247,
    "start_time": "2023-11-28T12:38:44.068Z"
   },
   {
    "duration": 323,
    "start_time": "2023-11-28T12:43:38.497Z"
   },
   {
    "duration": 263,
    "start_time": "2023-11-28T12:43:59.869Z"
   },
   {
    "duration": 127,
    "start_time": "2023-11-28T12:44:37.340Z"
   },
   {
    "duration": 301,
    "start_time": "2023-11-28T12:44:47.300Z"
   },
   {
    "duration": 255,
    "start_time": "2023-11-28T12:45:01.740Z"
   },
   {
    "duration": 457,
    "start_time": "2023-11-28T12:45:12.509Z"
   },
   {
    "duration": 475,
    "start_time": "2023-11-28T12:45:23.968Z"
   },
   {
    "duration": 445,
    "start_time": "2023-11-28T12:45:32.107Z"
   },
   {
    "duration": 462,
    "start_time": "2023-11-28T12:45:37.908Z"
   },
   {
    "duration": 441,
    "start_time": "2023-11-28T12:45:43.881Z"
   },
   {
    "duration": 451,
    "start_time": "2023-11-28T12:45:47.430Z"
   },
   {
    "duration": 453,
    "start_time": "2023-11-28T12:45:51.277Z"
   },
   {
    "duration": 183,
    "start_time": "2023-11-28T12:45:57.687Z"
   },
   {
    "duration": 262,
    "start_time": "2023-11-28T12:46:06.140Z"
   },
   {
    "duration": 13,
    "start_time": "2023-11-28T13:12:24.914Z"
   },
   {
    "duration": 13,
    "start_time": "2023-11-28T13:13:16.406Z"
   },
   {
    "duration": 208,
    "start_time": "2023-11-28T13:13:27.710Z"
   },
   {
    "duration": 131,
    "start_time": "2023-11-28T13:14:33.840Z"
   },
   {
    "duration": 7,
    "start_time": "2023-11-28T13:19:02.962Z"
   },
   {
    "duration": 224,
    "start_time": "2023-11-28T13:20:40.947Z"
   },
   {
    "duration": 212,
    "start_time": "2023-11-28T13:33:03.539Z"
   },
   {
    "duration": 312,
    "start_time": "2023-11-28T13:33:23.686Z"
   },
   {
    "duration": 192,
    "start_time": "2023-11-28T13:34:02.351Z"
   },
   {
    "duration": 211,
    "start_time": "2023-11-28T13:34:53.686Z"
   },
   {
    "duration": 351,
    "start_time": "2023-11-28T13:35:23.100Z"
   },
   {
    "duration": 278,
    "start_time": "2023-11-28T13:35:27.760Z"
   },
   {
    "duration": 299,
    "start_time": "2023-11-28T13:36:53.978Z"
   },
   {
    "duration": 309,
    "start_time": "2023-11-28T13:39:02.518Z"
   },
   {
    "duration": 47,
    "start_time": "2023-11-30T12:47:52.350Z"
   },
   {
    "duration": 859,
    "start_time": "2023-11-30T12:48:13.025Z"
   },
   {
    "duration": 75,
    "start_time": "2023-11-30T12:48:13.887Z"
   },
   {
    "duration": 14,
    "start_time": "2023-11-30T12:48:13.964Z"
   },
   {
    "duration": 29,
    "start_time": "2023-11-30T12:48:13.979Z"
   },
   {
    "duration": 157,
    "start_time": "2023-11-30T12:48:14.011Z"
   },
   {
    "duration": 605,
    "start_time": "2023-11-30T12:48:14.169Z"
   },
   {
    "duration": 181,
    "start_time": "2023-11-30T12:48:14.776Z"
   },
   {
    "duration": 321,
    "start_time": "2023-11-30T12:48:14.959Z"
   },
   {
    "duration": 263,
    "start_time": "2023-11-30T12:48:15.281Z"
   },
   {
    "duration": 316,
    "start_time": "2023-11-30T12:48:15.546Z"
   },
   {
    "duration": 68,
    "start_time": "2023-11-30T12:52:27.943Z"
   },
   {
    "duration": 117,
    "start_time": "2023-11-30T12:52:40.636Z"
   },
   {
    "duration": 115,
    "start_time": "2023-11-30T12:52:45.323Z"
   },
   {
    "duration": 133,
    "start_time": "2023-11-30T12:53:37.564Z"
   },
   {
    "duration": 208,
    "start_time": "2023-11-30T12:54:27.072Z"
   },
   {
    "duration": 15,
    "start_time": "2023-11-30T14:00:27.955Z"
   },
   {
    "duration": 10,
    "start_time": "2023-11-30T14:00:34.703Z"
   },
   {
    "duration": 371,
    "start_time": "2023-11-30T14:00:58.274Z"
   },
   {
    "duration": 191,
    "start_time": "2023-11-30T14:01:22.030Z"
   },
   {
    "duration": 116,
    "start_time": "2023-11-30T14:01:30.183Z"
   },
   {
    "duration": 185,
    "start_time": "2023-11-30T14:01:37.406Z"
   },
   {
    "duration": 11,
    "start_time": "2023-11-30T14:02:24.990Z"
   },
   {
    "duration": 104,
    "start_time": "2023-11-30T14:03:14.362Z"
   },
   {
    "duration": 107,
    "start_time": "2023-11-30T14:03:57.150Z"
   },
   {
    "duration": 112,
    "start_time": "2023-11-30T14:18:17.250Z"
   },
   {
    "duration": 1514,
    "start_time": "2023-11-30T14:20:13.824Z"
   },
   {
    "duration": 103,
    "start_time": "2023-11-30T14:20:39.493Z"
   },
   {
    "duration": 103,
    "start_time": "2023-11-30T14:20:46.693Z"
   },
   {
    "duration": 4,
    "start_time": "2023-11-30T14:21:19.870Z"
   },
   {
    "duration": 3,
    "start_time": "2023-11-30T14:22:09.346Z"
   },
   {
    "duration": 4,
    "start_time": "2023-11-30T14:22:56.085Z"
   },
   {
    "duration": 127,
    "start_time": "2023-11-30T14:26:18.193Z"
   },
   {
    "duration": 122,
    "start_time": "2023-11-30T14:26:23.648Z"
   },
   {
    "duration": 1459,
    "start_time": "2023-11-30T15:39:28.089Z"
   },
   {
    "duration": 2,
    "start_time": "2023-11-30T15:39:35.011Z"
   },
   {
    "duration": 47,
    "start_time": "2023-11-30T15:39:35.015Z"
   },
   {
    "duration": 12,
    "start_time": "2023-11-30T15:39:35.064Z"
   },
   {
    "duration": 10,
    "start_time": "2023-11-30T15:39:35.143Z"
   },
   {
    "duration": 102,
    "start_time": "2023-11-30T15:39:35.154Z"
   },
   {
    "duration": 429,
    "start_time": "2023-11-30T15:39:35.299Z"
   },
   {
    "duration": 173,
    "start_time": "2023-11-30T15:39:35.729Z"
   },
   {
    "duration": 291,
    "start_time": "2023-11-30T15:39:35.904Z"
   },
   {
    "duration": 204,
    "start_time": "2023-11-30T15:39:36.197Z"
   },
   {
    "duration": 382,
    "start_time": "2023-11-30T15:39:36.402Z"
   },
   {
    "duration": 125,
    "start_time": "2023-11-30T15:39:36.786Z"
   },
   {
    "duration": 4,
    "start_time": "2023-11-30T15:39:36.913Z"
   },
   {
    "duration": 147,
    "start_time": "2023-11-30T15:39:36.919Z"
   },
   {
    "duration": 1519,
    "start_time": "2023-11-30T15:39:37.068Z"
   },
   {
    "duration": 0,
    "start_time": "2023-11-30T15:39:38.589Z"
   },
   {
    "duration": 3,
    "start_time": "2023-11-30T15:41:20.380Z"
   },
   {
    "duration": 11,
    "start_time": "2023-11-30T17:10:37.820Z"
   },
   {
    "duration": 10,
    "start_time": "2023-11-30T17:11:25.449Z"
   },
   {
    "duration": 15,
    "start_time": "2023-11-30T17:16:33.230Z"
   },
   {
    "duration": 12,
    "start_time": "2023-11-30T17:22:09.632Z"
   },
   {
    "duration": 126,
    "start_time": "2023-11-30T17:22:59.193Z"
   },
   {
    "duration": 143,
    "start_time": "2023-11-30T17:23:14.833Z"
   },
   {
    "duration": 9,
    "start_time": "2023-11-30T17:25:49.632Z"
   },
   {
    "duration": 9,
    "start_time": "2023-11-30T17:30:29.079Z"
   },
   {
    "duration": 101,
    "start_time": "2023-11-30T17:31:52.704Z"
   },
   {
    "duration": 104,
    "start_time": "2023-11-30T17:33:37.751Z"
   },
   {
    "duration": 201,
    "start_time": "2023-11-30T17:34:25.160Z"
   },
   {
    "duration": 127,
    "start_time": "2023-11-30T17:34:29.351Z"
   },
   {
    "duration": 12,
    "start_time": "2023-11-30T17:34:31.632Z"
   },
   {
    "duration": 376,
    "start_time": "2023-11-30T17:34:59.391Z"
   },
   {
    "duration": 199,
    "start_time": "2023-11-30T17:35:04.352Z"
   },
   {
    "duration": 121,
    "start_time": "2023-11-30T17:35:07.319Z"
   },
   {
    "duration": 29,
    "start_time": "2023-11-30T17:35:09.359Z"
   },
   {
    "duration": 71,
    "start_time": "2023-11-30T17:37:56.482Z"
   },
   {
    "duration": 33,
    "start_time": "2023-11-30T17:38:04.830Z"
   },
   {
    "duration": 31,
    "start_time": "2023-11-30T17:38:17.638Z"
   },
   {
    "duration": 33,
    "start_time": "2023-11-30T17:38:59.431Z"
   },
   {
    "duration": 30,
    "start_time": "2023-11-30T17:39:09.960Z"
   },
   {
    "duration": 34,
    "start_time": "2023-11-30T17:39:28.742Z"
   },
   {
    "duration": 32,
    "start_time": "2023-11-30T17:39:37.672Z"
   },
   {
    "duration": 29,
    "start_time": "2023-11-30T17:40:37.471Z"
   },
   {
    "duration": 29,
    "start_time": "2023-11-30T17:41:19.871Z"
   },
   {
    "duration": 133,
    "start_time": "2023-11-30T17:42:58.279Z"
   },
   {
    "duration": 25,
    "start_time": "2023-11-30T17:43:00.599Z"
   },
   {
    "duration": 133,
    "start_time": "2023-11-30T19:00:14.911Z"
   },
   {
    "duration": 27,
    "start_time": "2023-11-30T19:00:22.410Z"
   },
   {
    "duration": 8,
    "start_time": "2023-11-30T19:06:16.910Z"
   },
   {
    "duration": 8,
    "start_time": "2023-11-30T19:06:26.653Z"
   },
   {
    "duration": 19,
    "start_time": "2023-11-30T19:18:06.311Z"
   },
   {
    "duration": 9,
    "start_time": "2023-11-30T19:18:19.843Z"
   },
   {
    "duration": 9,
    "start_time": "2023-11-30T19:26:19.733Z"
   },
   {
    "duration": 10,
    "start_time": "2023-11-30T19:30:08.692Z"
   },
   {
    "duration": 10,
    "start_time": "2023-11-30T19:30:17.699Z"
   },
   {
    "duration": 10,
    "start_time": "2023-11-30T19:31:37.671Z"
   },
   {
    "duration": 122,
    "start_time": "2023-11-30T19:34:14.092Z"
   },
   {
    "duration": 29,
    "start_time": "2023-11-30T19:34:16.091Z"
   },
   {
    "duration": 29,
    "start_time": "2023-11-30T19:44:29.499Z"
   },
   {
    "duration": 28,
    "start_time": "2023-11-30T19:45:23.760Z"
   },
   {
    "duration": 34,
    "start_time": "2023-11-30T19:46:03.312Z"
   },
   {
    "duration": 32,
    "start_time": "2023-11-30T19:46:45.532Z"
   },
   {
    "duration": 29,
    "start_time": "2023-11-30T19:46:49.872Z"
   },
   {
    "duration": 32,
    "start_time": "2023-11-30T19:46:58.493Z"
   },
   {
    "duration": 32,
    "start_time": "2023-11-30T19:47:39.412Z"
   },
   {
    "duration": 31,
    "start_time": "2023-11-30T19:47:44.951Z"
   },
   {
    "duration": 32,
    "start_time": "2023-11-30T19:47:52.992Z"
   },
   {
    "duration": 33,
    "start_time": "2023-11-30T19:48:03.931Z"
   },
   {
    "duration": 30,
    "start_time": "2023-11-30T19:48:09.692Z"
   },
   {
    "duration": 34,
    "start_time": "2023-11-30T19:48:29.691Z"
   },
   {
    "duration": 31,
    "start_time": "2023-11-30T19:48:36.332Z"
   },
   {
    "duration": 15,
    "start_time": "2023-11-30T19:48:57.580Z"
   },
   {
    "duration": 31,
    "start_time": "2023-11-30T19:49:18.880Z"
   },
   {
    "duration": 32,
    "start_time": "2023-11-30T19:49:47.419Z"
   },
   {
    "duration": 33,
    "start_time": "2023-11-30T19:50:01.092Z"
   },
   {
    "duration": 39,
    "start_time": "2023-11-30T19:50:10.152Z"
   },
   {
    "duration": 33,
    "start_time": "2023-11-30T19:50:19.212Z"
   },
   {
    "duration": 30,
    "start_time": "2023-11-30T19:50:33.442Z"
   },
   {
    "duration": 117,
    "start_time": "2023-11-30T19:51:02.071Z"
   },
   {
    "duration": 30,
    "start_time": "2023-11-30T19:51:04.211Z"
   },
   {
    "duration": 12,
    "start_time": "2023-11-30T19:51:07.331Z"
   },
   {
    "duration": 155,
    "start_time": "2023-11-30T19:52:24.512Z"
   },
   {
    "duration": 144,
    "start_time": "2023-11-30T19:53:15.933Z"
   },
   {
    "duration": 1613,
    "start_time": "2023-11-30T19:53:25.904Z"
   },
   {
    "duration": 1530,
    "start_time": "2023-11-30T19:53:46.372Z"
   },
   {
    "duration": 1395,
    "start_time": "2023-11-30T19:53:52.351Z"
   },
   {
    "duration": 68,
    "start_time": "2023-11-30T19:55:59.173Z"
   },
   {
    "duration": 60,
    "start_time": "2023-11-30T19:56:17.292Z"
   },
   {
    "duration": 11,
    "start_time": "2023-11-30T19:56:24.612Z"
   },
   {
    "duration": 10,
    "start_time": "2023-11-30T19:56:27.920Z"
   },
   {
    "duration": 8,
    "start_time": "2023-11-30T19:56:30.699Z"
   },
   {
    "duration": 10,
    "start_time": "2023-11-30T19:57:53.144Z"
   },
   {
    "duration": 9,
    "start_time": "2023-11-30T19:58:00.732Z"
   },
   {
    "duration": 7,
    "start_time": "2023-11-30T19:58:08.212Z"
   },
   {
    "duration": 8,
    "start_time": "2023-11-30T19:58:21.051Z"
   },
   {
    "duration": 1079,
    "start_time": "2023-11-30T19:58:59.347Z"
   },
   {
    "duration": 37,
    "start_time": "2023-11-30T19:59:00.428Z"
   },
   {
    "duration": 13,
    "start_time": "2023-11-30T19:59:00.466Z"
   },
   {
    "duration": 65,
    "start_time": "2023-11-30T19:59:00.481Z"
   },
   {
    "duration": 167,
    "start_time": "2023-11-30T19:59:00.548Z"
   },
   {
    "duration": 615,
    "start_time": "2023-11-30T19:59:00.717Z"
   },
   {
    "duration": 193,
    "start_time": "2023-11-30T19:59:01.333Z"
   },
   {
    "duration": 277,
    "start_time": "2023-11-30T19:59:01.527Z"
   },
   {
    "duration": 205,
    "start_time": "2023-11-30T19:59:01.806Z"
   },
   {
    "duration": 307,
    "start_time": "2023-11-30T19:59:02.012Z"
   },
   {
    "duration": 111,
    "start_time": "2023-11-30T19:59:02.321Z"
   },
   {
    "duration": 17,
    "start_time": "2023-11-30T19:59:02.434Z"
   },
   {
    "duration": 166,
    "start_time": "2023-11-30T19:59:02.453Z"
   },
   {
    "duration": 4,
    "start_time": "2023-11-30T19:59:02.621Z"
   },
   {
    "duration": 181,
    "start_time": "2023-11-30T19:59:02.626Z"
   },
   {
    "duration": 11,
    "start_time": "2023-11-30T19:59:02.808Z"
   },
   {
    "duration": 34,
    "start_time": "2023-11-30T19:59:02.821Z"
   },
   {
    "duration": 1159,
    "start_time": "2023-11-30T19:59:36.452Z"
   },
   {
    "duration": 37,
    "start_time": "2023-11-30T19:59:37.613Z"
   },
   {
    "duration": 13,
    "start_time": "2023-11-30T19:59:37.652Z"
   },
   {
    "duration": 30,
    "start_time": "2023-11-30T19:59:37.666Z"
   },
   {
    "duration": 127,
    "start_time": "2023-11-30T19:59:37.698Z"
   },
   {
    "duration": 517,
    "start_time": "2023-11-30T19:59:37.826Z"
   },
   {
    "duration": 176,
    "start_time": "2023-11-30T19:59:38.344Z"
   },
   {
    "duration": 322,
    "start_time": "2023-11-30T19:59:38.521Z"
   },
   {
    "duration": 186,
    "start_time": "2023-11-30T19:59:38.844Z"
   },
   {
    "duration": 333,
    "start_time": "2023-11-30T19:59:39.032Z"
   },
   {
    "duration": 112,
    "start_time": "2023-11-30T19:59:39.366Z"
   },
   {
    "duration": 4,
    "start_time": "2023-11-30T19:59:39.480Z"
   },
   {
    "duration": 146,
    "start_time": "2023-11-30T19:59:39.486Z"
   },
   {
    "duration": 4,
    "start_time": "2023-11-30T19:59:39.635Z"
   },
   {
    "duration": 195,
    "start_time": "2023-11-30T19:59:39.641Z"
   },
   {
    "duration": 10,
    "start_time": "2023-11-30T19:59:39.838Z"
   },
   {
    "duration": 48,
    "start_time": "2023-11-30T19:59:39.849Z"
   },
   {
    "duration": 7,
    "start_time": "2023-11-30T19:59:56.451Z"
   },
   {
    "duration": 1818,
    "start_time": "2023-11-30T20:03:43.680Z"
   },
   {
    "duration": 1712,
    "start_time": "2023-11-30T20:04:54.631Z"
   },
   {
    "duration": 1670,
    "start_time": "2023-11-30T20:05:05.712Z"
   },
   {
    "duration": 139,
    "start_time": "2023-11-30T20:05:25.462Z"
   },
   {
    "duration": 1772,
    "start_time": "2023-11-30T20:05:59.244Z"
   },
   {
    "duration": 179,
    "start_time": "2023-11-30T20:06:15.392Z"
   },
   {
    "duration": 144,
    "start_time": "2023-11-30T20:06:43.092Z"
   },
   {
    "duration": 1502,
    "start_time": "2023-11-30T20:06:52.612Z"
   },
   {
    "duration": 10,
    "start_time": "2023-11-30T20:08:20.872Z"
   },
   {
    "duration": 10,
    "start_time": "2023-11-30T20:08:42.952Z"
   },
   {
    "duration": 8,
    "start_time": "2023-11-30T20:09:14.512Z"
   },
   {
    "duration": 12,
    "start_time": "2023-11-30T20:09:22.511Z"
   },
   {
    "duration": 11,
    "start_time": "2023-11-30T20:09:31.092Z"
   },
   {
    "duration": 8,
    "start_time": "2023-11-30T20:09:49.107Z"
   },
   {
    "duration": 7,
    "start_time": "2023-11-30T20:09:55.439Z"
   },
   {
    "duration": 29,
    "start_time": "2023-11-30T20:10:18.992Z"
   },
   {
    "duration": 11,
    "start_time": "2023-11-30T20:11:17.992Z"
   },
   {
    "duration": 10,
    "start_time": "2023-11-30T20:11:23.071Z"
   },
   {
    "duration": 7,
    "start_time": "2023-11-30T20:11:29.311Z"
   },
   {
    "duration": 1434,
    "start_time": "2023-12-01T11:28:35.753Z"
   },
   {
    "duration": 94,
    "start_time": "2023-12-01T11:28:37.189Z"
   },
   {
    "duration": 15,
    "start_time": "2023-12-01T11:28:37.286Z"
   },
   {
    "duration": 21,
    "start_time": "2023-12-01T11:28:37.303Z"
   },
   {
    "duration": 199,
    "start_time": "2023-12-01T11:28:37.327Z"
   },
   {
    "duration": 661,
    "start_time": "2023-12-01T11:28:37.528Z"
   },
   {
    "duration": 204,
    "start_time": "2023-12-01T11:28:38.191Z"
   },
   {
    "duration": 322,
    "start_time": "2023-12-01T11:28:38.397Z"
   },
   {
    "duration": 224,
    "start_time": "2023-12-01T11:28:38.721Z"
   },
   {
    "duration": 353,
    "start_time": "2023-12-01T11:28:38.947Z"
   },
   {
    "duration": 133,
    "start_time": "2023-12-01T11:28:39.302Z"
   },
   {
    "duration": 5,
    "start_time": "2023-12-01T11:28:39.436Z"
   },
   {
    "duration": 165,
    "start_time": "2023-12-01T11:28:39.442Z"
   },
   {
    "duration": 5,
    "start_time": "2023-12-01T11:28:39.609Z"
   },
   {
    "duration": 291,
    "start_time": "2023-12-01T11:28:39.615Z"
   },
   {
    "duration": 10,
    "start_time": "2023-12-01T11:28:39.908Z"
   },
   {
    "duration": 9,
    "start_time": "2023-12-01T11:28:39.920Z"
   },
   {
    "duration": 61,
    "start_time": "2023-12-01T11:28:39.930Z"
   },
   {
    "duration": 82,
    "start_time": "2023-12-01T11:32:43.643Z"
   },
   {
    "duration": 267,
    "start_time": "2023-12-01T11:33:35.969Z"
   },
   {
    "duration": 181,
    "start_time": "2023-12-01T11:34:00.767Z"
   },
   {
    "duration": 183,
    "start_time": "2023-12-01T11:34:13.133Z"
   },
   {
    "duration": 181,
    "start_time": "2023-12-01T11:34:20.711Z"
   },
   {
    "duration": 191,
    "start_time": "2023-12-01T11:35:05.950Z"
   },
   {
    "duration": 1366,
    "start_time": "2023-12-01T11:44:31.511Z"
   },
   {
    "duration": 1302,
    "start_time": "2023-12-01T11:44:49.833Z"
   },
   {
    "duration": 88,
    "start_time": "2023-12-01T11:44:57.014Z"
   },
   {
    "duration": 1771,
    "start_time": "2023-12-01T11:45:02.153Z"
   },
   {
    "duration": 12,
    "start_time": "2023-12-01T11:45:16.195Z"
   },
   {
    "duration": 1302,
    "start_time": "2023-12-01T11:47:29.666Z"
   },
   {
    "duration": 1296,
    "start_time": "2023-12-01T11:47:47.352Z"
   },
   {
    "duration": 18,
    "start_time": "2023-12-01T11:48:36.372Z"
   },
   {
    "duration": 19,
    "start_time": "2023-12-01T11:49:04.030Z"
   },
   {
    "duration": 11,
    "start_time": "2023-12-01T11:49:58.111Z"
   },
   {
    "duration": 21,
    "start_time": "2023-12-01T11:51:58.752Z"
   },
   {
    "duration": 159,
    "start_time": "2023-12-01T11:58:52.486Z"
   },
   {
    "duration": 31,
    "start_time": "2023-12-01T11:59:04.620Z"
   },
   {
    "duration": 94,
    "start_time": "2023-12-01T12:00:21.112Z"
   },
   {
    "duration": 12,
    "start_time": "2023-12-01T12:00:56.992Z"
   },
   {
    "duration": 12,
    "start_time": "2023-12-01T12:01:10.812Z"
   },
   {
    "duration": 13,
    "start_time": "2023-12-01T12:01:17.232Z"
   },
   {
    "duration": 14,
    "start_time": "2023-12-01T12:01:36.033Z"
   },
   {
    "duration": 10,
    "start_time": "2023-12-01T12:01:42.292Z"
   },
   {
    "duration": 10,
    "start_time": "2023-12-01T12:01:47.633Z"
   },
   {
    "duration": 10,
    "start_time": "2023-12-01T12:01:51.498Z"
   },
   {
    "duration": 10,
    "start_time": "2023-12-01T12:01:56.592Z"
   },
   {
    "duration": 11,
    "start_time": "2023-12-01T12:02:19.113Z"
   },
   {
    "duration": 174,
    "start_time": "2023-12-01T12:16:57.688Z"
   },
   {
    "duration": 180,
    "start_time": "2023-12-01T12:18:02.455Z"
   },
   {
    "duration": 174,
    "start_time": "2023-12-01T12:18:18.935Z"
   },
   {
    "duration": 184,
    "start_time": "2023-12-01T12:20:21.955Z"
   },
   {
    "duration": 203,
    "start_time": "2023-12-01T12:20:56.882Z"
   },
   {
    "duration": 107,
    "start_time": "2023-12-01T12:21:38.836Z"
   },
   {
    "duration": 102,
    "start_time": "2023-12-01T12:21:44.587Z"
   },
   {
    "duration": 100,
    "start_time": "2023-12-01T12:23:25.353Z"
   },
   {
    "duration": 99,
    "start_time": "2023-12-01T12:23:29.344Z"
   },
   {
    "duration": 182,
    "start_time": "2023-12-01T12:23:49.313Z"
   },
   {
    "duration": 182,
    "start_time": "2023-12-01T12:24:29.875Z"
   },
   {
    "duration": 173,
    "start_time": "2023-12-01T12:25:15.393Z"
   },
   {
    "duration": 168,
    "start_time": "2023-12-01T12:25:50.115Z"
   },
   {
    "duration": 192,
    "start_time": "2023-12-01T12:27:13.094Z"
   },
   {
    "duration": 175,
    "start_time": "2023-12-01T12:28:01.255Z"
   },
   {
    "duration": 175,
    "start_time": "2023-12-01T12:28:22.837Z"
   },
   {
    "duration": 162,
    "start_time": "2023-12-01T12:28:37.657Z"
   },
   {
    "duration": 165,
    "start_time": "2023-12-01T12:28:47.184Z"
   },
   {
    "duration": 176,
    "start_time": "2023-12-01T12:29:45.271Z"
   },
   {
    "duration": 10,
    "start_time": "2023-12-01T12:30:53.115Z"
   },
   {
    "duration": 174,
    "start_time": "2023-12-01T12:31:12.975Z"
   },
   {
    "duration": 186,
    "start_time": "2023-12-01T12:31:22.216Z"
   },
   {
    "duration": 175,
    "start_time": "2023-12-01T12:31:30.983Z"
   },
   {
    "duration": 176,
    "start_time": "2023-12-01T12:31:35.783Z"
   },
   {
    "duration": 468,
    "start_time": "2023-12-01T12:35:16.161Z"
   },
   {
    "duration": 464,
    "start_time": "2023-12-01T12:35:44.314Z"
   },
   {
    "duration": 182,
    "start_time": "2023-12-01T12:37:23.155Z"
   },
   {
    "duration": 168,
    "start_time": "2023-12-01T12:37:33.591Z"
   },
   {
    "duration": 175,
    "start_time": "2023-12-01T12:37:44.955Z"
   },
   {
    "duration": 11,
    "start_time": "2023-12-01T12:40:02.074Z"
   },
   {
    "duration": 14,
    "start_time": "2023-12-01T12:40:07.441Z"
   },
   {
    "duration": 11,
    "start_time": "2023-12-01T13:17:46.100Z"
   },
   {
    "duration": 19,
    "start_time": "2023-12-01T13:27:42.654Z"
   },
   {
    "duration": 7,
    "start_time": "2023-12-01T13:30:12.725Z"
   },
   {
    "duration": 35,
    "start_time": "2023-12-01T13:31:15.785Z"
   },
   {
    "duration": 31,
    "start_time": "2023-12-01T13:53:38.349Z"
   },
   {
    "duration": 8,
    "start_time": "2023-12-01T13:53:55.525Z"
   },
   {
    "duration": 32,
    "start_time": "2023-12-01T13:53:57.934Z"
   },
   {
    "duration": 1267,
    "start_time": "2023-12-01T13:56:21.453Z"
   },
   {
    "duration": 1288,
    "start_time": "2023-12-01T13:56:34.494Z"
   },
   {
    "duration": 14,
    "start_time": "2023-12-01T13:57:41.783Z"
   },
   {
    "duration": 14,
    "start_time": "2023-12-01T14:00:27.975Z"
   },
   {
    "duration": 11,
    "start_time": "2023-12-01T14:01:16.008Z"
   },
   {
    "duration": 13,
    "start_time": "2023-12-01T14:01:22.257Z"
   },
   {
    "duration": 12,
    "start_time": "2023-12-01T14:02:14.215Z"
   },
   {
    "duration": 12,
    "start_time": "2023-12-01T14:03:03.448Z"
   },
   {
    "duration": 9,
    "start_time": "2023-12-01T14:07:34.818Z"
   },
   {
    "duration": 32,
    "start_time": "2023-12-01T14:07:37.015Z"
   },
   {
    "duration": 12,
    "start_time": "2023-12-01T14:07:42.935Z"
   },
   {
    "duration": 8,
    "start_time": "2023-12-01T14:08:47.384Z"
   },
   {
    "duration": 21,
    "start_time": "2023-12-01T14:08:50.895Z"
   },
   {
    "duration": 8,
    "start_time": "2023-12-01T14:08:58.336Z"
   },
   {
    "duration": 8,
    "start_time": "2023-12-01T14:09:17.855Z"
   },
   {
    "duration": 11,
    "start_time": "2023-12-01T14:09:21.616Z"
   },
   {
    "duration": 9,
    "start_time": "2023-12-01T14:11:44.573Z"
   },
   {
    "duration": 42,
    "start_time": "2023-12-01T14:11:46.973Z"
   },
   {
    "duration": 12,
    "start_time": "2023-12-01T14:11:50.858Z"
   },
   {
    "duration": 29,
    "start_time": "2023-12-01T14:13:38.853Z"
   },
   {
    "duration": 31,
    "start_time": "2023-12-01T14:13:41.693Z"
   },
   {
    "duration": 14,
    "start_time": "2023-12-01T14:13:47.777Z"
   },
   {
    "duration": 14,
    "start_time": "2023-12-01T14:13:53.158Z"
   },
   {
    "duration": 12,
    "start_time": "2023-12-01T14:14:32.417Z"
   },
   {
    "duration": 16,
    "start_time": "2023-12-01T14:14:47.144Z"
   },
   {
    "duration": 158,
    "start_time": "2023-12-01T14:17:38.284Z"
   },
   {
    "duration": 1051,
    "start_time": "2023-12-01T14:17:49.464Z"
   },
   {
    "duration": 35,
    "start_time": "2023-12-01T14:17:50.517Z"
   },
   {
    "duration": 12,
    "start_time": "2023-12-01T14:17:50.554Z"
   },
   {
    "duration": 10,
    "start_time": "2023-12-01T14:17:50.568Z"
   },
   {
    "duration": 86,
    "start_time": "2023-12-01T14:17:50.579Z"
   },
   {
    "duration": 529,
    "start_time": "2023-12-01T14:17:50.666Z"
   },
   {
    "duration": 173,
    "start_time": "2023-12-01T14:17:51.197Z"
   },
   {
    "duration": 265,
    "start_time": "2023-12-01T14:17:51.372Z"
   },
   {
    "duration": 196,
    "start_time": "2023-12-01T14:17:51.638Z"
   },
   {
    "duration": 334,
    "start_time": "2023-12-01T14:17:51.837Z"
   },
   {
    "duration": 126,
    "start_time": "2023-12-01T14:17:52.173Z"
   },
   {
    "duration": 4,
    "start_time": "2023-12-01T14:17:52.300Z"
   },
   {
    "duration": 128,
    "start_time": "2023-12-01T14:17:52.306Z"
   },
   {
    "duration": 4,
    "start_time": "2023-12-01T14:17:52.436Z"
   },
   {
    "duration": 176,
    "start_time": "2023-12-01T14:17:52.442Z"
   },
   {
    "duration": 9,
    "start_time": "2023-12-01T14:17:52.620Z"
   },
   {
    "duration": 9,
    "start_time": "2023-12-01T14:17:52.631Z"
   },
   {
    "duration": 51,
    "start_time": "2023-12-01T14:17:52.641Z"
   },
   {
    "duration": 12,
    "start_time": "2023-12-01T14:17:52.693Z"
   },
   {
    "duration": 341,
    "start_time": "2023-12-01T14:20:57.432Z"
   },
   {
    "duration": 375,
    "start_time": "2023-12-01T14:21:26.831Z"
   },
   {
    "duration": 269,
    "start_time": "2023-12-01T14:23:28.271Z"
   },
   {
    "duration": 271,
    "start_time": "2023-12-01T14:23:50.992Z"
   },
   {
    "duration": 4,
    "start_time": "2023-12-01T14:25:10.651Z"
   },
   {
    "duration": 280,
    "start_time": "2023-12-01T14:25:33.431Z"
   },
   {
    "duration": 261,
    "start_time": "2023-12-01T14:26:23.899Z"
   },
   {
    "duration": 319,
    "start_time": "2023-12-01T14:26:53.859Z"
   },
   {
    "duration": 99,
    "start_time": "2023-12-01T14:46:50.498Z"
   },
   {
    "duration": 95,
    "start_time": "2023-12-01T15:16:13.475Z"
   },
   {
    "duration": 202,
    "start_time": "2023-12-01T15:18:05.373Z"
   },
   {
    "duration": 102,
    "start_time": "2023-12-01T15:18:12.055Z"
   },
   {
    "duration": 7,
    "start_time": "2023-12-01T15:24:10.873Z"
   },
   {
    "duration": 7,
    "start_time": "2023-12-01T15:28:04.173Z"
   },
   {
    "duration": 7,
    "start_time": "2023-12-01T15:28:16.630Z"
   },
   {
    "duration": 7,
    "start_time": "2023-12-01T15:28:26.692Z"
   },
   {
    "duration": 7,
    "start_time": "2023-12-01T15:29:03.292Z"
   },
   {
    "duration": 2115,
    "start_time": "2023-12-01T15:30:00.853Z"
   },
   {
    "duration": 11,
    "start_time": "2023-12-01T15:30:39.293Z"
   },
   {
    "duration": 15,
    "start_time": "2023-12-01T15:31:43.012Z"
   },
   {
    "duration": 14,
    "start_time": "2023-12-01T15:32:20.493Z"
   },
   {
    "duration": 15,
    "start_time": "2023-12-01T15:32:43.736Z"
   },
   {
    "duration": 15,
    "start_time": "2023-12-01T15:35:19.780Z"
   },
   {
    "duration": 14,
    "start_time": "2023-12-01T15:35:40.853Z"
   },
   {
    "duration": 17,
    "start_time": "2023-12-01T15:39:58.077Z"
   },
   {
    "duration": 20,
    "start_time": "2023-12-01T15:40:05.940Z"
   },
   {
    "duration": 11,
    "start_time": "2023-12-01T15:40:13.022Z"
   },
   {
    "duration": 15,
    "start_time": "2023-12-01T15:40:27.488Z"
   },
   {
    "duration": 21,
    "start_time": "2023-12-01T15:41:00.052Z"
   },
   {
    "duration": 19,
    "start_time": "2023-12-01T15:41:34.260Z"
   },
   {
    "duration": 18,
    "start_time": "2023-12-01T15:41:46.572Z"
   },
   {
    "duration": 20,
    "start_time": "2023-12-01T15:46:01.380Z"
   },
   {
    "duration": 19,
    "start_time": "2023-12-01T15:46:19.884Z"
   },
   {
    "duration": 18,
    "start_time": "2023-12-01T15:46:27.790Z"
   },
   {
    "duration": 11,
    "start_time": "2023-12-01T15:46:44.310Z"
   },
   {
    "duration": 18,
    "start_time": "2023-12-01T15:47:00.613Z"
   },
   {
    "duration": 18,
    "start_time": "2023-12-01T15:52:53.702Z"
   },
   {
    "duration": 10,
    "start_time": "2023-12-01T15:53:00.740Z"
   },
   {
    "duration": 19,
    "start_time": "2023-12-01T15:53:32.340Z"
   },
   {
    "duration": 14,
    "start_time": "2023-12-01T15:53:42.932Z"
   },
   {
    "duration": 10,
    "start_time": "2023-12-01T15:54:02.053Z"
   },
   {
    "duration": 15,
    "start_time": "2023-12-01T15:54:37.495Z"
   },
   {
    "duration": 16,
    "start_time": "2023-12-01T15:55:23.451Z"
   },
   {
    "duration": 12,
    "start_time": "2023-12-01T15:55:38.812Z"
   },
   {
    "duration": 13,
    "start_time": "2023-12-01T15:56:10.052Z"
   },
   {
    "duration": 13,
    "start_time": "2023-12-01T15:56:27.824Z"
   },
   {
    "duration": 12,
    "start_time": "2023-12-01T15:56:35.292Z"
   },
   {
    "duration": 20,
    "start_time": "2023-12-01T15:57:52.960Z"
   },
   {
    "duration": 21,
    "start_time": "2023-12-01T15:58:47.038Z"
   },
   {
    "duration": 20,
    "start_time": "2023-12-01T15:58:56.839Z"
   },
   {
    "duration": 17,
    "start_time": "2023-12-01T15:59:42.878Z"
   },
   {
    "duration": 13,
    "start_time": "2023-12-01T16:00:03.838Z"
   },
   {
    "duration": 12,
    "start_time": "2023-12-01T16:00:38.959Z"
   },
   {
    "duration": 13,
    "start_time": "2023-12-01T16:00:44.848Z"
   },
   {
    "duration": 12,
    "start_time": "2023-12-01T16:04:39.289Z"
   },
   {
    "duration": 1332,
    "start_time": "2023-12-01T16:05:54.126Z"
   },
   {
    "duration": 14,
    "start_time": "2023-12-01T16:06:08.846Z"
   },
   {
    "duration": 11,
    "start_time": "2023-12-01T16:06:24.359Z"
   },
   {
    "duration": 14,
    "start_time": "2023-12-01T16:07:01.505Z"
   },
   {
    "duration": 37,
    "start_time": "2023-12-01T16:07:07.798Z"
   },
   {
    "duration": 19,
    "start_time": "2023-12-01T16:09:19.639Z"
   },
   {
    "duration": 18,
    "start_time": "2023-12-01T16:09:38.398Z"
   },
   {
    "duration": 18,
    "start_time": "2023-12-01T16:09:53.598Z"
   },
   {
    "duration": 19,
    "start_time": "2023-12-01T16:12:31.838Z"
   },
   {
    "duration": 19,
    "start_time": "2023-12-01T16:13:16.126Z"
   },
   {
    "duration": 19,
    "start_time": "2023-12-01T16:14:36.846Z"
   },
   {
    "duration": 15,
    "start_time": "2023-12-01T16:15:11.526Z"
   },
   {
    "duration": 14,
    "start_time": "2023-12-01T16:15:25.279Z"
   },
   {
    "duration": 15,
    "start_time": "2023-12-01T16:15:35.646Z"
   },
   {
    "duration": 6,
    "start_time": "2023-12-01T16:16:21.326Z"
   },
   {
    "duration": 22,
    "start_time": "2023-12-01T16:16:27.486Z"
   },
   {
    "duration": 20,
    "start_time": "2023-12-01T16:17:23.479Z"
   },
   {
    "duration": 15,
    "start_time": "2023-12-01T16:17:29.366Z"
   },
   {
    "duration": 18,
    "start_time": "2023-12-01T16:17:36.407Z"
   },
   {
    "duration": 18,
    "start_time": "2023-12-01T16:18:48.377Z"
   },
   {
    "duration": 21,
    "start_time": "2023-12-01T16:20:48.606Z"
   },
   {
    "duration": 22,
    "start_time": "2023-12-01T16:20:57.958Z"
   },
   {
    "duration": 19,
    "start_time": "2023-12-01T16:21:04.158Z"
   },
   {
    "duration": 19,
    "start_time": "2023-12-01T16:22:10.326Z"
   },
   {
    "duration": 1156,
    "start_time": "2023-12-01T16:22:30.960Z"
   },
   {
    "duration": 37,
    "start_time": "2023-12-01T16:22:32.118Z"
   },
   {
    "duration": 14,
    "start_time": "2023-12-01T16:22:32.157Z"
   },
   {
    "duration": 23,
    "start_time": "2023-12-01T16:22:32.173Z"
   },
   {
    "duration": 144,
    "start_time": "2023-12-01T16:22:32.198Z"
   },
   {
    "duration": 19,
    "start_time": "2023-12-01T16:22:32.344Z"
   },
   {
    "duration": 559,
    "start_time": "2023-12-01T16:22:32.365Z"
   },
   {
    "duration": 178,
    "start_time": "2023-12-01T16:22:32.925Z"
   },
   {
    "duration": 292,
    "start_time": "2023-12-01T16:22:33.104Z"
   },
   {
    "duration": 191,
    "start_time": "2023-12-01T16:22:33.397Z"
   },
   {
    "duration": 284,
    "start_time": "2023-12-01T16:22:33.590Z"
   },
   {
    "duration": 118,
    "start_time": "2023-12-01T16:22:33.875Z"
   },
   {
    "duration": 4,
    "start_time": "2023-12-01T16:22:33.995Z"
   },
   {
    "duration": 136,
    "start_time": "2023-12-01T16:22:34.001Z"
   },
   {
    "duration": 5,
    "start_time": "2023-12-01T16:22:34.138Z"
   },
   {
    "duration": 182,
    "start_time": "2023-12-01T16:22:34.144Z"
   },
   {
    "duration": 10,
    "start_time": "2023-12-01T16:22:34.327Z"
   },
   {
    "duration": 24,
    "start_time": "2023-12-01T16:22:34.339Z"
   },
   {
    "duration": 68,
    "start_time": "2023-12-01T16:22:34.365Z"
   },
   {
    "duration": 12,
    "start_time": "2023-12-01T16:22:34.434Z"
   },
   {
    "duration": 20,
    "start_time": "2023-12-01T16:22:53.404Z"
   },
   {
    "duration": 20,
    "start_time": "2023-12-01T16:23:13.696Z"
   },
   {
    "duration": 21,
    "start_time": "2023-12-01T16:23:25.000Z"
   },
   {
    "duration": 1023,
    "start_time": "2023-12-01T16:24:10.387Z"
   },
   {
    "duration": 877,
    "start_time": "2023-12-01T16:24:21.881Z"
   },
   {
    "duration": 18,
    "start_time": "2023-12-01T16:24:28.289Z"
   },
   {
    "duration": 19,
    "start_time": "2023-12-01T16:24:46.672Z"
   },
   {
    "duration": 22,
    "start_time": "2023-12-01T16:25:03.760Z"
   },
   {
    "duration": 19,
    "start_time": "2023-12-01T16:25:10.984Z"
   },
   {
    "duration": 17,
    "start_time": "2023-12-01T16:25:40.641Z"
   },
   {
    "duration": 17,
    "start_time": "2023-12-01T16:25:53.320Z"
   },
   {
    "duration": 15,
    "start_time": "2023-12-01T16:26:09.881Z"
   },
   {
    "duration": 15,
    "start_time": "2023-12-01T16:26:29.281Z"
   },
   {
    "duration": 95,
    "start_time": "2023-12-01T16:27:04.960Z"
   },
   {
    "duration": 13,
    "start_time": "2023-12-01T16:27:14.593Z"
   },
   {
    "duration": 19,
    "start_time": "2023-12-01T16:27:48.458Z"
   },
   {
    "duration": 15,
    "start_time": "2023-12-01T16:28:14.711Z"
   },
   {
    "duration": 23,
    "start_time": "2023-12-01T16:28:25.579Z"
   },
   {
    "duration": 15,
    "start_time": "2023-12-01T16:28:37.098Z"
   },
   {
    "duration": 13,
    "start_time": "2023-12-01T16:28:48.119Z"
   },
   {
    "duration": 9,
    "start_time": "2023-12-01T16:29:09.199Z"
   },
   {
    "duration": 31,
    "start_time": "2023-12-01T16:29:19.247Z"
   },
   {
    "duration": 13,
    "start_time": "2023-12-01T16:29:23.698Z"
   },
   {
    "duration": 518,
    "start_time": "2023-12-01T16:34:10.207Z"
   },
   {
    "duration": 450,
    "start_time": "2023-12-01T16:34:18.079Z"
   },
   {
    "duration": 462,
    "start_time": "2023-12-01T16:35:22.299Z"
   },
   {
    "duration": 501,
    "start_time": "2023-12-01T16:35:29.848Z"
   },
   {
    "duration": 525,
    "start_time": "2023-12-01T16:35:40.749Z"
   },
   {
    "duration": 476,
    "start_time": "2023-12-01T16:35:55.599Z"
   },
   {
    "duration": 483,
    "start_time": "2023-12-01T16:36:02.880Z"
   },
   {
    "duration": 502,
    "start_time": "2023-12-01T16:36:11.987Z"
   },
   {
    "duration": 473,
    "start_time": "2023-12-01T16:36:19.510Z"
   },
   {
    "duration": 202,
    "start_time": "2023-12-01T16:36:40.778Z"
   },
   {
    "duration": 201,
    "start_time": "2023-12-01T16:37:15.507Z"
   },
   {
    "duration": 104,
    "start_time": "2023-12-01T17:06:48.787Z"
   },
   {
    "duration": 109,
    "start_time": "2023-12-01T17:07:28.396Z"
   },
   {
    "duration": 105,
    "start_time": "2023-12-01T17:07:38.325Z"
   },
   {
    "duration": 188,
    "start_time": "2023-12-01T17:07:58.997Z"
   },
   {
    "duration": 114,
    "start_time": "2023-12-01T17:08:12.156Z"
   },
   {
    "duration": 292,
    "start_time": "2023-12-01T17:10:16.916Z"
   },
   {
    "duration": 299,
    "start_time": "2023-12-01T17:10:31.636Z"
   },
   {
    "duration": 261,
    "start_time": "2023-12-01T17:10:45.004Z"
   },
   {
    "duration": 206,
    "start_time": "2023-12-01T17:11:31.557Z"
   },
   {
    "duration": 333,
    "start_time": "2023-12-01T17:14:08.956Z"
   },
   {
    "duration": 305,
    "start_time": "2023-12-01T17:14:17.556Z"
   },
   {
    "duration": 344,
    "start_time": "2023-12-01T17:14:34.164Z"
   },
   {
    "duration": 351,
    "start_time": "2023-12-01T17:15:14.437Z"
   },
   {
    "duration": 301,
    "start_time": "2023-12-01T17:15:20.997Z"
   },
   {
    "duration": 9,
    "start_time": "2023-12-01T17:28:29.236Z"
   },
   {
    "duration": 30,
    "start_time": "2023-12-01T17:28:30.957Z"
   },
   {
    "duration": 13,
    "start_time": "2023-12-01T17:48:15.859Z"
   },
   {
    "duration": 18,
    "start_time": "2023-12-01T17:48:19.887Z"
   },
   {
    "duration": 12,
    "start_time": "2023-12-01T17:48:50.049Z"
   },
   {
    "duration": 31,
    "start_time": "2023-12-01T17:49:37.548Z"
   },
   {
    "duration": 1151,
    "start_time": "2023-12-01T17:57:36.462Z"
   },
   {
    "duration": 36,
    "start_time": "2023-12-01T17:57:37.615Z"
   },
   {
    "duration": 12,
    "start_time": "2023-12-01T17:57:37.653Z"
   },
   {
    "duration": 10,
    "start_time": "2023-12-01T17:57:37.666Z"
   },
   {
    "duration": 117,
    "start_time": "2023-12-01T17:57:37.678Z"
   },
   {
    "duration": 12,
    "start_time": "2023-12-01T17:57:37.796Z"
   },
   {
    "duration": 556,
    "start_time": "2023-12-01T17:57:37.809Z"
   },
   {
    "duration": 200,
    "start_time": "2023-12-01T17:57:38.367Z"
   },
   {
    "duration": 303,
    "start_time": "2023-12-01T17:57:38.568Z"
   },
   {
    "duration": 226,
    "start_time": "2023-12-01T17:57:38.872Z"
   },
   {
    "duration": 316,
    "start_time": "2023-12-01T17:57:39.100Z"
   },
   {
    "duration": 114,
    "start_time": "2023-12-01T17:57:39.418Z"
   },
   {
    "duration": 4,
    "start_time": "2023-12-01T17:57:39.533Z"
   },
   {
    "duration": 129,
    "start_time": "2023-12-01T17:57:39.540Z"
   },
   {
    "duration": 4,
    "start_time": "2023-12-01T17:57:39.670Z"
   },
   {
    "duration": 239,
    "start_time": "2023-12-01T17:57:39.676Z"
   },
   {
    "duration": 11,
    "start_time": "2023-12-01T17:57:39.917Z"
   },
   {
    "duration": 30,
    "start_time": "2023-12-01T17:57:39.929Z"
   },
   {
    "duration": 32,
    "start_time": "2023-12-01T17:57:39.961Z"
   },
   {
    "duration": 12,
    "start_time": "2023-12-01T17:57:39.994Z"
   },
   {
    "duration": 52,
    "start_time": "2023-12-03T08:19:37.866Z"
   },
   {
    "duration": 1202,
    "start_time": "2023-12-03T08:19:44.819Z"
   },
   {
    "duration": 69,
    "start_time": "2023-12-03T08:19:46.023Z"
   },
   {
    "duration": 12,
    "start_time": "2023-12-03T08:19:46.094Z"
   },
   {
    "duration": 10,
    "start_time": "2023-12-03T08:19:46.107Z"
   },
   {
    "duration": 170,
    "start_time": "2023-12-03T08:19:46.120Z"
   },
   {
    "duration": 11,
    "start_time": "2023-12-03T08:19:46.292Z"
   },
   {
    "duration": 557,
    "start_time": "2023-12-03T08:19:46.304Z"
   },
   {
    "duration": 227,
    "start_time": "2023-12-03T08:19:46.862Z"
   },
   {
    "duration": 322,
    "start_time": "2023-12-03T08:19:47.090Z"
   },
   {
    "duration": 239,
    "start_time": "2023-12-03T08:19:47.413Z"
   },
   {
    "duration": 343,
    "start_time": "2023-12-03T08:19:47.654Z"
   },
   {
    "duration": 114,
    "start_time": "2023-12-03T08:19:47.999Z"
   },
   {
    "duration": 6,
    "start_time": "2023-12-03T08:19:48.114Z"
   },
   {
    "duration": 132,
    "start_time": "2023-12-03T08:19:48.122Z"
   },
   {
    "duration": 4,
    "start_time": "2023-12-03T08:19:48.258Z"
   },
   {
    "duration": 174,
    "start_time": "2023-12-03T08:19:48.263Z"
   },
   {
    "duration": 10,
    "start_time": "2023-12-03T08:19:48.438Z"
   },
   {
    "duration": 16,
    "start_time": "2023-12-03T08:19:48.449Z"
   },
   {
    "duration": 37,
    "start_time": "2023-12-03T08:19:48.466Z"
   },
   {
    "duration": 11,
    "start_time": "2023-12-03T08:19:48.504Z"
   },
   {
    "duration": 449,
    "start_time": "2023-12-03T08:23:15.186Z"
   },
   {
    "duration": 259,
    "start_time": "2023-12-03T08:24:18.428Z"
   },
   {
    "duration": 186,
    "start_time": "2023-12-03T08:25:42.777Z"
   },
   {
    "duration": 331,
    "start_time": "2023-12-03T08:29:12.537Z"
   },
   {
    "duration": 218,
    "start_time": "2023-12-03T08:30:20.290Z"
   },
   {
    "duration": 294,
    "start_time": "2023-12-03T08:30:37.177Z"
   },
   {
    "duration": 307,
    "start_time": "2023-12-03T08:30:45.657Z"
   },
   {
    "duration": 222,
    "start_time": "2023-12-03T08:32:15.217Z"
   },
   {
    "duration": 224,
    "start_time": "2023-12-03T08:32:20.537Z"
   },
   {
    "duration": 72,
    "start_time": "2023-12-03T08:34:19.218Z"
   },
   {
    "duration": 310,
    "start_time": "2023-12-03T08:34:24.617Z"
   },
   {
    "duration": 295,
    "start_time": "2023-12-03T08:34:31.098Z"
   },
   {
    "duration": 133,
    "start_time": "2023-12-03T08:56:25.175Z"
   },
   {
    "duration": 210,
    "start_time": "2023-12-03T08:56:37.602Z"
   },
   {
    "duration": 136,
    "start_time": "2023-12-03T08:57:58.948Z"
   },
   {
    "duration": 82,
    "start_time": "2023-12-03T08:58:27.639Z"
   },
   {
    "duration": 137,
    "start_time": "2023-12-03T08:58:31.963Z"
   },
   {
    "duration": 140,
    "start_time": "2023-12-03T09:00:30.678Z"
   },
   {
    "duration": 136,
    "start_time": "2023-12-03T09:00:35.516Z"
   },
   {
    "duration": 163,
    "start_time": "2023-12-03T09:00:58.436Z"
   },
   {
    "duration": 148,
    "start_time": "2023-12-03T09:01:17.131Z"
   },
   {
    "duration": 4,
    "start_time": "2023-12-03T09:01:42.867Z"
   },
   {
    "duration": 4,
    "start_time": "2023-12-03T09:02:03.188Z"
   },
   {
    "duration": 1126,
    "start_time": "2023-12-03T09:05:56.553Z"
   },
   {
    "duration": 36,
    "start_time": "2023-12-03T09:05:57.680Z"
   },
   {
    "duration": 12,
    "start_time": "2023-12-03T09:05:57.718Z"
   },
   {
    "duration": 13,
    "start_time": "2023-12-03T09:05:57.731Z"
   },
   {
    "duration": 92,
    "start_time": "2023-12-03T09:05:57.746Z"
   },
   {
    "duration": 11,
    "start_time": "2023-12-03T09:05:57.839Z"
   },
   {
    "duration": 534,
    "start_time": "2023-12-03T09:05:57.851Z"
   },
   {
    "duration": 194,
    "start_time": "2023-12-03T09:05:58.387Z"
   },
   {
    "duration": 297,
    "start_time": "2023-12-03T09:05:58.582Z"
   },
   {
    "duration": 220,
    "start_time": "2023-12-03T09:05:58.880Z"
   },
   {
    "duration": 286,
    "start_time": "2023-12-03T09:05:59.102Z"
   },
   {
    "duration": 142,
    "start_time": "2023-12-03T09:05:59.389Z"
   },
   {
    "duration": 4,
    "start_time": "2023-12-03T09:05:59.532Z"
   },
   {
    "duration": 165,
    "start_time": "2023-12-03T09:05:59.539Z"
   },
   {
    "duration": 5,
    "start_time": "2023-12-03T09:05:59.705Z"
   },
   {
    "duration": 180,
    "start_time": "2023-12-03T09:05:59.711Z"
   },
   {
    "duration": 16,
    "start_time": "2023-12-03T09:05:59.893Z"
   },
   {
    "duration": 9,
    "start_time": "2023-12-03T09:05:59.910Z"
   },
   {
    "duration": 49,
    "start_time": "2023-12-03T09:05:59.921Z"
   },
   {
    "duration": 11,
    "start_time": "2023-12-03T09:05:59.971Z"
   },
   {
    "duration": 1116,
    "start_time": "2023-12-03T09:28:50.498Z"
   },
   {
    "duration": 36,
    "start_time": "2023-12-03T09:28:51.617Z"
   },
   {
    "duration": 13,
    "start_time": "2023-12-03T09:28:51.654Z"
   },
   {
    "duration": 10,
    "start_time": "2023-12-03T09:28:51.669Z"
   },
   {
    "duration": 94,
    "start_time": "2023-12-03T09:28:51.682Z"
   },
   {
    "duration": 13,
    "start_time": "2023-12-03T09:28:51.778Z"
   },
   {
    "duration": 594,
    "start_time": "2023-12-03T09:28:51.793Z"
   },
   {
    "duration": 212,
    "start_time": "2023-12-03T09:28:52.388Z"
   },
   {
    "duration": 305,
    "start_time": "2023-12-03T09:28:52.602Z"
   },
   {
    "duration": 229,
    "start_time": "2023-12-03T09:28:52.909Z"
   },
   {
    "duration": 352,
    "start_time": "2023-12-03T09:28:53.140Z"
   },
   {
    "duration": 146,
    "start_time": "2023-12-03T09:28:53.494Z"
   },
   {
    "duration": 5,
    "start_time": "2023-12-03T09:28:53.641Z"
   },
   {
    "duration": 170,
    "start_time": "2023-12-03T09:28:53.648Z"
   },
   {
    "duration": 3,
    "start_time": "2023-12-03T09:28:53.820Z"
   },
   {
    "duration": 186,
    "start_time": "2023-12-03T09:28:53.825Z"
   },
   {
    "duration": 11,
    "start_time": "2023-12-03T09:28:54.013Z"
   },
   {
    "duration": 11,
    "start_time": "2023-12-03T09:28:54.026Z"
   },
   {
    "duration": 68,
    "start_time": "2023-12-03T09:28:54.039Z"
   },
   {
    "duration": 14,
    "start_time": "2023-12-03T09:28:54.109Z"
   },
   {
    "duration": 146,
    "start_time": "2023-12-03T09:29:36.974Z"
   },
   {
    "duration": 2,
    "start_time": "2023-12-03T09:29:48.039Z"
   },
   {
    "duration": 31,
    "start_time": "2023-12-03T09:29:48.048Z"
   },
   {
    "duration": 12,
    "start_time": "2023-12-03T09:29:48.081Z"
   },
   {
    "duration": 12,
    "start_time": "2023-12-03T09:29:48.095Z"
   },
   {
    "duration": 91,
    "start_time": "2023-12-03T09:29:48.108Z"
   },
   {
    "duration": 12,
    "start_time": "2023-12-03T09:29:48.201Z"
   },
   {
    "duration": 577,
    "start_time": "2023-12-03T09:29:48.215Z"
   },
   {
    "duration": 206,
    "start_time": "2023-12-03T09:29:48.794Z"
   },
   {
    "duration": 295,
    "start_time": "2023-12-03T09:29:49.002Z"
   },
   {
    "duration": 222,
    "start_time": "2023-12-03T09:29:49.299Z"
   },
   {
    "duration": 340,
    "start_time": "2023-12-03T09:29:49.522Z"
   },
   {
    "duration": 146,
    "start_time": "2023-12-03T09:29:49.864Z"
   },
   {
    "duration": 4,
    "start_time": "2023-12-03T09:29:50.012Z"
   },
   {
    "duration": 178,
    "start_time": "2023-12-03T09:29:50.018Z"
   },
   {
    "duration": 4,
    "start_time": "2023-12-03T09:29:50.198Z"
   },
   {
    "duration": 171,
    "start_time": "2023-12-03T09:29:50.203Z"
   },
   {
    "duration": 11,
    "start_time": "2023-12-03T09:29:50.375Z"
   },
   {
    "duration": 8,
    "start_time": "2023-12-03T09:29:50.388Z"
   },
   {
    "duration": 35,
    "start_time": "2023-12-03T09:29:50.397Z"
   },
   {
    "duration": 32,
    "start_time": "2023-12-03T09:29:50.434Z"
   },
   {
    "duration": 1056,
    "start_time": "2023-12-03T09:30:14.953Z"
   },
   {
    "duration": 35,
    "start_time": "2023-12-03T09:30:16.011Z"
   },
   {
    "duration": 13,
    "start_time": "2023-12-03T09:30:16.048Z"
   },
   {
    "duration": 10,
    "start_time": "2023-12-03T09:30:16.062Z"
   },
   {
    "duration": 95,
    "start_time": "2023-12-03T09:30:16.074Z"
   },
   {
    "duration": 12,
    "start_time": "2023-12-03T09:30:16.170Z"
   },
   {
    "duration": 565,
    "start_time": "2023-12-03T09:30:16.183Z"
   },
   {
    "duration": 205,
    "start_time": "2023-12-03T09:30:16.749Z"
   },
   {
    "duration": 309,
    "start_time": "2023-12-03T09:30:16.957Z"
   },
   {
    "duration": 228,
    "start_time": "2023-12-03T09:30:17.269Z"
   },
   {
    "duration": 308,
    "start_time": "2023-12-03T09:30:17.499Z"
   },
   {
    "duration": 145,
    "start_time": "2023-12-03T09:30:17.808Z"
   },
   {
    "duration": 3,
    "start_time": "2023-12-03T09:30:17.958Z"
   },
   {
    "duration": 155,
    "start_time": "2023-12-03T09:30:17.963Z"
   },
   {
    "duration": 4,
    "start_time": "2023-12-03T09:30:18.120Z"
   },
   {
    "duration": 188,
    "start_time": "2023-12-03T09:30:18.126Z"
   },
   {
    "duration": 9,
    "start_time": "2023-12-03T09:30:18.316Z"
   },
   {
    "duration": 17,
    "start_time": "2023-12-03T09:30:18.326Z"
   },
   {
    "duration": 33,
    "start_time": "2023-12-03T09:30:18.345Z"
   },
   {
    "duration": 11,
    "start_time": "2023-12-03T09:30:18.380Z"
   },
   {
    "duration": 1121,
    "start_time": "2023-12-04T02:36:00.673Z"
   },
   {
    "duration": 69,
    "start_time": "2023-12-04T02:36:01.796Z"
   },
   {
    "duration": 11,
    "start_time": "2023-12-04T02:36:01.866Z"
   },
   {
    "duration": 17,
    "start_time": "2023-12-04T02:36:01.878Z"
   },
   {
    "duration": 176,
    "start_time": "2023-12-04T02:36:01.898Z"
   },
   {
    "duration": 10,
    "start_time": "2023-12-04T02:36:02.076Z"
   },
   {
    "duration": 491,
    "start_time": "2023-12-04T02:36:02.087Z"
   },
   {
    "duration": 172,
    "start_time": "2023-12-04T02:36:02.579Z"
   },
   {
    "duration": 290,
    "start_time": "2023-12-04T02:36:02.753Z"
   },
   {
    "duration": 194,
    "start_time": "2023-12-04T02:36:03.044Z"
   },
   {
    "duration": 280,
    "start_time": "2023-12-04T02:36:03.239Z"
   },
   {
    "duration": 122,
    "start_time": "2023-12-04T02:36:03.520Z"
   },
   {
    "duration": 4,
    "start_time": "2023-12-04T02:36:03.643Z"
   },
   {
    "duration": 137,
    "start_time": "2023-12-04T02:36:03.649Z"
   },
   {
    "duration": 3,
    "start_time": "2023-12-04T02:36:03.787Z"
   },
   {
    "duration": 145,
    "start_time": "2023-12-04T02:36:03.791Z"
   },
   {
    "duration": 7,
    "start_time": "2023-12-04T02:36:03.938Z"
   },
   {
    "duration": 7,
    "start_time": "2023-12-04T02:36:03.946Z"
   },
   {
    "duration": 23,
    "start_time": "2023-12-04T02:36:03.954Z"
   },
   {
    "duration": 9,
    "start_time": "2023-12-04T02:36:03.978Z"
   },
   {
    "duration": 386,
    "start_time": "2023-12-04T02:36:42.793Z"
   },
   {
    "duration": 961,
    "start_time": "2023-12-04T02:40:59.953Z"
   },
   {
    "duration": 35,
    "start_time": "2023-12-04T02:41:00.916Z"
   },
   {
    "duration": 10,
    "start_time": "2023-12-04T02:41:00.952Z"
   },
   {
    "duration": 22,
    "start_time": "2023-12-04T02:41:00.964Z"
   },
   {
    "duration": 116,
    "start_time": "2023-12-04T02:41:00.988Z"
   },
   {
    "duration": 10,
    "start_time": "2023-12-04T02:41:01.106Z"
   },
   {
    "duration": 481,
    "start_time": "2023-12-04T02:41:01.117Z"
   },
   {
    "duration": 174,
    "start_time": "2023-12-04T02:41:01.600Z"
   },
   {
    "duration": 276,
    "start_time": "2023-12-04T02:41:01.775Z"
   },
   {
    "duration": 193,
    "start_time": "2023-12-04T02:41:02.052Z"
   },
   {
    "duration": 276,
    "start_time": "2023-12-04T02:41:02.246Z"
   },
   {
    "duration": 124,
    "start_time": "2023-12-04T02:41:02.523Z"
   },
   {
    "duration": 4,
    "start_time": "2023-12-04T02:41:02.648Z"
   },
   {
    "duration": 138,
    "start_time": "2023-12-04T02:41:02.654Z"
   },
   {
    "duration": 3,
    "start_time": "2023-12-04T02:41:02.794Z"
   },
   {
    "duration": 149,
    "start_time": "2023-12-04T02:41:02.798Z"
   },
   {
    "duration": 8,
    "start_time": "2023-12-04T02:41:02.948Z"
   },
   {
    "duration": 8,
    "start_time": "2023-12-04T02:41:02.957Z"
   },
   {
    "duration": 51,
    "start_time": "2023-12-04T02:41:02.966Z"
   },
   {
    "duration": 12,
    "start_time": "2023-12-04T02:41:03.018Z"
   },
   {
    "duration": 1476,
    "start_time": "2024-04-29T11:18:06.198Z"
   },
   {
    "duration": 96,
    "start_time": "2024-04-29T11:18:08.442Z"
   },
   {
    "duration": 14,
    "start_time": "2024-04-29T11:21:10.592Z"
   },
   {
    "duration": 12,
    "start_time": "2024-04-29T11:21:11.839Z"
   },
   {
    "duration": 196,
    "start_time": "2024-04-29T11:23:19.595Z"
   },
   {
    "duration": 1404,
    "start_time": "2024-04-30T15:51:37.109Z"
   },
   {
    "duration": 82,
    "start_time": "2024-04-30T15:51:38.515Z"
   },
   {
    "duration": 13,
    "start_time": "2024-04-30T15:51:38.599Z"
   },
   {
    "duration": 10,
    "start_time": "2024-04-30T15:51:38.614Z"
   },
   {
    "duration": 219,
    "start_time": "2024-04-30T15:51:38.625Z"
   },
   {
    "duration": 14,
    "start_time": "2024-04-30T15:51:38.846Z"
   },
   {
    "duration": 640,
    "start_time": "2024-04-30T15:51:38.862Z"
   },
   {
    "duration": 240,
    "start_time": "2024-04-30T15:51:39.504Z"
   },
   {
    "duration": 412,
    "start_time": "2024-04-30T15:51:39.746Z"
   },
   {
    "duration": 255,
    "start_time": "2024-04-30T15:51:40.162Z"
   },
   {
    "duration": 356,
    "start_time": "2024-04-30T15:51:40.418Z"
   },
   {
    "duration": 180,
    "start_time": "2024-04-30T15:51:40.777Z"
   },
   {
    "duration": 5,
    "start_time": "2024-04-30T15:51:40.958Z"
   },
   {
    "duration": 182,
    "start_time": "2024-04-30T15:51:40.965Z"
   },
   {
    "duration": 5,
    "start_time": "2024-04-30T15:51:41.150Z"
   },
   {
    "duration": 220,
    "start_time": "2024-04-30T15:51:41.157Z"
   },
   {
    "duration": 10,
    "start_time": "2024-04-30T15:51:41.379Z"
   },
   {
    "duration": 9,
    "start_time": "2024-04-30T15:51:41.391Z"
   },
   {
    "duration": 68,
    "start_time": "2024-04-30T15:51:41.402Z"
   },
   {
    "duration": 17,
    "start_time": "2024-04-30T15:51:41.472Z"
   }
  ],
  "kernelspec": {
   "display_name": "Python 3 (ipykernel)",
   "language": "python",
   "name": "python3"
  },
  "language_info": {
   "codemirror_mode": {
    "name": "ipython",
    "version": 3
   },
   "file_extension": ".py",
   "mimetype": "text/x-python",
   "name": "python",
   "nbconvert_exporter": "python",
   "pygments_lexer": "ipython3",
   "version": "3.9.5"
  },
  "toc": {
   "base_numbering": 1,
   "nav_menu": {},
   "number_sections": true,
   "sideBar": true,
   "skip_h1_title": true,
   "title_cell": "Table of Contents",
   "title_sidebar": "Contents",
   "toc_cell": false,
   "toc_position": {},
   "toc_section_display": true,
   "toc_window_display": false
  }
 },
 "nbformat": 4,
 "nbformat_minor": 2
}
