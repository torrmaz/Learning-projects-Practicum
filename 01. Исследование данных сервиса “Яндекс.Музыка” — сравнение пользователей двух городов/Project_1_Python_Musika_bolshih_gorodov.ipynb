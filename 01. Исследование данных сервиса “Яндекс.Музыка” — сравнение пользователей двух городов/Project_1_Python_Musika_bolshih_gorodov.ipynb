{
 "cells": [
  {
   "cell_type": "markdown",
   "metadata": {
    "deletable": false,
    "editable": false,
    "id": "E0vqbgi9ay0H"
   },
   "source": [
    "# Яндекс Музыка"
   ]
  },
  {
   "cell_type": "markdown",
   "metadata": {
    "deletable": false,
    "editable": false,
    "id": "VUC88oWjTJw2"
   },
   "source": [
    "Сравнение Москвы и Петербурга окружено мифами. Например:\n",
    " * Москва — мегаполис, подчинённый жёсткому ритму рабочей недели;\n",
    " * Петербург — культурная столица, со своими вкусами.\n",
    "\n",
    "На данных Яндекс Музыки вы сравните поведение пользователей двух столиц.\n",
    "\n",
    "**Цель исследования** — проверьте три гипотезы:\n",
    "1. Активность пользователей зависит от дня недели. Причём в Москве и Петербурге это проявляется по-разному.\n",
    "2. В понедельник утром в Москве преобладают одни жанры, а в Петербурге — другие. Так же и вечером пятницы преобладают разные жанры — в зависимости от города.\n",
    "3. Москва и Петербург предпочитают разные жанры музыки. В Москве чаще слушают поп-музыку, в Петербурге — русский рэп.\n",
    "\n",
    "**Ход исследования**\n",
    "\n",
    "Данные о поведении пользователей вы получите из файла `yandex_music_project.csv`. О качестве данных ничего не известно. Поэтому перед проверкой гипотез понадобится обзор данных.\n",
    "\n",
    "Вы проверите данные на ошибки и оцените их влияние на исследование. Затем, на этапе предобработки вы поищете возможность исправить самые критичные ошибки данных.\n",
    "\n",
    "Таким образом, исследование пройдёт в три этапа:\n",
    " 1. Обзор данных.\n",
    " 2. Предобработка данных.\n",
    " 3. Проверка гипотез.\n",
    "\n"
   ]
  },
  {
   "cell_type": "markdown",
   "metadata": {
    "deletable": false,
    "editable": false,
    "id": "Ml1hmfXC_Zcs"
   },
   "source": [
    "## Обзор данных\n",
    "\n",
    "Составьте первое представление о данных Яндекс Музыки.\n",
    "\n",
    "\n"
   ]
  },
  {
   "cell_type": "markdown",
   "metadata": {
    "deletable": false,
    "editable": false,
    "id": "57eAOGIz_Zcs",
    "tags": [
     "start_task"
    ]
   },
   "source": [
    "**Задание 1**\n",
    "\n",
    "Основной инструмент аналитика — `pandas`. Импортируйте эту библиотеку."
   ]
  },
  {
   "cell_type": "code",
   "execution_count": 1,
   "metadata": {
    "deletable": false,
    "id": "AXN7PHPN_Zcs"
   },
   "outputs": [],
   "source": [
    "import pandas as pd# импорт библиотеки pandas"
   ]
  },
  {
   "cell_type": "markdown",
   "metadata": {
    "deletable": false,
    "editable": false,
    "id": "SG23P8tt_Zcs",
    "tags": [
     "start_task"
    ]
   },
   "source": [
    "**Задание 2**\n",
    "\n",
    "Прочитайте файл `yandex_music_project.csv` из папки `/datasets` и сохраните его в переменной `df`:"
   ]
  },
  {
   "cell_type": "code",
   "execution_count": 40,
   "metadata": {
    "deletable": false,
    "id": "fFVu7vqh_Zct"
   },
   "outputs": [],
   "source": [
    "df=pd.read_csv('C:/Users/Владимир/Projects/yandex_music_project.csv')# чтение файла с данными и сохранение в df"
   ]
  },
  {
   "cell_type": "markdown",
   "metadata": {
    "deletable": false,
    "editable": false,
    "id": "rDoOMd3uTqnZ",
    "tags": [
     "start_task"
    ]
   },
   "source": [
    "**Задание 3**\n",
    "\n",
    "\n",
    "Выведите на экран первые десять строк таблицы:"
   ]
  },
  {
   "cell_type": "code",
   "execution_count": 41,
   "metadata": {
    "deletable": false,
    "id": "oWTVX3gW_Zct"
   },
   "outputs": [
    {
     "data": {
      "text/html": [
       "<div>\n",
       "<style scoped>\n",
       "    .dataframe tbody tr th:only-of-type {\n",
       "        vertical-align: middle;\n",
       "    }\n",
       "\n",
       "    .dataframe tbody tr th {\n",
       "        vertical-align: top;\n",
       "    }\n",
       "\n",
       "    .dataframe thead th {\n",
       "        text-align: right;\n",
       "    }\n",
       "</style>\n",
       "<table border=\"1\" class=\"dataframe\">\n",
       "  <thead>\n",
       "    <tr style=\"text-align: right;\">\n",
       "      <th></th>\n",
       "      <th>userID</th>\n",
       "      <th>Track</th>\n",
       "      <th>artist</th>\n",
       "      <th>genre</th>\n",
       "      <th>City</th>\n",
       "      <th>time</th>\n",
       "      <th>Day</th>\n",
       "    </tr>\n",
       "  </thead>\n",
       "  <tbody>\n",
       "    <tr>\n",
       "      <th>0</th>\n",
       "      <td>FFB692EC</td>\n",
       "      <td>Kamigata To Boots</td>\n",
       "      <td>The Mass Missile</td>\n",
       "      <td>rock</td>\n",
       "      <td>Saint-Petersburg</td>\n",
       "      <td>20:28:33</td>\n",
       "      <td>Wednesday</td>\n",
       "    </tr>\n",
       "    <tr>\n",
       "      <th>1</th>\n",
       "      <td>55204538</td>\n",
       "      <td>Delayed Because of Accident</td>\n",
       "      <td>Andreas Rönnberg</td>\n",
       "      <td>rock</td>\n",
       "      <td>Moscow</td>\n",
       "      <td>14:07:09</td>\n",
       "      <td>Friday</td>\n",
       "    </tr>\n",
       "    <tr>\n",
       "      <th>2</th>\n",
       "      <td>20EC38</td>\n",
       "      <td>Funiculì funiculà</td>\n",
       "      <td>Mario Lanza</td>\n",
       "      <td>pop</td>\n",
       "      <td>Saint-Petersburg</td>\n",
       "      <td>20:58:07</td>\n",
       "      <td>Wednesday</td>\n",
       "    </tr>\n",
       "    <tr>\n",
       "      <th>3</th>\n",
       "      <td>A3DD03C9</td>\n",
       "      <td>Dragons in the Sunset</td>\n",
       "      <td>Fire + Ice</td>\n",
       "      <td>folk</td>\n",
       "      <td>Saint-Petersburg</td>\n",
       "      <td>08:37:09</td>\n",
       "      <td>Monday</td>\n",
       "    </tr>\n",
       "    <tr>\n",
       "      <th>4</th>\n",
       "      <td>E2DC1FAE</td>\n",
       "      <td>Soul People</td>\n",
       "      <td>Space Echo</td>\n",
       "      <td>dance</td>\n",
       "      <td>Moscow</td>\n",
       "      <td>08:34:34</td>\n",
       "      <td>Monday</td>\n",
       "    </tr>\n",
       "    <tr>\n",
       "      <th>5</th>\n",
       "      <td>842029A1</td>\n",
       "      <td>Преданная</td>\n",
       "      <td>IMPERVTOR</td>\n",
       "      <td>rusrap</td>\n",
       "      <td>Saint-Petersburg</td>\n",
       "      <td>13:09:41</td>\n",
       "      <td>Friday</td>\n",
       "    </tr>\n",
       "    <tr>\n",
       "      <th>6</th>\n",
       "      <td>4CB90AA5</td>\n",
       "      <td>True</td>\n",
       "      <td>Roman Messer</td>\n",
       "      <td>dance</td>\n",
       "      <td>Moscow</td>\n",
       "      <td>13:00:07</td>\n",
       "      <td>Wednesday</td>\n",
       "    </tr>\n",
       "    <tr>\n",
       "      <th>7</th>\n",
       "      <td>F03E1C1F</td>\n",
       "      <td>Feeling This Way</td>\n",
       "      <td>Polina Griffith</td>\n",
       "      <td>dance</td>\n",
       "      <td>Moscow</td>\n",
       "      <td>20:47:49</td>\n",
       "      <td>Wednesday</td>\n",
       "    </tr>\n",
       "    <tr>\n",
       "      <th>8</th>\n",
       "      <td>8FA1D3BE</td>\n",
       "      <td>И вновь продолжается бой</td>\n",
       "      <td>NaN</td>\n",
       "      <td>ruspop</td>\n",
       "      <td>Moscow</td>\n",
       "      <td>09:17:40</td>\n",
       "      <td>Friday</td>\n",
       "    </tr>\n",
       "    <tr>\n",
       "      <th>9</th>\n",
       "      <td>E772D5C0</td>\n",
       "      <td>Pessimist</td>\n",
       "      <td>NaN</td>\n",
       "      <td>dance</td>\n",
       "      <td>Saint-Petersburg</td>\n",
       "      <td>21:20:49</td>\n",
       "      <td>Wednesday</td>\n",
       "    </tr>\n",
       "  </tbody>\n",
       "</table>\n",
       "</div>"
      ],
      "text/plain": [
       "     userID                        Track            artist   genre  \\\n",
       "0  FFB692EC            Kamigata To Boots  The Mass Missile    rock   \n",
       "1  55204538  Delayed Because of Accident  Andreas Rönnberg    rock   \n",
       "2    20EC38            Funiculì funiculà       Mario Lanza     pop   \n",
       "3  A3DD03C9        Dragons in the Sunset        Fire + Ice    folk   \n",
       "4  E2DC1FAE                  Soul People        Space Echo   dance   \n",
       "5  842029A1                    Преданная         IMPERVTOR  rusrap   \n",
       "6  4CB90AA5                         True      Roman Messer   dance   \n",
       "7  F03E1C1F             Feeling This Way   Polina Griffith   dance   \n",
       "8  8FA1D3BE     И вновь продолжается бой               NaN  ruspop   \n",
       "9  E772D5C0                    Pessimist               NaN   dance   \n",
       "\n",
       "             City        time        Day  \n",
       "0  Saint-Petersburg  20:28:33  Wednesday  \n",
       "1            Moscow  14:07:09     Friday  \n",
       "2  Saint-Petersburg  20:58:07  Wednesday  \n",
       "3  Saint-Petersburg  08:37:09     Monday  \n",
       "4            Moscow  08:34:34     Monday  \n",
       "5  Saint-Petersburg  13:09:41     Friday  \n",
       "6            Moscow  13:00:07  Wednesday  \n",
       "7            Moscow  20:47:49  Wednesday  \n",
       "8            Moscow  09:17:40     Friday  \n",
       "9  Saint-Petersburg  21:20:49  Wednesday  "
      ]
     },
     "execution_count": 41,
     "metadata": {},
     "output_type": "execute_result"
    }
   ],
   "source": [
    "df.head(10)# получение первых 10 строк таблицы df"
   ]
  },
  {
   "cell_type": "markdown",
   "metadata": {
    "deletable": false,
    "editable": false,
    "id": "EO73Kwic_Zct",
    "tags": [
     "start_task"
    ]
   },
   "source": [
    "**Задание 4**\n",
    "\n",
    "\n",
    "Одной командой получить общую информацию о таблице c помощью метода `info()`:"
   ]
  },
  {
   "cell_type": "code",
   "execution_count": 4,
   "metadata": {
    "deletable": false,
    "id": "DSf2kIb-_Zct"
   },
   "outputs": [
    {
     "name": "stdout",
     "output_type": "stream",
     "text": [
      "<class 'pandas.core.frame.DataFrame'>\n",
      "RangeIndex: 65079 entries, 0 to 65078\n",
      "Data columns (total 7 columns):\n",
      " #   Column    Non-Null Count  Dtype \n",
      "---  ------    --------------  ----- \n",
      " 0     userID  65079 non-null  object\n",
      " 1   Track     63848 non-null  object\n",
      " 2   artist    57876 non-null  object\n",
      " 3   genre     63881 non-null  object\n",
      " 4     City    65079 non-null  object\n",
      " 5   time      65079 non-null  object\n",
      " 6   Day       65079 non-null  object\n",
      "dtypes: object(7)\n",
      "memory usage: 3.5+ MB\n"
     ]
    }
   ],
   "source": [
    "df.info()# получение общей информации о данных в таблице df"
   ]
  },
  {
   "cell_type": "markdown",
   "metadata": {
    "deletable": false,
    "editable": false,
    "id": "TaQ2Iwbr_Zct"
   },
   "source": [
    "Итак, в таблице семь столбцов. Тип данных во всех столбцах — `object`.\n",
    "\n",
    "Согласно документации к данным:\n",
    "* `userID` — идентификатор пользователя;\n",
    "* `Track` — название трека;  \n",
    "* `artist` — имя исполнителя;\n",
    "* `genre` — название жанра;\n",
    "* `City` — город пользователя;\n",
    "* `time` — время начала прослушивания;\n",
    "* `Day` — день недели.\n",
    "\n",
    "Количество значений в столбцах различается. Значит, в данных есть пропущенные значения."
   ]
  },
  {
   "cell_type": "markdown",
   "metadata": {
    "deletable": false,
    "editable": false,
    "id": "4P0UCWzswgEm",
    "tags": [
     "start_task"
    ]
   },
   "source": [
    "**Задание 5**\n",
    "\n",
    "**Вопрос со свободной формой ответа**\n",
    "\n",
    "В названиях колонок видны три нарушения стиля:\n",
    "1. Строчные буквы сочетаются с прописными.\n",
    "2. Встречаются пробелы."
   ]
  },
  {
   "cell_type": "code",
   "execution_count": 5,
   "metadata": {
    "id": "c137-ZstwgEm"
   },
   "outputs": [],
   "source": [
    "# в колонке \"идентификатор пользователя\" желательно использовать зметный регистр user_id"
   ]
  },
  {
   "cell_type": "markdown",
   "metadata": {
    "deletable": false,
    "editable": false,
    "id": "MCB6-dXG_Zct"
   },
   "source": [
    "**Выводы**\n",
    "\n",
    "В каждой строке таблицы — данные о прослушанном треке. Часть колонок описывает саму композицию: название, исполнителя и жанр. Остальные данные рассказывают о пользователе: из какого он города, когда он слушал музыку.\n",
    "\n",
    "Предварительно можно утверждать, что данных достаточно для проверки гипотез. Но встречаются пропуски в данных, а в названиях колонок — расхождения с хорошим стилем.\n",
    "\n",
    "Чтобы двигаться дальше, нужно устранить проблемы в данных."
   ]
  },
  {
   "cell_type": "markdown",
   "metadata": {
    "deletable": false,
    "editable": false,
    "id": "SjYF6Ub9_Zct"
   },
   "source": [
    "## Предобработка данных\n",
    "Исправьте стиль в заголовках столбцов, исключите пропуски. Затем проверьте данные на дубликаты."
   ]
  },
  {
   "cell_type": "markdown",
   "metadata": {
    "deletable": false,
    "editable": false,
    "id": "dIaKXr29_Zct",
    "tags": [
     "start_task"
    ]
   },
   "source": [
    "### Стиль заголовков\n",
    "\n",
    "**Задание 6**\n",
    "\n",
    "Выведите на экран названия столбцов:"
   ]
  },
  {
   "cell_type": "code",
   "execution_count": 6,
   "metadata": {
    "deletable": false,
    "id": "oKOTdF_Q_Zct"
   },
   "outputs": [
    {
     "data": {
      "text/plain": [
       "Index(['  userID', 'Track', 'artist', 'genre', '  City  ', 'time', 'Day'], dtype='object')"
      ]
     },
     "execution_count": 6,
     "metadata": {},
     "output_type": "execute_result"
    }
   ],
   "source": [
    "df.columns# перечень названий столбцов таблицы df"
   ]
  },
  {
   "cell_type": "markdown",
   "metadata": {
    "deletable": false,
    "editable": false,
    "id": "zj5534cv_Zct",
    "tags": [
     "start_task"
    ]
   },
   "source": [
    "**Задание 7**\n",
    "\n",
    "\n",
    "Приведите названия в соответствие с хорошим стилем:\n",
    "* несколько слов в названии запишите в «змеином_регистре»,\n",
    "* все символы сделайте строчными,\n",
    "* устраните пробелы.\n",
    "\n",
    "Для этого переименуйте колонки так:\n",
    "* `'  userID'` → `'user_id'`;\n",
    "* `'Track'` → `'track'`;\n",
    "* `'  City  '` → `'city'`;\n",
    "* `'Day'` → `'day'`."
   ]
  },
  {
   "cell_type": "code",
   "execution_count": 7,
   "metadata": {
    "deletable": false,
    "id": "ISlFqs5y_Zct"
   },
   "outputs": [],
   "source": [
    "df=df.rename(columns={'  userID':'user_id','Track':'track','  City  ':'city','Day':'day'})# переименование столбцов"
   ]
  },
  {
   "cell_type": "markdown",
   "metadata": {
    "deletable": false,
    "editable": false,
    "id": "1dqbh00J_Zct",
    "tags": [
     "start_task"
    ]
   },
   "source": [
    "**Задание 8**\n",
    "\n",
    "\n",
    "Проверьте результат. Для этого ещё раз выведите на экран названия столбцов:"
   ]
  },
  {
   "cell_type": "code",
   "execution_count": 8,
   "metadata": {
    "deletable": false,
    "id": "d4NOAmTW_Zct"
   },
   "outputs": [
    {
     "data": {
      "text/plain": [
       "Index(['user_id', 'track', 'artist', 'genre', 'city', 'time', 'day'], dtype='object')"
      ]
     },
     "execution_count": 8,
     "metadata": {},
     "output_type": "execute_result"
    }
   ],
   "source": [
    "df.columns# проверка результатов - перечень названий столбцов"
   ]
  },
  {
   "cell_type": "markdown",
   "metadata": {
    "deletable": false,
    "editable": false,
    "id": "5ISfbcfY_Zct",
    "tags": [
     "start_task"
    ]
   },
   "source": [
    "### Пропуски значений\n",
    "\n",
    "**Задание 9**\n",
    "\n",
    "Сначала посчитайте, сколько в таблице пропущенных значений. Для этого достаточно двух методов `pandas`:"
   ]
  },
  {
   "cell_type": "code",
   "execution_count": 9,
   "metadata": {
    "deletable": false,
    "id": "RskX29qr_Zct"
   },
   "outputs": [
    {
     "data": {
      "text/plain": [
       "user_id       0\n",
       "track      1231\n",
       "artist     7203\n",
       "genre      1198\n",
       "city          0\n",
       "time          0\n",
       "day           0\n",
       "dtype: int64"
      ]
     },
     "execution_count": 9,
     "metadata": {},
     "output_type": "execute_result"
    }
   ],
   "source": [
    "df.isna().sum()# подсчёт пропусков"
   ]
  },
  {
   "cell_type": "markdown",
   "metadata": {
    "deletable": false,
    "editable": false,
    "id": "qubhgnlO_Zct"
   },
   "source": [
    "Не все пропущенные значения влияют на исследование. Так, в `track` и `artist` пропуски не важны для вашей работы. Достаточно заменить их явными обозначениями.\n",
    "\n",
    "Но пропуски в `genre` могут помешать сравнить музыкальные вкусы в Москве и Санкт-Петербурге. На практике было бы правильно установить причину пропусков и восстановить данные. Такой возможности нет в учебном проекте. Поэтому придётся:\n",
    "* заполнить и эти пропуски явными обозначениями;\n",
    "* оценить, насколько они повредят расчётам."
   ]
  },
  {
   "cell_type": "markdown",
   "metadata": {
    "deletable": false,
    "editable": false,
    "id": "fSv2laPA_Zct",
    "tags": [
     "start_task"
    ]
   },
   "source": [
    "**Задание 10**\n",
    "\n",
    "Замените пропущенные значения в столбцах `track`, `artist` и `genre` на строку `'unknown'`. Для этого создайте список `columns_to_replace`, переберите его элементы циклом `for` и для каждого столбца выполните замену пропущенных значений:"
   ]
  },
  {
   "cell_type": "code",
   "execution_count": 10,
   "metadata": {
    "deletable": false,
    "id": "KplB5qWs_Zct"
   },
   "outputs": [],
   "source": [
    "columns_to_replace=['track' , 'artist' , 'genre']#колонки для перебора в цикле\n",
    "for col in columns_to_replace:\n",
    "    df[col]=df[col].fillna('unknown')# перебор названий столбцов в цикле и замена пропущенных значений на 'unknown'\n"
   ]
  },
  {
   "cell_type": "markdown",
   "metadata": {
    "deletable": false,
    "editable": false,
    "id": "Ilsm-MZo_Zct",
    "tags": [
     "start_task"
    ]
   },
   "source": [
    "**Задание 11**\n",
    "\n",
    "Убедитесь, что в таблице не осталось пропусков. Для этого ещё раз посчитайте пропущенные значения."
   ]
  },
  {
   "cell_type": "code",
   "execution_count": 11,
   "metadata": {
    "deletable": false,
    "id": "Tq4nYRX4_Zct"
   },
   "outputs": [
    {
     "data": {
      "text/plain": [
       "user_id    0\n",
       "track      0\n",
       "artist     0\n",
       "genre      0\n",
       "city       0\n",
       "time       0\n",
       "day        0\n",
       "dtype: int64"
      ]
     },
     "execution_count": 11,
     "metadata": {},
     "output_type": "execute_result"
    }
   ],
   "source": [
    "df.isna().sum()# подсчёт пропусков"
   ]
  },
  {
   "cell_type": "markdown",
   "metadata": {
    "deletable": false,
    "editable": false,
    "id": "BWKRtBJ3_Zct",
    "tags": [
     "start_task"
    ]
   },
   "source": [
    "### Дубликаты\n",
    "\n",
    "**Задание 12**\n",
    "\n",
    "Посчитайте явные дубликаты в таблице одной командой:"
   ]
  },
  {
   "cell_type": "code",
   "execution_count": 12,
   "metadata": {
    "deletable": false,
    "id": "36eES_S0_Zct"
   },
   "outputs": [
    {
     "data": {
      "text/plain": [
       "3826"
      ]
     },
     "execution_count": 12,
     "metadata": {},
     "output_type": "execute_result"
    }
   ],
   "source": [
    "df.duplicated().sum()# подсчёт явных дубликатов"
   ]
  },
  {
   "cell_type": "markdown",
   "metadata": {
    "deletable": false,
    "editable": false,
    "id": "Ot25h6XR_Zct",
    "tags": [
     "start_task"
    ]
   },
   "source": [
    "**Задание 13**\n",
    "\n",
    "Вызовите специальный метод `pandas`, чтобы удалить явные дубликаты:"
   ]
  },
  {
   "cell_type": "code",
   "execution_count": 13,
   "metadata": {
    "deletable": false,
    "id": "exFHq6tt_Zct"
   },
   "outputs": [],
   "source": [
    "df=df.drop_duplicates()# удаление явных дубликатов\n"
   ]
  },
  {
   "cell_type": "markdown",
   "metadata": {
    "deletable": false,
    "editable": false,
    "id": "Im2YwBEG_Zct",
    "tags": [
     "start_task"
    ]
   },
   "source": [
    "**Задание 14**\n",
    "\n",
    "Ещё раз посчитайте явные дубликаты в таблице — убедитесь, что полностью от них избавились:"
   ]
  },
  {
   "cell_type": "code",
   "execution_count": 14,
   "metadata": {
    "deletable": false,
    "id": "-8PuNWQ0_Zct"
   },
   "outputs": [
    {
     "data": {
      "text/plain": [
       "0"
      ]
     },
     "execution_count": 14,
     "metadata": {},
     "output_type": "execute_result"
    }
   ],
   "source": [
    "df.duplicated().sum()# проверка на отсутствие дубликатов"
   ]
  },
  {
   "cell_type": "markdown",
   "metadata": {
    "deletable": false,
    "editable": false,
    "id": "QlFBsxAr_Zct"
   },
   "source": [
    "Теперь избавьтесь от неявных дубликатов в колонке `genre`. Например, название одного и того же жанра может быть записано немного по-разному. Такие ошибки тоже повлияют на результат исследования."
   ]
  },
  {
   "cell_type": "markdown",
   "metadata": {
    "deletable": false,
    "editable": false,
    "id": "eSjWwsOh_Zct",
    "tags": [
     "start_task"
    ]
   },
   "source": [
    "**Задание 15**\n",
    "\n",
    "Выведите на экран список уникальных названий жанров, отсортированный в алфавитном порядке. Для этого:\n",
    "* извлеките нужный столбец датафрейма;\n",
    "* примените к нему метод сортировки;\n",
    "* для отсортированного столбца вызовите метод, который вернёт уникальные значения из столбца."
   ]
  },
  {
   "cell_type": "code",
   "execution_count": 15,
   "metadata": {
    "deletable": false,
    "id": "JIUcqzZN_Zct"
   },
   "outputs": [
    {
     "data": {
      "text/plain": [
       "array(['acid', 'acoustic', 'action', 'adult', 'africa', 'afrikaans',\n",
       "       'alternative', 'alternativepunk', 'ambient', 'americana',\n",
       "       'animated', 'anime', 'arabesk', 'arabic', 'arena',\n",
       "       'argentinetango', 'art', 'audiobook', 'author', 'avantgarde',\n",
       "       'axé', 'baile', 'balkan', 'beats', 'bigroom', 'black', 'bluegrass',\n",
       "       'blues', 'bollywood', 'bossa', 'brazilian', 'breakbeat', 'breaks',\n",
       "       'broadway', 'cantautori', 'cantopop', 'canzone', 'caribbean',\n",
       "       'caucasian', 'celtic', 'chamber', 'chanson', 'children', 'chill',\n",
       "       'chinese', 'choral', 'christian', 'christmas', 'classical',\n",
       "       'classicmetal', 'club', 'colombian', 'comedy', 'conjazz',\n",
       "       'contemporary', 'country', 'cuban', 'dance', 'dancehall',\n",
       "       'dancepop', 'dark', 'death', 'deep', 'deutschrock', 'deutschspr',\n",
       "       'dirty', 'disco', 'dnb', 'documentary', 'downbeat', 'downtempo',\n",
       "       'drum', 'dub', 'dubstep', 'eastern', 'easy', 'electronic',\n",
       "       'electropop', 'emo', 'entehno', 'epicmetal', 'estrada', 'ethnic',\n",
       "       'eurofolk', 'european', 'experimental', 'extrememetal', 'fado',\n",
       "       'fairytail', 'film', 'fitness', 'flamenco', 'folk', 'folklore',\n",
       "       'folkmetal', 'folkrock', 'folktronica', 'forró', 'frankreich',\n",
       "       'französisch', 'french', 'funk', 'future', 'gangsta', 'garage',\n",
       "       'german', 'ghazal', 'gitarre', 'glitch', 'gospel', 'gothic',\n",
       "       'grime', 'grunge', 'gypsy', 'handsup', \"hard'n'heavy\", 'hardcore',\n",
       "       'hardstyle', 'hardtechno', 'hip', 'hip-hop', 'hiphop',\n",
       "       'historisch', 'holiday', 'hop', 'horror', 'house', 'hymn', 'idm',\n",
       "       'independent', 'indian', 'indie', 'indipop', 'industrial',\n",
       "       'inspirational', 'instrumental', 'international', 'irish', 'jam',\n",
       "       'japanese', 'jazz', 'jewish', 'jpop', 'jungle', 'k-pop',\n",
       "       'karadeniz', 'karaoke', 'kayokyoku', 'korean', 'laiko', 'latin',\n",
       "       'latino', 'leftfield', 'local', 'lounge', 'loungeelectronic',\n",
       "       'lovers', 'malaysian', 'mandopop', 'marschmusik', 'meditative',\n",
       "       'mediterranean', 'melodic', 'metal', 'metalcore', 'mexican',\n",
       "       'middle', 'minimal', 'miscellaneous', 'modern', 'mood', 'mpb',\n",
       "       'muslim', 'native', 'neoklassik', 'neue', 'new', 'newage',\n",
       "       'newwave', 'nu', 'nujazz', 'numetal', 'oceania', 'old', 'opera',\n",
       "       'orchestral', 'other', 'piano', 'podcasts', 'pop', 'popdance',\n",
       "       'popelectronic', 'popeurodance', 'poprussian', 'post',\n",
       "       'posthardcore', 'postrock', 'power', 'progmetal', 'progressive',\n",
       "       'psychedelic', 'punjabi', 'punk', 'quebecois', 'ragga', 'ram',\n",
       "       'rancheras', 'rap', 'rave', 'reggae', 'reggaeton', 'regional',\n",
       "       'relax', 'religious', 'retro', 'rhythm', 'rnb', 'rnr', 'rock',\n",
       "       'rockabilly', 'rockalternative', 'rockindie', 'rockother',\n",
       "       'romance', 'roots', 'ruspop', 'rusrap', 'rusrock', 'russian',\n",
       "       'salsa', 'samba', 'scenic', 'schlager', 'self', 'sertanejo',\n",
       "       'shanson', 'shoegazing', 'showtunes', 'singer', 'ska', 'skarock',\n",
       "       'slow', 'smooth', 'soft', 'soul', 'soulful', 'sound', 'soundtrack',\n",
       "       'southern', 'specialty', 'speech', 'spiritual', 'sport',\n",
       "       'stonerrock', 'surf', 'swing', 'synthpop', 'synthrock',\n",
       "       'sängerportrait', 'tango', 'tanzorchester', 'taraftar', 'tatar',\n",
       "       'tech', 'techno', 'teen', 'thrash', 'top', 'traditional',\n",
       "       'tradjazz', 'trance', 'tribal', 'trip', 'triphop', 'tropical',\n",
       "       'türk', 'türkçe', 'ukrrock', 'unknown', 'urban', 'uzbek',\n",
       "       'variété', 'vi', 'videogame', 'vocal', 'western', 'world',\n",
       "       'worldbeat', 'ïîï', 'электроника'], dtype=object)"
      ]
     },
     "execution_count": 15,
     "metadata": {},
     "output_type": "execute_result"
    }
   ],
   "source": [
    "uni_values=df['genre'].sort_values().unique()\n",
    "\n",
    "uni_values\n",
    "# Просмотр уникальных названий жанров"
   ]
  },
  {
   "cell_type": "markdown",
   "metadata": {
    "deletable": false,
    "editable": false,
    "id": "qej-Qmuo_Zct",
    "tags": [
     "start_task"
    ]
   },
   "source": [
    "**Задание 16**\n",
    "\n",
    "Просмотрите список и найдите неявные дубликаты названия `hiphop`. Это могут быть названия с ошибками или альтернативные названия того же жанра.\n",
    "\n",
    "Вы увидите следующие неявные дубликаты:\n",
    "* *hip*,\n",
    "* *hop*,\n",
    "* *hip-hop*.\n",
    "\n",
    "Чтобы очистить от них таблицу, используйте метод `replace()` с двумя аргументами: списком строк-дубликатов (включающий *hip*, *hop* и *hip-hop*) и строкой с правильным значением. Вам нужно исправить колонку `genre` в таблице `df`: заменить каждое значение из списка дубликатов на верное. Вместо `hip`, `hop` и `hip-hop` в таблице должно быть значение `hiphop`:"
   ]
  },
  {
   "cell_type": "code",
   "execution_count": 16,
   "metadata": {
    "deletable": false,
    "id": "ErNDkmns_Zct"
   },
   "outputs": [],
   "source": [
    "df['genre']=df['genre'].replace(['hip' , 'hop' , 'hip-hop'],'hiphop')\n",
    "#df['genre']=df['genre'].replace('ïîï','indie')#хорошо бы удалить и эти но тренажер не пускает дальше если их убрать\n",
    "#df['genre']=df['genre'].replace('электроника','electronic')\n",
    "# Устранение неявных дубликатов"
   ]
  },
  {
   "cell_type": "markdown",
   "metadata": {
    "deletable": false,
    "editable": false,
    "id": "zQKF16_RG15m",
    "tags": [
     "start_task"
    ]
   },
   "source": [
    "**Задание 17**\n",
    "\n",
    "Проверьте, что заменили неправильные названия:\n",
    "\n",
    "*   *hip*,\n",
    "*   *hop*,\n",
    "*   *hip-hop*.\n",
    "\n",
    "Выведите отсортированный список уникальных значений столбца `genre`:"
   ]
  },
  {
   "cell_type": "code",
   "execution_count": 17,
   "metadata": {
    "deletable": false,
    "id": "wvixALnFG15m"
   },
   "outputs": [
    {
     "data": {
      "text/plain": [
       "array(['acid', 'acoustic', 'action', 'adult', 'africa', 'afrikaans',\n",
       "       'alternative', 'alternativepunk', 'ambient', 'americana',\n",
       "       'animated', 'anime', 'arabesk', 'arabic', 'arena',\n",
       "       'argentinetango', 'art', 'audiobook', 'author', 'avantgarde',\n",
       "       'axé', 'baile', 'balkan', 'beats', 'bigroom', 'black', 'bluegrass',\n",
       "       'blues', 'bollywood', 'bossa', 'brazilian', 'breakbeat', 'breaks',\n",
       "       'broadway', 'cantautori', 'cantopop', 'canzone', 'caribbean',\n",
       "       'caucasian', 'celtic', 'chamber', 'chanson', 'children', 'chill',\n",
       "       'chinese', 'choral', 'christian', 'christmas', 'classical',\n",
       "       'classicmetal', 'club', 'colombian', 'comedy', 'conjazz',\n",
       "       'contemporary', 'country', 'cuban', 'dance', 'dancehall',\n",
       "       'dancepop', 'dark', 'death', 'deep', 'deutschrock', 'deutschspr',\n",
       "       'dirty', 'disco', 'dnb', 'documentary', 'downbeat', 'downtempo',\n",
       "       'drum', 'dub', 'dubstep', 'eastern', 'easy', 'electronic',\n",
       "       'electropop', 'emo', 'entehno', 'epicmetal', 'estrada', 'ethnic',\n",
       "       'eurofolk', 'european', 'experimental', 'extrememetal', 'fado',\n",
       "       'fairytail', 'film', 'fitness', 'flamenco', 'folk', 'folklore',\n",
       "       'folkmetal', 'folkrock', 'folktronica', 'forró', 'frankreich',\n",
       "       'französisch', 'french', 'funk', 'future', 'gangsta', 'garage',\n",
       "       'german', 'ghazal', 'gitarre', 'glitch', 'gospel', 'gothic',\n",
       "       'grime', 'grunge', 'gypsy', 'handsup', \"hard'n'heavy\", 'hardcore',\n",
       "       'hardstyle', 'hardtechno', 'hiphop', 'historisch', 'holiday',\n",
       "       'horror', 'house', 'hymn', 'idm', 'independent', 'indian', 'indie',\n",
       "       'indipop', 'industrial', 'inspirational', 'instrumental',\n",
       "       'international', 'irish', 'jam', 'japanese', 'jazz', 'jewish',\n",
       "       'jpop', 'jungle', 'k-pop', 'karadeniz', 'karaoke', 'kayokyoku',\n",
       "       'korean', 'laiko', 'latin', 'latino', 'leftfield', 'local',\n",
       "       'lounge', 'loungeelectronic', 'lovers', 'malaysian', 'mandopop',\n",
       "       'marschmusik', 'meditative', 'mediterranean', 'melodic', 'metal',\n",
       "       'metalcore', 'mexican', 'middle', 'minimal', 'miscellaneous',\n",
       "       'modern', 'mood', 'mpb', 'muslim', 'native', 'neoklassik', 'neue',\n",
       "       'new', 'newage', 'newwave', 'nu', 'nujazz', 'numetal', 'oceania',\n",
       "       'old', 'opera', 'orchestral', 'other', 'piano', 'podcasts', 'pop',\n",
       "       'popdance', 'popelectronic', 'popeurodance', 'poprussian', 'post',\n",
       "       'posthardcore', 'postrock', 'power', 'progmetal', 'progressive',\n",
       "       'psychedelic', 'punjabi', 'punk', 'quebecois', 'ragga', 'ram',\n",
       "       'rancheras', 'rap', 'rave', 'reggae', 'reggaeton', 'regional',\n",
       "       'relax', 'religious', 'retro', 'rhythm', 'rnb', 'rnr', 'rock',\n",
       "       'rockabilly', 'rockalternative', 'rockindie', 'rockother',\n",
       "       'romance', 'roots', 'ruspop', 'rusrap', 'rusrock', 'russian',\n",
       "       'salsa', 'samba', 'scenic', 'schlager', 'self', 'sertanejo',\n",
       "       'shanson', 'shoegazing', 'showtunes', 'singer', 'ska', 'skarock',\n",
       "       'slow', 'smooth', 'soft', 'soul', 'soulful', 'sound', 'soundtrack',\n",
       "       'southern', 'specialty', 'speech', 'spiritual', 'sport',\n",
       "       'stonerrock', 'surf', 'swing', 'synthpop', 'synthrock',\n",
       "       'sängerportrait', 'tango', 'tanzorchester', 'taraftar', 'tatar',\n",
       "       'tech', 'techno', 'teen', 'thrash', 'top', 'traditional',\n",
       "       'tradjazz', 'trance', 'tribal', 'trip', 'triphop', 'tropical',\n",
       "       'türk', 'türkçe', 'ukrrock', 'unknown', 'urban', 'uzbek',\n",
       "       'variété', 'vi', 'videogame', 'vocal', 'western', 'world',\n",
       "       'worldbeat', 'ïîï', 'электроника'], dtype=object)"
      ]
     },
     "execution_count": 17,
     "metadata": {},
     "output_type": "execute_result"
    }
   ],
   "source": [
    "uni_values=df['genre'].sort_values().unique()\n",
    "uni_values\n",
    "# Проверка на неявные дубликаты"
   ]
  },
  {
   "cell_type": "markdown",
   "metadata": {
    "deletable": false,
    "editable": false,
    "id": "jz6a9-7HQUDd"
   },
   "source": [
    "**Выводы**\n",
    "\n",
    "Предобработка обнаружила три проблемы в данных:\n",
    "\n",
    "- нарушения в стиле заголовков,\n",
    "- пропущенные значения,\n",
    "- дубликаты — явные и неявные.\n",
    "\n",
    "Вы исправили заголовки, чтобы упростить работу с таблицей. Без дубликатов исследование станет более точным.\n",
    "\n",
    "Пропущенные значения вы заменили на `'unknown'`. Ещё предстоит увидеть, не повредят ли исследованию пропуски в колонке `genre`.\n",
    "\n",
    "Теперь можно перейти к проверке гипотез."
   ]
  },
  {
   "cell_type": "markdown",
   "metadata": {
    "deletable": false,
    "editable": false,
    "id": "WttZHXH0SqKk"
   },
   "source": [
    "## Проверка гипотез"
   ]
  },
  {
   "cell_type": "markdown",
   "metadata": {
    "deletable": false,
    "editable": false,
    "id": "Im936VVi_Zcu"
   },
   "source": [
    "### Сравнение поведения пользователей двух столиц"
   ]
  },
  {
   "cell_type": "markdown",
   "metadata": {
    "deletable": false,
    "editable": false,
    "id": "nwt_MuaL_Zcu"
   },
   "source": [
    "Первая гипотеза утверждает, что пользователи по-разному слушают музыку в Москве и Санкт-Петербурге. Проверьте это предположение по данным о трёх днях недели — понедельнике, среде и пятнице. Для этого:\n",
    "\n",
    "* Разделите пользователей Москвы и Санкт-Петербурга.\n",
    "* Сравните, сколько треков послушала каждая группа пользователей в понедельник, среду и пятницу.\n"
   ]
  },
  {
   "cell_type": "markdown",
   "metadata": {
    "deletable": false,
    "editable": false,
    "id": "8Dw_YMmT_Zcu",
    "tags": [
     "start_task"
    ]
   },
   "source": [
    "**Задание 18**\n",
    "\n",
    "Для тренировки сначала выполните каждый из расчётов по отдельности.\n",
    "\n",
    "Оцените активность пользователей в каждом городе. Сгруппируйте данные по городу и посчитайте прослушивания в каждой группе.\n",
    "\n"
   ]
  },
  {
   "cell_type": "code",
   "execution_count": 18,
   "metadata": {
    "deletable": false,
    "id": "0_Qs96oh_Zcu"
   },
   "outputs": [
    {
     "data": {
      "text/plain": [
       "city\n",
       "Moscow              42741\n",
       "Saint-Petersburg    18512\n",
       "Name: genre, dtype: int64"
      ]
     },
     "execution_count": 18,
     "metadata": {},
     "output_type": "execute_result"
    }
   ],
   "source": [
    "cities_activity=df.groupby('city')['genre'].count()# Подсчёт прослушиваний в каждом городе\n",
    "cities_activity"
   ]
  },
  {
   "cell_type": "markdown",
   "metadata": {
    "deletable": false,
    "editable": false,
    "id": "dzli3w8o_Zcu",
    "tags": [
     "start_task"
    ]
   },
   "source": [
    "В Москве прослушиваний больше, чем в Петербурге. Из этого не следует, что московские пользователи чаще слушают музыку. Просто самих пользователей в Москве больше.\n",
    "\n",
    "**Задание 19**\n",
    "\n",
    "Теперь сгруппируйте данные по дню недели и посчитайте прослушивания в понедельник, среду и пятницу. Учтите, что в данных есть информация о прослушиваниях только за эти дни.\n"
   ]
  },
  {
   "cell_type": "code",
   "execution_count": 19,
   "metadata": {
    "deletable": false,
    "id": "uZMKjiJz_Zcu"
   },
   "outputs": [
    {
     "data": {
      "text/plain": [
       "day\n",
       "Friday       21840\n",
       "Monday       21354\n",
       "Wednesday    18059\n",
       "Name: genre, dtype: int64"
      ]
     },
     "execution_count": 19,
     "metadata": {},
     "output_type": "execute_result"
    }
   ],
   "source": [
    "week_activity=df.groupby('day')['genre'].count()# Подсчёт прослушиваний в каждом городе\n",
    "week_activity# Подсчёт прослушиваний в каждый из трёх дней"
   ]
  },
  {
   "cell_type": "markdown",
   "metadata": {
    "deletable": false,
    "editable": false,
    "id": "cC2tNrlL_Zcu"
   },
   "source": [
    "В среднем пользователи из двух городов менее активны по средам. Но картина может измениться, если рассмотреть каждый город в отдельности."
   ]
  },
  {
   "cell_type": "markdown",
   "metadata": {
    "deletable": false,
    "editable": false,
    "id": "POzs8bGa_Zcu",
    "tags": [
     "start_task"
    ]
   },
   "source": [
    "**Задание 20**\n",
    "\n",
    "\n",
    "Вы видели, как работает группировка по городу и по дням недели. Теперь напишите функцию, которая объединит два эти расчёта.\n",
    "\n",
    "Создайте функцию `number_tracks()`, которая посчитает прослушивания для заданного дня и города. Ей понадобятся два параметра:\n",
    "* день недели,\n",
    "* название города.\n",
    "\n",
    "В функции сохраните в переменную строки исходной таблицы, у которых значение:\n",
    "  * в колонке `day` равно параметру `day`,\n",
    "  * в колонке `city` равно параметру `city`.\n",
    "\n",
    "Для этого примените последовательную фильтрацию с логической индексацией (или сложные логические выражения в одну строку, если вы уже знакомы с ними).\n",
    "\n",
    "Затем посчитайте значения в столбце `user_id` получившейся таблицы. Результат сохраните в новую переменную. Верните эту переменную из функции."
   ]
  },
  {
   "cell_type": "code",
   "execution_count": 20,
   "metadata": {
    "deletable": false,
    "id": "Nz3GdQB1_Zcu"
   },
   "outputs": [],
   "source": [
    "def number_tracks(day_name,city_name):# <создание функции number_tracks()# Объявляется функция с двумя параметрами: day, city.\n",
    "    track_list=df[(df['day']==day_name) & (df['city']==city_name)]\n",
    "    track_list_count=track_list['user_id'].count()\n",
    "    return track_list_count\n",
    "#number_tracks('Monday','Moscow')#коммент для проверки функции\n",
    "# В переменной track_list сохраняются те строки таблицы df, для которых\n",
    "# значение в столбце 'day' равно параметру day и одновременно значение\n",
    "# в столбце 'city' равно параметру city (используйте последовательную фильтрацию\n",
    "# с помощью логической индексации или сложные логические выражения в одну строку, если вы уже знакомы с ними).\n",
    "# В переменной track_list_count сохраняется число значений столбца 'user_id',\n",
    "# рассчитанное методом count() для таблицы track_list.\n",
    "# Функция возвращает число - значение track_list_count.\n",
    "\n",
    "# Функция для подсчёта прослушиваний для конкретного города и дня.\n",
    "# С помощью последовательной фильтрации с логической индексацией она\n",
    "# сначала получит из исходной таблицы строки с нужным днём,\n",
    "# затем из результата отфильтрует строки с нужным городом,\n",
    "# методом count() посчитает количество значений в колонке user_id.\n",
    "# Это количество функция вернёт в качестве результата"
   ]
  },
  {
   "cell_type": "markdown",
   "metadata": {
    "deletable": false,
    "editable": false,
    "id": "ytf7xFrFJQ2r",
    "tags": [
     "start_task"
    ]
   },
   "source": [
    "**Задание 21**\n",
    "\n",
    "Вызовите `number_tracks()` шесть раз, меняя значение параметров — так, чтобы получить данные для каждого города в каждый из трёх дней."
   ]
  },
  {
   "cell_type": "code",
   "execution_count": 21,
   "metadata": {
    "deletable": false,
    "id": "rJcRATNQ_Zcu"
   },
   "outputs": [
    {
     "data": {
      "text/plain": [
       "15740"
      ]
     },
     "execution_count": 21,
     "metadata": {},
     "output_type": "execute_result"
    }
   ],
   "source": [
    "number_tracks('Monday','Moscow')# количество прослушиваний в Москве по понедельникам'"
   ]
  },
  {
   "cell_type": "code",
   "execution_count": 22,
   "metadata": {
    "deletable": false,
    "id": "hq_ncZ5T_Zcu"
   },
   "outputs": [
    {
     "data": {
      "text/plain": [
       "5614"
      ]
     },
     "execution_count": 22,
     "metadata": {},
     "output_type": "execute_result"
    }
   ],
   "source": [
    "number_tracks('Monday','Saint-Petersburg')# количество прослушиваний в Санкт-Петербурге по понедельникам"
   ]
  },
  {
   "cell_type": "code",
   "execution_count": 23,
   "metadata": {
    "deletable": false,
    "id": "_NTy2VPU_Zcu"
   },
   "outputs": [
    {
     "data": {
      "text/plain": [
       "11056"
      ]
     },
     "execution_count": 23,
     "metadata": {},
     "output_type": "execute_result"
    }
   ],
   "source": [
    "number_tracks('Wednesday', 'Moscow')# количество прослушиваний в Москве по средам"
   ]
  },
  {
   "cell_type": "code",
   "execution_count": 24,
   "metadata": {
    "deletable": false,
    "id": "j2y3TAwo_Zcu"
   },
   "outputs": [
    {
     "data": {
      "text/plain": [
       "7003"
      ]
     },
     "execution_count": 24,
     "metadata": {},
     "output_type": "execute_result"
    }
   ],
   "source": [
    "number_tracks('Wednesday', 'Saint-Petersburg')# количество прослушиваний в Санкт-Петербурге по средам"
   ]
  },
  {
   "cell_type": "code",
   "execution_count": 25,
   "metadata": {
    "deletable": false,
    "id": "vYDw5u_K_Zcu"
   },
   "outputs": [
    {
     "data": {
      "text/plain": [
       "15945"
      ]
     },
     "execution_count": 25,
     "metadata": {},
     "output_type": "execute_result"
    }
   ],
   "source": [
    "number_tracks('Friday', 'Moscow')# количество прослушиваний в Москве по пятницам"
   ]
  },
  {
   "cell_type": "code",
   "execution_count": 26,
   "metadata": {
    "deletable": false,
    "id": "8_yzFtW3_Zcu"
   },
   "outputs": [
    {
     "data": {
      "text/plain": [
       "5895"
      ]
     },
     "execution_count": 26,
     "metadata": {},
     "output_type": "execute_result"
    }
   ],
   "source": [
    "number_tracks('Friday', 'Saint-Petersburg')# количество прослушиваний в Санкт-Петербурге по пятницам"
   ]
  },
  {
   "cell_type": "markdown",
   "metadata": {
    "deletable": false,
    "editable": false,
    "id": "7QXffbO-_Zcu",
    "tags": [
     "start_task"
    ]
   },
   "source": [
    "**Задание 22**\n",
    "\n",
    "С помощью конструктора `pd.DataFrame` создайте таблицу, где\n",
    "* названия колонок — `['city', 'monday', 'wednesday', 'friday']`;\n",
    "* данные — результаты, которые вы получили с помощью `number_tracks`."
   ]
  },
  {
   "cell_type": "code",
   "execution_count": 27,
   "metadata": {
    "deletable": false,
    "id": "APAcLpOr_Zcu"
   },
   "outputs": [
    {
     "data": {
      "text/html": [
       "<div>\n",
       "<style scoped>\n",
       "    .dataframe tbody tr th:only-of-type {\n",
       "        vertical-align: middle;\n",
       "    }\n",
       "\n",
       "    .dataframe tbody tr th {\n",
       "        vertical-align: top;\n",
       "    }\n",
       "\n",
       "    .dataframe thead th {\n",
       "        text-align: right;\n",
       "    }\n",
       "</style>\n",
       "<table border=\"1\" class=\"dataframe\">\n",
       "  <thead>\n",
       "    <tr style=\"text-align: right;\">\n",
       "      <th></th>\n",
       "      <th>city</th>\n",
       "      <th>monday</th>\n",
       "      <th>wednesday</th>\n",
       "      <th>friday</th>\n",
       "    </tr>\n",
       "  </thead>\n",
       "  <tbody>\n",
       "    <tr>\n",
       "      <th>0</th>\n",
       "      <td>Москва</td>\n",
       "      <td>15740</td>\n",
       "      <td>11056</td>\n",
       "      <td>15945</td>\n",
       "    </tr>\n",
       "    <tr>\n",
       "      <th>1</th>\n",
       "      <td>Санкт-Петербург</td>\n",
       "      <td>5614</td>\n",
       "      <td>7003</td>\n",
       "      <td>5895</td>\n",
       "    </tr>\n",
       "  </tbody>\n",
       "</table>\n",
       "</div>"
      ],
      "text/plain": [
       "              city  monday  wednesday  friday\n",
       "0           Москва   15740      11056   15945\n",
       "1  Санкт-Петербург    5614       7003    5895"
      ]
     },
     "execution_count": 27,
     "metadata": {},
     "output_type": "execute_result"
    }
   ],
   "source": [
    "col=['city', 'monday', 'wednesday', 'friday']\n",
    "ex_21=[['Москва', 15740, 11056, 15945], ['Санкт-Петербург', 5614, 7003, 5895]]\n",
    "# Таблица с результатами\n",
    "table_1 = pd.DataFrame(data=ex_21, columns=col)\n",
    "table_1"
   ]
  },
  {
   "cell_type": "markdown",
   "metadata": {
    "deletable": false,
    "editable": false,
    "id": "-EgPIHYu_Zcu"
   },
   "source": [
    "**Выводы**\n",
    "\n",
    "Данные показывают разницу поведения пользователей:\n",
    "\n",
    "- В Москве пик прослушиваний приходится на понедельник и пятницу, а в среду заметен спад.\n",
    "- В Петербурге, наоборот, больше слушают музыку по средам. Активность в понедельник и пятницу здесь почти в равной мере уступает среде.\n",
    "\n",
    "Значит, данные говорят в пользу первой гипотезы."
   ]
  },
  {
   "cell_type": "markdown",
   "metadata": {
    "deletable": false,
    "editable": false,
    "id": "atZAxtq4_Zcu"
   },
   "source": [
    "### Музыка в начале и в конце недели"
   ]
  },
  {
   "cell_type": "markdown",
   "metadata": {
    "deletable": false,
    "editable": false,
    "id": "eXrQqXFH_Zcu"
   },
   "source": [
    "Согласно второй гипотезе, утром в понедельник в Москве преобладают одни жанры, а в Петербурге — другие. Так же и вечером пятницы преобладают разные жанры — в зависимости от города."
   ]
  },
  {
   "cell_type": "markdown",
   "metadata": {
    "deletable": false,
    "editable": false,
    "id": "S8UcW6Hw_Zcu",
    "tags": [
     "start_task"
    ]
   },
   "source": [
    "**Задание 23**\n",
    "\n",
    "Сохраните таблицы с данными в две переменные:\n",
    "* по Москве — в `moscow_general`;\n",
    "* по Санкт-Петербургу — в `spb_general`."
   ]
  },
  {
   "cell_type": "code",
   "execution_count": 28,
   "metadata": {
    "deletable": false,
    "id": "qeaFfM_P_Zcu"
   },
   "outputs": [],
   "source": [
    "moscow_general=df[df['city']=='Moscow']# получение таблицы moscow_general из тех строк таблицы df,# для которых значение в столбце 'city' равно 'Moscow'\n",
    "#moscow_general#проверочный вызов"
   ]
  },
  {
   "cell_type": "code",
   "execution_count": 29,
   "metadata": {
    "deletable": false,
    "id": "ORaVRKto_Zcu"
   },
   "outputs": [],
   "source": [
    "spb_general=df[df['city']=='Saint-Petersburg']# получение таблицы spb_general из тех строк таблицы df,\n",
    "# для которых значение в столбце 'city' равно 'Saint-Petersburg'\n"
   ]
  },
  {
   "cell_type": "markdown",
   "metadata": {
    "deletable": false,
    "id": "MEJV-CX2_Zcu",
    "tags": [
     "start_task"
    ]
   },
   "source": [
    "**Задание 24**\n",
    "\n",
    "Создайте функцию `genre_weekday()` с четырьмя параметрами:\n",
    "* таблица (датафрейм) с данными,\n",
    "* день недели,\n",
    "* начальная временная метка в формате 'hh:mm',\n",
    "* последняя временная метка в формате 'hh:mm'.\n",
    "\n",
    "Функция должна вернуть информацию о топ-10 жанров тех треков, которые прослушивали в указанный день, в промежутке между двумя отметками времени."
   ]
  },
  {
   "cell_type": "code",
   "execution_count": 30,
   "metadata": {
    "deletable": false,
    "id": "laJT9BYl_Zcu"
   },
   "outputs": [],
   "source": [
    "# Объявление функции genre_weekday() с параметрами df, day, time1, time2,\n",
    "# которая возвращает информацию о самых популярных жанрах в указанный день в\n",
    "# заданное время:\n",
    "# 1) в переменную genre_df сохраняются те строки переданного датафрейма df, для\n",
    "#    которых одновременно:\n",
    "#    - значение в столбце day равно значению аргумента day\n",
    "#    - значение в столбце time больше значения аргумента time1\n",
    "#    - значение в столбце time меньше значения аргумента time2\n",
    "#    Используйте последовательную фильтрацию с помощью логической индексации.\n",
    "# 2) сгруппировать датафрейм genre_df по столбцу genre, взять один из его\n",
    "#    столбцов и посчитать методом count() количество записей для каждого из\n",
    "#    присутствующих жанров, получившийся Series записать в переменную\n",
    "#    genre_df_grouped\n",
    "# 3) отсортировать genre_df_grouped по убыванию встречаемости и сохранить\n",
    "#    в переменную genre_df_sorted\n",
    "# 4) вернуть Series из 10 первых значений genre_df_sorted, это будут топ-10\n",
    "#    популярных жанров (в указанный день, в заданное время)\n",
    "\n",
    "def genre_weekday(df, day, time1, time2):\n",
    "    # последовательная фильтрация\n",
    "    # оставляем в genre_df только те строки df, у которых день равен day\n",
    "    genre_df = df[df['day']==day]# ваш код здесь\n",
    "    # оставляем в genre_df только те строки genre_df, у которых время меньше time2\n",
    "    genre_df = genre_df[genre_df['time']<time2]# ваш код здесь\n",
    "    # оставляем в genre_df только те строки genre_df, у которых время больше time1\n",
    "    genre_df = genre_df[genre_df['time']>time1]# ваш код здесь\n",
    "    # сгруппируем отфильтрованный датафрейм по столбцу с названиями жанров, возьмём столбец genre и посчитаем кол-во строк для каждого жанра методом count()\n",
    "    genre_df_grouped =genre_df.groupby('genre')['genre'].count() # ваш код здесь\n",
    "    # отсортируем результат по убыванию (чтобы в начале Series оказались самые популярные жанры)\n",
    "    genre_df_sorted = genre_df_grouped.sort_values(ascending=False)# ваш код здесь\n",
    "    # вернём Series с 10 самыми популярными жанрами в указанный отрезок времени заданного дня\n",
    "    return genre_df_sorted[:10]"
   ]
  },
  {
   "cell_type": "markdown",
   "metadata": {
    "deletable": false,
    "editable": false,
    "id": "la2s2_PF_Zcu",
    "tags": [
     "start_task"
    ]
   },
   "source": [
    "**Задание 25**\n",
    "\n",
    "\n",
    "Cравните результаты функции `genre_weekday()` для Москвы и Санкт-Петербурга в понедельник утром (с 7:00 до 11:00) и в пятницу вечером (с 17:00 до 23:00):"
   ]
  },
  {
   "cell_type": "code",
   "execution_count": 31,
   "metadata": {
    "deletable": false,
    "id": "yz7itPUQ_Zcu"
   },
   "outputs": [
    {
     "data": {
      "text/plain": [
       "genre\n",
       "pop            781\n",
       "dance          549\n",
       "electronic     480\n",
       "rock           474\n",
       "hiphop         286\n",
       "ruspop         186\n",
       "world          181\n",
       "rusrap         175\n",
       "alternative    164\n",
       "unknown        161\n",
       "Name: genre, dtype: int64"
      ]
     },
     "execution_count": 31,
     "metadata": {},
     "output_type": "execute_result"
    }
   ],
   "source": [
    "genre_weekday(moscow_general, 'Monday', '07:00', '11:00')# вызов функции для утра понедельника в Москве (вместо df — таблица moscow_general)\n",
    "# объекты, хранящие время, являются строками и сравниваются как строки\n",
    "# пример вызова: genre_weekday(moscow_general, 'Monday', '07:00', '11:00')"
   ]
  },
  {
   "cell_type": "code",
   "execution_count": 32,
   "metadata": {
    "deletable": false,
    "id": "kwUcHPdy_Zcu"
   },
   "outputs": [
    {
     "data": {
      "text/plain": [
       "genre\n",
       "pop            218\n",
       "dance          182\n",
       "rock           162\n",
       "electronic     147\n",
       "hiphop          80\n",
       "ruspop          64\n",
       "alternative     58\n",
       "rusrap          55\n",
       "jazz            44\n",
       "classical       40\n",
       "Name: genre, dtype: int64"
      ]
     },
     "execution_count": 32,
     "metadata": {},
     "output_type": "execute_result"
    }
   ],
   "source": [
    "genre_weekday(spb_general, 'Monday', '07:00', '11:00')# вызов функции для утра понедельника в Петербурге (вместо df — таблица spb_general)"
   ]
  },
  {
   "cell_type": "code",
   "execution_count": 33,
   "metadata": {
    "deletable": false,
    "id": "EzXVRE1o_Zcu"
   },
   "outputs": [
    {
     "data": {
      "text/plain": [
       "genre\n",
       "pop            713\n",
       "rock           517\n",
       "dance          495\n",
       "electronic     482\n",
       "hiphop         273\n",
       "world          208\n",
       "ruspop         170\n",
       "alternative    163\n",
       "classical      163\n",
       "rusrap         142\n",
       "Name: genre, dtype: int64"
      ]
     },
     "execution_count": 33,
     "metadata": {},
     "output_type": "execute_result"
    }
   ],
   "source": [
    "genre_weekday(moscow_general, 'Friday', '17:00', '23:00')# вызов функции для вечера пятницы в Москве"
   ]
  },
  {
   "cell_type": "code",
   "execution_count": 34,
   "metadata": {
    "deletable": false,
    "id": "JZaEKu5v_Zcu"
   },
   "outputs": [
    {
     "data": {
      "text/plain": [
       "genre\n",
       "pop            256\n",
       "electronic     216\n",
       "rock           216\n",
       "dance          210\n",
       "hiphop          97\n",
       "alternative     63\n",
       "jazz            61\n",
       "classical       60\n",
       "rusrap          59\n",
       "world           54\n",
       "Name: genre, dtype: int64"
      ]
     },
     "execution_count": 34,
     "metadata": {},
     "output_type": "execute_result"
    }
   ],
   "source": [
    "genre_weekday(spb_general, 'Friday', '17:00', '23:00')# вызов функции для вечера пятницы в Петербурге"
   ]
  },
  {
   "cell_type": "markdown",
   "metadata": {
    "deletable": false,
    "editable": false,
    "id": "wrCe4MNX_Zcu"
   },
   "source": [
    "**Выводы**\n",
    "\n",
    "Если сравнить топ-10 жанров в понедельник утром, можно сделать такие выводы:\n",
    "\n",
    "1. В Москве и Петербурге слушают похожую музыку. Единственное различие — в московский рейтинг вошёл жанр “world”, а в петербургский — джаз и классика.\n",
    "\n",
    "2. В Москве пропущенных значений оказалось так много, что значение `'unknown'` заняло десятое место среди самых популярных жанров. Значит, пропущенные значения занимают существенную долю в данных и угрожают достоверности исследования.\n",
    "\n",
    "Вечер пятницы не меняет эту картину. Некоторые жанры поднимаются немного выше, другие спускаются, но в целом топ-10 остаётся тем же самым.\n",
    "\n",
    "Таким образом, вторая гипотеза подтвердилась лишь частично:\n",
    "* Пользователи слушают похожую музыку в начале недели и в конце.\n",
    "* Разница между Москвой и Петербургом не слишком выражена. В Москве чаще слушают русскую популярную музыку, в Петербурге — джаз.\n",
    "\n",
    "Однако пропуски в данных ставят под сомнение этот результат. В Москве их так много, что рейтинг топ-10 мог бы выглядеть иначе, если бы не утерянные  данные о жанрах."
   ]
  },
  {
   "cell_type": "markdown",
   "metadata": {
    "deletable": false,
    "editable": false,
    "id": "JolODAqr_Zcu"
   },
   "source": [
    "### Жанровые предпочтения в Москве и Петербурге\n",
    "\n",
    "Гипотеза: Петербург — столица рэпа, музыку этого жанра там слушают чаще, чем в Москве.  А Москва — город контрастов, в котором, тем не менее, преобладает поп-музыка."
   ]
  },
  {
   "cell_type": "markdown",
   "metadata": {
    "deletable": false,
    "editable": false,
    "id": "DlegSvaT_Zcu",
    "tags": [
     "start_task"
    ]
   },
   "source": [
    "**Задание 26**\n",
    "\n",
    "Сгруппируйте таблицу `moscow_general` по жанру и посчитайте прослушивания треков каждого жанра методом `count()`. Затем отсортируйте результат в порядке убывания и сохраните его в таблице `moscow_genres`."
   ]
  },
  {
   "cell_type": "code",
   "execution_count": 35,
   "metadata": {
    "deletable": false,
    "id": "r19lIPke_Zcu"
   },
   "outputs": [],
   "source": [
    "moscow_genres=moscow_general.groupby('genre')['genre'].count().sort_values(ascending=False)\n",
    "# одной строкой: группировка таблицы moscow_general по столбцу 'genre',\n",
    "# подсчёт числа значений 'genre' в этой группировке методом count(),\n",
    "# сортировка получившегося Series в порядке убывания и сохранение в moscow_genres"
   ]
  },
  {
   "cell_type": "markdown",
   "metadata": {
    "deletable": false,
    "editable": false,
    "id": "6kMuomxTiIr8",
    "tags": [
     "start_task"
    ]
   },
   "source": [
    "**Задание 27**\n",
    "\n",
    "Выведите на экран первые десять строк `moscow_genres`:"
   ]
  },
  {
   "cell_type": "code",
   "execution_count": 36,
   "metadata": {
    "deletable": false,
    "id": "WhCSooF8_Zcv"
   },
   "outputs": [
    {
     "data": {
      "text/plain": [
       "genre\n",
       "pop            5892\n",
       "dance          4435\n",
       "rock           3965\n",
       "electronic     3786\n",
       "hiphop         2096\n",
       "classical      1616\n",
       "world          1432\n",
       "alternative    1379\n",
       "ruspop         1372\n",
       "rusrap         1161\n",
       "Name: genre, dtype: int64"
      ]
     },
     "execution_count": 36,
     "metadata": {},
     "output_type": "execute_result"
    }
   ],
   "source": [
    "moscow_genres.head(10)# просмотр первых 10 строк moscow_genres"
   ]
  },
  {
   "cell_type": "markdown",
   "metadata": {
    "deletable": false,
    "editable": false,
    "id": "cnPG2vnN_Zcv",
    "tags": [
     "start_task"
    ]
   },
   "source": [
    "**Задание 28**\n",
    "\n",
    "\n",
    "Теперь повторите то же и для Петербурга.\n",
    "\n",
    "Сгруппируйте таблицу `spb_general` по жанру. Посчитайте прослушивания треков каждого жанра. Результат отсортируйте в порядке убывания и сохраните в таблице `spb_genres`:\n"
   ]
  },
  {
   "cell_type": "code",
   "execution_count": 37,
   "metadata": {
    "deletable": false,
    "id": "gluLIpE7_Zcv"
   },
   "outputs": [],
   "source": [
    "spb_genres=spb_general.groupby('genre')['genre'].count().sort_values(ascending=False)\n",
    "# одной строкой: группировка таблицы spb_general по столбцу 'genre',\n",
    "# подсчёт числа значений 'genre' в этой группировке методом count(),\n",
    "# сортировка получившегося Series в порядке убывания и сохранение в spb_genres"
   ]
  },
  {
   "cell_type": "markdown",
   "metadata": {
    "deletable": false,
    "editable": false,
    "id": "5Doha_ODgyQ8",
    "tags": [
     "start_task"
    ]
   },
   "source": [
    "**Задание 29**\n",
    "\n",
    "Выведите на экран первые десять строк `spb_genres`:"
   ]
  },
  {
   "cell_type": "code",
   "execution_count": 38,
   "metadata": {
    "deletable": false,
    "id": "uaGJHjVU_Zcv"
   },
   "outputs": [
    {
     "data": {
      "text/plain": [
       "genre\n",
       "pop            2431\n",
       "dance          1932\n",
       "rock           1879\n",
       "electronic     1736\n",
       "hiphop          960\n",
       "alternative     649\n",
       "classical       646\n",
       "rusrap          564\n",
       "ruspop          538\n",
       "world           515\n",
       "Name: genre, dtype: int64"
      ]
     },
     "execution_count": 38,
     "metadata": {},
     "output_type": "execute_result"
    }
   ],
   "source": [
    "spb_genres.head(10)# просмотр первых 10 строк spb_genres"
   ]
  },
  {
   "cell_type": "markdown",
   "metadata": {
    "deletable": false,
    "editable": false,
    "id": "RY51YJYu_Zcv"
   },
   "source": [
    "**Выводы**"
   ]
  },
  {
   "cell_type": "markdown",
   "metadata": {
    "deletable": false,
    "editable": false,
    "id": "nVhnJEm__Zcv"
   },
   "source": [
    "Гипотеза частично подтвердилась:\n",
    "* Поп-музыка — самый популярный жанр в Москве, как и предполагала гипотеза. Более того, в топ-10 жанров встречается близкий жанр — русская популярная музыка.\n",
    "* Вопреки ожиданиям, рэп одинаково популярен в Москве и Петербурге.\n"
   ]
  },
  {
   "cell_type": "markdown",
   "metadata": {
    "deletable": false,
    "editable": false,
    "id": "ykKQ0N65_Zcv"
   },
   "source": [
    "## Итоги исследования"
   ]
  },
  {
   "cell_type": "markdown",
   "metadata": {
    "deletable": false,
    "editable": false,
    "id": "tjUwbHb3_Zcv"
   },
   "source": [
    "Вы проверили три гипотезы и установили:\n",
    "\n",
    "1. День недели по-разному влияет на активность пользователей в Москве и Петербурге.\n",
    "\n",
    "Первая гипотеза полностью подтвердилась.\n",
    "\n",
    "2. Музыкальные предпочтения не сильно меняются в течение недели — будь то Москва или Петербург. Небольшие различия заметны в начале недели, по понедельникам:\n",
    "* в Москве слушают музыку жанра “world”,\n",
    "* в Петербурге — джаз и классику.\n",
    "\n",
    "Таким образом, вторая гипотеза подтвердилась лишь отчасти. Этот результат мог оказаться иным, если бы не пропуски в данных.\n",
    "\n",
    "3. Во вкусах пользователей Москвы и Петербурга больше общего, чем различий. Вопреки ожиданиям, предпочтения жанров в Петербурге напоминают московские.\n",
    "\n",
    "Третья гипотеза не подтвердилась. Если различия в предпочтениях и существуют, на основной массе пользователей они незаметны.\n",
    "\n",
    "**На практике исследования содержат проверки статистических гипотез.**\n",
    "Из данных одного сервиса не всегда можно сделать вывод о всех жителях города.\n",
    "Проверки статистических гипотез покажут, насколько они достоверны, исходя из имеющихся данных.\n",
    "С методами проверок гипотез вы ещё познакомитесь в следующих темах."
   ]
  },
  {
   "cell_type": "code",
   "execution_count": null,
   "metadata": {},
   "outputs": [],
   "source": []
  }
 ],
 "metadata": {
  "ExecuteTimeLog": [
   {
    "duration": 53,
    "start_time": "2023-08-05T13:20:24.934Z"
   },
   {
    "duration": 4,
    "start_time": "2023-08-05T13:20:32.320Z"
   },
   {
    "duration": 368,
    "start_time": "2023-08-05T13:20:40.331Z"
   },
   {
    "duration": 199,
    "start_time": "2023-08-05T13:20:42.456Z"
   },
   {
    "duration": 21,
    "start_time": "2023-08-05T13:20:45.433Z"
   },
   {
    "duration": 31,
    "start_time": "2023-08-05T13:20:47.823Z"
   },
   {
    "duration": 6,
    "start_time": "2023-08-05T13:26:14.074Z"
   },
   {
    "duration": 14,
    "start_time": "2023-08-05T13:29:08.336Z"
   },
   {
    "duration": 6,
    "start_time": "2023-08-05T13:29:43.493Z"
   },
   {
    "duration": 41,
    "start_time": "2023-08-05T13:32:02.870Z"
   },
   {
    "duration": 104,
    "start_time": "2023-08-05T13:34:49.032Z"
   },
   {
    "duration": 1750,
    "start_time": "2023-08-05T13:34:56.973Z"
   },
   {
    "duration": 1740,
    "start_time": "2023-08-05T13:36:02.593Z"
   },
   {
    "duration": 1707,
    "start_time": "2023-08-05T13:36:13.313Z"
   },
   {
    "duration": 1922,
    "start_time": "2023-08-05T13:36:46.433Z"
   },
   {
    "duration": 12,
    "start_time": "2023-08-05T13:37:03.792Z"
   },
   {
    "duration": 21,
    "start_time": "2023-08-05T13:38:16.253Z"
   },
   {
    "duration": 28,
    "start_time": "2023-08-05T13:39:27.720Z"
   },
   {
    "duration": 122,
    "start_time": "2023-08-05T13:40:28.884Z"
   },
   {
    "duration": 74,
    "start_time": "2023-08-05T13:40:38.693Z"
   },
   {
    "duration": 76,
    "start_time": "2023-08-05T13:41:19.693Z"
   },
   {
    "duration": 93,
    "start_time": "2023-08-05T13:57:55.060Z"
   },
   {
    "duration": 87,
    "start_time": "2023-08-05T13:59:05.982Z"
   },
   {
    "duration": 66,
    "start_time": "2023-08-05T13:59:35.811Z"
   },
   {
    "duration": 84,
    "start_time": "2023-08-05T13:59:50.954Z"
   },
   {
    "duration": 81,
    "start_time": "2023-08-05T13:59:59.275Z"
   },
   {
    "duration": 75,
    "start_time": "2023-08-05T14:00:44.939Z"
   },
   {
    "duration": 110,
    "start_time": "2023-08-05T14:00:48.231Z"
   },
   {
    "duration": 92,
    "start_time": "2023-08-05T14:00:59.831Z"
   },
   {
    "duration": 14,
    "start_time": "2023-08-05T14:02:11.732Z"
   },
   {
    "duration": 11,
    "start_time": "2023-08-05T14:02:17.388Z"
   },
   {
    "duration": 43,
    "start_time": "2023-08-05T14:04:07.016Z"
   },
   {
    "duration": 100,
    "start_time": "2023-08-05T14:06:41.151Z"
   },
   {
    "duration": 16,
    "start_time": "2023-08-05T14:06:59.991Z"
   },
   {
    "duration": 1319,
    "start_time": "2023-08-05T14:08:52.892Z"
   },
   {
    "duration": 1288,
    "start_time": "2023-08-05T14:09:14.723Z"
   },
   {
    "duration": 6,
    "start_time": "2023-08-05T14:09:55.690Z"
   },
   {
    "duration": 8,
    "start_time": "2023-08-05T14:10:00.595Z"
   },
   {
    "duration": 7,
    "start_time": "2023-08-05T14:10:04.838Z"
   },
   {
    "duration": 7,
    "start_time": "2023-08-05T14:10:09.298Z"
   },
   {
    "duration": 52,
    "start_time": "2023-08-05T14:10:34.359Z"
   },
   {
    "duration": 427,
    "start_time": "2023-08-05T14:10:39.981Z"
   },
   {
    "duration": 435,
    "start_time": "2023-08-05T14:10:48.951Z"
   },
   {
    "duration": 176,
    "start_time": "2023-08-05T14:10:51.903Z"
   },
   {
    "duration": 31,
    "start_time": "2023-08-05T14:10:57.510Z"
   },
   {
    "duration": 9,
    "start_time": "2023-08-05T14:11:02.918Z"
   },
   {
    "duration": 17,
    "start_time": "2023-08-05T14:11:07.143Z"
   },
   {
    "duration": 4,
    "start_time": "2023-08-05T14:11:08.719Z"
   },
   {
    "duration": 18,
    "start_time": "2023-08-05T14:11:11.483Z"
   },
   {
    "duration": 25,
    "start_time": "2023-08-05T14:11:13.343Z"
   },
   {
    "duration": 73,
    "start_time": "2023-08-05T14:11:15.630Z"
   },
   {
    "duration": 76,
    "start_time": "2023-08-05T14:11:18.323Z"
   },
   {
    "duration": 39,
    "start_time": "2023-08-05T14:11:21.886Z"
   },
   {
    "duration": 23,
    "start_time": "2023-08-05T14:11:28.563Z"
   },
   {
    "duration": 1369,
    "start_time": "2023-08-05T14:11:32.526Z"
   },
   {
    "duration": 1285,
    "start_time": "2023-08-05T14:14:33.030Z"
   },
   {
    "duration": 11,
    "start_time": "2023-08-05T14:15:57.270Z"
   },
   {
    "duration": 455,
    "start_time": "2023-08-05T14:16:10.085Z"
   },
   {
    "duration": 179,
    "start_time": "2023-08-05T14:16:10.543Z"
   },
   {
    "duration": 21,
    "start_time": "2023-08-05T14:16:10.724Z"
   },
   {
    "duration": 54,
    "start_time": "2023-08-05T14:16:10.747Z"
   },
   {
    "duration": 2,
    "start_time": "2023-08-05T14:16:10.804Z"
   },
   {
    "duration": 42,
    "start_time": "2023-08-05T14:16:10.808Z"
   },
   {
    "duration": 41,
    "start_time": "2023-08-05T14:16:10.852Z"
   },
   {
    "duration": 31,
    "start_time": "2023-08-05T14:16:10.895Z"
   },
   {
    "duration": 41,
    "start_time": "2023-08-05T14:16:10.928Z"
   },
   {
    "duration": 34,
    "start_time": "2023-08-05T14:16:10.971Z"
   },
   {
    "duration": 27,
    "start_time": "2023-08-05T14:16:11.007Z"
   },
   {
    "duration": 115,
    "start_time": "2023-08-05T14:16:11.036Z"
   },
   {
    "duration": 78,
    "start_time": "2023-08-05T14:16:11.153Z"
   },
   {
    "duration": 81,
    "start_time": "2023-08-05T14:16:11.235Z"
   },
   {
    "duration": 155,
    "start_time": "2023-08-05T14:16:11.318Z"
   },
   {
    "duration": 0,
    "start_time": "2023-08-05T14:16:11.474Z"
   },
   {
    "duration": 0,
    "start_time": "2023-08-05T14:16:11.476Z"
   },
   {
    "duration": 1,
    "start_time": "2023-08-05T14:16:11.476Z"
   },
   {
    "duration": 0,
    "start_time": "2023-08-05T14:16:11.477Z"
   },
   {
    "duration": 0,
    "start_time": "2023-08-05T14:16:11.479Z"
   },
   {
    "duration": 0,
    "start_time": "2023-08-05T14:16:11.480Z"
   },
   {
    "duration": 0,
    "start_time": "2023-08-05T14:16:11.482Z"
   },
   {
    "duration": 0,
    "start_time": "2023-08-05T14:16:11.483Z"
   },
   {
    "duration": 0,
    "start_time": "2023-08-05T14:16:11.484Z"
   },
   {
    "duration": 0,
    "start_time": "2023-08-05T14:16:11.485Z"
   },
   {
    "duration": 0,
    "start_time": "2023-08-05T14:16:11.486Z"
   },
   {
    "duration": 0,
    "start_time": "2023-08-05T14:16:11.487Z"
   },
   {
    "duration": 0,
    "start_time": "2023-08-05T14:16:11.489Z"
   },
   {
    "duration": 0,
    "start_time": "2023-08-05T14:16:11.490Z"
   },
   {
    "duration": 0,
    "start_time": "2023-08-05T14:16:11.492Z"
   },
   {
    "duration": 0,
    "start_time": "2023-08-05T14:16:11.493Z"
   },
   {
    "duration": 0,
    "start_time": "2023-08-05T14:16:11.494Z"
   },
   {
    "duration": 0,
    "start_time": "2023-08-05T14:16:11.495Z"
   },
   {
    "duration": 0,
    "start_time": "2023-08-05T14:16:11.497Z"
   },
   {
    "duration": 0,
    "start_time": "2023-08-05T14:16:11.498Z"
   },
   {
    "duration": 0,
    "start_time": "2023-08-05T14:16:11.500Z"
   },
   {
    "duration": 0,
    "start_time": "2023-08-05T14:16:11.501Z"
   },
   {
    "duration": 0,
    "start_time": "2023-08-05T14:16:11.502Z"
   },
   {
    "duration": 47,
    "start_time": "2023-08-05T14:16:42.441Z"
   },
   {
    "duration": 69,
    "start_time": "2023-08-05T14:17:17.920Z"
   },
   {
    "duration": 76,
    "start_time": "2023-08-05T14:17:54.832Z"
   },
   {
    "duration": 80,
    "start_time": "2023-08-05T14:18:05.852Z"
   },
   {
    "duration": 49,
    "start_time": "2023-08-05T14:18:49.092Z"
   },
   {
    "duration": 50,
    "start_time": "2023-08-05T14:19:02.001Z"
   },
   {
    "duration": 64,
    "start_time": "2023-08-05T14:19:36.151Z"
   },
   {
    "duration": 11,
    "start_time": "2023-08-05T14:19:47.896Z"
   },
   {
    "duration": 46,
    "start_time": "2023-08-05T14:20:00.552Z"
   },
   {
    "duration": 63,
    "start_time": "2023-08-05T14:20:17.492Z"
   },
   {
    "duration": 68,
    "start_time": "2023-08-05T14:20:30.025Z"
   },
   {
    "duration": 11,
    "start_time": "2023-08-05T14:21:03.719Z"
   },
   {
    "duration": 1406,
    "start_time": "2023-08-05T14:21:21.531Z"
   },
   {
    "duration": 1433,
    "start_time": "2023-08-05T14:22:36.290Z"
   },
   {
    "duration": 1603,
    "start_time": "2023-08-05T14:25:32.732Z"
   },
   {
    "duration": 14,
    "start_time": "2023-08-05T14:26:05.261Z"
   },
   {
    "duration": 7,
    "start_time": "2023-08-05T14:26:27.053Z"
   },
   {
    "duration": 1475,
    "start_time": "2023-08-05T14:26:50.835Z"
   },
   {
    "duration": 1378,
    "start_time": "2023-08-05T14:27:03.925Z"
   },
   {
    "duration": 72,
    "start_time": "2023-08-05T14:28:08.158Z"
   },
   {
    "duration": 468,
    "start_time": "2023-08-05T14:28:19.085Z"
   },
   {
    "duration": 204,
    "start_time": "2023-08-05T14:28:20.788Z"
   },
   {
    "duration": 31,
    "start_time": "2023-08-05T14:28:25.846Z"
   },
   {
    "duration": 39,
    "start_time": "2023-08-05T14:28:29.354Z"
   },
   {
    "duration": 10,
    "start_time": "2023-08-05T14:28:32.380Z"
   },
   {
    "duration": 6,
    "start_time": "2023-08-05T14:28:35.454Z"
   },
   {
    "duration": 12,
    "start_time": "2023-08-05T14:28:37.653Z"
   },
   {
    "duration": 5,
    "start_time": "2023-08-05T14:28:39.934Z"
   },
   {
    "duration": 25,
    "start_time": "2023-08-05T14:28:42.433Z"
   },
   {
    "duration": 43,
    "start_time": "2023-08-05T14:31:44.595Z"
   },
   {
    "duration": 24,
    "start_time": "2023-08-05T14:31:53.493Z"
   },
   {
    "duration": 53,
    "start_time": "2023-08-05T14:31:57.819Z"
   },
   {
    "duration": 110,
    "start_time": "2023-08-05T14:32:01.884Z"
   },
   {
    "duration": 104,
    "start_time": "2023-08-05T14:32:58.686Z"
   },
   {
    "duration": 97,
    "start_time": "2023-08-05T14:33:07.416Z"
   },
   {
    "duration": 74,
    "start_time": "2023-08-05T14:33:13.016Z"
   },
   {
    "duration": 59,
    "start_time": "2023-08-05T14:33:27.084Z"
   },
   {
    "duration": 14,
    "start_time": "2023-08-05T14:33:37.235Z"
   },
   {
    "duration": 13,
    "start_time": "2023-08-05T14:34:01.036Z"
   },
   {
    "duration": 38,
    "start_time": "2023-08-05T14:35:12.296Z"
   },
   {
    "duration": 41,
    "start_time": "2023-08-05T14:35:25.196Z"
   },
   {
    "duration": 112,
    "start_time": "2023-08-05T14:44:22.437Z"
   },
   {
    "duration": 16,
    "start_time": "2023-08-05T14:44:42.278Z"
   },
   {
    "duration": 40,
    "start_time": "2023-08-05T14:44:46.099Z"
   },
   {
    "duration": 14,
    "start_time": "2023-08-05T14:45:15.322Z"
   },
   {
    "duration": 39,
    "start_time": "2023-08-05T14:45:17.406Z"
   },
   {
    "duration": 82,
    "start_time": "2023-08-05T14:48:32.420Z"
   },
   {
    "duration": 12,
    "start_time": "2023-08-05T14:49:40.858Z"
   },
   {
    "duration": 32,
    "start_time": "2023-08-05T14:49:53.418Z"
   },
   {
    "duration": 37,
    "start_time": "2023-08-05T14:50:14.939Z"
   },
   {
    "duration": 4628,
    "start_time": "2023-08-05T14:50:32.606Z"
   },
   {
    "duration": 4330,
    "start_time": "2023-08-05T14:50:37.446Z"
   },
   {
    "duration": 33,
    "start_time": "2023-08-05T14:50:58.359Z"
   },
   {
    "duration": 10,
    "start_time": "2023-08-05T14:51:17.272Z"
   },
   {
    "duration": 33,
    "start_time": "2023-08-05T14:52:26.319Z"
   },
   {
    "duration": 13,
    "start_time": "2023-08-05T14:52:45.438Z"
   },
   {
    "duration": 10,
    "start_time": "2023-08-05T14:55:29.687Z"
   },
   {
    "duration": 43,
    "start_time": "2023-08-05T14:55:33.499Z"
   },
   {
    "duration": 379,
    "start_time": "2023-08-05T14:55:55.106Z"
   },
   {
    "duration": 173,
    "start_time": "2023-08-05T14:55:56.398Z"
   },
   {
    "duration": 31,
    "start_time": "2023-08-05T14:55:59.438Z"
   },
   {
    "duration": 2,
    "start_time": "2023-08-05T14:56:01.398Z"
   },
   {
    "duration": 13,
    "start_time": "2023-08-05T14:56:04.058Z"
   },
   {
    "duration": 15,
    "start_time": "2023-08-05T14:56:05.645Z"
   },
   {
    "duration": 4,
    "start_time": "2023-08-05T14:56:06.618Z"
   },
   {
    "duration": 25,
    "start_time": "2023-08-05T14:56:09.288Z"
   },
   {
    "duration": 19,
    "start_time": "2023-08-05T14:56:10.765Z"
   },
   {
    "duration": 26,
    "start_time": "2023-08-05T14:56:12.169Z"
   },
   {
    "duration": 79,
    "start_time": "2023-08-05T14:56:13.657Z"
   },
   {
    "duration": 80,
    "start_time": "2023-08-05T14:56:15.157Z"
   },
   {
    "duration": 66,
    "start_time": "2023-08-05T14:56:16.270Z"
   },
   {
    "duration": 39,
    "start_time": "2023-08-05T14:56:18.918Z"
   },
   {
    "duration": 11,
    "start_time": "2023-08-05T14:56:25.337Z"
   },
   {
    "duration": 13,
    "start_time": "2023-08-05T14:56:31.098Z"
   },
   {
    "duration": 13,
    "start_time": "2023-08-05T14:59:15.305Z"
   },
   {
    "duration": 72,
    "start_time": "2023-08-05T15:00:27.057Z"
   },
   {
    "duration": 38,
    "start_time": "2023-08-05T15:00:33.400Z"
   },
   {
    "duration": 17,
    "start_time": "2023-08-05T15:01:44.679Z"
   },
   {
    "duration": 18,
    "start_time": "2023-08-05T15:02:08.409Z"
   },
   {
    "duration": 12,
    "start_time": "2023-08-05T15:02:13.418Z"
   },
   {
    "duration": 11,
    "start_time": "2023-08-05T15:02:41.458Z"
   },
   {
    "duration": 9,
    "start_time": "2023-08-05T15:02:46.020Z"
   },
   {
    "duration": 12,
    "start_time": "2023-08-05T15:03:00.758Z"
   },
   {
    "duration": 8,
    "start_time": "2023-08-05T15:14:12.916Z"
   },
   {
    "duration": 3,
    "start_time": "2023-08-05T15:15:46.827Z"
   },
   {
    "duration": 8,
    "start_time": "2023-08-05T15:15:49.639Z"
   },
   {
    "duration": 4,
    "start_time": "2023-08-05T15:16:03.160Z"
   },
   {
    "duration": 4,
    "start_time": "2023-08-05T15:19:57.299Z"
   },
   {
    "duration": 8,
    "start_time": "2023-08-05T15:20:13.768Z"
   },
   {
    "duration": 9,
    "start_time": "2023-08-05T15:20:28.860Z"
   },
   {
    "duration": 8,
    "start_time": "2023-08-05T15:20:31.020Z"
   },
   {
    "duration": 5,
    "start_time": "2023-08-05T15:21:02.960Z"
   },
   {
    "duration": 26,
    "start_time": "2023-08-05T15:21:08.420Z"
   },
   {
    "duration": 24,
    "start_time": "2023-08-05T15:22:38.739Z"
   },
   {
    "duration": 4,
    "start_time": "2023-08-05T15:23:40.799Z"
   },
   {
    "duration": 4,
    "start_time": "2023-08-05T15:25:44.760Z"
   },
   {
    "duration": 938,
    "start_time": "2023-08-05T15:27:33.580Z"
   },
   {
    "duration": 4,
    "start_time": "2023-08-05T15:27:39.600Z"
   },
   {
    "duration": 984,
    "start_time": "2023-08-05T15:27:43.887Z"
   },
   {
    "duration": 5,
    "start_time": "2023-08-05T15:27:59.580Z"
   },
   {
    "duration": 1056,
    "start_time": "2023-08-05T15:28:01.944Z"
   },
   {
    "duration": 965,
    "start_time": "2023-08-05T15:28:39.328Z"
   },
   {
    "duration": 21,
    "start_time": "2023-08-05T15:30:33.022Z"
   },
   {
    "duration": 14,
    "start_time": "2023-08-05T15:31:48.300Z"
   },
   {
    "duration": 13,
    "start_time": "2023-08-05T15:33:08.208Z"
   },
   {
    "duration": 13,
    "start_time": "2023-08-05T15:33:37.908Z"
   },
   {
    "duration": 13,
    "start_time": "2023-08-05T15:34:24.331Z"
   },
   {
    "duration": 14,
    "start_time": "2023-08-05T15:34:24.859Z"
   },
   {
    "duration": 12,
    "start_time": "2023-08-05T15:34:25.339Z"
   },
   {
    "duration": 4,
    "start_time": "2023-08-05T15:34:53.688Z"
   },
   {
    "duration": 12,
    "start_time": "2023-08-05T15:34:55.979Z"
   },
   {
    "duration": 11,
    "start_time": "2023-08-05T15:34:56.999Z"
   },
   {
    "duration": 4,
    "start_time": "2023-08-05T15:35:25.560Z"
   },
   {
    "duration": 938,
    "start_time": "2023-08-05T15:35:26.899Z"
   },
   {
    "duration": 5,
    "start_time": "2023-08-05T15:35:47.781Z"
   },
   {
    "duration": 32,
    "start_time": "2023-08-05T15:36:42.359Z"
   },
   {
    "duration": 4,
    "start_time": "2023-08-05T15:38:17.238Z"
   },
   {
    "duration": 12,
    "start_time": "2023-08-05T15:38:19.977Z"
   },
   {
    "duration": 13,
    "start_time": "2023-08-05T15:38:21.357Z"
   },
   {
    "duration": 12,
    "start_time": "2023-08-05T15:38:21.945Z"
   },
   {
    "duration": 15,
    "start_time": "2023-08-05T15:38:22.337Z"
   },
   {
    "duration": 12,
    "start_time": "2023-08-05T15:38:22.697Z"
   },
   {
    "duration": 4,
    "start_time": "2023-08-05T15:39:11.156Z"
   },
   {
    "duration": 12,
    "start_time": "2023-08-05T15:39:12.237Z"
   },
   {
    "duration": 4,
    "start_time": "2023-08-05T15:39:28.799Z"
   },
   {
    "duration": 1762,
    "start_time": "2023-08-05T15:39:29.904Z"
   },
   {
    "duration": 4,
    "start_time": "2023-08-05T15:41:12.908Z"
   },
   {
    "duration": 18,
    "start_time": "2023-08-05T15:41:15.017Z"
   },
   {
    "duration": 5,
    "start_time": "2023-08-05T15:42:06.828Z"
   },
   {
    "duration": 13,
    "start_time": "2023-08-05T15:42:08.321Z"
   },
   {
    "duration": 5,
    "start_time": "2023-08-05T15:42:28.597Z"
   },
   {
    "duration": 924,
    "start_time": "2023-08-05T15:42:29.516Z"
   },
   {
    "duration": 4,
    "start_time": "2023-08-05T15:45:06.196Z"
   },
   {
    "duration": 961,
    "start_time": "2023-08-05T15:45:07.075Z"
   },
   {
    "duration": 897,
    "start_time": "2023-08-05T15:45:18.216Z"
   },
   {
    "duration": 18,
    "start_time": "2023-08-05T15:45:52.704Z"
   },
   {
    "duration": 27,
    "start_time": "2023-08-05T15:46:43.855Z"
   },
   {
    "duration": 27,
    "start_time": "2023-08-05T15:46:48.755Z"
   },
   {
    "duration": 31,
    "start_time": "2023-08-05T15:47:44.895Z"
   },
   {
    "duration": 9,
    "start_time": "2023-08-05T15:49:33.494Z"
   },
   {
    "duration": 16,
    "start_time": "2023-08-05T15:50:11.295Z"
   },
   {
    "duration": 5,
    "start_time": "2023-08-05T15:52:22.762Z"
   },
   {
    "duration": 24,
    "start_time": "2023-08-05T15:52:24.662Z"
   },
   {
    "duration": 21,
    "start_time": "2023-08-05T15:52:27.596Z"
   },
   {
    "duration": 22,
    "start_time": "2023-08-05T15:52:27.974Z"
   },
   {
    "duration": 16,
    "start_time": "2023-08-05T15:52:28.413Z"
   },
   {
    "duration": 17,
    "start_time": "2023-08-05T15:52:28.974Z"
   },
   {
    "duration": 14,
    "start_time": "2023-08-05T15:52:29.714Z"
   },
   {
    "duration": 23,
    "start_time": "2023-08-05T16:06:06.312Z"
   },
   {
    "duration": 10,
    "start_time": "2023-08-05T16:06:14.225Z"
   },
   {
    "duration": 16,
    "start_time": "2023-08-05T16:08:26.653Z"
   },
   {
    "duration": 32,
    "start_time": "2023-08-05T16:08:35.193Z"
   },
   {
    "duration": 17,
    "start_time": "2023-08-05T16:09:04.953Z"
   },
   {
    "duration": 14,
    "start_time": "2023-08-05T16:09:22.205Z"
   },
   {
    "duration": 10,
    "start_time": "2023-08-05T16:09:32.544Z"
   },
   {
    "duration": 6,
    "start_time": "2023-08-05T16:29:32.234Z"
   },
   {
    "duration": 197,
    "start_time": "2023-08-05T16:32:12.508Z"
   },
   {
    "duration": 15,
    "start_time": "2023-08-05T16:32:30.938Z"
   },
   {
    "duration": 14,
    "start_time": "2023-08-05T16:33:16.988Z"
   },
   {
    "duration": 12,
    "start_time": "2023-08-05T16:33:48.797Z"
   },
   {
    "duration": 13,
    "start_time": "2023-08-05T16:34:03.205Z"
   },
   {
    "duration": 10,
    "start_time": "2023-08-05T16:34:06.609Z"
   },
   {
    "duration": 18,
    "start_time": "2023-08-05T16:34:12.353Z"
   },
   {
    "duration": 12,
    "start_time": "2023-08-05T16:34:13.490Z"
   },
   {
    "duration": 25,
    "start_time": "2023-08-05T16:34:58.354Z"
   },
   {
    "duration": 15,
    "start_time": "2023-08-05T16:34:58.825Z"
   },
   {
    "duration": 26,
    "start_time": "2023-08-05T16:35:51.706Z"
   },
   {
    "duration": 13,
    "start_time": "2023-08-05T16:36:32.434Z"
   },
   {
    "duration": 11,
    "start_time": "2023-08-05T16:36:33.212Z"
   },
   {
    "duration": 5,
    "start_time": "2023-08-05T16:36:34.834Z"
   },
   {
    "duration": 19,
    "start_time": "2023-08-05T16:36:36.191Z"
   },
   {
    "duration": 17,
    "start_time": "2023-08-05T16:36:38.234Z"
   },
   {
    "duration": 23,
    "start_time": "2023-08-05T16:36:39.414Z"
   },
   {
    "duration": 15,
    "start_time": "2023-08-05T16:36:40.345Z"
   },
   {
    "duration": 26,
    "start_time": "2023-08-05T16:39:02.266Z"
   },
   {
    "duration": 17,
    "start_time": "2023-08-05T16:39:02.807Z"
   },
   {
    "duration": 13,
    "start_time": "2023-08-05T16:51:34.027Z"
   },
   {
    "duration": 10,
    "start_time": "2023-08-05T16:52:04.498Z"
   },
   {
    "duration": 10,
    "start_time": "2023-08-05T16:52:13.166Z"
   },
   {
    "duration": 6,
    "start_time": "2023-08-05T16:52:17.726Z"
   },
   {
    "duration": 6,
    "start_time": "2023-08-05T16:53:40.047Z"
   },
   {
    "duration": 12,
    "start_time": "2023-08-05T16:54:07.266Z"
   },
   {
    "duration": 7,
    "start_time": "2023-08-05T16:54:08.595Z"
   },
   {
    "duration": 8,
    "start_time": "2023-08-05T16:54:11.045Z"
   },
   {
    "duration": 6,
    "start_time": "2023-08-05T16:54:28.406Z"
   },
   {
    "duration": 395,
    "start_time": "2023-08-05T16:54:52.006Z"
   },
   {
    "duration": 207,
    "start_time": "2023-08-05T16:54:52.666Z"
   },
   {
    "duration": 25,
    "start_time": "2023-08-05T16:54:53.509Z"
   },
   {
    "duration": 45,
    "start_time": "2023-08-05T16:54:54.286Z"
   },
   {
    "duration": 3,
    "start_time": "2023-08-05T16:54:55.526Z"
   },
   {
    "duration": 6,
    "start_time": "2023-08-05T16:54:57.187Z"
   },
   {
    "duration": 13,
    "start_time": "2023-08-05T16:54:58.027Z"
   },
   {
    "duration": 5,
    "start_time": "2023-08-05T16:54:59.284Z"
   },
   {
    "duration": 26,
    "start_time": "2023-08-05T16:55:00.157Z"
   },
   {
    "duration": 24,
    "start_time": "2023-08-05T16:55:01.945Z"
   },
   {
    "duration": 31,
    "start_time": "2023-08-05T16:55:02.852Z"
   },
   {
    "duration": 102,
    "start_time": "2023-08-05T16:55:04.060Z"
   },
   {
    "duration": 73,
    "start_time": "2023-08-05T16:55:05.537Z"
   },
   {
    "duration": 71,
    "start_time": "2023-08-05T16:55:06.525Z"
   },
   {
    "duration": 49,
    "start_time": "2023-08-05T16:55:08.664Z"
   },
   {
    "duration": 14,
    "start_time": "2023-08-05T16:55:10.245Z"
   },
   {
    "duration": 37,
    "start_time": "2023-08-05T16:55:11.613Z"
   },
   {
    "duration": 14,
    "start_time": "2023-08-05T16:55:15.033Z"
   },
   {
    "duration": 12,
    "start_time": "2023-08-05T16:55:16.005Z"
   },
   {
    "duration": 4,
    "start_time": "2023-08-05T16:55:17.487Z"
   },
   {
    "duration": 20,
    "start_time": "2023-08-05T16:55:18.648Z"
   },
   {
    "duration": 16,
    "start_time": "2023-08-05T16:55:19.225Z"
   },
   {
    "duration": 23,
    "start_time": "2023-08-05T16:55:19.785Z"
   },
   {
    "duration": 18,
    "start_time": "2023-08-05T16:55:20.484Z"
   },
   {
    "duration": 25,
    "start_time": "2023-08-05T16:55:21.286Z"
   },
   {
    "duration": 15,
    "start_time": "2023-08-05T16:55:22.073Z"
   },
   {
    "duration": 14,
    "start_time": "2023-08-05T16:55:23.285Z"
   },
   {
    "duration": 16,
    "start_time": "2023-08-05T16:55:26.213Z"
   },
   {
    "duration": 15,
    "start_time": "2023-08-05T16:55:26.665Z"
   },
   {
    "duration": 6,
    "start_time": "2023-08-05T16:55:27.753Z"
   },
   {
    "duration": 25,
    "start_time": "2023-08-05T16:55:28.905Z"
   },
   {
    "duration": 15,
    "start_time": "2023-08-05T16:55:29.446Z"
   },
   {
    "duration": 30,
    "start_time": "2023-08-05T16:55:30.185Z"
   },
   {
    "duration": 18,
    "start_time": "2023-08-05T16:55:30.913Z"
   },
   {
    "duration": 9,
    "start_time": "2023-08-05T16:55:33.625Z"
   },
   {
    "duration": 7,
    "start_time": "2023-08-05T16:55:34.405Z"
   },
   {
    "duration": 6,
    "start_time": "2023-08-05T16:55:35.373Z"
   },
   {
    "duration": 6,
    "start_time": "2023-08-05T16:55:36.384Z"
   }
  ],
  "colab": {
   "collapsed_sections": [
    "E0vqbgi9ay0H",
    "VUC88oWjTJw2"
   ],
   "provenance": []
  },
  "kernelspec": {
   "display_name": "Python 3 (ipykernel)",
   "language": "python",
   "name": "python3"
  },
  "language_info": {
   "codemirror_mode": {
    "name": "ipython",
    "version": 3
   },
   "file_extension": ".py",
   "mimetype": "text/x-python",
   "name": "python",
   "nbconvert_exporter": "python",
   "pygments_lexer": "ipython3",
   "version": "3.8.7"
  },
  "toc": {
   "base_numbering": 1,
   "nav_menu": {
    "height": "215px",
    "width": "403px"
   },
   "number_sections": true,
   "sideBar": true,
   "skip_h1_title": true,
   "title_cell": "Table of Contents",
   "title_sidebar": "Contents",
   "toc_cell": false,
   "toc_position": {
    "height": "calc(100% - 180px)",
    "left": "10px",
    "top": "150px",
    "width": "285.825px"
   },
   "toc_section_display": true,
   "toc_window_display": false
  }
 },
 "nbformat": 4,
 "nbformat_minor": 4
}
